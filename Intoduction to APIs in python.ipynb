{
 "cells": [
  {
   "cell_type": "markdown",
   "id": "fb0654b9-04a9-4fb7-b936-bd45dceb1057",
   "metadata": {},
   "source": [
    "# Visualizing The Most Stared Python Projects on Github Using Github's API\n",
    "\n",
    "\n",
    "This project focuses on identifying the most-starred Python repositories on GitHub. By leveraging the GitHub API, the project retrieves data about various repositories, including their star count, name, and description. The data is fetched using a GET request to the GitHub API, and the response is processed using Python's json() method to parse the JSON-formatted data.\n",
    "\n",
    "Once the data is obtained, the star counts and repository names are extracted and analyzed. To visualize the results, plotly.express is used to create a bar chart, which illustrates the popularity of Python projects on GitHub by their star count.\n",
    "\n"
   ]
  },
  {
   "cell_type": "code",
   "execution_count": null,
   "id": "d3c32fec-b6e9-4c7b-9a1d-0ad6eface8a5",
   "metadata": {},
   "outputs": [],
   "source": []
  },
  {
   "cell_type": "markdown",
   "id": "177377c4-051e-43a3-bcc1-26621b5a27dc",
   "metadata": {},
   "source": [
    "# Installing Requests\n",
    "\n",
    "The Requests package allows a Python program to easily request information \r",
    " \n",
    "from a website and examine the response. Use pip to install Requests:"
   ]
  },
  {
   "cell_type": "code",
   "execution_count": 7,
   "id": "6748fefd-52a8-43ec-ab0d-3b3fb73753a2",
   "metadata": {},
   "outputs": [
    {
     "name": "stdout",
     "output_type": "stream",
     "text": [
      "Requirement already satisfied: requests in c:\\users\\kojol\\anaconda3\\lib\\site-packages (2.32.2)\n",
      "Requirement already satisfied: charset-normalizer<4,>=2 in c:\\users\\kojol\\anaconda3\\lib\\site-packages (from requests) (2.0.4)\n",
      "Requirement already satisfied: idna<4,>=2.5 in c:\\users\\kojol\\anaconda3\\lib\\site-packages (from requests) (3.7)\n",
      "Requirement already satisfied: urllib3<3,>=1.21.1 in c:\\users\\kojol\\anaconda3\\lib\\site-packages (from requests) (2.2.2)\n",
      "Requirement already satisfied: certifi>=2017.4.17 in c:\\users\\kojol\\anaconda3\\lib\\site-packages (from requests) (2024.7.4)\n",
      "Note: you may need to restart the kernel to use updated packages.\n"
     ]
    }
   ],
   "source": [
    "pip install --user requests"
   ]
  },
  {
   "cell_type": "markdown",
   "id": "3f6bea8d-cd87-4b84-94cf-c18283c161e4",
   "metadata": {},
   "source": [
    "### Processing an API Response"
   ]
  },
  {
   "cell_type": "code",
   "execution_count": 177,
   "id": "751be87c-e198-402f-b6f5-ccb42d25d7ce",
   "metadata": {},
   "outputs": [],
   "source": [
    "# import the request library\n",
    "import plotly.express as px\n",
    "import requests\n",
    "import json"
   ]
  },
  {
   "cell_type": "code",
   "execution_count": 8,
   "id": "ab1856e4-f029-4871-88e0-6d8f72b60857",
   "metadata": {},
   "outputs": [
    {
     "name": "stdout",
     "output_type": "stream",
     "text": [
      "Status code: 200\n"
     ]
    }
   ],
   "source": [
    "## maikng an API call and checking the response\n",
    "\n",
    "#main part of the url\n",
    "url = \"https://api.github.com/search/repositories\"\n",
    "# query string. NB: could be added to url but breaking it into two is more cleaner\n",
    "url +=\"?q=language:python+sort:stars+stars:>10000\"\n",
    "\n",
    "headers = {\"Accept\":\"application/vnd.github.v3+json\"}\n",
    "r = requests.get(url, headers = headers)\n",
    "\n",
    "print(f\"Status code: {r.status_code}\")"
   ]
  },
  {
   "cell_type": "code",
   "execution_count": 10,
   "id": "68393bf3-a24a-4084-a139-2b45634e506a",
   "metadata": {},
   "outputs": [],
   "source": [
    "# Convert the response object to a dictionary.\n",
    "response_dict = r.json()"
   ]
  },
  {
   "cell_type": "code",
   "execution_count": 18,
   "id": "003d75fb-55e2-4f16-8c69-3729c0c11def",
   "metadata": {},
   "outputs": [
    {
     "name": "stdout",
     "output_type": "stream",
     "text": [
      "dict_keys(['total_count', 'incomplete_results', 'items'])\n"
     ]
    }
   ],
   "source": [
    "#Process results.\n",
    "print(response_dict.keys())"
   ]
  },
  {
   "cell_type": "code",
   "execution_count": 105,
   "id": "62c69849-ff80-459e-b61f-d7ee363c692c",
   "metadata": {},
   "outputs": [],
   "source": [
    "#[name[\"full_name\"] for name in response_dict['items']]"
   ]
  },
  {
   "cell_type": "markdown",
   "id": "ac96db8c-a543-4f00-9752-8f54958119ba",
   "metadata": {},
   "source": [
    "### Working with the Response Dictionary\n"
   ]
  },
  {
   "cell_type": "code",
   "execution_count": 114,
   "id": "6f50d888-9924-4342-bfd7-b512b4b1c1f3",
   "metadata": {},
   "outputs": [
    {
     "name": "stdout",
     "output_type": "stream",
     "text": [
      "Total repositories: 536\n",
      "Complete results: True\n"
     ]
    }
   ],
   "source": [
    "print(f\"Total repositories: {response_dict['total_count']}\")\n",
    "print(f\"Complete results: {not response_dict['incomplete_results']}\")"
   ]
  },
  {
   "cell_type": "code",
   "execution_count": 116,
   "id": "c1ea4a4d-30fd-4d87-a63c-4c9fdf305c94",
   "metadata": {},
   "outputs": [
    {
     "name": "stdout",
     "output_type": "stream",
     "text": [
      "Repositories returned: 30\n"
     ]
    }
   ],
   "source": [
    "## Explore the information about the repositories\n",
    "repo_dicts = response_dict[\"items\"]\n",
    "print(f\"Repositories returned: {len(repo_dicts)}\")"
   ]
  },
  {
   "cell_type": "code",
   "execution_count": 146,
   "id": "c2f22fa6-761f-4ade-b880-3b4533d55022",
   "metadata": {
    "scrolled": true
   },
   "outputs": [
    {
     "data": {
      "text/plain": [
       "[{'id': 54346799,\n",
       "  'node_id': 'MDEwOlJlcG9zaXRvcnk1NDM0Njc5OQ==',\n",
       "  'name': 'public-apis',\n",
       "  'full_name': 'public-apis/public-apis',\n",
       "  'private': False,\n",
       "  'owner': {'login': 'public-apis',\n",
       "   'id': 51121562,\n",
       "   'node_id': 'MDEyOk9yZ2FuaXphdGlvbjUxMTIxNTYy',\n",
       "   'avatar_url': 'https://avatars.githubusercontent.com/u/51121562?v=4',\n",
       "   'gravatar_id': '',\n",
       "   'url': 'https://api.github.com/users/public-apis',\n",
       "   'html_url': 'https://github.com/public-apis',\n",
       "   'followers_url': 'https://api.github.com/users/public-apis/followers',\n",
       "   'following_url': 'https://api.github.com/users/public-apis/following{/other_user}',\n",
       "   'gists_url': 'https://api.github.com/users/public-apis/gists{/gist_id}',\n",
       "   'starred_url': 'https://api.github.com/users/public-apis/starred{/owner}{/repo}',\n",
       "   'subscriptions_url': 'https://api.github.com/users/public-apis/subscriptions',\n",
       "   'organizations_url': 'https://api.github.com/users/public-apis/orgs',\n",
       "   'repos_url': 'https://api.github.com/users/public-apis/repos',\n",
       "   'events_url': 'https://api.github.com/users/public-apis/events{/privacy}',\n",
       "   'received_events_url': 'https://api.github.com/users/public-apis/received_events',\n",
       "   'type': 'Organization',\n",
       "   'site_admin': False},\n",
       "  'html_url': 'https://github.com/public-apis/public-apis',\n",
       "  'description': 'A collective list of free APIs',\n",
       "  'fork': False,\n",
       "  'url': 'https://api.github.com/repos/public-apis/public-apis',\n",
       "  'forks_url': 'https://api.github.com/repos/public-apis/public-apis/forks',\n",
       "  'keys_url': 'https://api.github.com/repos/public-apis/public-apis/keys{/key_id}',\n",
       "  'collaborators_url': 'https://api.github.com/repos/public-apis/public-apis/collaborators{/collaborator}',\n",
       "  'teams_url': 'https://api.github.com/repos/public-apis/public-apis/teams',\n",
       "  'hooks_url': 'https://api.github.com/repos/public-apis/public-apis/hooks',\n",
       "  'issue_events_url': 'https://api.github.com/repos/public-apis/public-apis/issues/events{/number}',\n",
       "  'events_url': 'https://api.github.com/repos/public-apis/public-apis/events',\n",
       "  'assignees_url': 'https://api.github.com/repos/public-apis/public-apis/assignees{/user}',\n",
       "  'branches_url': 'https://api.github.com/repos/public-apis/public-apis/branches{/branch}',\n",
       "  'tags_url': 'https://api.github.com/repos/public-apis/public-apis/tags',\n",
       "  'blobs_url': 'https://api.github.com/repos/public-apis/public-apis/git/blobs{/sha}',\n",
       "  'git_tags_url': 'https://api.github.com/repos/public-apis/public-apis/git/tags{/sha}',\n",
       "  'git_refs_url': 'https://api.github.com/repos/public-apis/public-apis/git/refs{/sha}',\n",
       "  'trees_url': 'https://api.github.com/repos/public-apis/public-apis/git/trees{/sha}',\n",
       "  'statuses_url': 'https://api.github.com/repos/public-apis/public-apis/statuses/{sha}',\n",
       "  'languages_url': 'https://api.github.com/repos/public-apis/public-apis/languages',\n",
       "  'stargazers_url': 'https://api.github.com/repos/public-apis/public-apis/stargazers',\n",
       "  'contributors_url': 'https://api.github.com/repos/public-apis/public-apis/contributors',\n",
       "  'subscribers_url': 'https://api.github.com/repos/public-apis/public-apis/subscribers',\n",
       "  'subscription_url': 'https://api.github.com/repos/public-apis/public-apis/subscription',\n",
       "  'commits_url': 'https://api.github.com/repos/public-apis/public-apis/commits{/sha}',\n",
       "  'git_commits_url': 'https://api.github.com/repos/public-apis/public-apis/git/commits{/sha}',\n",
       "  'comments_url': 'https://api.github.com/repos/public-apis/public-apis/comments{/number}',\n",
       "  'issue_comment_url': 'https://api.github.com/repos/public-apis/public-apis/issues/comments{/number}',\n",
       "  'contents_url': 'https://api.github.com/repos/public-apis/public-apis/contents/{+path}',\n",
       "  'compare_url': 'https://api.github.com/repos/public-apis/public-apis/compare/{base}...{head}',\n",
       "  'merges_url': 'https://api.github.com/repos/public-apis/public-apis/merges',\n",
       "  'archive_url': 'https://api.github.com/repos/public-apis/public-apis/{archive_format}{/ref}',\n",
       "  'downloads_url': 'https://api.github.com/repos/public-apis/public-apis/downloads',\n",
       "  'issues_url': 'https://api.github.com/repos/public-apis/public-apis/issues{/number}',\n",
       "  'pulls_url': 'https://api.github.com/repos/public-apis/public-apis/pulls{/number}',\n",
       "  'milestones_url': 'https://api.github.com/repos/public-apis/public-apis/milestones{/number}',\n",
       "  'notifications_url': 'https://api.github.com/repos/public-apis/public-apis/notifications{?since,all,participating}',\n",
       "  'labels_url': 'https://api.github.com/repos/public-apis/public-apis/labels{/name}',\n",
       "  'releases_url': 'https://api.github.com/repos/public-apis/public-apis/releases{/id}',\n",
       "  'deployments_url': 'https://api.github.com/repos/public-apis/public-apis/deployments',\n",
       "  'created_at': '2016-03-20T23:49:42Z',\n",
       "  'updated_at': '2024-09-10T22:09:43Z',\n",
       "  'pushed_at': '2024-08-19T10:22:30Z',\n",
       "  'git_url': 'git://github.com/public-apis/public-apis.git',\n",
       "  'ssh_url': 'git@github.com:public-apis/public-apis.git',\n",
       "  'clone_url': 'https://github.com/public-apis/public-apis.git',\n",
       "  'svn_url': 'https://github.com/public-apis/public-apis',\n",
       "  'homepage': 'https://APILayer.com/?utm_source=Github&utm_medium=Referral&utm_campaign=Public-apis-repo',\n",
       "  'size': 5078,\n",
       "  'stargazers_count': 311932,\n",
       "  'watchers_count': 311932,\n",
       "  'language': 'Python',\n",
       "  'has_issues': True,\n",
       "  'has_projects': False,\n",
       "  'has_downloads': True,\n",
       "  'has_wiki': False,\n",
       "  'has_pages': False,\n",
       "  'has_discussions': False,\n",
       "  'forks_count': 33288,\n",
       "  'mirror_url': None,\n",
       "  'archived': False,\n",
       "  'disabled': False,\n",
       "  'open_issues_count': 330,\n",
       "  'license': {'key': 'mit',\n",
       "   'name': 'MIT License',\n",
       "   'spdx_id': 'MIT',\n",
       "   'url': 'https://api.github.com/licenses/mit',\n",
       "   'node_id': 'MDc6TGljZW5zZTEz'},\n",
       "  'allow_forking': True,\n",
       "  'is_template': False,\n",
       "  'web_commit_signoff_required': False,\n",
       "  'topics': ['api',\n",
       "   'apis',\n",
       "   'dataset',\n",
       "   'development',\n",
       "   'free',\n",
       "   'list',\n",
       "   'lists',\n",
       "   'open-source',\n",
       "   'public',\n",
       "   'public-api',\n",
       "   'public-apis',\n",
       "   'resources',\n",
       "   'software'],\n",
       "  'visibility': 'public',\n",
       "  'forks': 33288,\n",
       "  'open_issues': 330,\n",
       "  'watchers': 311932,\n",
       "  'default_branch': 'master',\n",
       "  'score': 1.0},\n",
       " {'id': 83222441,\n",
       "  'node_id': 'MDEwOlJlcG9zaXRvcnk4MzIyMjQ0MQ==',\n",
       "  'name': 'system-design-primer',\n",
       "  'full_name': 'donnemartin/system-design-primer',\n",
       "  'private': False,\n",
       "  'owner': {'login': 'donnemartin',\n",
       "   'id': 5458997,\n",
       "   'node_id': 'MDQ6VXNlcjU0NTg5OTc=',\n",
       "   'avatar_url': 'https://avatars.githubusercontent.com/u/5458997?v=4',\n",
       "   'gravatar_id': '',\n",
       "   'url': 'https://api.github.com/users/donnemartin',\n",
       "   'html_url': 'https://github.com/donnemartin',\n",
       "   'followers_url': 'https://api.github.com/users/donnemartin/followers',\n",
       "   'following_url': 'https://api.github.com/users/donnemartin/following{/other_user}',\n",
       "   'gists_url': 'https://api.github.com/users/donnemartin/gists{/gist_id}',\n",
       "   'starred_url': 'https://api.github.com/users/donnemartin/starred{/owner}{/repo}',\n",
       "   'subscriptions_url': 'https://api.github.com/users/donnemartin/subscriptions',\n",
       "   'organizations_url': 'https://api.github.com/users/donnemartin/orgs',\n",
       "   'repos_url': 'https://api.github.com/users/donnemartin/repos',\n",
       "   'events_url': 'https://api.github.com/users/donnemartin/events{/privacy}',\n",
       "   'received_events_url': 'https://api.github.com/users/donnemartin/received_events',\n",
       "   'type': 'User',\n",
       "   'site_admin': False},\n",
       "  'html_url': 'https://github.com/donnemartin/system-design-primer',\n",
       "  'description': 'Learn how to design large-scale systems. Prep for the system design interview.  Includes Anki flashcards.',\n",
       "  'fork': False,\n",
       "  'url': 'https://api.github.com/repos/donnemartin/system-design-primer',\n",
       "  'forks_url': 'https://api.github.com/repos/donnemartin/system-design-primer/forks',\n",
       "  'keys_url': 'https://api.github.com/repos/donnemartin/system-design-primer/keys{/key_id}',\n",
       "  'collaborators_url': 'https://api.github.com/repos/donnemartin/system-design-primer/collaborators{/collaborator}',\n",
       "  'teams_url': 'https://api.github.com/repos/donnemartin/system-design-primer/teams',\n",
       "  'hooks_url': 'https://api.github.com/repos/donnemartin/system-design-primer/hooks',\n",
       "  'issue_events_url': 'https://api.github.com/repos/donnemartin/system-design-primer/issues/events{/number}',\n",
       "  'events_url': 'https://api.github.com/repos/donnemartin/system-design-primer/events',\n",
       "  'assignees_url': 'https://api.github.com/repos/donnemartin/system-design-primer/assignees{/user}',\n",
       "  'branches_url': 'https://api.github.com/repos/donnemartin/system-design-primer/branches{/branch}',\n",
       "  'tags_url': 'https://api.github.com/repos/donnemartin/system-design-primer/tags',\n",
       "  'blobs_url': 'https://api.github.com/repos/donnemartin/system-design-primer/git/blobs{/sha}',\n",
       "  'git_tags_url': 'https://api.github.com/repos/donnemartin/system-design-primer/git/tags{/sha}',\n",
       "  'git_refs_url': 'https://api.github.com/repos/donnemartin/system-design-primer/git/refs{/sha}',\n",
       "  'trees_url': 'https://api.github.com/repos/donnemartin/system-design-primer/git/trees{/sha}',\n",
       "  'statuses_url': 'https://api.github.com/repos/donnemartin/system-design-primer/statuses/{sha}',\n",
       "  'languages_url': 'https://api.github.com/repos/donnemartin/system-design-primer/languages',\n",
       "  'stargazers_url': 'https://api.github.com/repos/donnemartin/system-design-primer/stargazers',\n",
       "  'contributors_url': 'https://api.github.com/repos/donnemartin/system-design-primer/contributors',\n",
       "  'subscribers_url': 'https://api.github.com/repos/donnemartin/system-design-primer/subscribers',\n",
       "  'subscription_url': 'https://api.github.com/repos/donnemartin/system-design-primer/subscription',\n",
       "  'commits_url': 'https://api.github.com/repos/donnemartin/system-design-primer/commits{/sha}',\n",
       "  'git_commits_url': 'https://api.github.com/repos/donnemartin/system-design-primer/git/commits{/sha}',\n",
       "  'comments_url': 'https://api.github.com/repos/donnemartin/system-design-primer/comments{/number}',\n",
       "  'issue_comment_url': 'https://api.github.com/repos/donnemartin/system-design-primer/issues/comments{/number}',\n",
       "  'contents_url': 'https://api.github.com/repos/donnemartin/system-design-primer/contents/{+path}',\n",
       "  'compare_url': 'https://api.github.com/repos/donnemartin/system-design-primer/compare/{base}...{head}',\n",
       "  'merges_url': 'https://api.github.com/repos/donnemartin/system-design-primer/merges',\n",
       "  'archive_url': 'https://api.github.com/repos/donnemartin/system-design-primer/{archive_format}{/ref}',\n",
       "  'downloads_url': 'https://api.github.com/repos/donnemartin/system-design-primer/downloads',\n",
       "  'issues_url': 'https://api.github.com/repos/donnemartin/system-design-primer/issues{/number}',\n",
       "  'pulls_url': 'https://api.github.com/repos/donnemartin/system-design-primer/pulls{/number}',\n",
       "  'milestones_url': 'https://api.github.com/repos/donnemartin/system-design-primer/milestones{/number}',\n",
       "  'notifications_url': 'https://api.github.com/repos/donnemartin/system-design-primer/notifications{?since,all,participating}',\n",
       "  'labels_url': 'https://api.github.com/repos/donnemartin/system-design-primer/labels{/name}',\n",
       "  'releases_url': 'https://api.github.com/repos/donnemartin/system-design-primer/releases{/id}',\n",
       "  'deployments_url': 'https://api.github.com/repos/donnemartin/system-design-primer/deployments',\n",
       "  'created_at': '2017-02-26T16:15:28Z',\n",
       "  'updated_at': '2024-09-10T22:20:49Z',\n",
       "  'pushed_at': '2024-08-07T10:09:11Z',\n",
       "  'git_url': 'git://github.com/donnemartin/system-design-primer.git',\n",
       "  'ssh_url': 'git@github.com:donnemartin/system-design-primer.git',\n",
       "  'clone_url': 'https://github.com/donnemartin/system-design-primer.git',\n",
       "  'svn_url': 'https://github.com/donnemartin/system-design-primer',\n",
       "  'homepage': '',\n",
       "  'size': 11307,\n",
       "  'stargazers_count': 269049,\n",
       "  'watchers_count': 269049,\n",
       "  'language': 'Python',\n",
       "  'has_issues': True,\n",
       "  'has_projects': True,\n",
       "  'has_downloads': True,\n",
       "  'has_wiki': True,\n",
       "  'has_pages': False,\n",
       "  'has_discussions': False,\n",
       "  'forks_count': 45468,\n",
       "  'mirror_url': None,\n",
       "  'archived': False,\n",
       "  'disabled': False,\n",
       "  'open_issues_count': 467,\n",
       "  'license': {'key': 'other',\n",
       "   'name': 'Other',\n",
       "   'spdx_id': 'NOASSERTION',\n",
       "   'url': None,\n",
       "   'node_id': 'MDc6TGljZW5zZTA='},\n",
       "  'allow_forking': True,\n",
       "  'is_template': False,\n",
       "  'web_commit_signoff_required': False,\n",
       "  'topics': ['design',\n",
       "   'design-patterns',\n",
       "   'design-system',\n",
       "   'development',\n",
       "   'interview',\n",
       "   'interview-practice',\n",
       "   'interview-questions',\n",
       "   'programming',\n",
       "   'python',\n",
       "   'system',\n",
       "   'web',\n",
       "   'web-application',\n",
       "   'webapp'],\n",
       "  'visibility': 'public',\n",
       "  'forks': 45468,\n",
       "  'open_issues': 467,\n",
       "  'watchers': 269049,\n",
       "  'default_branch': 'master',\n",
       "  'score': 1.0},\n",
       " {'id': 21289110,\n",
       "  'node_id': 'MDEwOlJlcG9zaXRvcnkyMTI4OTExMA==',\n",
       "  'name': 'awesome-python',\n",
       "  'full_name': 'vinta/awesome-python',\n",
       "  'private': False,\n",
       "  'owner': {'login': 'vinta',\n",
       "   'id': 652070,\n",
       "   'node_id': 'MDQ6VXNlcjY1MjA3MA==',\n",
       "   'avatar_url': 'https://avatars.githubusercontent.com/u/652070?v=4',\n",
       "   'gravatar_id': '',\n",
       "   'url': 'https://api.github.com/users/vinta',\n",
       "   'html_url': 'https://github.com/vinta',\n",
       "   'followers_url': 'https://api.github.com/users/vinta/followers',\n",
       "   'following_url': 'https://api.github.com/users/vinta/following{/other_user}',\n",
       "   'gists_url': 'https://api.github.com/users/vinta/gists{/gist_id}',\n",
       "   'starred_url': 'https://api.github.com/users/vinta/starred{/owner}{/repo}',\n",
       "   'subscriptions_url': 'https://api.github.com/users/vinta/subscriptions',\n",
       "   'organizations_url': 'https://api.github.com/users/vinta/orgs',\n",
       "   'repos_url': 'https://api.github.com/users/vinta/repos',\n",
       "   'events_url': 'https://api.github.com/users/vinta/events{/privacy}',\n",
       "   'received_events_url': 'https://api.github.com/users/vinta/received_events',\n",
       "   'type': 'User',\n",
       "   'site_admin': False},\n",
       "  'html_url': 'https://github.com/vinta/awesome-python',\n",
       "  'description': 'An opinionated list of awesome Python frameworks, libraries, software and resources.',\n",
       "  'fork': False,\n",
       "  'url': 'https://api.github.com/repos/vinta/awesome-python',\n",
       "  'forks_url': 'https://api.github.com/repos/vinta/awesome-python/forks',\n",
       "  'keys_url': 'https://api.github.com/repos/vinta/awesome-python/keys{/key_id}',\n",
       "  'collaborators_url': 'https://api.github.com/repos/vinta/awesome-python/collaborators{/collaborator}',\n",
       "  'teams_url': 'https://api.github.com/repos/vinta/awesome-python/teams',\n",
       "  'hooks_url': 'https://api.github.com/repos/vinta/awesome-python/hooks',\n",
       "  'issue_events_url': 'https://api.github.com/repos/vinta/awesome-python/issues/events{/number}',\n",
       "  'events_url': 'https://api.github.com/repos/vinta/awesome-python/events',\n",
       "  'assignees_url': 'https://api.github.com/repos/vinta/awesome-python/assignees{/user}',\n",
       "  'branches_url': 'https://api.github.com/repos/vinta/awesome-python/branches{/branch}',\n",
       "  'tags_url': 'https://api.github.com/repos/vinta/awesome-python/tags',\n",
       "  'blobs_url': 'https://api.github.com/repos/vinta/awesome-python/git/blobs{/sha}',\n",
       "  'git_tags_url': 'https://api.github.com/repos/vinta/awesome-python/git/tags{/sha}',\n",
       "  'git_refs_url': 'https://api.github.com/repos/vinta/awesome-python/git/refs{/sha}',\n",
       "  'trees_url': 'https://api.github.com/repos/vinta/awesome-python/git/trees{/sha}',\n",
       "  'statuses_url': 'https://api.github.com/repos/vinta/awesome-python/statuses/{sha}',\n",
       "  'languages_url': 'https://api.github.com/repos/vinta/awesome-python/languages',\n",
       "  'stargazers_url': 'https://api.github.com/repos/vinta/awesome-python/stargazers',\n",
       "  'contributors_url': 'https://api.github.com/repos/vinta/awesome-python/contributors',\n",
       "  'subscribers_url': 'https://api.github.com/repos/vinta/awesome-python/subscribers',\n",
       "  'subscription_url': 'https://api.github.com/repos/vinta/awesome-python/subscription',\n",
       "  'commits_url': 'https://api.github.com/repos/vinta/awesome-python/commits{/sha}',\n",
       "  'git_commits_url': 'https://api.github.com/repos/vinta/awesome-python/git/commits{/sha}',\n",
       "  'comments_url': 'https://api.github.com/repos/vinta/awesome-python/comments{/number}',\n",
       "  'issue_comment_url': 'https://api.github.com/repos/vinta/awesome-python/issues/comments{/number}',\n",
       "  'contents_url': 'https://api.github.com/repos/vinta/awesome-python/contents/{+path}',\n",
       "  'compare_url': 'https://api.github.com/repos/vinta/awesome-python/compare/{base}...{head}',\n",
       "  'merges_url': 'https://api.github.com/repos/vinta/awesome-python/merges',\n",
       "  'archive_url': 'https://api.github.com/repos/vinta/awesome-python/{archive_format}{/ref}',\n",
       "  'downloads_url': 'https://api.github.com/repos/vinta/awesome-python/downloads',\n",
       "  'issues_url': 'https://api.github.com/repos/vinta/awesome-python/issues{/number}',\n",
       "  'pulls_url': 'https://api.github.com/repos/vinta/awesome-python/pulls{/number}',\n",
       "  'milestones_url': 'https://api.github.com/repos/vinta/awesome-python/milestones{/number}',\n",
       "  'notifications_url': 'https://api.github.com/repos/vinta/awesome-python/notifications{?since,all,participating}',\n",
       "  'labels_url': 'https://api.github.com/repos/vinta/awesome-python/labels{/name}',\n",
       "  'releases_url': 'https://api.github.com/repos/vinta/awesome-python/releases{/id}',\n",
       "  'deployments_url': 'https://api.github.com/repos/vinta/awesome-python/deployments',\n",
       "  'created_at': '2014-06-27T21:00:06Z',\n",
       "  'updated_at': '2024-09-10T22:08:57Z',\n",
       "  'pushed_at': '2024-08-11T17:10:18Z',\n",
       "  'git_url': 'git://github.com/vinta/awesome-python.git',\n",
       "  'ssh_url': 'git@github.com:vinta/awesome-python.git',\n",
       "  'clone_url': 'https://github.com/vinta/awesome-python.git',\n",
       "  'svn_url': 'https://github.com/vinta/awesome-python',\n",
       "  'homepage': 'https://awesome-python.com/',\n",
       "  'size': 6769,\n",
       "  'stargazers_count': 218213,\n",
       "  'watchers_count': 218213,\n",
       "  'language': 'Python',\n",
       "  'has_issues': False,\n",
       "  'has_projects': False,\n",
       "  'has_downloads': True,\n",
       "  'has_wiki': False,\n",
       "  'has_pages': True,\n",
       "  'has_discussions': False,\n",
       "  'forks_count': 24777,\n",
       "  'mirror_url': None,\n",
       "  'archived': False,\n",
       "  'disabled': False,\n",
       "  'open_issues_count': 421,\n",
       "  'license': {'key': 'other',\n",
       "   'name': 'Other',\n",
       "   'spdx_id': 'NOASSERTION',\n",
       "   'url': None,\n",
       "   'node_id': 'MDc6TGljZW5zZTA='},\n",
       "  'allow_forking': True,\n",
       "  'is_template': False,\n",
       "  'web_commit_signoff_required': False,\n",
       "  'topics': ['awesome',\n",
       "   'collections',\n",
       "   'python',\n",
       "   'python-framework',\n",
       "   'python-library',\n",
       "   'python-resources'],\n",
       "  'visibility': 'public',\n",
       "  'forks': 24777,\n",
       "  'open_issues': 421,\n",
       "  'watchers': 218213,\n",
       "  'default_branch': 'master',\n",
       "  'score': 1.0},\n",
       " {'id': 63476337,\n",
       "  'node_id': 'MDEwOlJlcG9zaXRvcnk2MzQ3NjMzNw==',\n",
       "  'name': 'Python',\n",
       "  'full_name': 'TheAlgorithms/Python',\n",
       "  'private': False,\n",
       "  'owner': {'login': 'TheAlgorithms',\n",
       "   'id': 20487725,\n",
       "   'node_id': 'MDEyOk9yZ2FuaXphdGlvbjIwNDg3NzI1',\n",
       "   'avatar_url': 'https://avatars.githubusercontent.com/u/20487725?v=4',\n",
       "   'gravatar_id': '',\n",
       "   'url': 'https://api.github.com/users/TheAlgorithms',\n",
       "   'html_url': 'https://github.com/TheAlgorithms',\n",
       "   'followers_url': 'https://api.github.com/users/TheAlgorithms/followers',\n",
       "   'following_url': 'https://api.github.com/users/TheAlgorithms/following{/other_user}',\n",
       "   'gists_url': 'https://api.github.com/users/TheAlgorithms/gists{/gist_id}',\n",
       "   'starred_url': 'https://api.github.com/users/TheAlgorithms/starred{/owner}{/repo}',\n",
       "   'subscriptions_url': 'https://api.github.com/users/TheAlgorithms/subscriptions',\n",
       "   'organizations_url': 'https://api.github.com/users/TheAlgorithms/orgs',\n",
       "   'repos_url': 'https://api.github.com/users/TheAlgorithms/repos',\n",
       "   'events_url': 'https://api.github.com/users/TheAlgorithms/events{/privacy}',\n",
       "   'received_events_url': 'https://api.github.com/users/TheAlgorithms/received_events',\n",
       "   'type': 'Organization',\n",
       "   'site_admin': False},\n",
       "  'html_url': 'https://github.com/TheAlgorithms/Python',\n",
       "  'description': 'All Algorithms implemented in Python',\n",
       "  'fork': False,\n",
       "  'url': 'https://api.github.com/repos/TheAlgorithms/Python',\n",
       "  'forks_url': 'https://api.github.com/repos/TheAlgorithms/Python/forks',\n",
       "  'keys_url': 'https://api.github.com/repos/TheAlgorithms/Python/keys{/key_id}',\n",
       "  'collaborators_url': 'https://api.github.com/repos/TheAlgorithms/Python/collaborators{/collaborator}',\n",
       "  'teams_url': 'https://api.github.com/repos/TheAlgorithms/Python/teams',\n",
       "  'hooks_url': 'https://api.github.com/repos/TheAlgorithms/Python/hooks',\n",
       "  'issue_events_url': 'https://api.github.com/repos/TheAlgorithms/Python/issues/events{/number}',\n",
       "  'events_url': 'https://api.github.com/repos/TheAlgorithms/Python/events',\n",
       "  'assignees_url': 'https://api.github.com/repos/TheAlgorithms/Python/assignees{/user}',\n",
       "  'branches_url': 'https://api.github.com/repos/TheAlgorithms/Python/branches{/branch}',\n",
       "  'tags_url': 'https://api.github.com/repos/TheAlgorithms/Python/tags',\n",
       "  'blobs_url': 'https://api.github.com/repos/TheAlgorithms/Python/git/blobs{/sha}',\n",
       "  'git_tags_url': 'https://api.github.com/repos/TheAlgorithms/Python/git/tags{/sha}',\n",
       "  'git_refs_url': 'https://api.github.com/repos/TheAlgorithms/Python/git/refs{/sha}',\n",
       "  'trees_url': 'https://api.github.com/repos/TheAlgorithms/Python/git/trees{/sha}',\n",
       "  'statuses_url': 'https://api.github.com/repos/TheAlgorithms/Python/statuses/{sha}',\n",
       "  'languages_url': 'https://api.github.com/repos/TheAlgorithms/Python/languages',\n",
       "  'stargazers_url': 'https://api.github.com/repos/TheAlgorithms/Python/stargazers',\n",
       "  'contributors_url': 'https://api.github.com/repos/TheAlgorithms/Python/contributors',\n",
       "  'subscribers_url': 'https://api.github.com/repos/TheAlgorithms/Python/subscribers',\n",
       "  'subscription_url': 'https://api.github.com/repos/TheAlgorithms/Python/subscription',\n",
       "  'commits_url': 'https://api.github.com/repos/TheAlgorithms/Python/commits{/sha}',\n",
       "  'git_commits_url': 'https://api.github.com/repos/TheAlgorithms/Python/git/commits{/sha}',\n",
       "  'comments_url': 'https://api.github.com/repos/TheAlgorithms/Python/comments{/number}',\n",
       "  'issue_comment_url': 'https://api.github.com/repos/TheAlgorithms/Python/issues/comments{/number}',\n",
       "  'contents_url': 'https://api.github.com/repos/TheAlgorithms/Python/contents/{+path}',\n",
       "  'compare_url': 'https://api.github.com/repos/TheAlgorithms/Python/compare/{base}...{head}',\n",
       "  'merges_url': 'https://api.github.com/repos/TheAlgorithms/Python/merges',\n",
       "  'archive_url': 'https://api.github.com/repos/TheAlgorithms/Python/{archive_format}{/ref}',\n",
       "  'downloads_url': 'https://api.github.com/repos/TheAlgorithms/Python/downloads',\n",
       "  'issues_url': 'https://api.github.com/repos/TheAlgorithms/Python/issues{/number}',\n",
       "  'pulls_url': 'https://api.github.com/repos/TheAlgorithms/Python/pulls{/number}',\n",
       "  'milestones_url': 'https://api.github.com/repos/TheAlgorithms/Python/milestones{/number}',\n",
       "  'notifications_url': 'https://api.github.com/repos/TheAlgorithms/Python/notifications{?since,all,participating}',\n",
       "  'labels_url': 'https://api.github.com/repos/TheAlgorithms/Python/labels{/name}',\n",
       "  'releases_url': 'https://api.github.com/repos/TheAlgorithms/Python/releases{/id}',\n",
       "  'deployments_url': 'https://api.github.com/repos/TheAlgorithms/Python/deployments',\n",
       "  'created_at': '2016-07-16T09:44:01Z',\n",
       "  'updated_at': '2024-09-10T22:19:40Z',\n",
       "  'pushed_at': '2024-09-09T20:15:22Z',\n",
       "  'git_url': 'git://github.com/TheAlgorithms/Python.git',\n",
       "  'ssh_url': 'git@github.com:TheAlgorithms/Python.git',\n",
       "  'clone_url': 'https://github.com/TheAlgorithms/Python.git',\n",
       "  'svn_url': 'https://github.com/TheAlgorithms/Python',\n",
       "  'homepage': 'https://the-algorithms.com/',\n",
       "  'size': 15487,\n",
       "  'stargazers_count': 184011,\n",
       "  'watchers_count': 184011,\n",
       "  'language': 'Python',\n",
       "  'has_issues': True,\n",
       "  'has_projects': True,\n",
       "  'has_downloads': True,\n",
       "  'has_wiki': True,\n",
       "  'has_pages': False,\n",
       "  'has_discussions': True,\n",
       "  'forks_count': 44297,\n",
       "  'mirror_url': None,\n",
       "  'archived': False,\n",
       "  'disabled': False,\n",
       "  'open_issues_count': 237,\n",
       "  'license': {'key': 'mit',\n",
       "   'name': 'MIT License',\n",
       "   'spdx_id': 'MIT',\n",
       "   'url': 'https://api.github.com/licenses/mit',\n",
       "   'node_id': 'MDc6TGljZW5zZTEz'},\n",
       "  'allow_forking': True,\n",
       "  'is_template': False,\n",
       "  'web_commit_signoff_required': False,\n",
       "  'topics': ['algorithm',\n",
       "   'algorithm-competitions',\n",
       "   'algorithms-implemented',\n",
       "   'algos',\n",
       "   'community-driven',\n",
       "   'education',\n",
       "   'hacktoberfest',\n",
       "   'interview',\n",
       "   'learn',\n",
       "   'practice',\n",
       "   'python',\n",
       "   'searches',\n",
       "   'sorting-algorithms',\n",
       "   'sorts'],\n",
       "  'visibility': 'public',\n",
       "  'forks': 44297,\n",
       "  'open_issues': 237,\n",
       "  'watchers': 184011,\n",
       "  'default_branch': 'master',\n",
       "  'score': 1.0},\n",
       " {'id': 614765452,\n",
       "  'node_id': 'R_kgDOJKSTjA',\n",
       "  'name': 'AutoGPT',\n",
       "  'full_name': 'Significant-Gravitas/AutoGPT',\n",
       "  'private': False,\n",
       "  'owner': {'login': 'Significant-Gravitas',\n",
       "   'id': 130738209,\n",
       "   'node_id': 'O_kgDOB8roIQ',\n",
       "   'avatar_url': 'https://avatars.githubusercontent.com/u/130738209?v=4',\n",
       "   'gravatar_id': '',\n",
       "   'url': 'https://api.github.com/users/Significant-Gravitas',\n",
       "   'html_url': 'https://github.com/Significant-Gravitas',\n",
       "   'followers_url': 'https://api.github.com/users/Significant-Gravitas/followers',\n",
       "   'following_url': 'https://api.github.com/users/Significant-Gravitas/following{/other_user}',\n",
       "   'gists_url': 'https://api.github.com/users/Significant-Gravitas/gists{/gist_id}',\n",
       "   'starred_url': 'https://api.github.com/users/Significant-Gravitas/starred{/owner}{/repo}',\n",
       "   'subscriptions_url': 'https://api.github.com/users/Significant-Gravitas/subscriptions',\n",
       "   'organizations_url': 'https://api.github.com/users/Significant-Gravitas/orgs',\n",
       "   'repos_url': 'https://api.github.com/users/Significant-Gravitas/repos',\n",
       "   'events_url': 'https://api.github.com/users/Significant-Gravitas/events{/privacy}',\n",
       "   'received_events_url': 'https://api.github.com/users/Significant-Gravitas/received_events',\n",
       "   'type': 'Organization',\n",
       "   'site_admin': False},\n",
       "  'html_url': 'https://github.com/Significant-Gravitas/AutoGPT',\n",
       "  'description': 'AutoGPT is the vision of accessible AI for everyone, to use and to build on. Our mission is to provide the tools, so that you can focus on what matters.',\n",
       "  'fork': False,\n",
       "  'url': 'https://api.github.com/repos/Significant-Gravitas/AutoGPT',\n",
       "  'forks_url': 'https://api.github.com/repos/Significant-Gravitas/AutoGPT/forks',\n",
       "  'keys_url': 'https://api.github.com/repos/Significant-Gravitas/AutoGPT/keys{/key_id}',\n",
       "  'collaborators_url': 'https://api.github.com/repos/Significant-Gravitas/AutoGPT/collaborators{/collaborator}',\n",
       "  'teams_url': 'https://api.github.com/repos/Significant-Gravitas/AutoGPT/teams',\n",
       "  'hooks_url': 'https://api.github.com/repos/Significant-Gravitas/AutoGPT/hooks',\n",
       "  'issue_events_url': 'https://api.github.com/repos/Significant-Gravitas/AutoGPT/issues/events{/number}',\n",
       "  'events_url': 'https://api.github.com/repos/Significant-Gravitas/AutoGPT/events',\n",
       "  'assignees_url': 'https://api.github.com/repos/Significant-Gravitas/AutoGPT/assignees{/user}',\n",
       "  'branches_url': 'https://api.github.com/repos/Significant-Gravitas/AutoGPT/branches{/branch}',\n",
       "  'tags_url': 'https://api.github.com/repos/Significant-Gravitas/AutoGPT/tags',\n",
       "  'blobs_url': 'https://api.github.com/repos/Significant-Gravitas/AutoGPT/git/blobs{/sha}',\n",
       "  'git_tags_url': 'https://api.github.com/repos/Significant-Gravitas/AutoGPT/git/tags{/sha}',\n",
       "  'git_refs_url': 'https://api.github.com/repos/Significant-Gravitas/AutoGPT/git/refs{/sha}',\n",
       "  'trees_url': 'https://api.github.com/repos/Significant-Gravitas/AutoGPT/git/trees{/sha}',\n",
       "  'statuses_url': 'https://api.github.com/repos/Significant-Gravitas/AutoGPT/statuses/{sha}',\n",
       "  'languages_url': 'https://api.github.com/repos/Significant-Gravitas/AutoGPT/languages',\n",
       "  'stargazers_url': 'https://api.github.com/repos/Significant-Gravitas/AutoGPT/stargazers',\n",
       "  'contributors_url': 'https://api.github.com/repos/Significant-Gravitas/AutoGPT/contributors',\n",
       "  'subscribers_url': 'https://api.github.com/repos/Significant-Gravitas/AutoGPT/subscribers',\n",
       "  'subscription_url': 'https://api.github.com/repos/Significant-Gravitas/AutoGPT/subscription',\n",
       "  'commits_url': 'https://api.github.com/repos/Significant-Gravitas/AutoGPT/commits{/sha}',\n",
       "  'git_commits_url': 'https://api.github.com/repos/Significant-Gravitas/AutoGPT/git/commits{/sha}',\n",
       "  'comments_url': 'https://api.github.com/repos/Significant-Gravitas/AutoGPT/comments{/number}',\n",
       "  'issue_comment_url': 'https://api.github.com/repos/Significant-Gravitas/AutoGPT/issues/comments{/number}',\n",
       "  'contents_url': 'https://api.github.com/repos/Significant-Gravitas/AutoGPT/contents/{+path}',\n",
       "  'compare_url': 'https://api.github.com/repos/Significant-Gravitas/AutoGPT/compare/{base}...{head}',\n",
       "  'merges_url': 'https://api.github.com/repos/Significant-Gravitas/AutoGPT/merges',\n",
       "  'archive_url': 'https://api.github.com/repos/Significant-Gravitas/AutoGPT/{archive_format}{/ref}',\n",
       "  'downloads_url': 'https://api.github.com/repos/Significant-Gravitas/AutoGPT/downloads',\n",
       "  'issues_url': 'https://api.github.com/repos/Significant-Gravitas/AutoGPT/issues{/number}',\n",
       "  'pulls_url': 'https://api.github.com/repos/Significant-Gravitas/AutoGPT/pulls{/number}',\n",
       "  'milestones_url': 'https://api.github.com/repos/Significant-Gravitas/AutoGPT/milestones{/number}',\n",
       "  'notifications_url': 'https://api.github.com/repos/Significant-Gravitas/AutoGPT/notifications{?since,all,participating}',\n",
       "  'labels_url': 'https://api.github.com/repos/Significant-Gravitas/AutoGPT/labels{/name}',\n",
       "  'releases_url': 'https://api.github.com/repos/Significant-Gravitas/AutoGPT/releases{/id}',\n",
       "  'deployments_url': 'https://api.github.com/repos/Significant-Gravitas/AutoGPT/deployments',\n",
       "  'created_at': '2023-03-16T09:21:07Z',\n",
       "  'updated_at': '2024-09-10T21:40:43Z',\n",
       "  'pushed_at': '2024-09-10T21:40:29Z',\n",
       "  'git_url': 'git://github.com/Significant-Gravitas/AutoGPT.git',\n",
       "  'ssh_url': 'git@github.com:Significant-Gravitas/AutoGPT.git',\n",
       "  'clone_url': 'https://github.com/Significant-Gravitas/AutoGPT.git',\n",
       "  'svn_url': 'https://github.com/Significant-Gravitas/AutoGPT',\n",
       "  'homepage': 'https://agpt.co',\n",
       "  'size': 162070,\n",
       "  'stargazers_count': 166374,\n",
       "  'watchers_count': 166374,\n",
       "  'language': 'Python',\n",
       "  'has_issues': True,\n",
       "  'has_projects': True,\n",
       "  'has_downloads': True,\n",
       "  'has_wiki': True,\n",
       "  'has_pages': False,\n",
       "  'has_discussions': True,\n",
       "  'forks_count': 44036,\n",
       "  'mirror_url': None,\n",
       "  'archived': False,\n",
       "  'disabled': False,\n",
       "  'open_issues_count': 148,\n",
       "  'license': {'key': 'mit',\n",
       "   'name': 'MIT License',\n",
       "   'spdx_id': 'MIT',\n",
       "   'url': 'https://api.github.com/licenses/mit',\n",
       "   'node_id': 'MDc6TGljZW5zZTEz'},\n",
       "  'allow_forking': True,\n",
       "  'is_template': False,\n",
       "  'web_commit_signoff_required': False,\n",
       "  'topics': ['ai',\n",
       "   'artificial-intelligence',\n",
       "   'autonomous-agents',\n",
       "   'gpt-4',\n",
       "   'openai',\n",
       "   'python'],\n",
       "  'visibility': 'public',\n",
       "  'forks': 44036,\n",
       "  'open_issues': 148,\n",
       "  'watchers': 166374,\n",
       "  'default_branch': 'master',\n",
       "  'score': 1.0},\n",
       " {'id': 123458551,\n",
       "  'node_id': 'MDEwOlJlcG9zaXRvcnkxMjM0NTg1NTE=',\n",
       "  'name': 'Python-100-Days',\n",
       "  'full_name': 'jackfrued/Python-100-Days',\n",
       "  'private': False,\n",
       "  'owner': {'login': 'jackfrued',\n",
       "   'id': 7474657,\n",
       "   'node_id': 'MDQ6VXNlcjc0NzQ2NTc=',\n",
       "   'avatar_url': 'https://avatars.githubusercontent.com/u/7474657?v=4',\n",
       "   'gravatar_id': '',\n",
       "   'url': 'https://api.github.com/users/jackfrued',\n",
       "   'html_url': 'https://github.com/jackfrued',\n",
       "   'followers_url': 'https://api.github.com/users/jackfrued/followers',\n",
       "   'following_url': 'https://api.github.com/users/jackfrued/following{/other_user}',\n",
       "   'gists_url': 'https://api.github.com/users/jackfrued/gists{/gist_id}',\n",
       "   'starred_url': 'https://api.github.com/users/jackfrued/starred{/owner}{/repo}',\n",
       "   'subscriptions_url': 'https://api.github.com/users/jackfrued/subscriptions',\n",
       "   'organizations_url': 'https://api.github.com/users/jackfrued/orgs',\n",
       "   'repos_url': 'https://api.github.com/users/jackfrued/repos',\n",
       "   'events_url': 'https://api.github.com/users/jackfrued/events{/privacy}',\n",
       "   'received_events_url': 'https://api.github.com/users/jackfrued/received_events',\n",
       "   'type': 'User',\n",
       "   'site_admin': False},\n",
       "  'html_url': 'https://github.com/jackfrued/Python-100-Days',\n",
       "  'description': 'Python - 100天从新手到大师',\n",
       "  'fork': False,\n",
       "  'url': 'https://api.github.com/repos/jackfrued/Python-100-Days',\n",
       "  'forks_url': 'https://api.github.com/repos/jackfrued/Python-100-Days/forks',\n",
       "  'keys_url': 'https://api.github.com/repos/jackfrued/Python-100-Days/keys{/key_id}',\n",
       "  'collaborators_url': 'https://api.github.com/repos/jackfrued/Python-100-Days/collaborators{/collaborator}',\n",
       "  'teams_url': 'https://api.github.com/repos/jackfrued/Python-100-Days/teams',\n",
       "  'hooks_url': 'https://api.github.com/repos/jackfrued/Python-100-Days/hooks',\n",
       "  'issue_events_url': 'https://api.github.com/repos/jackfrued/Python-100-Days/issues/events{/number}',\n",
       "  'events_url': 'https://api.github.com/repos/jackfrued/Python-100-Days/events',\n",
       "  'assignees_url': 'https://api.github.com/repos/jackfrued/Python-100-Days/assignees{/user}',\n",
       "  'branches_url': 'https://api.github.com/repos/jackfrued/Python-100-Days/branches{/branch}',\n",
       "  'tags_url': 'https://api.github.com/repos/jackfrued/Python-100-Days/tags',\n",
       "  'blobs_url': 'https://api.github.com/repos/jackfrued/Python-100-Days/git/blobs{/sha}',\n",
       "  'git_tags_url': 'https://api.github.com/repos/jackfrued/Python-100-Days/git/tags{/sha}',\n",
       "  'git_refs_url': 'https://api.github.com/repos/jackfrued/Python-100-Days/git/refs{/sha}',\n",
       "  'trees_url': 'https://api.github.com/repos/jackfrued/Python-100-Days/git/trees{/sha}',\n",
       "  'statuses_url': 'https://api.github.com/repos/jackfrued/Python-100-Days/statuses/{sha}',\n",
       "  'languages_url': 'https://api.github.com/repos/jackfrued/Python-100-Days/languages',\n",
       "  'stargazers_url': 'https://api.github.com/repos/jackfrued/Python-100-Days/stargazers',\n",
       "  'contributors_url': 'https://api.github.com/repos/jackfrued/Python-100-Days/contributors',\n",
       "  'subscribers_url': 'https://api.github.com/repos/jackfrued/Python-100-Days/subscribers',\n",
       "  'subscription_url': 'https://api.github.com/repos/jackfrued/Python-100-Days/subscription',\n",
       "  'commits_url': 'https://api.github.com/repos/jackfrued/Python-100-Days/commits{/sha}',\n",
       "  'git_commits_url': 'https://api.github.com/repos/jackfrued/Python-100-Days/git/commits{/sha}',\n",
       "  'comments_url': 'https://api.github.com/repos/jackfrued/Python-100-Days/comments{/number}',\n",
       "  'issue_comment_url': 'https://api.github.com/repos/jackfrued/Python-100-Days/issues/comments{/number}',\n",
       "  'contents_url': 'https://api.github.com/repos/jackfrued/Python-100-Days/contents/{+path}',\n",
       "  'compare_url': 'https://api.github.com/repos/jackfrued/Python-100-Days/compare/{base}...{head}',\n",
       "  'merges_url': 'https://api.github.com/repos/jackfrued/Python-100-Days/merges',\n",
       "  'archive_url': 'https://api.github.com/repos/jackfrued/Python-100-Days/{archive_format}{/ref}',\n",
       "  'downloads_url': 'https://api.github.com/repos/jackfrued/Python-100-Days/downloads',\n",
       "  'issues_url': 'https://api.github.com/repos/jackfrued/Python-100-Days/issues{/number}',\n",
       "  'pulls_url': 'https://api.github.com/repos/jackfrued/Python-100-Days/pulls{/number}',\n",
       "  'milestones_url': 'https://api.github.com/repos/jackfrued/Python-100-Days/milestones{/number}',\n",
       "  'notifications_url': 'https://api.github.com/repos/jackfrued/Python-100-Days/notifications{?since,all,participating}',\n",
       "  'labels_url': 'https://api.github.com/repos/jackfrued/Python-100-Days/labels{/name}',\n",
       "  'releases_url': 'https://api.github.com/repos/jackfrued/Python-100-Days/releases{/id}',\n",
       "  'deployments_url': 'https://api.github.com/repos/jackfrued/Python-100-Days/deployments',\n",
       "  'created_at': '2018-03-01T16:05:52Z',\n",
       "  'updated_at': '2024-09-10T22:42:54Z',\n",
       "  'pushed_at': '2024-08-15T10:52:27Z',\n",
       "  'git_url': 'git://github.com/jackfrued/Python-100-Days.git',\n",
       "  'ssh_url': 'git@github.com:jackfrued/Python-100-Days.git',\n",
       "  'clone_url': 'https://github.com/jackfrued/Python-100-Days.git',\n",
       "  'svn_url': 'https://github.com/jackfrued/Python-100-Days',\n",
       "  'homepage': '',\n",
       "  'size': 332080,\n",
       "  'stargazers_count': 154609,\n",
       "  'watchers_count': 154609,\n",
       "  'language': 'Python',\n",
       "  'has_issues': True,\n",
       "  'has_projects': True,\n",
       "  'has_downloads': True,\n",
       "  'has_wiki': True,\n",
       "  'has_pages': False,\n",
       "  'has_discussions': False,\n",
       "  'forks_count': 51957,\n",
       "  'mirror_url': None,\n",
       "  'archived': False,\n",
       "  'disabled': False,\n",
       "  'open_issues_count': 718,\n",
       "  'license': None,\n",
       "  'allow_forking': True,\n",
       "  'is_template': False,\n",
       "  'web_commit_signoff_required': False,\n",
       "  'topics': [],\n",
       "  'visibility': 'public',\n",
       "  'forks': 51957,\n",
       "  'open_issues': 718,\n",
       "  'watchers': 154609,\n",
       "  'default_branch': 'master',\n",
       "  'score': 1.0},\n",
       " {'id': 527591471,\n",
       "  'node_id': 'R_kgDOH3JoLw',\n",
       "  'name': 'stable-diffusion-webui',\n",
       "  'full_name': 'AUTOMATIC1111/stable-diffusion-webui',\n",
       "  'private': False,\n",
       "  'owner': {'login': 'AUTOMATIC1111',\n",
       "   'id': 20920490,\n",
       "   'node_id': 'MDQ6VXNlcjIwOTIwNDkw',\n",
       "   'avatar_url': 'https://avatars.githubusercontent.com/u/20920490?v=4',\n",
       "   'gravatar_id': '',\n",
       "   'url': 'https://api.github.com/users/AUTOMATIC1111',\n",
       "   'html_url': 'https://github.com/AUTOMATIC1111',\n",
       "   'followers_url': 'https://api.github.com/users/AUTOMATIC1111/followers',\n",
       "   'following_url': 'https://api.github.com/users/AUTOMATIC1111/following{/other_user}',\n",
       "   'gists_url': 'https://api.github.com/users/AUTOMATIC1111/gists{/gist_id}',\n",
       "   'starred_url': 'https://api.github.com/users/AUTOMATIC1111/starred{/owner}{/repo}',\n",
       "   'subscriptions_url': 'https://api.github.com/users/AUTOMATIC1111/subscriptions',\n",
       "   'organizations_url': 'https://api.github.com/users/AUTOMATIC1111/orgs',\n",
       "   'repos_url': 'https://api.github.com/users/AUTOMATIC1111/repos',\n",
       "   'events_url': 'https://api.github.com/users/AUTOMATIC1111/events{/privacy}',\n",
       "   'received_events_url': 'https://api.github.com/users/AUTOMATIC1111/received_events',\n",
       "   'type': 'User',\n",
       "   'site_admin': False},\n",
       "  'html_url': 'https://github.com/AUTOMATIC1111/stable-diffusion-webui',\n",
       "  'description': 'Stable Diffusion web UI',\n",
       "  'fork': False,\n",
       "  'url': 'https://api.github.com/repos/AUTOMATIC1111/stable-diffusion-webui',\n",
       "  'forks_url': 'https://api.github.com/repos/AUTOMATIC1111/stable-diffusion-webui/forks',\n",
       "  'keys_url': 'https://api.github.com/repos/AUTOMATIC1111/stable-diffusion-webui/keys{/key_id}',\n",
       "  'collaborators_url': 'https://api.github.com/repos/AUTOMATIC1111/stable-diffusion-webui/collaborators{/collaborator}',\n",
       "  'teams_url': 'https://api.github.com/repos/AUTOMATIC1111/stable-diffusion-webui/teams',\n",
       "  'hooks_url': 'https://api.github.com/repos/AUTOMATIC1111/stable-diffusion-webui/hooks',\n",
       "  'issue_events_url': 'https://api.github.com/repos/AUTOMATIC1111/stable-diffusion-webui/issues/events{/number}',\n",
       "  'events_url': 'https://api.github.com/repos/AUTOMATIC1111/stable-diffusion-webui/events',\n",
       "  'assignees_url': 'https://api.github.com/repos/AUTOMATIC1111/stable-diffusion-webui/assignees{/user}',\n",
       "  'branches_url': 'https://api.github.com/repos/AUTOMATIC1111/stable-diffusion-webui/branches{/branch}',\n",
       "  'tags_url': 'https://api.github.com/repos/AUTOMATIC1111/stable-diffusion-webui/tags',\n",
       "  'blobs_url': 'https://api.github.com/repos/AUTOMATIC1111/stable-diffusion-webui/git/blobs{/sha}',\n",
       "  'git_tags_url': 'https://api.github.com/repos/AUTOMATIC1111/stable-diffusion-webui/git/tags{/sha}',\n",
       "  'git_refs_url': 'https://api.github.com/repos/AUTOMATIC1111/stable-diffusion-webui/git/refs{/sha}',\n",
       "  'trees_url': 'https://api.github.com/repos/AUTOMATIC1111/stable-diffusion-webui/git/trees{/sha}',\n",
       "  'statuses_url': 'https://api.github.com/repos/AUTOMATIC1111/stable-diffusion-webui/statuses/{sha}',\n",
       "  'languages_url': 'https://api.github.com/repos/AUTOMATIC1111/stable-diffusion-webui/languages',\n",
       "  'stargazers_url': 'https://api.github.com/repos/AUTOMATIC1111/stable-diffusion-webui/stargazers',\n",
       "  'contributors_url': 'https://api.github.com/repos/AUTOMATIC1111/stable-diffusion-webui/contributors',\n",
       "  'subscribers_url': 'https://api.github.com/repos/AUTOMATIC1111/stable-diffusion-webui/subscribers',\n",
       "  'subscription_url': 'https://api.github.com/repos/AUTOMATIC1111/stable-diffusion-webui/subscription',\n",
       "  'commits_url': 'https://api.github.com/repos/AUTOMATIC1111/stable-diffusion-webui/commits{/sha}',\n",
       "  'git_commits_url': 'https://api.github.com/repos/AUTOMATIC1111/stable-diffusion-webui/git/commits{/sha}',\n",
       "  'comments_url': 'https://api.github.com/repos/AUTOMATIC1111/stable-diffusion-webui/comments{/number}',\n",
       "  'issue_comment_url': 'https://api.github.com/repos/AUTOMATIC1111/stable-diffusion-webui/issues/comments{/number}',\n",
       "  'contents_url': 'https://api.github.com/repos/AUTOMATIC1111/stable-diffusion-webui/contents/{+path}',\n",
       "  'compare_url': 'https://api.github.com/repos/AUTOMATIC1111/stable-diffusion-webui/compare/{base}...{head}',\n",
       "  'merges_url': 'https://api.github.com/repos/AUTOMATIC1111/stable-diffusion-webui/merges',\n",
       "  'archive_url': 'https://api.github.com/repos/AUTOMATIC1111/stable-diffusion-webui/{archive_format}{/ref}',\n",
       "  'downloads_url': 'https://api.github.com/repos/AUTOMATIC1111/stable-diffusion-webui/downloads',\n",
       "  'issues_url': 'https://api.github.com/repos/AUTOMATIC1111/stable-diffusion-webui/issues{/number}',\n",
       "  'pulls_url': 'https://api.github.com/repos/AUTOMATIC1111/stable-diffusion-webui/pulls{/number}',\n",
       "  'milestones_url': 'https://api.github.com/repos/AUTOMATIC1111/stable-diffusion-webui/milestones{/number}',\n",
       "  'notifications_url': 'https://api.github.com/repos/AUTOMATIC1111/stable-diffusion-webui/notifications{?since,all,participating}',\n",
       "  'labels_url': 'https://api.github.com/repos/AUTOMATIC1111/stable-diffusion-webui/labels{/name}',\n",
       "  'releases_url': 'https://api.github.com/repos/AUTOMATIC1111/stable-diffusion-webui/releases{/id}',\n",
       "  'deployments_url': 'https://api.github.com/repos/AUTOMATIC1111/stable-diffusion-webui/deployments',\n",
       "  'created_at': '2022-08-22T14:05:26Z',\n",
       "  'updated_at': '2024-09-10T21:32:53Z',\n",
       "  'pushed_at': '2024-09-09T04:52:14Z',\n",
       "  'git_url': 'git://github.com/AUTOMATIC1111/stable-diffusion-webui.git',\n",
       "  'ssh_url': 'git@github.com:AUTOMATIC1111/stable-diffusion-webui.git',\n",
       "  'clone_url': 'https://github.com/AUTOMATIC1111/stable-diffusion-webui.git',\n",
       "  'svn_url': 'https://github.com/AUTOMATIC1111/stable-diffusion-webui',\n",
       "  'homepage': '',\n",
       "  'size': 36146,\n",
       "  'stargazers_count': 139339,\n",
       "  'watchers_count': 139339,\n",
       "  'language': 'Python',\n",
       "  'has_issues': True,\n",
       "  'has_projects': True,\n",
       "  'has_downloads': True,\n",
       "  'has_wiki': True,\n",
       "  'has_pages': False,\n",
       "  'has_discussions': True,\n",
       "  'forks_count': 26427,\n",
       "  'mirror_url': None,\n",
       "  'archived': False,\n",
       "  'disabled': False,\n",
       "  'open_issues_count': 2273,\n",
       "  'license': {'key': 'agpl-3.0',\n",
       "   'name': 'GNU Affero General Public License v3.0',\n",
       "   'spdx_id': 'AGPL-3.0',\n",
       "   'url': 'https://api.github.com/licenses/agpl-3.0',\n",
       "   'node_id': 'MDc6TGljZW5zZTE='},\n",
       "  'allow_forking': True,\n",
       "  'is_template': False,\n",
       "  'web_commit_signoff_required': False,\n",
       "  'topics': ['ai',\n",
       "   'ai-art',\n",
       "   'deep-learning',\n",
       "   'diffusion',\n",
       "   'gradio',\n",
       "   'image-generation',\n",
       "   'image2image',\n",
       "   'img2img',\n",
       "   'pytorch',\n",
       "   'stable-diffusion',\n",
       "   'text2image',\n",
       "   'torch',\n",
       "   'txt2img',\n",
       "   'unstable',\n",
       "   'upscaling',\n",
       "   'web'],\n",
       "  'visibility': 'public',\n",
       "  'forks': 26427,\n",
       "  'open_issues': 2273,\n",
       "  'watchers': 139339,\n",
       "  'default_branch': 'master',\n",
       "  'score': 1.0},\n",
       " {'id': 155220641,\n",
       "  'node_id': 'MDEwOlJlcG9zaXRvcnkxNTUyMjA2NDE=',\n",
       "  'name': 'transformers',\n",
       "  'full_name': 'huggingface/transformers',\n",
       "  'private': False,\n",
       "  'owner': {'login': 'huggingface',\n",
       "   'id': 25720743,\n",
       "   'node_id': 'MDEyOk9yZ2FuaXphdGlvbjI1NzIwNzQz',\n",
       "   'avatar_url': 'https://avatars.githubusercontent.com/u/25720743?v=4',\n",
       "   'gravatar_id': '',\n",
       "   'url': 'https://api.github.com/users/huggingface',\n",
       "   'html_url': 'https://github.com/huggingface',\n",
       "   'followers_url': 'https://api.github.com/users/huggingface/followers',\n",
       "   'following_url': 'https://api.github.com/users/huggingface/following{/other_user}',\n",
       "   'gists_url': 'https://api.github.com/users/huggingface/gists{/gist_id}',\n",
       "   'starred_url': 'https://api.github.com/users/huggingface/starred{/owner}{/repo}',\n",
       "   'subscriptions_url': 'https://api.github.com/users/huggingface/subscriptions',\n",
       "   'organizations_url': 'https://api.github.com/users/huggingface/orgs',\n",
       "   'repos_url': 'https://api.github.com/users/huggingface/repos',\n",
       "   'events_url': 'https://api.github.com/users/huggingface/events{/privacy}',\n",
       "   'received_events_url': 'https://api.github.com/users/huggingface/received_events',\n",
       "   'type': 'Organization',\n",
       "   'site_admin': False},\n",
       "  'html_url': 'https://github.com/huggingface/transformers',\n",
       "  'description': '🤗 Transformers: State-of-the-art Machine Learning for Pytorch, TensorFlow, and JAX.',\n",
       "  'fork': False,\n",
       "  'url': 'https://api.github.com/repos/huggingface/transformers',\n",
       "  'forks_url': 'https://api.github.com/repos/huggingface/transformers/forks',\n",
       "  'keys_url': 'https://api.github.com/repos/huggingface/transformers/keys{/key_id}',\n",
       "  'collaborators_url': 'https://api.github.com/repos/huggingface/transformers/collaborators{/collaborator}',\n",
       "  'teams_url': 'https://api.github.com/repos/huggingface/transformers/teams',\n",
       "  'hooks_url': 'https://api.github.com/repos/huggingface/transformers/hooks',\n",
       "  'issue_events_url': 'https://api.github.com/repos/huggingface/transformers/issues/events{/number}',\n",
       "  'events_url': 'https://api.github.com/repos/huggingface/transformers/events',\n",
       "  'assignees_url': 'https://api.github.com/repos/huggingface/transformers/assignees{/user}',\n",
       "  'branches_url': 'https://api.github.com/repos/huggingface/transformers/branches{/branch}',\n",
       "  'tags_url': 'https://api.github.com/repos/huggingface/transformers/tags',\n",
       "  'blobs_url': 'https://api.github.com/repos/huggingface/transformers/git/blobs{/sha}',\n",
       "  'git_tags_url': 'https://api.github.com/repos/huggingface/transformers/git/tags{/sha}',\n",
       "  'git_refs_url': 'https://api.github.com/repos/huggingface/transformers/git/refs{/sha}',\n",
       "  'trees_url': 'https://api.github.com/repos/huggingface/transformers/git/trees{/sha}',\n",
       "  'statuses_url': 'https://api.github.com/repos/huggingface/transformers/statuses/{sha}',\n",
       "  'languages_url': 'https://api.github.com/repos/huggingface/transformers/languages',\n",
       "  'stargazers_url': 'https://api.github.com/repos/huggingface/transformers/stargazers',\n",
       "  'contributors_url': 'https://api.github.com/repos/huggingface/transformers/contributors',\n",
       "  'subscribers_url': 'https://api.github.com/repos/huggingface/transformers/subscribers',\n",
       "  'subscription_url': 'https://api.github.com/repos/huggingface/transformers/subscription',\n",
       "  'commits_url': 'https://api.github.com/repos/huggingface/transformers/commits{/sha}',\n",
       "  'git_commits_url': 'https://api.github.com/repos/huggingface/transformers/git/commits{/sha}',\n",
       "  'comments_url': 'https://api.github.com/repos/huggingface/transformers/comments{/number}',\n",
       "  'issue_comment_url': 'https://api.github.com/repos/huggingface/transformers/issues/comments{/number}',\n",
       "  'contents_url': 'https://api.github.com/repos/huggingface/transformers/contents/{+path}',\n",
       "  'compare_url': 'https://api.github.com/repos/huggingface/transformers/compare/{base}...{head}',\n",
       "  'merges_url': 'https://api.github.com/repos/huggingface/transformers/merges',\n",
       "  'archive_url': 'https://api.github.com/repos/huggingface/transformers/{archive_format}{/ref}',\n",
       "  'downloads_url': 'https://api.github.com/repos/huggingface/transformers/downloads',\n",
       "  'issues_url': 'https://api.github.com/repos/huggingface/transformers/issues{/number}',\n",
       "  'pulls_url': 'https://api.github.com/repos/huggingface/transformers/pulls{/number}',\n",
       "  'milestones_url': 'https://api.github.com/repos/huggingface/transformers/milestones{/number}',\n",
       "  'notifications_url': 'https://api.github.com/repos/huggingface/transformers/notifications{?since,all,participating}',\n",
       "  'labels_url': 'https://api.github.com/repos/huggingface/transformers/labels{/name}',\n",
       "  'releases_url': 'https://api.github.com/repos/huggingface/transformers/releases{/id}',\n",
       "  'deployments_url': 'https://api.github.com/repos/huggingface/transformers/deployments',\n",
       "  'created_at': '2018-10-29T13:56:00Z',\n",
       "  'updated_at': '2024-09-10T22:38:56Z',\n",
       "  'pushed_at': '2024-09-10T15:49:33Z',\n",
       "  'git_url': 'git://github.com/huggingface/transformers.git',\n",
       "  'ssh_url': 'git@github.com:huggingface/transformers.git',\n",
       "  'clone_url': 'https://github.com/huggingface/transformers.git',\n",
       "  'svn_url': 'https://github.com/huggingface/transformers',\n",
       "  'homepage': 'https://huggingface.co/transformers',\n",
       "  'size': 237912,\n",
       "  'stargazers_count': 131826,\n",
       "  'watchers_count': 131826,\n",
       "  'language': 'Python',\n",
       "  'has_issues': True,\n",
       "  'has_projects': True,\n",
       "  'has_downloads': True,\n",
       "  'has_wiki': True,\n",
       "  'has_pages': False,\n",
       "  'has_discussions': False,\n",
       "  'forks_count': 26247,\n",
       "  'mirror_url': None,\n",
       "  'archived': False,\n",
       "  'disabled': False,\n",
       "  'open_issues_count': 1436,\n",
       "  'license': {'key': 'apache-2.0',\n",
       "   'name': 'Apache License 2.0',\n",
       "   'spdx_id': 'Apache-2.0',\n",
       "   'url': 'https://api.github.com/licenses/apache-2.0',\n",
       "   'node_id': 'MDc6TGljZW5zZTI='},\n",
       "  'allow_forking': True,\n",
       "  'is_template': False,\n",
       "  'web_commit_signoff_required': False,\n",
       "  'topics': ['bert',\n",
       "   'deep-learning',\n",
       "   'flax',\n",
       "   'hacktoberfest',\n",
       "   'jax',\n",
       "   'language-model',\n",
       "   'language-models',\n",
       "   'machine-learning',\n",
       "   'model-hub',\n",
       "   'natural-language-processing',\n",
       "   'nlp',\n",
       "   'nlp-library',\n",
       "   'pretrained-models',\n",
       "   'python',\n",
       "   'pytorch',\n",
       "   'pytorch-transformers',\n",
       "   'seq2seq',\n",
       "   'speech-recognition',\n",
       "   'tensorflow',\n",
       "   'transformer'],\n",
       "  'visibility': 'public',\n",
       "  'forks': 26247,\n",
       "  'open_issues': 1436,\n",
       "  'watchers': 131826,\n",
       "  'default_branch': 'main',\n",
       "  'score': 1.0},\n",
       " {'id': 1039520,\n",
       "  'node_id': 'MDEwOlJlcG9zaXRvcnkxMDM5NTIw',\n",
       "  'name': 'youtube-dl',\n",
       "  'full_name': 'ytdl-org/youtube-dl',\n",
       "  'private': False,\n",
       "  'owner': {'login': 'ytdl-org',\n",
       "   'id': 48381040,\n",
       "   'node_id': 'MDEyOk9yZ2FuaXphdGlvbjQ4MzgxMDQw',\n",
       "   'avatar_url': 'https://avatars.githubusercontent.com/u/48381040?v=4',\n",
       "   'gravatar_id': '',\n",
       "   'url': 'https://api.github.com/users/ytdl-org',\n",
       "   'html_url': 'https://github.com/ytdl-org',\n",
       "   'followers_url': 'https://api.github.com/users/ytdl-org/followers',\n",
       "   'following_url': 'https://api.github.com/users/ytdl-org/following{/other_user}',\n",
       "   'gists_url': 'https://api.github.com/users/ytdl-org/gists{/gist_id}',\n",
       "   'starred_url': 'https://api.github.com/users/ytdl-org/starred{/owner}{/repo}',\n",
       "   'subscriptions_url': 'https://api.github.com/users/ytdl-org/subscriptions',\n",
       "   'organizations_url': 'https://api.github.com/users/ytdl-org/orgs',\n",
       "   'repos_url': 'https://api.github.com/users/ytdl-org/repos',\n",
       "   'events_url': 'https://api.github.com/users/ytdl-org/events{/privacy}',\n",
       "   'received_events_url': 'https://api.github.com/users/ytdl-org/received_events',\n",
       "   'type': 'Organization',\n",
       "   'site_admin': False},\n",
       "  'html_url': 'https://github.com/ytdl-org/youtube-dl',\n",
       "  'description': 'Command-line program to download videos from YouTube.com and other video sites',\n",
       "  'fork': False,\n",
       "  'url': 'https://api.github.com/repos/ytdl-org/youtube-dl',\n",
       "  'forks_url': 'https://api.github.com/repos/ytdl-org/youtube-dl/forks',\n",
       "  'keys_url': 'https://api.github.com/repos/ytdl-org/youtube-dl/keys{/key_id}',\n",
       "  'collaborators_url': 'https://api.github.com/repos/ytdl-org/youtube-dl/collaborators{/collaborator}',\n",
       "  'teams_url': 'https://api.github.com/repos/ytdl-org/youtube-dl/teams',\n",
       "  'hooks_url': 'https://api.github.com/repos/ytdl-org/youtube-dl/hooks',\n",
       "  'issue_events_url': 'https://api.github.com/repos/ytdl-org/youtube-dl/issues/events{/number}',\n",
       "  'events_url': 'https://api.github.com/repos/ytdl-org/youtube-dl/events',\n",
       "  'assignees_url': 'https://api.github.com/repos/ytdl-org/youtube-dl/assignees{/user}',\n",
       "  'branches_url': 'https://api.github.com/repos/ytdl-org/youtube-dl/branches{/branch}',\n",
       "  'tags_url': 'https://api.github.com/repos/ytdl-org/youtube-dl/tags',\n",
       "  'blobs_url': 'https://api.github.com/repos/ytdl-org/youtube-dl/git/blobs{/sha}',\n",
       "  'git_tags_url': 'https://api.github.com/repos/ytdl-org/youtube-dl/git/tags{/sha}',\n",
       "  'git_refs_url': 'https://api.github.com/repos/ytdl-org/youtube-dl/git/refs{/sha}',\n",
       "  'trees_url': 'https://api.github.com/repos/ytdl-org/youtube-dl/git/trees{/sha}',\n",
       "  'statuses_url': 'https://api.github.com/repos/ytdl-org/youtube-dl/statuses/{sha}',\n",
       "  'languages_url': 'https://api.github.com/repos/ytdl-org/youtube-dl/languages',\n",
       "  'stargazers_url': 'https://api.github.com/repos/ytdl-org/youtube-dl/stargazers',\n",
       "  'contributors_url': 'https://api.github.com/repos/ytdl-org/youtube-dl/contributors',\n",
       "  'subscribers_url': 'https://api.github.com/repos/ytdl-org/youtube-dl/subscribers',\n",
       "  'subscription_url': 'https://api.github.com/repos/ytdl-org/youtube-dl/subscription',\n",
       "  'commits_url': 'https://api.github.com/repos/ytdl-org/youtube-dl/commits{/sha}',\n",
       "  'git_commits_url': 'https://api.github.com/repos/ytdl-org/youtube-dl/git/commits{/sha}',\n",
       "  'comments_url': 'https://api.github.com/repos/ytdl-org/youtube-dl/comments{/number}',\n",
       "  'issue_comment_url': 'https://api.github.com/repos/ytdl-org/youtube-dl/issues/comments{/number}',\n",
       "  'contents_url': 'https://api.github.com/repos/ytdl-org/youtube-dl/contents/{+path}',\n",
       "  'compare_url': 'https://api.github.com/repos/ytdl-org/youtube-dl/compare/{base}...{head}',\n",
       "  'merges_url': 'https://api.github.com/repos/ytdl-org/youtube-dl/merges',\n",
       "  'archive_url': 'https://api.github.com/repos/ytdl-org/youtube-dl/{archive_format}{/ref}',\n",
       "  'downloads_url': 'https://api.github.com/repos/ytdl-org/youtube-dl/downloads',\n",
       "  'issues_url': 'https://api.github.com/repos/ytdl-org/youtube-dl/issues{/number}',\n",
       "  'pulls_url': 'https://api.github.com/repos/ytdl-org/youtube-dl/pulls{/number}',\n",
       "  'milestones_url': 'https://api.github.com/repos/ytdl-org/youtube-dl/milestones{/number}',\n",
       "  'notifications_url': 'https://api.github.com/repos/ytdl-org/youtube-dl/notifications{?since,all,participating}',\n",
       "  'labels_url': 'https://api.github.com/repos/ytdl-org/youtube-dl/labels{/name}',\n",
       "  'releases_url': 'https://api.github.com/repos/ytdl-org/youtube-dl/releases{/id}',\n",
       "  'deployments_url': 'https://api.github.com/repos/ytdl-org/youtube-dl/deployments',\n",
       "  'created_at': '2010-10-31T14:35:07Z',\n",
       "  'updated_at': '2024-09-10T22:42:03Z',\n",
       "  'pushed_at': '2024-08-17T06:41:13Z',\n",
       "  'git_url': 'git://github.com/ytdl-org/youtube-dl.git',\n",
       "  'ssh_url': 'git@github.com:ytdl-org/youtube-dl.git',\n",
       "  'clone_url': 'https://github.com/ytdl-org/youtube-dl.git',\n",
       "  'svn_url': 'https://github.com/ytdl-org/youtube-dl',\n",
       "  'homepage': 'http://ytdl-org.github.io/youtube-dl/',\n",
       "  'size': 65119,\n",
       "  'stargazers_count': 131235,\n",
       "  'watchers_count': 131235,\n",
       "  'language': 'Python',\n",
       "  'has_issues': True,\n",
       "  'has_projects': True,\n",
       "  'has_downloads': True,\n",
       "  'has_wiki': False,\n",
       "  'has_pages': True,\n",
       "  'has_discussions': False,\n",
       "  'forks_count': 9932,\n",
       "  'mirror_url': None,\n",
       "  'archived': False,\n",
       "  'disabled': False,\n",
       "  'open_issues_count': 4201,\n",
       "  'license': {'key': 'unlicense',\n",
       "   'name': 'The Unlicense',\n",
       "   'spdx_id': 'Unlicense',\n",
       "   'url': 'https://api.github.com/licenses/unlicense',\n",
       "   'node_id': 'MDc6TGljZW5zZTE1'},\n",
       "  'allow_forking': True,\n",
       "  'is_template': False,\n",
       "  'web_commit_signoff_required': False,\n",
       "  'topics': [],\n",
       "  'visibility': 'public',\n",
       "  'forks': 9932,\n",
       "  'open_issues': 4201,\n",
       "  'watchers': 131235,\n",
       "  'default_branch': 'master',\n",
       "  'score': 1.0},\n",
       " {'id': 58028038,\n",
       "  'node_id': 'MDEwOlJlcG9zaXRvcnk1ODAyODAzOA==',\n",
       "  'name': 'HelloGitHub',\n",
       "  'full_name': '521xueweihan/HelloGitHub',\n",
       "  'private': False,\n",
       "  'owner': {'login': '521xueweihan',\n",
       "   'id': 8255800,\n",
       "   'node_id': 'MDQ6VXNlcjgyNTU4MDA=',\n",
       "   'avatar_url': 'https://avatars.githubusercontent.com/u/8255800?v=4',\n",
       "   'gravatar_id': '',\n",
       "   'url': 'https://api.github.com/users/521xueweihan',\n",
       "   'html_url': 'https://github.com/521xueweihan',\n",
       "   'followers_url': 'https://api.github.com/users/521xueweihan/followers',\n",
       "   'following_url': 'https://api.github.com/users/521xueweihan/following{/other_user}',\n",
       "   'gists_url': 'https://api.github.com/users/521xueweihan/gists{/gist_id}',\n",
       "   'starred_url': 'https://api.github.com/users/521xueweihan/starred{/owner}{/repo}',\n",
       "   'subscriptions_url': 'https://api.github.com/users/521xueweihan/subscriptions',\n",
       "   'organizations_url': 'https://api.github.com/users/521xueweihan/orgs',\n",
       "   'repos_url': 'https://api.github.com/users/521xueweihan/repos',\n",
       "   'events_url': 'https://api.github.com/users/521xueweihan/events{/privacy}',\n",
       "   'received_events_url': 'https://api.github.com/users/521xueweihan/received_events',\n",
       "   'type': 'User',\n",
       "   'site_admin': False},\n",
       "  'html_url': 'https://github.com/521xueweihan/HelloGitHub',\n",
       "  'description': ':octocat: 分享 GitHub 上有趣、入门级的开源项目。Share interesting, entry-level open source projects on GitHub.',\n",
       "  'fork': False,\n",
       "  'url': 'https://api.github.com/repos/521xueweihan/HelloGitHub',\n",
       "  'forks_url': 'https://api.github.com/repos/521xueweihan/HelloGitHub/forks',\n",
       "  'keys_url': 'https://api.github.com/repos/521xueweihan/HelloGitHub/keys{/key_id}',\n",
       "  'collaborators_url': 'https://api.github.com/repos/521xueweihan/HelloGitHub/collaborators{/collaborator}',\n",
       "  'teams_url': 'https://api.github.com/repos/521xueweihan/HelloGitHub/teams',\n",
       "  'hooks_url': 'https://api.github.com/repos/521xueweihan/HelloGitHub/hooks',\n",
       "  'issue_events_url': 'https://api.github.com/repos/521xueweihan/HelloGitHub/issues/events{/number}',\n",
       "  'events_url': 'https://api.github.com/repos/521xueweihan/HelloGitHub/events',\n",
       "  'assignees_url': 'https://api.github.com/repos/521xueweihan/HelloGitHub/assignees{/user}',\n",
       "  'branches_url': 'https://api.github.com/repos/521xueweihan/HelloGitHub/branches{/branch}',\n",
       "  'tags_url': 'https://api.github.com/repos/521xueweihan/HelloGitHub/tags',\n",
       "  'blobs_url': 'https://api.github.com/repos/521xueweihan/HelloGitHub/git/blobs{/sha}',\n",
       "  'git_tags_url': 'https://api.github.com/repos/521xueweihan/HelloGitHub/git/tags{/sha}',\n",
       "  'git_refs_url': 'https://api.github.com/repos/521xueweihan/HelloGitHub/git/refs{/sha}',\n",
       "  'trees_url': 'https://api.github.com/repos/521xueweihan/HelloGitHub/git/trees{/sha}',\n",
       "  'statuses_url': 'https://api.github.com/repos/521xueweihan/HelloGitHub/statuses/{sha}',\n",
       "  'languages_url': 'https://api.github.com/repos/521xueweihan/HelloGitHub/languages',\n",
       "  'stargazers_url': 'https://api.github.com/repos/521xueweihan/HelloGitHub/stargazers',\n",
       "  'contributors_url': 'https://api.github.com/repos/521xueweihan/HelloGitHub/contributors',\n",
       "  'subscribers_url': 'https://api.github.com/repos/521xueweihan/HelloGitHub/subscribers',\n",
       "  'subscription_url': 'https://api.github.com/repos/521xueweihan/HelloGitHub/subscription',\n",
       "  'commits_url': 'https://api.github.com/repos/521xueweihan/HelloGitHub/commits{/sha}',\n",
       "  'git_commits_url': 'https://api.github.com/repos/521xueweihan/HelloGitHub/git/commits{/sha}',\n",
       "  'comments_url': 'https://api.github.com/repos/521xueweihan/HelloGitHub/comments{/number}',\n",
       "  'issue_comment_url': 'https://api.github.com/repos/521xueweihan/HelloGitHub/issues/comments{/number}',\n",
       "  'contents_url': 'https://api.github.com/repos/521xueweihan/HelloGitHub/contents/{+path}',\n",
       "  'compare_url': 'https://api.github.com/repos/521xueweihan/HelloGitHub/compare/{base}...{head}',\n",
       "  'merges_url': 'https://api.github.com/repos/521xueweihan/HelloGitHub/merges',\n",
       "  'archive_url': 'https://api.github.com/repos/521xueweihan/HelloGitHub/{archive_format}{/ref}',\n",
       "  'downloads_url': 'https://api.github.com/repos/521xueweihan/HelloGitHub/downloads',\n",
       "  'issues_url': 'https://api.github.com/repos/521xueweihan/HelloGitHub/issues{/number}',\n",
       "  'pulls_url': 'https://api.github.com/repos/521xueweihan/HelloGitHub/pulls{/number}',\n",
       "  'milestones_url': 'https://api.github.com/repos/521xueweihan/HelloGitHub/milestones{/number}',\n",
       "  'notifications_url': 'https://api.github.com/repos/521xueweihan/HelloGitHub/notifications{?since,all,participating}',\n",
       "  'labels_url': 'https://api.github.com/repos/521xueweihan/HelloGitHub/labels{/name}',\n",
       "  'releases_url': 'https://api.github.com/repos/521xueweihan/HelloGitHub/releases{/id}',\n",
       "  'deployments_url': 'https://api.github.com/repos/521xueweihan/HelloGitHub/deployments',\n",
       "  'created_at': '2016-05-04T06:24:11Z',\n",
       "  'updated_at': '2024-09-10T19:42:55Z',\n",
       "  'pushed_at': '2024-09-10T12:40:06Z',\n",
       "  'git_url': 'git://github.com/521xueweihan/HelloGitHub.git',\n",
       "  'ssh_url': 'git@github.com:521xueweihan/HelloGitHub.git',\n",
       "  'clone_url': 'https://github.com/521xueweihan/HelloGitHub.git',\n",
       "  'svn_url': 'https://github.com/521xueweihan/HelloGitHub',\n",
       "  'homepage': 'https://hellogithub.com',\n",
       "  'size': 5562,\n",
       "  'stargazers_count': 90278,\n",
       "  'watchers_count': 90278,\n",
       "  'language': 'Python',\n",
       "  'has_issues': True,\n",
       "  'has_projects': True,\n",
       "  'has_downloads': True,\n",
       "  'has_wiki': False,\n",
       "  'has_pages': False,\n",
       "  'has_discussions': True,\n",
       "  'forks_count': 9554,\n",
       "  'mirror_url': None,\n",
       "  'archived': False,\n",
       "  'disabled': False,\n",
       "  'open_issues_count': 140,\n",
       "  'license': None,\n",
       "  'allow_forking': True,\n",
       "  'is_template': False,\n",
       "  'web_commit_signoff_required': False,\n",
       "  'topics': ['awesome', 'github', 'hellogithub', 'python'],\n",
       "  'visibility': 'public',\n",
       "  'forks': 9554,\n",
       "  'open_issues': 140,\n",
       "  'watchers': 90278,\n",
       "  'default_branch': 'master',\n",
       "  'score': 1.0},\n",
       " {'id': 33614304,\n",
       "  'node_id': 'MDEwOlJlcG9zaXRvcnkzMzYxNDMwNA==',\n",
       "  'name': 'thefuck',\n",
       "  'full_name': 'nvbn/thefuck',\n",
       "  'private': False,\n",
       "  'owner': {'login': 'nvbn',\n",
       "   'id': 1114542,\n",
       "   'node_id': 'MDQ6VXNlcjExMTQ1NDI=',\n",
       "   'avatar_url': 'https://avatars.githubusercontent.com/u/1114542?v=4',\n",
       "   'gravatar_id': '',\n",
       "   'url': 'https://api.github.com/users/nvbn',\n",
       "   'html_url': 'https://github.com/nvbn',\n",
       "   'followers_url': 'https://api.github.com/users/nvbn/followers',\n",
       "   'following_url': 'https://api.github.com/users/nvbn/following{/other_user}',\n",
       "   'gists_url': 'https://api.github.com/users/nvbn/gists{/gist_id}',\n",
       "   'starred_url': 'https://api.github.com/users/nvbn/starred{/owner}{/repo}',\n",
       "   'subscriptions_url': 'https://api.github.com/users/nvbn/subscriptions',\n",
       "   'organizations_url': 'https://api.github.com/users/nvbn/orgs',\n",
       "   'repos_url': 'https://api.github.com/users/nvbn/repos',\n",
       "   'events_url': 'https://api.github.com/users/nvbn/events{/privacy}',\n",
       "   'received_events_url': 'https://api.github.com/users/nvbn/received_events',\n",
       "   'type': 'User',\n",
       "   'site_admin': False},\n",
       "  'html_url': 'https://github.com/nvbn/thefuck',\n",
       "  'description': 'Magnificent app which corrects your previous console command.',\n",
       "  'fork': False,\n",
       "  'url': 'https://api.github.com/repos/nvbn/thefuck',\n",
       "  'forks_url': 'https://api.github.com/repos/nvbn/thefuck/forks',\n",
       "  'keys_url': 'https://api.github.com/repos/nvbn/thefuck/keys{/key_id}',\n",
       "  'collaborators_url': 'https://api.github.com/repos/nvbn/thefuck/collaborators{/collaborator}',\n",
       "  'teams_url': 'https://api.github.com/repos/nvbn/thefuck/teams',\n",
       "  'hooks_url': 'https://api.github.com/repos/nvbn/thefuck/hooks',\n",
       "  'issue_events_url': 'https://api.github.com/repos/nvbn/thefuck/issues/events{/number}',\n",
       "  'events_url': 'https://api.github.com/repos/nvbn/thefuck/events',\n",
       "  'assignees_url': 'https://api.github.com/repos/nvbn/thefuck/assignees{/user}',\n",
       "  'branches_url': 'https://api.github.com/repos/nvbn/thefuck/branches{/branch}',\n",
       "  'tags_url': 'https://api.github.com/repos/nvbn/thefuck/tags',\n",
       "  'blobs_url': 'https://api.github.com/repos/nvbn/thefuck/git/blobs{/sha}',\n",
       "  'git_tags_url': 'https://api.github.com/repos/nvbn/thefuck/git/tags{/sha}',\n",
       "  'git_refs_url': 'https://api.github.com/repos/nvbn/thefuck/git/refs{/sha}',\n",
       "  'trees_url': 'https://api.github.com/repos/nvbn/thefuck/git/trees{/sha}',\n",
       "  'statuses_url': 'https://api.github.com/repos/nvbn/thefuck/statuses/{sha}',\n",
       "  'languages_url': 'https://api.github.com/repos/nvbn/thefuck/languages',\n",
       "  'stargazers_url': 'https://api.github.com/repos/nvbn/thefuck/stargazers',\n",
       "  'contributors_url': 'https://api.github.com/repos/nvbn/thefuck/contributors',\n",
       "  'subscribers_url': 'https://api.github.com/repos/nvbn/thefuck/subscribers',\n",
       "  'subscription_url': 'https://api.github.com/repos/nvbn/thefuck/subscription',\n",
       "  'commits_url': 'https://api.github.com/repos/nvbn/thefuck/commits{/sha}',\n",
       "  'git_commits_url': 'https://api.github.com/repos/nvbn/thefuck/git/commits{/sha}',\n",
       "  'comments_url': 'https://api.github.com/repos/nvbn/thefuck/comments{/number}',\n",
       "  'issue_comment_url': 'https://api.github.com/repos/nvbn/thefuck/issues/comments{/number}',\n",
       "  'contents_url': 'https://api.github.com/repos/nvbn/thefuck/contents/{+path}',\n",
       "  'compare_url': 'https://api.github.com/repos/nvbn/thefuck/compare/{base}...{head}',\n",
       "  'merges_url': 'https://api.github.com/repos/nvbn/thefuck/merges',\n",
       "  'archive_url': 'https://api.github.com/repos/nvbn/thefuck/{archive_format}{/ref}',\n",
       "  'downloads_url': 'https://api.github.com/repos/nvbn/thefuck/downloads',\n",
       "  'issues_url': 'https://api.github.com/repos/nvbn/thefuck/issues{/number}',\n",
       "  'pulls_url': 'https://api.github.com/repos/nvbn/thefuck/pulls{/number}',\n",
       "  'milestones_url': 'https://api.github.com/repos/nvbn/thefuck/milestones{/number}',\n",
       "  'notifications_url': 'https://api.github.com/repos/nvbn/thefuck/notifications{?since,all,participating}',\n",
       "  'labels_url': 'https://api.github.com/repos/nvbn/thefuck/labels{/name}',\n",
       "  'releases_url': 'https://api.github.com/repos/nvbn/thefuck/releases{/id}',\n",
       "  'deployments_url': 'https://api.github.com/repos/nvbn/thefuck/deployments',\n",
       "  'created_at': '2015-04-08T15:08:04Z',\n",
       "  'updated_at': '2024-09-10T22:34:21Z',\n",
       "  'pushed_at': '2024-07-19T14:56:13Z',\n",
       "  'git_url': 'git://github.com/nvbn/thefuck.git',\n",
       "  'ssh_url': 'git@github.com:nvbn/thefuck.git',\n",
       "  'clone_url': 'https://github.com/nvbn/thefuck.git',\n",
       "  'svn_url': 'https://github.com/nvbn/thefuck',\n",
       "  'homepage': '',\n",
       "  'size': 4043,\n",
       "  'stargazers_count': 84655,\n",
       "  'watchers_count': 84655,\n",
       "  'language': 'Python',\n",
       "  'has_issues': True,\n",
       "  'has_projects': True,\n",
       "  'has_downloads': True,\n",
       "  'has_wiki': True,\n",
       "  'has_pages': False,\n",
       "  'has_discussions': False,\n",
       "  'forks_count': 3425,\n",
       "  'mirror_url': None,\n",
       "  'archived': False,\n",
       "  'disabled': False,\n",
       "  'open_issues_count': 350,\n",
       "  'license': {'key': 'mit',\n",
       "   'name': 'MIT License',\n",
       "   'spdx_id': 'MIT',\n",
       "   'url': 'https://api.github.com/licenses/mit',\n",
       "   'node_id': 'MDc6TGljZW5zZTEz'},\n",
       "  'allow_forking': True,\n",
       "  'is_template': False,\n",
       "  'web_commit_signoff_required': False,\n",
       "  'topics': ['python', 'shell'],\n",
       "  'visibility': 'public',\n",
       "  'forks': 3425,\n",
       "  'open_issues': 350,\n",
       "  'watchers': 84655,\n",
       "  'default_branch': 'master',\n",
       "  'score': 1.0},\n",
       " {'id': 307260205,\n",
       "  'node_id': 'MDEwOlJlcG9zaXRvcnkzMDcyNjAyMDU=',\n",
       "  'name': 'yt-dlp',\n",
       "  'full_name': 'yt-dlp/yt-dlp',\n",
       "  'private': False,\n",
       "  'owner': {'login': 'yt-dlp',\n",
       "   'id': 79589310,\n",
       "   'node_id': 'MDEyOk9yZ2FuaXphdGlvbjc5NTg5MzEw',\n",
       "   'avatar_url': 'https://avatars.githubusercontent.com/u/79589310?v=4',\n",
       "   'gravatar_id': '',\n",
       "   'url': 'https://api.github.com/users/yt-dlp',\n",
       "   'html_url': 'https://github.com/yt-dlp',\n",
       "   'followers_url': 'https://api.github.com/users/yt-dlp/followers',\n",
       "   'following_url': 'https://api.github.com/users/yt-dlp/following{/other_user}',\n",
       "   'gists_url': 'https://api.github.com/users/yt-dlp/gists{/gist_id}',\n",
       "   'starred_url': 'https://api.github.com/users/yt-dlp/starred{/owner}{/repo}',\n",
       "   'subscriptions_url': 'https://api.github.com/users/yt-dlp/subscriptions',\n",
       "   'organizations_url': 'https://api.github.com/users/yt-dlp/orgs',\n",
       "   'repos_url': 'https://api.github.com/users/yt-dlp/repos',\n",
       "   'events_url': 'https://api.github.com/users/yt-dlp/events{/privacy}',\n",
       "   'received_events_url': 'https://api.github.com/users/yt-dlp/received_events',\n",
       "   'type': 'Organization',\n",
       "   'site_admin': False},\n",
       "  'html_url': 'https://github.com/yt-dlp/yt-dlp',\n",
       "  'description': 'A feature-rich command-line audio/video downloader',\n",
       "  'fork': False,\n",
       "  'url': 'https://api.github.com/repos/yt-dlp/yt-dlp',\n",
       "  'forks_url': 'https://api.github.com/repos/yt-dlp/yt-dlp/forks',\n",
       "  'keys_url': 'https://api.github.com/repos/yt-dlp/yt-dlp/keys{/key_id}',\n",
       "  'collaborators_url': 'https://api.github.com/repos/yt-dlp/yt-dlp/collaborators{/collaborator}',\n",
       "  'teams_url': 'https://api.github.com/repos/yt-dlp/yt-dlp/teams',\n",
       "  'hooks_url': 'https://api.github.com/repos/yt-dlp/yt-dlp/hooks',\n",
       "  'issue_events_url': 'https://api.github.com/repos/yt-dlp/yt-dlp/issues/events{/number}',\n",
       "  'events_url': 'https://api.github.com/repos/yt-dlp/yt-dlp/events',\n",
       "  'assignees_url': 'https://api.github.com/repos/yt-dlp/yt-dlp/assignees{/user}',\n",
       "  'branches_url': 'https://api.github.com/repos/yt-dlp/yt-dlp/branches{/branch}',\n",
       "  'tags_url': 'https://api.github.com/repos/yt-dlp/yt-dlp/tags',\n",
       "  'blobs_url': 'https://api.github.com/repos/yt-dlp/yt-dlp/git/blobs{/sha}',\n",
       "  'git_tags_url': 'https://api.github.com/repos/yt-dlp/yt-dlp/git/tags{/sha}',\n",
       "  'git_refs_url': 'https://api.github.com/repos/yt-dlp/yt-dlp/git/refs{/sha}',\n",
       "  'trees_url': 'https://api.github.com/repos/yt-dlp/yt-dlp/git/trees{/sha}',\n",
       "  'statuses_url': 'https://api.github.com/repos/yt-dlp/yt-dlp/statuses/{sha}',\n",
       "  'languages_url': 'https://api.github.com/repos/yt-dlp/yt-dlp/languages',\n",
       "  'stargazers_url': 'https://api.github.com/repos/yt-dlp/yt-dlp/stargazers',\n",
       "  'contributors_url': 'https://api.github.com/repos/yt-dlp/yt-dlp/contributors',\n",
       "  'subscribers_url': 'https://api.github.com/repos/yt-dlp/yt-dlp/subscribers',\n",
       "  'subscription_url': 'https://api.github.com/repos/yt-dlp/yt-dlp/subscription',\n",
       "  'commits_url': 'https://api.github.com/repos/yt-dlp/yt-dlp/commits{/sha}',\n",
       "  'git_commits_url': 'https://api.github.com/repos/yt-dlp/yt-dlp/git/commits{/sha}',\n",
       "  'comments_url': 'https://api.github.com/repos/yt-dlp/yt-dlp/comments{/number}',\n",
       "  'issue_comment_url': 'https://api.github.com/repos/yt-dlp/yt-dlp/issues/comments{/number}',\n",
       "  'contents_url': 'https://api.github.com/repos/yt-dlp/yt-dlp/contents/{+path}',\n",
       "  'compare_url': 'https://api.github.com/repos/yt-dlp/yt-dlp/compare/{base}...{head}',\n",
       "  'merges_url': 'https://api.github.com/repos/yt-dlp/yt-dlp/merges',\n",
       "  'archive_url': 'https://api.github.com/repos/yt-dlp/yt-dlp/{archive_format}{/ref}',\n",
       "  'downloads_url': 'https://api.github.com/repos/yt-dlp/yt-dlp/downloads',\n",
       "  'issues_url': 'https://api.github.com/repos/yt-dlp/yt-dlp/issues{/number}',\n",
       "  'pulls_url': 'https://api.github.com/repos/yt-dlp/yt-dlp/pulls{/number}',\n",
       "  'milestones_url': 'https://api.github.com/repos/yt-dlp/yt-dlp/milestones{/number}',\n",
       "  'notifications_url': 'https://api.github.com/repos/yt-dlp/yt-dlp/notifications{?since,all,participating}',\n",
       "  'labels_url': 'https://api.github.com/repos/yt-dlp/yt-dlp/labels{/name}',\n",
       "  'releases_url': 'https://api.github.com/repos/yt-dlp/yt-dlp/releases{/id}',\n",
       "  'deployments_url': 'https://api.github.com/repos/yt-dlp/yt-dlp/deployments',\n",
       "  'created_at': '2020-10-26T04:22:55Z',\n",
       "  'updated_at': '2024-09-10T22:42:12Z',\n",
       "  'pushed_at': '2024-09-08T07:32:44Z',\n",
       "  'git_url': 'git://github.com/yt-dlp/yt-dlp.git',\n",
       "  'ssh_url': 'git@github.com:yt-dlp/yt-dlp.git',\n",
       "  'clone_url': 'https://github.com/yt-dlp/yt-dlp.git',\n",
       "  'svn_url': 'https://github.com/yt-dlp/yt-dlp',\n",
       "  'homepage': 'https://discord.gg/H5MNcFW63r',\n",
       "  'size': 50332,\n",
       "  'stargazers_count': 82124,\n",
       "  'watchers_count': 82124,\n",
       "  'language': 'Python',\n",
       "  'has_issues': True,\n",
       "  'has_projects': True,\n",
       "  'has_downloads': True,\n",
       "  'has_wiki': True,\n",
       "  'has_pages': True,\n",
       "  'has_discussions': True,\n",
       "  'forks_count': 6406,\n",
       "  'mirror_url': None,\n",
       "  'archived': False,\n",
       "  'disabled': False,\n",
       "  'open_issues_count': 1712,\n",
       "  'license': {'key': 'unlicense',\n",
       "   'name': 'The Unlicense',\n",
       "   'spdx_id': 'Unlicense',\n",
       "   'url': 'https://api.github.com/licenses/unlicense',\n",
       "   'node_id': 'MDc6TGljZW5zZTE1'},\n",
       "  'allow_forking': True,\n",
       "  'is_template': False,\n",
       "  'web_commit_signoff_required': False,\n",
       "  'topics': ['python',\n",
       "   'sponskrub',\n",
       "   'sponsorblock',\n",
       "   'video-downloader',\n",
       "   'youtube-dl',\n",
       "   'youtube-dlc',\n",
       "   'youtube-downloader',\n",
       "   'yt-dlp'],\n",
       "  'visibility': 'public',\n",
       "  'forks': 6406,\n",
       "  'open_issues': 1712,\n",
       "  'watchers': 82124,\n",
       "  'default_branch': 'master',\n",
       "  'score': 1.0},\n",
       " {'id': 65600975,\n",
       "  'node_id': 'MDEwOlJlcG9zaXRvcnk2NTYwMDk3NQ==',\n",
       "  'name': 'pytorch',\n",
       "  'full_name': 'pytorch/pytorch',\n",
       "  'private': False,\n",
       "  'owner': {'login': 'pytorch',\n",
       "   'id': 21003710,\n",
       "   'node_id': 'MDEyOk9yZ2FuaXphdGlvbjIxMDAzNzEw',\n",
       "   'avatar_url': 'https://avatars.githubusercontent.com/u/21003710?v=4',\n",
       "   'gravatar_id': '',\n",
       "   'url': 'https://api.github.com/users/pytorch',\n",
       "   'html_url': 'https://github.com/pytorch',\n",
       "   'followers_url': 'https://api.github.com/users/pytorch/followers',\n",
       "   'following_url': 'https://api.github.com/users/pytorch/following{/other_user}',\n",
       "   'gists_url': 'https://api.github.com/users/pytorch/gists{/gist_id}',\n",
       "   'starred_url': 'https://api.github.com/users/pytorch/starred{/owner}{/repo}',\n",
       "   'subscriptions_url': 'https://api.github.com/users/pytorch/subscriptions',\n",
       "   'organizations_url': 'https://api.github.com/users/pytorch/orgs',\n",
       "   'repos_url': 'https://api.github.com/users/pytorch/repos',\n",
       "   'events_url': 'https://api.github.com/users/pytorch/events{/privacy}',\n",
       "   'received_events_url': 'https://api.github.com/users/pytorch/received_events',\n",
       "   'type': 'Organization',\n",
       "   'site_admin': False},\n",
       "  'html_url': 'https://github.com/pytorch/pytorch',\n",
       "  'description': 'Tensors and Dynamic neural networks in Python with strong GPU acceleration',\n",
       "  'fork': False,\n",
       "  'url': 'https://api.github.com/repos/pytorch/pytorch',\n",
       "  'forks_url': 'https://api.github.com/repos/pytorch/pytorch/forks',\n",
       "  'keys_url': 'https://api.github.com/repos/pytorch/pytorch/keys{/key_id}',\n",
       "  'collaborators_url': 'https://api.github.com/repos/pytorch/pytorch/collaborators{/collaborator}',\n",
       "  'teams_url': 'https://api.github.com/repos/pytorch/pytorch/teams',\n",
       "  'hooks_url': 'https://api.github.com/repos/pytorch/pytorch/hooks',\n",
       "  'issue_events_url': 'https://api.github.com/repos/pytorch/pytorch/issues/events{/number}',\n",
       "  'events_url': 'https://api.github.com/repos/pytorch/pytorch/events',\n",
       "  'assignees_url': 'https://api.github.com/repos/pytorch/pytorch/assignees{/user}',\n",
       "  'branches_url': 'https://api.github.com/repos/pytorch/pytorch/branches{/branch}',\n",
       "  'tags_url': 'https://api.github.com/repos/pytorch/pytorch/tags',\n",
       "  'blobs_url': 'https://api.github.com/repos/pytorch/pytorch/git/blobs{/sha}',\n",
       "  'git_tags_url': 'https://api.github.com/repos/pytorch/pytorch/git/tags{/sha}',\n",
       "  'git_refs_url': 'https://api.github.com/repos/pytorch/pytorch/git/refs{/sha}',\n",
       "  'trees_url': 'https://api.github.com/repos/pytorch/pytorch/git/trees{/sha}',\n",
       "  'statuses_url': 'https://api.github.com/repos/pytorch/pytorch/statuses/{sha}',\n",
       "  'languages_url': 'https://api.github.com/repos/pytorch/pytorch/languages',\n",
       "  'stargazers_url': 'https://api.github.com/repos/pytorch/pytorch/stargazers',\n",
       "  'contributors_url': 'https://api.github.com/repos/pytorch/pytorch/contributors',\n",
       "  'subscribers_url': 'https://api.github.com/repos/pytorch/pytorch/subscribers',\n",
       "  'subscription_url': 'https://api.github.com/repos/pytorch/pytorch/subscription',\n",
       "  'commits_url': 'https://api.github.com/repos/pytorch/pytorch/commits{/sha}',\n",
       "  'git_commits_url': 'https://api.github.com/repos/pytorch/pytorch/git/commits{/sha}',\n",
       "  'comments_url': 'https://api.github.com/repos/pytorch/pytorch/comments{/number}',\n",
       "  'issue_comment_url': 'https://api.github.com/repos/pytorch/pytorch/issues/comments{/number}',\n",
       "  'contents_url': 'https://api.github.com/repos/pytorch/pytorch/contents/{+path}',\n",
       "  'compare_url': 'https://api.github.com/repos/pytorch/pytorch/compare/{base}...{head}',\n",
       "  'merges_url': 'https://api.github.com/repos/pytorch/pytorch/merges',\n",
       "  'archive_url': 'https://api.github.com/repos/pytorch/pytorch/{archive_format}{/ref}',\n",
       "  'downloads_url': 'https://api.github.com/repos/pytorch/pytorch/downloads',\n",
       "  'issues_url': 'https://api.github.com/repos/pytorch/pytorch/issues{/number}',\n",
       "  'pulls_url': 'https://api.github.com/repos/pytorch/pytorch/pulls{/number}',\n",
       "  'milestones_url': 'https://api.github.com/repos/pytorch/pytorch/milestones{/number}',\n",
       "  'notifications_url': 'https://api.github.com/repos/pytorch/pytorch/notifications{?since,all,participating}',\n",
       "  'labels_url': 'https://api.github.com/repos/pytorch/pytorch/labels{/name}',\n",
       "  'releases_url': 'https://api.github.com/repos/pytorch/pytorch/releases{/id}',\n",
       "  'deployments_url': 'https://api.github.com/repos/pytorch/pytorch/deployments',\n",
       "  'created_at': '2016-08-13T05:26:41Z',\n",
       "  'updated_at': '2024-09-10T22:41:56Z',\n",
       "  'pushed_at': '2024-09-10T22:42:25Z',\n",
       "  'git_url': 'git://github.com/pytorch/pytorch.git',\n",
       "  'ssh_url': 'git@github.com:pytorch/pytorch.git',\n",
       "  'clone_url': 'https://github.com/pytorch/pytorch.git',\n",
       "  'svn_url': 'https://github.com/pytorch/pytorch',\n",
       "  'homepage': 'https://pytorch.org',\n",
       "  'size': 1011747,\n",
       "  'stargazers_count': 82043,\n",
       "  'watchers_count': 82043,\n",
       "  'language': 'Python',\n",
       "  'has_issues': True,\n",
       "  'has_projects': True,\n",
       "  'has_downloads': True,\n",
       "  'has_wiki': True,\n",
       "  'has_pages': False,\n",
       "  'has_discussions': False,\n",
       "  'forks_count': 22033,\n",
       "  'mirror_url': None,\n",
       "  'archived': False,\n",
       "  'disabled': False,\n",
       "  'open_issues_count': 14875,\n",
       "  'license': {'key': 'other',\n",
       "   'name': 'Other',\n",
       "   'spdx_id': 'NOASSERTION',\n",
       "   'url': None,\n",
       "   'node_id': 'MDc6TGljZW5zZTA='},\n",
       "  'allow_forking': True,\n",
       "  'is_template': False,\n",
       "  'web_commit_signoff_required': False,\n",
       "  'topics': ['autograd',\n",
       "   'deep-learning',\n",
       "   'gpu',\n",
       "   'machine-learning',\n",
       "   'neural-network',\n",
       "   'numpy',\n",
       "   'python',\n",
       "   'tensor'],\n",
       "  'visibility': 'public',\n",
       "  'forks': 22033,\n",
       "  'open_issues': 14875,\n",
       "  'watchers': 82043,\n",
       "  'default_branch': 'main',\n",
       "  'score': 1.0},\n",
       " {'id': 4164482,\n",
       "  'node_id': 'MDEwOlJlcG9zaXRvcnk0MTY0NDgy',\n",
       "  'name': 'django',\n",
       "  'full_name': 'django/django',\n",
       "  'private': False,\n",
       "  'owner': {'login': 'django',\n",
       "   'id': 27804,\n",
       "   'node_id': 'MDEyOk9yZ2FuaXphdGlvbjI3ODA0',\n",
       "   'avatar_url': 'https://avatars.githubusercontent.com/u/27804?v=4',\n",
       "   'gravatar_id': '',\n",
       "   'url': 'https://api.github.com/users/django',\n",
       "   'html_url': 'https://github.com/django',\n",
       "   'followers_url': 'https://api.github.com/users/django/followers',\n",
       "   'following_url': 'https://api.github.com/users/django/following{/other_user}',\n",
       "   'gists_url': 'https://api.github.com/users/django/gists{/gist_id}',\n",
       "   'starred_url': 'https://api.github.com/users/django/starred{/owner}{/repo}',\n",
       "   'subscriptions_url': 'https://api.github.com/users/django/subscriptions',\n",
       "   'organizations_url': 'https://api.github.com/users/django/orgs',\n",
       "   'repos_url': 'https://api.github.com/users/django/repos',\n",
       "   'events_url': 'https://api.github.com/users/django/events{/privacy}',\n",
       "   'received_events_url': 'https://api.github.com/users/django/received_events',\n",
       "   'type': 'Organization',\n",
       "   'site_admin': False},\n",
       "  'html_url': 'https://github.com/django/django',\n",
       "  'description': 'The Web framework for perfectionists with deadlines.',\n",
       "  'fork': False,\n",
       "  'url': 'https://api.github.com/repos/django/django',\n",
       "  'forks_url': 'https://api.github.com/repos/django/django/forks',\n",
       "  'keys_url': 'https://api.github.com/repos/django/django/keys{/key_id}',\n",
       "  'collaborators_url': 'https://api.github.com/repos/django/django/collaborators{/collaborator}',\n",
       "  'teams_url': 'https://api.github.com/repos/django/django/teams',\n",
       "  'hooks_url': 'https://api.github.com/repos/django/django/hooks',\n",
       "  'issue_events_url': 'https://api.github.com/repos/django/django/issues/events{/number}',\n",
       "  'events_url': 'https://api.github.com/repos/django/django/events',\n",
       "  'assignees_url': 'https://api.github.com/repos/django/django/assignees{/user}',\n",
       "  'branches_url': 'https://api.github.com/repos/django/django/branches{/branch}',\n",
       "  'tags_url': 'https://api.github.com/repos/django/django/tags',\n",
       "  'blobs_url': 'https://api.github.com/repos/django/django/git/blobs{/sha}',\n",
       "  'git_tags_url': 'https://api.github.com/repos/django/django/git/tags{/sha}',\n",
       "  'git_refs_url': 'https://api.github.com/repos/django/django/git/refs{/sha}',\n",
       "  'trees_url': 'https://api.github.com/repos/django/django/git/trees{/sha}',\n",
       "  'statuses_url': 'https://api.github.com/repos/django/django/statuses/{sha}',\n",
       "  'languages_url': 'https://api.github.com/repos/django/django/languages',\n",
       "  'stargazers_url': 'https://api.github.com/repos/django/django/stargazers',\n",
       "  'contributors_url': 'https://api.github.com/repos/django/django/contributors',\n",
       "  'subscribers_url': 'https://api.github.com/repos/django/django/subscribers',\n",
       "  'subscription_url': 'https://api.github.com/repos/django/django/subscription',\n",
       "  'commits_url': 'https://api.github.com/repos/django/django/commits{/sha}',\n",
       "  'git_commits_url': 'https://api.github.com/repos/django/django/git/commits{/sha}',\n",
       "  'comments_url': 'https://api.github.com/repos/django/django/comments{/number}',\n",
       "  'issue_comment_url': 'https://api.github.com/repos/django/django/issues/comments{/number}',\n",
       "  'contents_url': 'https://api.github.com/repos/django/django/contents/{+path}',\n",
       "  'compare_url': 'https://api.github.com/repos/django/django/compare/{base}...{head}',\n",
       "  'merges_url': 'https://api.github.com/repos/django/django/merges',\n",
       "  'archive_url': 'https://api.github.com/repos/django/django/{archive_format}{/ref}',\n",
       "  'downloads_url': 'https://api.github.com/repos/django/django/downloads',\n",
       "  'issues_url': 'https://api.github.com/repos/django/django/issues{/number}',\n",
       "  'pulls_url': 'https://api.github.com/repos/django/django/pulls{/number}',\n",
       "  'milestones_url': 'https://api.github.com/repos/django/django/milestones{/number}',\n",
       "  'notifications_url': 'https://api.github.com/repos/django/django/notifications{?since,all,participating}',\n",
       "  'labels_url': 'https://api.github.com/repos/django/django/labels{/name}',\n",
       "  'releases_url': 'https://api.github.com/repos/django/django/releases{/id}',\n",
       "  'deployments_url': 'https://api.github.com/repos/django/django/deployments',\n",
       "  'created_at': '2012-04-28T02:47:18Z',\n",
       "  'updated_at': '2024-09-10T21:02:28Z',\n",
       "  'pushed_at': '2024-09-10T08:49:20Z',\n",
       "  'git_url': 'git://github.com/django/django.git',\n",
       "  'ssh_url': 'git@github.com:django/django.git',\n",
       "  'clone_url': 'https://github.com/django/django.git',\n",
       "  'svn_url': 'https://github.com/django/django',\n",
       "  'homepage': 'https://www.djangoproject.com/',\n",
       "  'size': 262940,\n",
       "  'stargazers_count': 79102,\n",
       "  'watchers_count': 79102,\n",
       "  'language': 'Python',\n",
       "  'has_issues': False,\n",
       "  'has_projects': False,\n",
       "  'has_downloads': True,\n",
       "  'has_wiki': False,\n",
       "  'has_pages': False,\n",
       "  'has_discussions': False,\n",
       "  'forks_count': 31520,\n",
       "  'mirror_url': None,\n",
       "  'archived': False,\n",
       "  'disabled': False,\n",
       "  'open_issues_count': 256,\n",
       "  'license': {'key': 'bsd-3-clause',\n",
       "   'name': 'BSD 3-Clause \"New\" or \"Revised\" License',\n",
       "   'spdx_id': 'BSD-3-Clause',\n",
       "   'url': 'https://api.github.com/licenses/bsd-3-clause',\n",
       "   'node_id': 'MDc6TGljZW5zZTU='},\n",
       "  'allow_forking': True,\n",
       "  'is_template': False,\n",
       "  'web_commit_signoff_required': False,\n",
       "  'topics': ['apps',\n",
       "   'django',\n",
       "   'framework',\n",
       "   'models',\n",
       "   'orm',\n",
       "   'python',\n",
       "   'templates',\n",
       "   'views',\n",
       "   'web'],\n",
       "  'visibility': 'public',\n",
       "  'forks': 31520,\n",
       "  'open_issues': 256,\n",
       "  'watchers': 79102,\n",
       "  'default_branch': 'main',\n",
       "  'score': 1.0},\n",
       " {'id': 51117837,\n",
       "  'node_id': 'MDEwOlJlcG9zaXRvcnk1MTExNzgzNw==',\n",
       "  'name': 'models',\n",
       "  'full_name': 'tensorflow/models',\n",
       "  'private': False,\n",
       "  'owner': {'login': 'tensorflow',\n",
       "   'id': 15658638,\n",
       "   'node_id': 'MDEyOk9yZ2FuaXphdGlvbjE1NjU4NjM4',\n",
       "   'avatar_url': 'https://avatars.githubusercontent.com/u/15658638?v=4',\n",
       "   'gravatar_id': '',\n",
       "   'url': 'https://api.github.com/users/tensorflow',\n",
       "   'html_url': 'https://github.com/tensorflow',\n",
       "   'followers_url': 'https://api.github.com/users/tensorflow/followers',\n",
       "   'following_url': 'https://api.github.com/users/tensorflow/following{/other_user}',\n",
       "   'gists_url': 'https://api.github.com/users/tensorflow/gists{/gist_id}',\n",
       "   'starred_url': 'https://api.github.com/users/tensorflow/starred{/owner}{/repo}',\n",
       "   'subscriptions_url': 'https://api.github.com/users/tensorflow/subscriptions',\n",
       "   'organizations_url': 'https://api.github.com/users/tensorflow/orgs',\n",
       "   'repos_url': 'https://api.github.com/users/tensorflow/repos',\n",
       "   'events_url': 'https://api.github.com/users/tensorflow/events{/privacy}',\n",
       "   'received_events_url': 'https://api.github.com/users/tensorflow/received_events',\n",
       "   'type': 'Organization',\n",
       "   'site_admin': False},\n",
       "  'html_url': 'https://github.com/tensorflow/models',\n",
       "  'description': 'Models and examples built with TensorFlow',\n",
       "  'fork': False,\n",
       "  'url': 'https://api.github.com/repos/tensorflow/models',\n",
       "  'forks_url': 'https://api.github.com/repos/tensorflow/models/forks',\n",
       "  'keys_url': 'https://api.github.com/repos/tensorflow/models/keys{/key_id}',\n",
       "  'collaborators_url': 'https://api.github.com/repos/tensorflow/models/collaborators{/collaborator}',\n",
       "  'teams_url': 'https://api.github.com/repos/tensorflow/models/teams',\n",
       "  'hooks_url': 'https://api.github.com/repos/tensorflow/models/hooks',\n",
       "  'issue_events_url': 'https://api.github.com/repos/tensorflow/models/issues/events{/number}',\n",
       "  'events_url': 'https://api.github.com/repos/tensorflow/models/events',\n",
       "  'assignees_url': 'https://api.github.com/repos/tensorflow/models/assignees{/user}',\n",
       "  'branches_url': 'https://api.github.com/repos/tensorflow/models/branches{/branch}',\n",
       "  'tags_url': 'https://api.github.com/repos/tensorflow/models/tags',\n",
       "  'blobs_url': 'https://api.github.com/repos/tensorflow/models/git/blobs{/sha}',\n",
       "  'git_tags_url': 'https://api.github.com/repos/tensorflow/models/git/tags{/sha}',\n",
       "  'git_refs_url': 'https://api.github.com/repos/tensorflow/models/git/refs{/sha}',\n",
       "  'trees_url': 'https://api.github.com/repos/tensorflow/models/git/trees{/sha}',\n",
       "  'statuses_url': 'https://api.github.com/repos/tensorflow/models/statuses/{sha}',\n",
       "  'languages_url': 'https://api.github.com/repos/tensorflow/models/languages',\n",
       "  'stargazers_url': 'https://api.github.com/repos/tensorflow/models/stargazers',\n",
       "  'contributors_url': 'https://api.github.com/repos/tensorflow/models/contributors',\n",
       "  'subscribers_url': 'https://api.github.com/repos/tensorflow/models/subscribers',\n",
       "  'subscription_url': 'https://api.github.com/repos/tensorflow/models/subscription',\n",
       "  'commits_url': 'https://api.github.com/repos/tensorflow/models/commits{/sha}',\n",
       "  'git_commits_url': 'https://api.github.com/repos/tensorflow/models/git/commits{/sha}',\n",
       "  'comments_url': 'https://api.github.com/repos/tensorflow/models/comments{/number}',\n",
       "  'issue_comment_url': 'https://api.github.com/repos/tensorflow/models/issues/comments{/number}',\n",
       "  'contents_url': 'https://api.github.com/repos/tensorflow/models/contents/{+path}',\n",
       "  'compare_url': 'https://api.github.com/repos/tensorflow/models/compare/{base}...{head}',\n",
       "  'merges_url': 'https://api.github.com/repos/tensorflow/models/merges',\n",
       "  'archive_url': 'https://api.github.com/repos/tensorflow/models/{archive_format}{/ref}',\n",
       "  'downloads_url': 'https://api.github.com/repos/tensorflow/models/downloads',\n",
       "  'issues_url': 'https://api.github.com/repos/tensorflow/models/issues{/number}',\n",
       "  'pulls_url': 'https://api.github.com/repos/tensorflow/models/pulls{/number}',\n",
       "  'milestones_url': 'https://api.github.com/repos/tensorflow/models/milestones{/number}',\n",
       "  'notifications_url': 'https://api.github.com/repos/tensorflow/models/notifications{?since,all,participating}',\n",
       "  'labels_url': 'https://api.github.com/repos/tensorflow/models/labels{/name}',\n",
       "  'releases_url': 'https://api.github.com/repos/tensorflow/models/releases{/id}',\n",
       "  'deployments_url': 'https://api.github.com/repos/tensorflow/models/deployments',\n",
       "  'created_at': '2016-02-05T01:15:20Z',\n",
       "  'updated_at': '2024-09-10T18:56:42Z',\n",
       "  'pushed_at': '2024-09-10T06:24:28Z',\n",
       "  'git_url': 'git://github.com/tensorflow/models.git',\n",
       "  'ssh_url': 'git@github.com:tensorflow/models.git',\n",
       "  'clone_url': 'https://github.com/tensorflow/models.git',\n",
       "  'svn_url': 'https://github.com/tensorflow/models',\n",
       "  'homepage': '',\n",
       "  'size': 636511,\n",
       "  'stargazers_count': 76946,\n",
       "  'watchers_count': 76946,\n",
       "  'language': 'Python',\n",
       "  'has_issues': True,\n",
       "  'has_projects': True,\n",
       "  'has_downloads': True,\n",
       "  'has_wiki': True,\n",
       "  'has_pages': False,\n",
       "  'has_discussions': True,\n",
       "  'forks_count': 45794,\n",
       "  'mirror_url': None,\n",
       "  'archived': False,\n",
       "  'disabled': False,\n",
       "  'open_issues_count': 1251,\n",
       "  'license': {'key': 'other',\n",
       "   'name': 'Other',\n",
       "   'spdx_id': 'NOASSERTION',\n",
       "   'url': None,\n",
       "   'node_id': 'MDc6TGljZW5zZTA='},\n",
       "  'allow_forking': True,\n",
       "  'is_template': False,\n",
       "  'web_commit_signoff_required': False,\n",
       "  'topics': [],\n",
       "  'visibility': 'public',\n",
       "  'forks': 45794,\n",
       "  'open_issues': 1251,\n",
       "  'watchers': 76946,\n",
       "  'default_branch': 'master',\n",
       "  'score': 1.0},\n",
       " {'id': 160919119,\n",
       "  'node_id': 'MDEwOlJlcG9zaXRvcnkxNjA5MTkxMTk=',\n",
       "  'name': 'fastapi',\n",
       "  'full_name': 'fastapi/fastapi',\n",
       "  'private': False,\n",
       "  'owner': {'login': 'fastapi',\n",
       "   'id': 156354296,\n",
       "   'node_id': 'O_kgDOCVHG-A',\n",
       "   'avatar_url': 'https://avatars.githubusercontent.com/u/156354296?v=4',\n",
       "   'gravatar_id': '',\n",
       "   'url': 'https://api.github.com/users/fastapi',\n",
       "   'html_url': 'https://github.com/fastapi',\n",
       "   'followers_url': 'https://api.github.com/users/fastapi/followers',\n",
       "   'following_url': 'https://api.github.com/users/fastapi/following{/other_user}',\n",
       "   'gists_url': 'https://api.github.com/users/fastapi/gists{/gist_id}',\n",
       "   'starred_url': 'https://api.github.com/users/fastapi/starred{/owner}{/repo}',\n",
       "   'subscriptions_url': 'https://api.github.com/users/fastapi/subscriptions',\n",
       "   'organizations_url': 'https://api.github.com/users/fastapi/orgs',\n",
       "   'repos_url': 'https://api.github.com/users/fastapi/repos',\n",
       "   'events_url': 'https://api.github.com/users/fastapi/events{/privacy}',\n",
       "   'received_events_url': 'https://api.github.com/users/fastapi/received_events',\n",
       "   'type': 'Organization',\n",
       "   'site_admin': False},\n",
       "  'html_url': 'https://github.com/fastapi/fastapi',\n",
       "  'description': 'FastAPI framework, high performance, easy to learn, fast to code, ready for production',\n",
       "  'fork': False,\n",
       "  'url': 'https://api.github.com/repos/fastapi/fastapi',\n",
       "  'forks_url': 'https://api.github.com/repos/fastapi/fastapi/forks',\n",
       "  'keys_url': 'https://api.github.com/repos/fastapi/fastapi/keys{/key_id}',\n",
       "  'collaborators_url': 'https://api.github.com/repos/fastapi/fastapi/collaborators{/collaborator}',\n",
       "  'teams_url': 'https://api.github.com/repos/fastapi/fastapi/teams',\n",
       "  'hooks_url': 'https://api.github.com/repos/fastapi/fastapi/hooks',\n",
       "  'issue_events_url': 'https://api.github.com/repos/fastapi/fastapi/issues/events{/number}',\n",
       "  'events_url': 'https://api.github.com/repos/fastapi/fastapi/events',\n",
       "  'assignees_url': 'https://api.github.com/repos/fastapi/fastapi/assignees{/user}',\n",
       "  'branches_url': 'https://api.github.com/repos/fastapi/fastapi/branches{/branch}',\n",
       "  'tags_url': 'https://api.github.com/repos/fastapi/fastapi/tags',\n",
       "  'blobs_url': 'https://api.github.com/repos/fastapi/fastapi/git/blobs{/sha}',\n",
       "  'git_tags_url': 'https://api.github.com/repos/fastapi/fastapi/git/tags{/sha}',\n",
       "  'git_refs_url': 'https://api.github.com/repos/fastapi/fastapi/git/refs{/sha}',\n",
       "  'trees_url': 'https://api.github.com/repos/fastapi/fastapi/git/trees{/sha}',\n",
       "  'statuses_url': 'https://api.github.com/repos/fastapi/fastapi/statuses/{sha}',\n",
       "  'languages_url': 'https://api.github.com/repos/fastapi/fastapi/languages',\n",
       "  'stargazers_url': 'https://api.github.com/repos/fastapi/fastapi/stargazers',\n",
       "  'contributors_url': 'https://api.github.com/repos/fastapi/fastapi/contributors',\n",
       "  'subscribers_url': 'https://api.github.com/repos/fastapi/fastapi/subscribers',\n",
       "  'subscription_url': 'https://api.github.com/repos/fastapi/fastapi/subscription',\n",
       "  'commits_url': 'https://api.github.com/repos/fastapi/fastapi/commits{/sha}',\n",
       "  'git_commits_url': 'https://api.github.com/repos/fastapi/fastapi/git/commits{/sha}',\n",
       "  'comments_url': 'https://api.github.com/repos/fastapi/fastapi/comments{/number}',\n",
       "  'issue_comment_url': 'https://api.github.com/repos/fastapi/fastapi/issues/comments{/number}',\n",
       "  'contents_url': 'https://api.github.com/repos/fastapi/fastapi/contents/{+path}',\n",
       "  'compare_url': 'https://api.github.com/repos/fastapi/fastapi/compare/{base}...{head}',\n",
       "  'merges_url': 'https://api.github.com/repos/fastapi/fastapi/merges',\n",
       "  'archive_url': 'https://api.github.com/repos/fastapi/fastapi/{archive_format}{/ref}',\n",
       "  'downloads_url': 'https://api.github.com/repos/fastapi/fastapi/downloads',\n",
       "  'issues_url': 'https://api.github.com/repos/fastapi/fastapi/issues{/number}',\n",
       "  'pulls_url': 'https://api.github.com/repos/fastapi/fastapi/pulls{/number}',\n",
       "  'milestones_url': 'https://api.github.com/repos/fastapi/fastapi/milestones{/number}',\n",
       "  'notifications_url': 'https://api.github.com/repos/fastapi/fastapi/notifications{?since,all,participating}',\n",
       "  'labels_url': 'https://api.github.com/repos/fastapi/fastapi/labels{/name}',\n",
       "  'releases_url': 'https://api.github.com/repos/fastapi/fastapi/releases{/id}',\n",
       "  'deployments_url': 'https://api.github.com/repos/fastapi/fastapi/deployments',\n",
       "  'created_at': '2018-12-08T08:21:47Z',\n",
       "  'updated_at': '2024-09-10T22:23:28Z',\n",
       "  'pushed_at': '2024-09-10T10:40:53Z',\n",
       "  'git_url': 'git://github.com/fastapi/fastapi.git',\n",
       "  'ssh_url': 'git@github.com:fastapi/fastapi.git',\n",
       "  'clone_url': 'https://github.com/fastapi/fastapi.git',\n",
       "  'svn_url': 'https://github.com/fastapi/fastapi',\n",
       "  'homepage': 'https://fastapi.tiangolo.com/',\n",
       "  'size': 23288,\n",
       "  'stargazers_count': 75465,\n",
       "  'watchers_count': 75465,\n",
       "  'language': 'Python',\n",
       "  'has_issues': True,\n",
       "  'has_projects': True,\n",
       "  'has_downloads': True,\n",
       "  'has_wiki': True,\n",
       "  'has_pages': False,\n",
       "  'has_discussions': True,\n",
       "  'forks_count': 6369,\n",
       "  'mirror_url': None,\n",
       "  'archived': False,\n",
       "  'disabled': False,\n",
       "  'open_issues_count': 309,\n",
       "  'license': {'key': 'mit',\n",
       "   'name': 'MIT License',\n",
       "   'spdx_id': 'MIT',\n",
       "   'url': 'https://api.github.com/licenses/mit',\n",
       "   'node_id': 'MDc6TGljZW5zZTEz'},\n",
       "  'allow_forking': True,\n",
       "  'is_template': False,\n",
       "  'web_commit_signoff_required': False,\n",
       "  'topics': ['api',\n",
       "   'async',\n",
       "   'asyncio',\n",
       "   'fastapi',\n",
       "   'framework',\n",
       "   'json',\n",
       "   'json-schema',\n",
       "   'openapi',\n",
       "   'openapi3',\n",
       "   'pydantic',\n",
       "   'python',\n",
       "   'python-types',\n",
       "   'python3',\n",
       "   'redoc',\n",
       "   'rest',\n",
       "   'starlette',\n",
       "   'swagger',\n",
       "   'swagger-ui',\n",
       "   'uvicorn',\n",
       "   'web'],\n",
       "  'visibility': 'public',\n",
       "  'forks': 6369,\n",
       "  'open_issues': 309,\n",
       "  'watchers': 75465,\n",
       "  'default_branch': 'master',\n",
       "  'score': 1.0},\n",
       " {'id': 12888993,\n",
       "  'node_id': 'MDEwOlJlcG9zaXRvcnkxMjg4ODk5Mw==',\n",
       "  'name': 'core',\n",
       "  'full_name': 'home-assistant/core',\n",
       "  'private': False,\n",
       "  'owner': {'login': 'home-assistant',\n",
       "   'id': 13844975,\n",
       "   'node_id': 'MDEyOk9yZ2FuaXphdGlvbjEzODQ0OTc1',\n",
       "   'avatar_url': 'https://avatars.githubusercontent.com/u/13844975?v=4',\n",
       "   'gravatar_id': '',\n",
       "   'url': 'https://api.github.com/users/home-assistant',\n",
       "   'html_url': 'https://github.com/home-assistant',\n",
       "   'followers_url': 'https://api.github.com/users/home-assistant/followers',\n",
       "   'following_url': 'https://api.github.com/users/home-assistant/following{/other_user}',\n",
       "   'gists_url': 'https://api.github.com/users/home-assistant/gists{/gist_id}',\n",
       "   'starred_url': 'https://api.github.com/users/home-assistant/starred{/owner}{/repo}',\n",
       "   'subscriptions_url': 'https://api.github.com/users/home-assistant/subscriptions',\n",
       "   'organizations_url': 'https://api.github.com/users/home-assistant/orgs',\n",
       "   'repos_url': 'https://api.github.com/users/home-assistant/repos',\n",
       "   'events_url': 'https://api.github.com/users/home-assistant/events{/privacy}',\n",
       "   'received_events_url': 'https://api.github.com/users/home-assistant/received_events',\n",
       "   'type': 'Organization',\n",
       "   'site_admin': False},\n",
       "  'html_url': 'https://github.com/home-assistant/core',\n",
       "  'description': ':house_with_garden: Open source home automation that puts local control and privacy first.',\n",
       "  'fork': False,\n",
       "  'url': 'https://api.github.com/repos/home-assistant/core',\n",
       "  'forks_url': 'https://api.github.com/repos/home-assistant/core/forks',\n",
       "  'keys_url': 'https://api.github.com/repos/home-assistant/core/keys{/key_id}',\n",
       "  'collaborators_url': 'https://api.github.com/repos/home-assistant/core/collaborators{/collaborator}',\n",
       "  'teams_url': 'https://api.github.com/repos/home-assistant/core/teams',\n",
       "  'hooks_url': 'https://api.github.com/repos/home-assistant/core/hooks',\n",
       "  'issue_events_url': 'https://api.github.com/repos/home-assistant/core/issues/events{/number}',\n",
       "  'events_url': 'https://api.github.com/repos/home-assistant/core/events',\n",
       "  'assignees_url': 'https://api.github.com/repos/home-assistant/core/assignees{/user}',\n",
       "  'branches_url': 'https://api.github.com/repos/home-assistant/core/branches{/branch}',\n",
       "  'tags_url': 'https://api.github.com/repos/home-assistant/core/tags',\n",
       "  'blobs_url': 'https://api.github.com/repos/home-assistant/core/git/blobs{/sha}',\n",
       "  'git_tags_url': 'https://api.github.com/repos/home-assistant/core/git/tags{/sha}',\n",
       "  'git_refs_url': 'https://api.github.com/repos/home-assistant/core/git/refs{/sha}',\n",
       "  'trees_url': 'https://api.github.com/repos/home-assistant/core/git/trees{/sha}',\n",
       "  'statuses_url': 'https://api.github.com/repos/home-assistant/core/statuses/{sha}',\n",
       "  'languages_url': 'https://api.github.com/repos/home-assistant/core/languages',\n",
       "  'stargazers_url': 'https://api.github.com/repos/home-assistant/core/stargazers',\n",
       "  'contributors_url': 'https://api.github.com/repos/home-assistant/core/contributors',\n",
       "  'subscribers_url': 'https://api.github.com/repos/home-assistant/core/subscribers',\n",
       "  'subscription_url': 'https://api.github.com/repos/home-assistant/core/subscription',\n",
       "  'commits_url': 'https://api.github.com/repos/home-assistant/core/commits{/sha}',\n",
       "  'git_commits_url': 'https://api.github.com/repos/home-assistant/core/git/commits{/sha}',\n",
       "  'comments_url': 'https://api.github.com/repos/home-assistant/core/comments{/number}',\n",
       "  'issue_comment_url': 'https://api.github.com/repos/home-assistant/core/issues/comments{/number}',\n",
       "  'contents_url': 'https://api.github.com/repos/home-assistant/core/contents/{+path}',\n",
       "  'compare_url': 'https://api.github.com/repos/home-assistant/core/compare/{base}...{head}',\n",
       "  'merges_url': 'https://api.github.com/repos/home-assistant/core/merges',\n",
       "  'archive_url': 'https://api.github.com/repos/home-assistant/core/{archive_format}{/ref}',\n",
       "  'downloads_url': 'https://api.github.com/repos/home-assistant/core/downloads',\n",
       "  'issues_url': 'https://api.github.com/repos/home-assistant/core/issues{/number}',\n",
       "  'pulls_url': 'https://api.github.com/repos/home-assistant/core/pulls{/number}',\n",
       "  'milestones_url': 'https://api.github.com/repos/home-assistant/core/milestones{/number}',\n",
       "  'notifications_url': 'https://api.github.com/repos/home-assistant/core/notifications{?since,all,participating}',\n",
       "  'labels_url': 'https://api.github.com/repos/home-assistant/core/labels{/name}',\n",
       "  'releases_url': 'https://api.github.com/repos/home-assistant/core/releases{/id}',\n",
       "  'deployments_url': 'https://api.github.com/repos/home-assistant/core/deployments',\n",
       "  'created_at': '2013-09-17T07:29:48Z',\n",
       "  'updated_at': '2024-09-10T22:12:18Z',\n",
       "  'pushed_at': '2024-09-10T22:12:09Z',\n",
       "  'git_url': 'git://github.com/home-assistant/core.git',\n",
       "  'ssh_url': 'git@github.com:home-assistant/core.git',\n",
       "  'clone_url': 'https://github.com/home-assistant/core.git',\n",
       "  'svn_url': 'https://github.com/home-assistant/core',\n",
       "  'homepage': 'https://www.home-assistant.io',\n",
       "  'size': 650591,\n",
       "  'stargazers_count': 71096,\n",
       "  'watchers_count': 71096,\n",
       "  'language': 'Python',\n",
       "  'has_issues': True,\n",
       "  'has_projects': True,\n",
       "  'has_downloads': True,\n",
       "  'has_wiki': False,\n",
       "  'has_pages': False,\n",
       "  'has_discussions': False,\n",
       "  'forks_count': 29776,\n",
       "  'mirror_url': None,\n",
       "  'archived': False,\n",
       "  'disabled': False,\n",
       "  'open_issues_count': 2623,\n",
       "  'license': {'key': 'apache-2.0',\n",
       "   'name': 'Apache License 2.0',\n",
       "   'spdx_id': 'Apache-2.0',\n",
       "   'url': 'https://api.github.com/licenses/apache-2.0',\n",
       "   'node_id': 'MDc6TGljZW5zZTI='},\n",
       "  'allow_forking': True,\n",
       "  'is_template': False,\n",
       "  'web_commit_signoff_required': False,\n",
       "  'topics': ['asyncio',\n",
       "   'hacktoberfest',\n",
       "   'home-automation',\n",
       "   'internet-of-things',\n",
       "   'iot',\n",
       "   'mqtt',\n",
       "   'python',\n",
       "   'raspberry-pi'],\n",
       "  'visibility': 'public',\n",
       "  'forks': 29776,\n",
       "  'open_issues': 2623,\n",
       "  'watchers': 71096,\n",
       "  'default_branch': 'dev',\n",
       "  'score': 1.0},\n",
       " {'id': 145553672,\n",
       "  'node_id': 'MDEwOlJlcG9zaXRvcnkxNDU1NTM2NzI=',\n",
       "  'name': 'funNLP',\n",
       "  'full_name': 'fighting41love/funNLP',\n",
       "  'private': False,\n",
       "  'owner': {'login': 'fighting41love',\n",
       "   'id': 11475294,\n",
       "   'node_id': 'MDQ6VXNlcjExNDc1Mjk0',\n",
       "   'avatar_url': 'https://avatars.githubusercontent.com/u/11475294?v=4',\n",
       "   'gravatar_id': '',\n",
       "   'url': 'https://api.github.com/users/fighting41love',\n",
       "   'html_url': 'https://github.com/fighting41love',\n",
       "   'followers_url': 'https://api.github.com/users/fighting41love/followers',\n",
       "   'following_url': 'https://api.github.com/users/fighting41love/following{/other_user}',\n",
       "   'gists_url': 'https://api.github.com/users/fighting41love/gists{/gist_id}',\n",
       "   'starred_url': 'https://api.github.com/users/fighting41love/starred{/owner}{/repo}',\n",
       "   'subscriptions_url': 'https://api.github.com/users/fighting41love/subscriptions',\n",
       "   'organizations_url': 'https://api.github.com/users/fighting41love/orgs',\n",
       "   'repos_url': 'https://api.github.com/users/fighting41love/repos',\n",
       "   'events_url': 'https://api.github.com/users/fighting41love/events{/privacy}',\n",
       "   'received_events_url': 'https://api.github.com/users/fighting41love/received_events',\n",
       "   'type': 'User',\n",
       "   'site_admin': False},\n",
       "  'html_url': 'https://github.com/fighting41love/funNLP',\n",
       "  'description': '中英文敏感词、语言检测、中外手机/电话归属地/运营商查询、名字推断性别、手机号抽取、身份证抽取、邮箱抽取、中日文人名库、中文缩写库、拆字词典、词汇情感值、停用词、反动词表、暴恐词表、繁简体转换、英文模拟中文发音、汪峰歌词生成器、职业名称词库、同义词库、反义词库、否定词库、汽车品牌词库、汽车零件词库、连续英文切割、各种中文词向量、公司名字大全、古诗词库、IT词库、财经词库、成语词库、地名词库、历史名人词库、诗词词库、医学词库、饮食词库、法律词库、汽车词库、动物词库、中文聊天语料、中文谣言数据、百度中文问答数据集、句子相似度匹配算法集合、bert资源、文本生成&摘要相关工具、cocoNLP信息抽取工具、国内电话号码正则匹配、清华大学XLORE:中英文跨语言百科知识图谱、清华大学人工智能技术系列报告、自然语言生成、NLU太难了系列、自动对联数据及机器人、用户名黑名单列表、罪名法务名词及分类模型、微信公众号语料、cs224n深度学习自然语言处理课程、中文手写汉字识别、中文自然语言处理 语料/数据集、变量命名神器、分词语料库+代码、任务型对话英文数据集、ASR 语音数据集 + 基于深度学习的中文语音识别系统、笑声检测器、Microsoft多语言数字/单位/如日期时间识别包、中华新华字典数据库及api(包括常用歇后语、成语、词语和汉字)、文档图谱自动生成、SpaCy 中文模型、Common Voice语音识别数据集新版、神经网络关系抽取、基于bert的命名实体识别、关键词(Keyphrase)抽取包pke、基于医疗领域知识图谱的问答系统、基于依存句法与语义角色标注的事件三元组抽取、依存句法分析4万句高质量标注数据、cnocr：用来做中文OCR的Python3包、中文人物关系知识图谱项目、中文nlp竞赛项目及代码汇总、中文字符数据、speech-aligner: 从“人声语音”及其“语言文本”产生音素级别时间对齐标注的工具、AmpliGraph: 知识图谱表示学习(Python)库：知识图谱概念链接预测、Scattertext 文本可视化(python)、语言/知识表示工具：BERT & ERNIE、中文对比英文自然语言处理NLP的区别综述、Synonyms中文近义词工具包、HarvestText领域自适应文本挖掘工具（新词发现-情感分析-实体链接等）、word2word：(Python)方便易用的多语言词-词对集：62种语言/3,564个多语言对、语音识别语料生成工具：从具有音频/字幕的在线视频创建自动语音识别(ASR)语料库、构建医疗实体识别的模型（包含词典和语料标注）、单文档非监督的关键词抽取、Kashgari中使用gpt-2语言模型、开源的金融投资数据提取工具、文本自动摘要库TextTeaser: 仅支持英文、人民日报语料处理工具集、一些关于自然语言的基本模型、基于14W歌曲知识库的问答尝试--功能包括歌词接龙and已知歌词找歌曲以及歌曲歌手歌词三角关系的问答、基于Siamese bilstm模型的相似句子判定模型并提供训练数据集和测试数据集、用Transformer编解码模型实现的根据Hacker News文章标题自动生成评论、用BERT进行序列标记和文本分类的模板代码、LitBank：NLP数据集——支持自然语言处理和计算人文学科任务的100部带标记英文小说语料、百度开源的基准信息抽取系统、虚假新闻数据集、Facebook: LAMA语言模型分析，提供Transformer-XL/BERT/ELMo/GPT预训练语言模型的统一访问接口、CommonsenseQA：面向常识的英文QA挑战、中文知识图谱资料、数据及工具、各大公司内部里大牛分享的技术文档 PDF 或者 PPT、自然语言生成SQL语句（英文）、中文NLP数据增强（EDA）工具、英文NLP数据增强工具 、基于医药知识图谱的智能问答系统、京东商品知识图谱、基于mongodb存储的军事领域知识图谱问答项目、基于远监督的中文关系抽取、语音情感分析、中文ULMFiT-情感分析-文本分类-语料及模型、一个拍照做题程序、世界各国大规模人名库、一个利用有趣中文语料库 qingyun 训练出来的中文聊天机器人、中文聊天机器人seqGAN、省市区镇行政区划数据带拼音标注、教育行业新闻语料库包含自动文摘功能、开放了对话机器人-知识图谱-语义理解-自然语言处理工具及数据、中文知识图谱：基于百度百科中文页面-抽取三元组信息-构建中文知识图谱、masr: 中文语音识别-提供预训练模型-高识别率、Python音频数据增广库、中文全词覆盖BERT及两份阅读理解数据、ConvLab：开源多域端到端对话系统平台、中文自然语言处理数据集、基于最新版本rasa搭建的对话系统、基于TensorFlow和BERT的管道式实体及关系抽取、一个小型的证券知识图谱/知识库、复盘所有NLP比赛的TOP方案、OpenCLaP：多领域开源中文预训练语言模型仓库、UER：基于不同语料+编码器+目标任务的中文预训练模型仓库、中文自然语言处理向量合集、基于金融-司法领域(兼有闲聊性质)的聊天机器人、g2pC：基于上下文的汉语读音自动标记模块、Zincbase 知识图谱构建工具包、诗歌质量评价/细粒度情感诗歌语料库、快速转化「中文数字」和「阿拉伯数字」、百度知道问答语料库、基于知识图谱的问答系统、jieba_fast 加速版的jieba、正则表达式教程、中文阅读理解数据集、基于BERT等最新语言模型的抽取式摘要提取、Python利用深度学习进行文本摘要的综合指南、知识图谱深度学习相关资料整理、维基大规模平行文本语料、StanfordNLP 0.2.0：纯Python版自然语言处理包、NeuralNLP-NeuralClassifier：腾讯开源深度学习文本分类工具、端到端的封闭域对话系统、中文命名实体识别：NeuroNER vs. BertNER、新闻事件线索抽取、2019年百度的三元组抽取比赛：“科学空间队”源码、基于依存句法的开放域文本知识三元组抽取和知识库构建、中文的GPT2训练代码、ML-NLP - 机器学习(Machine Learning)NLP面试中常考到的知识点和代码实现、nlp4han:中文自然语言处理工具集(断句/分词/词性标注/组块/句法分析/语义分析/NER/N元语法/HMM/代词消解/情感分析/拼写检查、XLM：Facebook的跨语言预训练语言模型、用基于BERT的微调和特征提取方法来进行知识图谱百度百科人物词条属性抽取、中文自然语言处理相关的开放任务-数据集-当前最佳结果、CoupletAI - 基于CNN+Bi-LSTM+Attention 的自动对对联系统、抽象知识图谱、MiningZhiDaoQACorpus - 580万百度知道问答数据挖掘项目、brat rapid annotation tool: 序列标注工具、大规模中文知识图谱数据：1.4亿实体、数据增强在机器翻译及其他nlp任务中的应用及效果、allennlp阅读理解:支持多种数据和模型、PDF表格数据提取工具 、 Graphbrain：AI开源软件库和科研工具，目的是促进自动意义提取和文本理解以及知识的探索和推断、简历自动筛选系统、基于命名实体识别的简历自动摘要、中文语言理解测评基准，包括代表性的数据集&基准模型&语料库&排行榜、树洞 OCR 文字识别 、从包含表格的扫描图片中识别表格和文字、语声迁移、Python口语自然语言处理工具集(英文)、 similarity：相似度计算工具包，java编写、海量中文预训练ALBERT模型 、Transformers 2.0 、基于大规模音频数据集Audioset的音频增强 、Poplar：网页版自然语言标注工具、图片文字去除，可用于漫画翻译 、186种语言的数字叫法库、Amazon发布基于知识的人-人开放领域对话数据集 、中文文本纠错模块代码、繁简体转换 、 Python实现的多种文本可读性评价指标、类似于人名/地名/组织机构名的命名体识别数据集 、东南大学《知识图谱》研究生课程(资料)、. 英文拼写检查库 、 wwsearch是企业微信后台自研的全文检索引擎、CHAMELEON：深度学习新闻推荐系统元架构 、 8篇论文梳理BERT相关模型进展与反思、DocSearch：免费文档搜索引擎、 LIDA：轻量交互式对话标注工具 、aili - the fastest in-memory index in the East 东半球最快并发索引 、知识图谱车音工作项目、自然语言生成资源大全 、中日韩分词库mecab的Python接口库、中文文本摘要/关键词提取、汉字字符特征提取器 (featurizer)，提取汉字的特征（发音特征、字形特征）用做深度学习的特征、中文生成任务基准测评 、中文缩写数据集、中文任务基准测评 - 代表性的数据集-基准(预训练)模型-语料库-baseline-工具包-排行榜、PySS3：面向可解释AI的SS3文本分类器机器可视化工具 、中文NLP数据集列表、COPE - 格律诗编辑程序、doccano：基于网页的开源协同多语言文本标注工具 、PreNLP：自然语言预处理库、简单的简历解析器，用来从简历中提取关键信息、用于中文闲聊的GPT2模型：GPT2-chitchat、基于检索聊天机器人多轮响应选择相关资源列表(Leaderboards、Datasets、Papers)、(Colab)抽象文本摘要实现集锦(教程 、词语拼音数据、高效模糊搜索工具、NLP数据增广资源集、微软对话机器人框架 、 GitHub Typo Corpus：大规模GitHub多语言拼写错误/语法错误数据集、TextCluster：短文本聚类预处理模块 Short text cluster、面向语音识别的中文文本规范化、BLINK：最先进的实体链接库、BertPunc：基于BERT的最先进标点修复模型、Tokenizer：快速、可定制的文本词条化库、中文语言理解测评基准，包括代表性的数据集、基准(预训练)模型、语料库、排行榜、spaCy 医学文本挖掘与信息提取 、 NLP任务示例项目代码集、 python拼写检查库、chatbot-list - 行业内关于智能客服、聊天机器人的应用和架构、算法分享和介绍、语音质量评价指标(MOSNet, BSSEval, STOI, PESQ, SRMR)、 用138GB语料训练的法文RoBERTa预训练语言模型 、BERT-NER-Pytorch：三种不同模式的BERT中文NER实验、无道词典 - 有道词典的命令行版本，支持英汉互查和在线查询、2019年NLP亮点回顾、 Chinese medical dialogue data 中文医疗对话数据集 、最好的汉字数字(中文数字)-阿拉伯数字转换工具、 基于百科知识库的中文词语多词义/义项获取与特定句子词语语义消歧、awesome-nlp-sentiment-analysis - 情感分析、情绪原因识别、评价对象和评价词抽取、LineFlow：面向所有深度学习框架的NLP数据高效加载器、中文医学NLP公开资源整理 、MedQuAD：(英文)医学问答数据集、将自然语言数字串解析转换为整数和浮点数、Transfer Learning in Natural Language Processing (NLP) 、面向语音识别的中文/英文发音辞典、Tokenizers：注重性能与多功能性的最先进分词器、CLUENER 细粒度命名实体识别 Fine Grained Named Entity Recognition、 基于BERT的中文命名实体识别、中文谣言数据库、NLP数据集/基准任务大列表、nlp相关的一些论文及代码, 包括主题模型、词向量(Word Embedding)、命名实体识别(NER)、文本分类(Text Classificatin)、文本生成(Text Generation)、文本相似性(Text Similarity)计算等，涉及到各种与nlp相关的算法，基于keras和tensorflow 、Python文本挖掘/NLP实战示例、 Blackstone：面向非结构化法律文本的spaCy pipeline和NLP模型通过同义词替换实现文本“变脸” 、中文 预训练 ELECTREA 模型: 基于对抗学习 pretrain Chinese Model 、albert-chinese-ner - 用预训练语言模型ALBERT做中文NER 、基于GPT2的特定主题文本生成/文本增广、开源预训练语言模型合集、多语言句向量包、编码、标记和实现：一种可控高效的文本生成方法、 英文脏话大列表 、attnvis：GPT2、BERT等transformer语言模型注意力交互可视化、CoVoST：Facebook发布的多语种语音-文本翻译语料库，包括11种语言(法语、德语、荷兰语、俄语、西班牙语、意大利语、土耳其语、波斯语、瑞典语、蒙古语和中文)的语音、文字转录及英文译文、Jiagu自然语言处理工具 - 以BiLSTM等模型为基础，提供知识图谱关系抽取 中文分词 词性标注 命名实体识别 情感分析 新词发现 关键词 文本摘要 文本聚类等功能、用unet实现对文档表格的自动检测，表格重建、NLP事件提取文献资源列表 、 金融领域自然语言处理研究资源大列表、CLUEDatasetSearch - 中英文NLP数据集：搜索所有中文NLP数据集，附常用英文NLP数据集 、medical_NER - 中文医学知识图谱命名实体识别 、(哈佛)讲因果推理的免费书、知识图谱相关学习资料/数据集/工具资源大列表、Forte：灵活强大的自然语言处理pipeline工具集 、Python字符串相似性算法库、PyLaia：面向手写文档分析的深度学习工具包、TextFooler：针对文本分类/推理的对抗文本生成模块、Haystack：灵活、强大的可扩展问答(QA)框架、中文关键短语抽取工具',\n",
       "  'fork': False,\n",
       "  'url': 'https://api.github.com/repos/fighting41love/funNLP',\n",
       "  'forks_url': 'https://api.github.com/repos/fighting41love/funNLP/forks',\n",
       "  'keys_url': 'https://api.github.com/repos/fighting41love/funNLP/keys{/key_id}',\n",
       "  'collaborators_url': 'https://api.github.com/repos/fighting41love/funNLP/collaborators{/collaborator}',\n",
       "  'teams_url': 'https://api.github.com/repos/fighting41love/funNLP/teams',\n",
       "  'hooks_url': 'https://api.github.com/repos/fighting41love/funNLP/hooks',\n",
       "  'issue_events_url': 'https://api.github.com/repos/fighting41love/funNLP/issues/events{/number}',\n",
       "  'events_url': 'https://api.github.com/repos/fighting41love/funNLP/events',\n",
       "  'assignees_url': 'https://api.github.com/repos/fighting41love/funNLP/assignees{/user}',\n",
       "  'branches_url': 'https://api.github.com/repos/fighting41love/funNLP/branches{/branch}',\n",
       "  'tags_url': 'https://api.github.com/repos/fighting41love/funNLP/tags',\n",
       "  'blobs_url': 'https://api.github.com/repos/fighting41love/funNLP/git/blobs{/sha}',\n",
       "  'git_tags_url': 'https://api.github.com/repos/fighting41love/funNLP/git/tags{/sha}',\n",
       "  'git_refs_url': 'https://api.github.com/repos/fighting41love/funNLP/git/refs{/sha}',\n",
       "  'trees_url': 'https://api.github.com/repos/fighting41love/funNLP/git/trees{/sha}',\n",
       "  'statuses_url': 'https://api.github.com/repos/fighting41love/funNLP/statuses/{sha}',\n",
       "  'languages_url': 'https://api.github.com/repos/fighting41love/funNLP/languages',\n",
       "  'stargazers_url': 'https://api.github.com/repos/fighting41love/funNLP/stargazers',\n",
       "  'contributors_url': 'https://api.github.com/repos/fighting41love/funNLP/contributors',\n",
       "  'subscribers_url': 'https://api.github.com/repos/fighting41love/funNLP/subscribers',\n",
       "  'subscription_url': 'https://api.github.com/repos/fighting41love/funNLP/subscription',\n",
       "  'commits_url': 'https://api.github.com/repos/fighting41love/funNLP/commits{/sha}',\n",
       "  'git_commits_url': 'https://api.github.com/repos/fighting41love/funNLP/git/commits{/sha}',\n",
       "  'comments_url': 'https://api.github.com/repos/fighting41love/funNLP/comments{/number}',\n",
       "  'issue_comment_url': 'https://api.github.com/repos/fighting41love/funNLP/issues/comments{/number}',\n",
       "  'contents_url': 'https://api.github.com/repos/fighting41love/funNLP/contents/{+path}',\n",
       "  'compare_url': 'https://api.github.com/repos/fighting41love/funNLP/compare/{base}...{head}',\n",
       "  'merges_url': 'https://api.github.com/repos/fighting41love/funNLP/merges',\n",
       "  'archive_url': 'https://api.github.com/repos/fighting41love/funNLP/{archive_format}{/ref}',\n",
       "  'downloads_url': 'https://api.github.com/repos/fighting41love/funNLP/downloads',\n",
       "  'issues_url': 'https://api.github.com/repos/fighting41love/funNLP/issues{/number}',\n",
       "  'pulls_url': 'https://api.github.com/repos/fighting41love/funNLP/pulls{/number}',\n",
       "  'milestones_url': 'https://api.github.com/repos/fighting41love/funNLP/milestones{/number}',\n",
       "  'notifications_url': 'https://api.github.com/repos/fighting41love/funNLP/notifications{?since,all,participating}',\n",
       "  'labels_url': 'https://api.github.com/repos/fighting41love/funNLP/labels{/name}',\n",
       "  'releases_url': 'https://api.github.com/repos/fighting41love/funNLP/releases{/id}',\n",
       "  'deployments_url': 'https://api.github.com/repos/fighting41love/funNLP/deployments',\n",
       "  'created_at': '2018-08-21T11:20:39Z',\n",
       "  'updated_at': '2024-09-10T22:38:45Z',\n",
       "  'pushed_at': '2024-05-10T07:38:24Z',\n",
       "  'git_url': 'git://github.com/fighting41love/funNLP.git',\n",
       "  'ssh_url': 'git@github.com:fighting41love/funNLP.git',\n",
       "  'clone_url': 'https://github.com/fighting41love/funNLP.git',\n",
       "  'svn_url': 'https://github.com/fighting41love/funNLP',\n",
       "  'homepage': 'https://zhuanlan.zhihu.com/yangyangfuture',\n",
       "  'size': 174188,\n",
       "  'stargazers_count': 67562,\n",
       "  'watchers_count': 67562,\n",
       "  'language': 'Python',\n",
       "  'has_issues': True,\n",
       "  'has_projects': True,\n",
       "  'has_downloads': True,\n",
       "  'has_wiki': True,\n",
       "  'has_pages': False,\n",
       "  'has_discussions': False,\n",
       "  'forks_count': 14393,\n",
       "  'mirror_url': None,\n",
       "  'archived': False,\n",
       "  'disabled': False,\n",
       "  'open_issues_count': 156,\n",
       "  'license': None,\n",
       "  'allow_forking': True,\n",
       "  'is_template': False,\n",
       "  'web_commit_signoff_required': False,\n",
       "  'topics': [],\n",
       "  'visibility': 'public',\n",
       "  'forks': 14393,\n",
       "  'open_issues': 156,\n",
       "  'watchers': 67562,\n",
       "  'default_branch': 'master',\n",
       "  'score': 1.0},\n",
       " {'id': 596892,\n",
       "  'node_id': 'MDEwOlJlcG9zaXRvcnk1OTY4OTI=',\n",
       "  'name': 'flask',\n",
       "  'full_name': 'pallets/flask',\n",
       "  'private': False,\n",
       "  'owner': {'login': 'pallets',\n",
       "   'id': 16748505,\n",
       "   'node_id': 'MDEyOk9yZ2FuaXphdGlvbjE2NzQ4NTA1',\n",
       "   'avatar_url': 'https://avatars.githubusercontent.com/u/16748505?v=4',\n",
       "   'gravatar_id': '',\n",
       "   'url': 'https://api.github.com/users/pallets',\n",
       "   'html_url': 'https://github.com/pallets',\n",
       "   'followers_url': 'https://api.github.com/users/pallets/followers',\n",
       "   'following_url': 'https://api.github.com/users/pallets/following{/other_user}',\n",
       "   'gists_url': 'https://api.github.com/users/pallets/gists{/gist_id}',\n",
       "   'starred_url': 'https://api.github.com/users/pallets/starred{/owner}{/repo}',\n",
       "   'subscriptions_url': 'https://api.github.com/users/pallets/subscriptions',\n",
       "   'organizations_url': 'https://api.github.com/users/pallets/orgs',\n",
       "   'repos_url': 'https://api.github.com/users/pallets/repos',\n",
       "   'events_url': 'https://api.github.com/users/pallets/events{/privacy}',\n",
       "   'received_events_url': 'https://api.github.com/users/pallets/received_events',\n",
       "   'type': 'Organization',\n",
       "   'site_admin': False},\n",
       "  'html_url': 'https://github.com/pallets/flask',\n",
       "  'description': 'The Python micro framework for building web applications.',\n",
       "  'fork': False,\n",
       "  'url': 'https://api.github.com/repos/pallets/flask',\n",
       "  'forks_url': 'https://api.github.com/repos/pallets/flask/forks',\n",
       "  'keys_url': 'https://api.github.com/repos/pallets/flask/keys{/key_id}',\n",
       "  'collaborators_url': 'https://api.github.com/repos/pallets/flask/collaborators{/collaborator}',\n",
       "  'teams_url': 'https://api.github.com/repos/pallets/flask/teams',\n",
       "  'hooks_url': 'https://api.github.com/repos/pallets/flask/hooks',\n",
       "  'issue_events_url': 'https://api.github.com/repos/pallets/flask/issues/events{/number}',\n",
       "  'events_url': 'https://api.github.com/repos/pallets/flask/events',\n",
       "  'assignees_url': 'https://api.github.com/repos/pallets/flask/assignees{/user}',\n",
       "  'branches_url': 'https://api.github.com/repos/pallets/flask/branches{/branch}',\n",
       "  'tags_url': 'https://api.github.com/repos/pallets/flask/tags',\n",
       "  'blobs_url': 'https://api.github.com/repos/pallets/flask/git/blobs{/sha}',\n",
       "  'git_tags_url': 'https://api.github.com/repos/pallets/flask/git/tags{/sha}',\n",
       "  'git_refs_url': 'https://api.github.com/repos/pallets/flask/git/refs{/sha}',\n",
       "  'trees_url': 'https://api.github.com/repos/pallets/flask/git/trees{/sha}',\n",
       "  'statuses_url': 'https://api.github.com/repos/pallets/flask/statuses/{sha}',\n",
       "  'languages_url': 'https://api.github.com/repos/pallets/flask/languages',\n",
       "  'stargazers_url': 'https://api.github.com/repos/pallets/flask/stargazers',\n",
       "  'contributors_url': 'https://api.github.com/repos/pallets/flask/contributors',\n",
       "  'subscribers_url': 'https://api.github.com/repos/pallets/flask/subscribers',\n",
       "  'subscription_url': 'https://api.github.com/repos/pallets/flask/subscription',\n",
       "  'commits_url': 'https://api.github.com/repos/pallets/flask/commits{/sha}',\n",
       "  'git_commits_url': 'https://api.github.com/repos/pallets/flask/git/commits{/sha}',\n",
       "  'comments_url': 'https://api.github.com/repos/pallets/flask/comments{/number}',\n",
       "  'issue_comment_url': 'https://api.github.com/repos/pallets/flask/issues/comments{/number}',\n",
       "  'contents_url': 'https://api.github.com/repos/pallets/flask/contents/{+path}',\n",
       "  'compare_url': 'https://api.github.com/repos/pallets/flask/compare/{base}...{head}',\n",
       "  'merges_url': 'https://api.github.com/repos/pallets/flask/merges',\n",
       "  'archive_url': 'https://api.github.com/repos/pallets/flask/{archive_format}{/ref}',\n",
       "  'downloads_url': 'https://api.github.com/repos/pallets/flask/downloads',\n",
       "  'issues_url': 'https://api.github.com/repos/pallets/flask/issues{/number}',\n",
       "  'pulls_url': 'https://api.github.com/repos/pallets/flask/pulls{/number}',\n",
       "  'milestones_url': 'https://api.github.com/repos/pallets/flask/milestones{/number}',\n",
       "  'notifications_url': 'https://api.github.com/repos/pallets/flask/notifications{?since,all,participating}',\n",
       "  'labels_url': 'https://api.github.com/repos/pallets/flask/labels{/name}',\n",
       "  'releases_url': 'https://api.github.com/repos/pallets/flask/releases{/id}',\n",
       "  'deployments_url': 'https://api.github.com/repos/pallets/flask/deployments',\n",
       "  'created_at': '2010-04-06T11:11:59Z',\n",
       "  'updated_at': '2024-09-10T22:34:01Z',\n",
       "  'pushed_at': '2024-09-01T16:04:17Z',\n",
       "  'git_url': 'git://github.com/pallets/flask.git',\n",
       "  'ssh_url': 'git@github.com:pallets/flask.git',\n",
       "  'clone_url': 'https://github.com/pallets/flask.git',\n",
       "  'svn_url': 'https://github.com/pallets/flask',\n",
       "  'homepage': 'https://flask.palletsprojects.com',\n",
       "  'size': 10555,\n",
       "  'stargazers_count': 67518,\n",
       "  'watchers_count': 67518,\n",
       "  'language': 'Python',\n",
       "  'has_issues': True,\n",
       "  'has_projects': False,\n",
       "  'has_downloads': True,\n",
       "  'has_wiki': False,\n",
       "  'has_pages': False,\n",
       "  'has_discussions': True,\n",
       "  'forks_count': 16143,\n",
       "  'mirror_url': None,\n",
       "  'archived': False,\n",
       "  'disabled': False,\n",
       "  'open_issues_count': 11,\n",
       "  'license': {'key': 'bsd-3-clause',\n",
       "   'name': 'BSD 3-Clause \"New\" or \"Revised\" License',\n",
       "   'spdx_id': 'BSD-3-Clause',\n",
       "   'url': 'https://api.github.com/licenses/bsd-3-clause',\n",
       "   'node_id': 'MDc6TGljZW5zZTU='},\n",
       "  'allow_forking': True,\n",
       "  'is_template': False,\n",
       "  'web_commit_signoff_required': False,\n",
       "  'topics': ['flask',\n",
       "   'jinja',\n",
       "   'pallets',\n",
       "   'python',\n",
       "   'web-framework',\n",
       "   'werkzeug',\n",
       "   'wsgi'],\n",
       "  'visibility': 'public',\n",
       "  'forks': 16143,\n",
       "  'open_issues': 11,\n",
       "  'watchers': 67518,\n",
       "  'default_branch': 'main',\n",
       "  'score': 1.0},\n",
       " {'id': 537603333,\n",
       "  'node_id': 'R_kgDOIAstBQ',\n",
       "  'name': 'whisper',\n",
       "  'full_name': 'openai/whisper',\n",
       "  'private': False,\n",
       "  'owner': {'login': 'openai',\n",
       "   'id': 14957082,\n",
       "   'node_id': 'MDEyOk9yZ2FuaXphdGlvbjE0OTU3MDgy',\n",
       "   'avatar_url': 'https://avatars.githubusercontent.com/u/14957082?v=4',\n",
       "   'gravatar_id': '',\n",
       "   'url': 'https://api.github.com/users/openai',\n",
       "   'html_url': 'https://github.com/openai',\n",
       "   'followers_url': 'https://api.github.com/users/openai/followers',\n",
       "   'following_url': 'https://api.github.com/users/openai/following{/other_user}',\n",
       "   'gists_url': 'https://api.github.com/users/openai/gists{/gist_id}',\n",
       "   'starred_url': 'https://api.github.com/users/openai/starred{/owner}{/repo}',\n",
       "   'subscriptions_url': 'https://api.github.com/users/openai/subscriptions',\n",
       "   'organizations_url': 'https://api.github.com/users/openai/orgs',\n",
       "   'repos_url': 'https://api.github.com/users/openai/repos',\n",
       "   'events_url': 'https://api.github.com/users/openai/events{/privacy}',\n",
       "   'received_events_url': 'https://api.github.com/users/openai/received_events',\n",
       "   'type': 'Organization',\n",
       "   'site_admin': False},\n",
       "  'html_url': 'https://github.com/openai/whisper',\n",
       "  'description': 'Robust Speech Recognition via Large-Scale Weak Supervision',\n",
       "  'fork': False,\n",
       "  'url': 'https://api.github.com/repos/openai/whisper',\n",
       "  'forks_url': 'https://api.github.com/repos/openai/whisper/forks',\n",
       "  'keys_url': 'https://api.github.com/repos/openai/whisper/keys{/key_id}',\n",
       "  'collaborators_url': 'https://api.github.com/repos/openai/whisper/collaborators{/collaborator}',\n",
       "  'teams_url': 'https://api.github.com/repos/openai/whisper/teams',\n",
       "  'hooks_url': 'https://api.github.com/repos/openai/whisper/hooks',\n",
       "  'issue_events_url': 'https://api.github.com/repos/openai/whisper/issues/events{/number}',\n",
       "  'events_url': 'https://api.github.com/repos/openai/whisper/events',\n",
       "  'assignees_url': 'https://api.github.com/repos/openai/whisper/assignees{/user}',\n",
       "  'branches_url': 'https://api.github.com/repos/openai/whisper/branches{/branch}',\n",
       "  'tags_url': 'https://api.github.com/repos/openai/whisper/tags',\n",
       "  'blobs_url': 'https://api.github.com/repos/openai/whisper/git/blobs{/sha}',\n",
       "  'git_tags_url': 'https://api.github.com/repos/openai/whisper/git/tags{/sha}',\n",
       "  'git_refs_url': 'https://api.github.com/repos/openai/whisper/git/refs{/sha}',\n",
       "  'trees_url': 'https://api.github.com/repos/openai/whisper/git/trees{/sha}',\n",
       "  'statuses_url': 'https://api.github.com/repos/openai/whisper/statuses/{sha}',\n",
       "  'languages_url': 'https://api.github.com/repos/openai/whisper/languages',\n",
       "  'stargazers_url': 'https://api.github.com/repos/openai/whisper/stargazers',\n",
       "  'contributors_url': 'https://api.github.com/repos/openai/whisper/contributors',\n",
       "  'subscribers_url': 'https://api.github.com/repos/openai/whisper/subscribers',\n",
       "  'subscription_url': 'https://api.github.com/repos/openai/whisper/subscription',\n",
       "  'commits_url': 'https://api.github.com/repos/openai/whisper/commits{/sha}',\n",
       "  'git_commits_url': 'https://api.github.com/repos/openai/whisper/git/commits{/sha}',\n",
       "  'comments_url': 'https://api.github.com/repos/openai/whisper/comments{/number}',\n",
       "  'issue_comment_url': 'https://api.github.com/repos/openai/whisper/issues/comments{/number}',\n",
       "  'contents_url': 'https://api.github.com/repos/openai/whisper/contents/{+path}',\n",
       "  'compare_url': 'https://api.github.com/repos/openai/whisper/compare/{base}...{head}',\n",
       "  'merges_url': 'https://api.github.com/repos/openai/whisper/merges',\n",
       "  'archive_url': 'https://api.github.com/repos/openai/whisper/{archive_format}{/ref}',\n",
       "  'downloads_url': 'https://api.github.com/repos/openai/whisper/downloads',\n",
       "  'issues_url': 'https://api.github.com/repos/openai/whisper/issues{/number}',\n",
       "  'pulls_url': 'https://api.github.com/repos/openai/whisper/pulls{/number}',\n",
       "  'milestones_url': 'https://api.github.com/repos/openai/whisper/milestones{/number}',\n",
       "  'notifications_url': 'https://api.github.com/repos/openai/whisper/notifications{?since,all,participating}',\n",
       "  'labels_url': 'https://api.github.com/repos/openai/whisper/labels{/name}',\n",
       "  'releases_url': 'https://api.github.com/repos/openai/whisper/releases{/id}',\n",
       "  'deployments_url': 'https://api.github.com/repos/openai/whisper/deployments',\n",
       "  'created_at': '2022-09-16T20:02:54Z',\n",
       "  'updated_at': '2024-09-10T22:02:52Z',\n",
       "  'pushed_at': '2024-09-10T17:43:22Z',\n",
       "  'git_url': 'git://github.com/openai/whisper.git',\n",
       "  'ssh_url': 'org-14957082@github.com:openai/whisper.git',\n",
       "  'clone_url': 'https://github.com/openai/whisper.git',\n",
       "  'svn_url': 'https://github.com/openai/whisper',\n",
       "  'homepage': '',\n",
       "  'size': 12733,\n",
       "  'stargazers_count': 67294,\n",
       "  'watchers_count': 67294,\n",
       "  'language': 'Python',\n",
       "  'has_issues': False,\n",
       "  'has_projects': False,\n",
       "  'has_downloads': True,\n",
       "  'has_wiki': False,\n",
       "  'has_pages': False,\n",
       "  'has_discussions': True,\n",
       "  'forks_count': 7940,\n",
       "  'mirror_url': None,\n",
       "  'archived': False,\n",
       "  'disabled': False,\n",
       "  'open_issues_count': 71,\n",
       "  'license': {'key': 'mit',\n",
       "   'name': 'MIT License',\n",
       "   'spdx_id': 'MIT',\n",
       "   'url': 'https://api.github.com/licenses/mit',\n",
       "   'node_id': 'MDc6TGljZW5zZTEz'},\n",
       "  'allow_forking': True,\n",
       "  'is_template': False,\n",
       "  'web_commit_signoff_required': False,\n",
       "  'topics': [],\n",
       "  'visibility': 'public',\n",
       "  'forks': 7940,\n",
       "  'open_issues': 71,\n",
       "  'watchers': 67294,\n",
       "  'default_branch': 'main',\n",
       "  'score': 1.0},\n",
       " {'id': 212639071,\n",
       "  'node_id': 'MDEwOlJlcG9zaXRvcnkyMTI2MzkwNzE=',\n",
       "  'name': 'devops-exercises',\n",
       "  'full_name': 'bregman-arie/devops-exercises',\n",
       "  'private': False,\n",
       "  'owner': {'login': 'bregman-arie',\n",
       "   'id': 10349437,\n",
       "   'node_id': 'MDQ6VXNlcjEwMzQ5NDM3',\n",
       "   'avatar_url': 'https://avatars.githubusercontent.com/u/10349437?v=4',\n",
       "   'gravatar_id': '',\n",
       "   'url': 'https://api.github.com/users/bregman-arie',\n",
       "   'html_url': 'https://github.com/bregman-arie',\n",
       "   'followers_url': 'https://api.github.com/users/bregman-arie/followers',\n",
       "   'following_url': 'https://api.github.com/users/bregman-arie/following{/other_user}',\n",
       "   'gists_url': 'https://api.github.com/users/bregman-arie/gists{/gist_id}',\n",
       "   'starred_url': 'https://api.github.com/users/bregman-arie/starred{/owner}{/repo}',\n",
       "   'subscriptions_url': 'https://api.github.com/users/bregman-arie/subscriptions',\n",
       "   'organizations_url': 'https://api.github.com/users/bregman-arie/orgs',\n",
       "   'repos_url': 'https://api.github.com/users/bregman-arie/repos',\n",
       "   'events_url': 'https://api.github.com/users/bregman-arie/events{/privacy}',\n",
       "   'received_events_url': 'https://api.github.com/users/bregman-arie/received_events',\n",
       "   'type': 'User',\n",
       "   'site_admin': False},\n",
       "  'html_url': 'https://github.com/bregman-arie/devops-exercises',\n",
       "  'description': 'Linux, Jenkins, AWS, SRE, Prometheus, Docker, Python, Ansible, Git, Kubernetes, Terraform, OpenStack, SQL, NoSQL, Azure, GCP, DNS, Elastic, Network, Virtualization. DevOps Interview Questions',\n",
       "  'fork': False,\n",
       "  'url': 'https://api.github.com/repos/bregman-arie/devops-exercises',\n",
       "  'forks_url': 'https://api.github.com/repos/bregman-arie/devops-exercises/forks',\n",
       "  'keys_url': 'https://api.github.com/repos/bregman-arie/devops-exercises/keys{/key_id}',\n",
       "  'collaborators_url': 'https://api.github.com/repos/bregman-arie/devops-exercises/collaborators{/collaborator}',\n",
       "  'teams_url': 'https://api.github.com/repos/bregman-arie/devops-exercises/teams',\n",
       "  'hooks_url': 'https://api.github.com/repos/bregman-arie/devops-exercises/hooks',\n",
       "  'issue_events_url': 'https://api.github.com/repos/bregman-arie/devops-exercises/issues/events{/number}',\n",
       "  'events_url': 'https://api.github.com/repos/bregman-arie/devops-exercises/events',\n",
       "  'assignees_url': 'https://api.github.com/repos/bregman-arie/devops-exercises/assignees{/user}',\n",
       "  'branches_url': 'https://api.github.com/repos/bregman-arie/devops-exercises/branches{/branch}',\n",
       "  'tags_url': 'https://api.github.com/repos/bregman-arie/devops-exercises/tags',\n",
       "  'blobs_url': 'https://api.github.com/repos/bregman-arie/devops-exercises/git/blobs{/sha}',\n",
       "  'git_tags_url': 'https://api.github.com/repos/bregman-arie/devops-exercises/git/tags{/sha}',\n",
       "  'git_refs_url': 'https://api.github.com/repos/bregman-arie/devops-exercises/git/refs{/sha}',\n",
       "  'trees_url': 'https://api.github.com/repos/bregman-arie/devops-exercises/git/trees{/sha}',\n",
       "  'statuses_url': 'https://api.github.com/repos/bregman-arie/devops-exercises/statuses/{sha}',\n",
       "  'languages_url': 'https://api.github.com/repos/bregman-arie/devops-exercises/languages',\n",
       "  'stargazers_url': 'https://api.github.com/repos/bregman-arie/devops-exercises/stargazers',\n",
       "  'contributors_url': 'https://api.github.com/repos/bregman-arie/devops-exercises/contributors',\n",
       "  'subscribers_url': 'https://api.github.com/repos/bregman-arie/devops-exercises/subscribers',\n",
       "  'subscription_url': 'https://api.github.com/repos/bregman-arie/devops-exercises/subscription',\n",
       "  'commits_url': 'https://api.github.com/repos/bregman-arie/devops-exercises/commits{/sha}',\n",
       "  'git_commits_url': 'https://api.github.com/repos/bregman-arie/devops-exercises/git/commits{/sha}',\n",
       "  'comments_url': 'https://api.github.com/repos/bregman-arie/devops-exercises/comments{/number}',\n",
       "  'issue_comment_url': 'https://api.github.com/repos/bregman-arie/devops-exercises/issues/comments{/number}',\n",
       "  'contents_url': 'https://api.github.com/repos/bregman-arie/devops-exercises/contents/{+path}',\n",
       "  'compare_url': 'https://api.github.com/repos/bregman-arie/devops-exercises/compare/{base}...{head}',\n",
       "  'merges_url': 'https://api.github.com/repos/bregman-arie/devops-exercises/merges',\n",
       "  'archive_url': 'https://api.github.com/repos/bregman-arie/devops-exercises/{archive_format}{/ref}',\n",
       "  'downloads_url': 'https://api.github.com/repos/bregman-arie/devops-exercises/downloads',\n",
       "  'issues_url': 'https://api.github.com/repos/bregman-arie/devops-exercises/issues{/number}',\n",
       "  'pulls_url': 'https://api.github.com/repos/bregman-arie/devops-exercises/pulls{/number}',\n",
       "  'milestones_url': 'https://api.github.com/repos/bregman-arie/devops-exercises/milestones{/number}',\n",
       "  'notifications_url': 'https://api.github.com/repos/bregman-arie/devops-exercises/notifications{?since,all,participating}',\n",
       "  'labels_url': 'https://api.github.com/repos/bregman-arie/devops-exercises/labels{/name}',\n",
       "  'releases_url': 'https://api.github.com/repos/bregman-arie/devops-exercises/releases{/id}',\n",
       "  'deployments_url': 'https://api.github.com/repos/bregman-arie/devops-exercises/deployments',\n",
       "  'created_at': '2019-10-03T17:31:21Z',\n",
       "  'updated_at': '2024-09-10T20:03:13Z',\n",
       "  'pushed_at': '2024-08-31T08:15:03Z',\n",
       "  'git_url': 'git://github.com/bregman-arie/devops-exercises.git',\n",
       "  'ssh_url': 'git@github.com:bregman-arie/devops-exercises.git',\n",
       "  'clone_url': 'https://github.com/bregman-arie/devops-exercises.git',\n",
       "  'svn_url': 'https://github.com/bregman-arie/devops-exercises',\n",
       "  'homepage': '',\n",
       "  'size': 4703,\n",
       "  'stargazers_count': 65775,\n",
       "  'watchers_count': 65775,\n",
       "  'language': 'Python',\n",
       "  'has_issues': True,\n",
       "  'has_projects': True,\n",
       "  'has_downloads': True,\n",
       "  'has_wiki': True,\n",
       "  'has_pages': True,\n",
       "  'has_discussions': True,\n",
       "  'forks_count': 14663,\n",
       "  'mirror_url': None,\n",
       "  'archived': False,\n",
       "  'disabled': False,\n",
       "  'open_issues_count': 30,\n",
       "  'license': {'key': 'other',\n",
       "   'name': 'Other',\n",
       "   'spdx_id': 'NOASSERTION',\n",
       "   'url': None,\n",
       "   'node_id': 'MDc6TGljZW5zZTA='},\n",
       "  'allow_forking': True,\n",
       "  'is_template': False,\n",
       "  'web_commit_signoff_required': False,\n",
       "  'topics': ['ansible',\n",
       "   'aws',\n",
       "   'azure',\n",
       "   'coding',\n",
       "   'containers',\n",
       "   'devops',\n",
       "   'docker',\n",
       "   'git',\n",
       "   'interview',\n",
       "   'interview-questions',\n",
       "   'kubernetes',\n",
       "   'linux',\n",
       "   'openstack',\n",
       "   'production-engineer',\n",
       "   'prometheus',\n",
       "   'python',\n",
       "   'sql',\n",
       "   'sre',\n",
       "   'terraform'],\n",
       "  'visibility': 'public',\n",
       "  'forks': 14663,\n",
       "  'open_issues': 30,\n",
       "  'watchers': 65775,\n",
       "  'default_branch': 'master',\n",
       "  'score': 1.0},\n",
       " {'id': 21872392,\n",
       "  'node_id': 'MDEwOlJlcG9zaXRvcnkyMTg3MjM5Mg==',\n",
       "  'name': 'awesome-machine-learning',\n",
       "  'full_name': 'josephmisiti/awesome-machine-learning',\n",
       "  'private': False,\n",
       "  'owner': {'login': 'josephmisiti',\n",
       "   'id': 246302,\n",
       "   'node_id': 'MDQ6VXNlcjI0NjMwMg==',\n",
       "   'avatar_url': 'https://avatars.githubusercontent.com/u/246302?v=4',\n",
       "   'gravatar_id': '',\n",
       "   'url': 'https://api.github.com/users/josephmisiti',\n",
       "   'html_url': 'https://github.com/josephmisiti',\n",
       "   'followers_url': 'https://api.github.com/users/josephmisiti/followers',\n",
       "   'following_url': 'https://api.github.com/users/josephmisiti/following{/other_user}',\n",
       "   'gists_url': 'https://api.github.com/users/josephmisiti/gists{/gist_id}',\n",
       "   'starred_url': 'https://api.github.com/users/josephmisiti/starred{/owner}{/repo}',\n",
       "   'subscriptions_url': 'https://api.github.com/users/josephmisiti/subscriptions',\n",
       "   'organizations_url': 'https://api.github.com/users/josephmisiti/orgs',\n",
       "   'repos_url': 'https://api.github.com/users/josephmisiti/repos',\n",
       "   'events_url': 'https://api.github.com/users/josephmisiti/events{/privacy}',\n",
       "   'received_events_url': 'https://api.github.com/users/josephmisiti/received_events',\n",
       "   'type': 'User',\n",
       "   'site_admin': False},\n",
       "  'html_url': 'https://github.com/josephmisiti/awesome-machine-learning',\n",
       "  'description': 'A curated list of awesome Machine Learning frameworks, libraries and software.',\n",
       "  'fork': False,\n",
       "  'url': 'https://api.github.com/repos/josephmisiti/awesome-machine-learning',\n",
       "  'forks_url': 'https://api.github.com/repos/josephmisiti/awesome-machine-learning/forks',\n",
       "  'keys_url': 'https://api.github.com/repos/josephmisiti/awesome-machine-learning/keys{/key_id}',\n",
       "  'collaborators_url': 'https://api.github.com/repos/josephmisiti/awesome-machine-learning/collaborators{/collaborator}',\n",
       "  'teams_url': 'https://api.github.com/repos/josephmisiti/awesome-machine-learning/teams',\n",
       "  'hooks_url': 'https://api.github.com/repos/josephmisiti/awesome-machine-learning/hooks',\n",
       "  'issue_events_url': 'https://api.github.com/repos/josephmisiti/awesome-machine-learning/issues/events{/number}',\n",
       "  'events_url': 'https://api.github.com/repos/josephmisiti/awesome-machine-learning/events',\n",
       "  'assignees_url': 'https://api.github.com/repos/josephmisiti/awesome-machine-learning/assignees{/user}',\n",
       "  'branches_url': 'https://api.github.com/repos/josephmisiti/awesome-machine-learning/branches{/branch}',\n",
       "  'tags_url': 'https://api.github.com/repos/josephmisiti/awesome-machine-learning/tags',\n",
       "  'blobs_url': 'https://api.github.com/repos/josephmisiti/awesome-machine-learning/git/blobs{/sha}',\n",
       "  'git_tags_url': 'https://api.github.com/repos/josephmisiti/awesome-machine-learning/git/tags{/sha}',\n",
       "  'git_refs_url': 'https://api.github.com/repos/josephmisiti/awesome-machine-learning/git/refs{/sha}',\n",
       "  'trees_url': 'https://api.github.com/repos/josephmisiti/awesome-machine-learning/git/trees{/sha}',\n",
       "  'statuses_url': 'https://api.github.com/repos/josephmisiti/awesome-machine-learning/statuses/{sha}',\n",
       "  'languages_url': 'https://api.github.com/repos/josephmisiti/awesome-machine-learning/languages',\n",
       "  'stargazers_url': 'https://api.github.com/repos/josephmisiti/awesome-machine-learning/stargazers',\n",
       "  'contributors_url': 'https://api.github.com/repos/josephmisiti/awesome-machine-learning/contributors',\n",
       "  'subscribers_url': 'https://api.github.com/repos/josephmisiti/awesome-machine-learning/subscribers',\n",
       "  'subscription_url': 'https://api.github.com/repos/josephmisiti/awesome-machine-learning/subscription',\n",
       "  'commits_url': 'https://api.github.com/repos/josephmisiti/awesome-machine-learning/commits{/sha}',\n",
       "  'git_commits_url': 'https://api.github.com/repos/josephmisiti/awesome-machine-learning/git/commits{/sha}',\n",
       "  'comments_url': 'https://api.github.com/repos/josephmisiti/awesome-machine-learning/comments{/number}',\n",
       "  'issue_comment_url': 'https://api.github.com/repos/josephmisiti/awesome-machine-learning/issues/comments{/number}',\n",
       "  'contents_url': 'https://api.github.com/repos/josephmisiti/awesome-machine-learning/contents/{+path}',\n",
       "  'compare_url': 'https://api.github.com/repos/josephmisiti/awesome-machine-learning/compare/{base}...{head}',\n",
       "  'merges_url': 'https://api.github.com/repos/josephmisiti/awesome-machine-learning/merges',\n",
       "  'archive_url': 'https://api.github.com/repos/josephmisiti/awesome-machine-learning/{archive_format}{/ref}',\n",
       "  'downloads_url': 'https://api.github.com/repos/josephmisiti/awesome-machine-learning/downloads',\n",
       "  'issues_url': 'https://api.github.com/repos/josephmisiti/awesome-machine-learning/issues{/number}',\n",
       "  'pulls_url': 'https://api.github.com/repos/josephmisiti/awesome-machine-learning/pulls{/number}',\n",
       "  'milestones_url': 'https://api.github.com/repos/josephmisiti/awesome-machine-learning/milestones{/number}',\n",
       "  'notifications_url': 'https://api.github.com/repos/josephmisiti/awesome-machine-learning/notifications{?since,all,participating}',\n",
       "  'labels_url': 'https://api.github.com/repos/josephmisiti/awesome-machine-learning/labels{/name}',\n",
       "  'releases_url': 'https://api.github.com/repos/josephmisiti/awesome-machine-learning/releases{/id}',\n",
       "  'deployments_url': 'https://api.github.com/repos/josephmisiti/awesome-machine-learning/deployments',\n",
       "  'created_at': '2014-07-15T19:11:19Z',\n",
       "  'updated_at': '2024-09-10T22:41:56Z',\n",
       "  'pushed_at': '2024-08-07T17:16:24Z',\n",
       "  'git_url': 'git://github.com/josephmisiti/awesome-machine-learning.git',\n",
       "  'ssh_url': 'git@github.com:josephmisiti/awesome-machine-learning.git',\n",
       "  'clone_url': 'https://github.com/josephmisiti/awesome-machine-learning.git',\n",
       "  'svn_url': 'https://github.com/josephmisiti/awesome-machine-learning',\n",
       "  'homepage': None,\n",
       "  'size': 2892,\n",
       "  'stargazers_count': 65323,\n",
       "  'watchers_count': 65323,\n",
       "  'language': 'Python',\n",
       "  'has_issues': True,\n",
       "  'has_projects': False,\n",
       "  'has_downloads': True,\n",
       "  'has_wiki': False,\n",
       "  'has_pages': True,\n",
       "  'has_discussions': False,\n",
       "  'forks_count': 14583,\n",
       "  'mirror_url': None,\n",
       "  'archived': False,\n",
       "  'disabled': False,\n",
       "  'open_issues_count': 1,\n",
       "  'license': {'key': 'other',\n",
       "   'name': 'Other',\n",
       "   'spdx_id': 'NOASSERTION',\n",
       "   'url': None,\n",
       "   'node_id': 'MDc6TGljZW5zZTA='},\n",
       "  'allow_forking': True,\n",
       "  'is_template': False,\n",
       "  'web_commit_signoff_required': False,\n",
       "  'topics': [],\n",
       "  'visibility': 'public',\n",
       "  'forks': 14583,\n",
       "  'open_issues': 1,\n",
       "  'watchers': 65323,\n",
       "  'default_branch': 'master',\n",
       "  'score': 1.0},\n",
       " {'id': 616372661,\n",
       "  'node_id': 'R_kgDOJL0ZtQ',\n",
       "  'name': 'gpt_academic',\n",
       "  'full_name': 'binary-husky/gpt_academic',\n",
       "  'private': False,\n",
       "  'owner': {'login': 'binary-husky',\n",
       "   'id': 96192199,\n",
       "   'node_id': 'U_kgDOBbvGxw',\n",
       "   'avatar_url': 'https://avatars.githubusercontent.com/u/96192199?v=4',\n",
       "   'gravatar_id': '',\n",
       "   'url': 'https://api.github.com/users/binary-husky',\n",
       "   'html_url': 'https://github.com/binary-husky',\n",
       "   'followers_url': 'https://api.github.com/users/binary-husky/followers',\n",
       "   'following_url': 'https://api.github.com/users/binary-husky/following{/other_user}',\n",
       "   'gists_url': 'https://api.github.com/users/binary-husky/gists{/gist_id}',\n",
       "   'starred_url': 'https://api.github.com/users/binary-husky/starred{/owner}{/repo}',\n",
       "   'subscriptions_url': 'https://api.github.com/users/binary-husky/subscriptions',\n",
       "   'organizations_url': 'https://api.github.com/users/binary-husky/orgs',\n",
       "   'repos_url': 'https://api.github.com/users/binary-husky/repos',\n",
       "   'events_url': 'https://api.github.com/users/binary-husky/events{/privacy}',\n",
       "   'received_events_url': 'https://api.github.com/users/binary-husky/received_events',\n",
       "   'type': 'User',\n",
       "   'site_admin': False},\n",
       "  'html_url': 'https://github.com/binary-husky/gpt_academic',\n",
       "  'description': '为GPT/GLM等LLM大语言模型提供实用化交互接口，特别优化论文阅读/润色/写作体验，模块化设计，支持自定义快捷按钮&函数插件，支持Python和C++等项目剖析&自译解功能，PDF/LaTex论文翻译&总结功能，支持并行问询多种LLM模型，支持chatglm3等本地模型。接入通义千问, deepseekcoder, 讯飞星火, 文心一言, llama2, rwkv, claude2, moss等。',\n",
       "  'fork': False,\n",
       "  'url': 'https://api.github.com/repos/binary-husky/gpt_academic',\n",
       "  'forks_url': 'https://api.github.com/repos/binary-husky/gpt_academic/forks',\n",
       "  'keys_url': 'https://api.github.com/repos/binary-husky/gpt_academic/keys{/key_id}',\n",
       "  'collaborators_url': 'https://api.github.com/repos/binary-husky/gpt_academic/collaborators{/collaborator}',\n",
       "  'teams_url': 'https://api.github.com/repos/binary-husky/gpt_academic/teams',\n",
       "  'hooks_url': 'https://api.github.com/repos/binary-husky/gpt_academic/hooks',\n",
       "  'issue_events_url': 'https://api.github.com/repos/binary-husky/gpt_academic/issues/events{/number}',\n",
       "  'events_url': 'https://api.github.com/repos/binary-husky/gpt_academic/events',\n",
       "  'assignees_url': 'https://api.github.com/repos/binary-husky/gpt_academic/assignees{/user}',\n",
       "  'branches_url': 'https://api.github.com/repos/binary-husky/gpt_academic/branches{/branch}',\n",
       "  'tags_url': 'https://api.github.com/repos/binary-husky/gpt_academic/tags',\n",
       "  'blobs_url': 'https://api.github.com/repos/binary-husky/gpt_academic/git/blobs{/sha}',\n",
       "  'git_tags_url': 'https://api.github.com/repos/binary-husky/gpt_academic/git/tags{/sha}',\n",
       "  'git_refs_url': 'https://api.github.com/repos/binary-husky/gpt_academic/git/refs{/sha}',\n",
       "  'trees_url': 'https://api.github.com/repos/binary-husky/gpt_academic/git/trees{/sha}',\n",
       "  'statuses_url': 'https://api.github.com/repos/binary-husky/gpt_academic/statuses/{sha}',\n",
       "  'languages_url': 'https://api.github.com/repos/binary-husky/gpt_academic/languages',\n",
       "  'stargazers_url': 'https://api.github.com/repos/binary-husky/gpt_academic/stargazers',\n",
       "  'contributors_url': 'https://api.github.com/repos/binary-husky/gpt_academic/contributors',\n",
       "  'subscribers_url': 'https://api.github.com/repos/binary-husky/gpt_academic/subscribers',\n",
       "  'subscription_url': 'https://api.github.com/repos/binary-husky/gpt_academic/subscription',\n",
       "  'commits_url': 'https://api.github.com/repos/binary-husky/gpt_academic/commits{/sha}',\n",
       "  'git_commits_url': 'https://api.github.com/repos/binary-husky/gpt_academic/git/commits{/sha}',\n",
       "  'comments_url': 'https://api.github.com/repos/binary-husky/gpt_academic/comments{/number}',\n",
       "  'issue_comment_url': 'https://api.github.com/repos/binary-husky/gpt_academic/issues/comments{/number}',\n",
       "  'contents_url': 'https://api.github.com/repos/binary-husky/gpt_academic/contents/{+path}',\n",
       "  'compare_url': 'https://api.github.com/repos/binary-husky/gpt_academic/compare/{base}...{head}',\n",
       "  'merges_url': 'https://api.github.com/repos/binary-husky/gpt_academic/merges',\n",
       "  'archive_url': 'https://api.github.com/repos/binary-husky/gpt_academic/{archive_format}{/ref}',\n",
       "  'downloads_url': 'https://api.github.com/repos/binary-husky/gpt_academic/downloads',\n",
       "  'issues_url': 'https://api.github.com/repos/binary-husky/gpt_academic/issues{/number}',\n",
       "  'pulls_url': 'https://api.github.com/repos/binary-husky/gpt_academic/pulls{/number}',\n",
       "  'milestones_url': 'https://api.github.com/repos/binary-husky/gpt_academic/milestones{/number}',\n",
       "  'notifications_url': 'https://api.github.com/repos/binary-husky/gpt_academic/notifications{?since,all,participating}',\n",
       "  'labels_url': 'https://api.github.com/repos/binary-husky/gpt_academic/labels{/name}',\n",
       "  'releases_url': 'https://api.github.com/repos/binary-husky/gpt_academic/releases{/id}',\n",
       "  'deployments_url': 'https://api.github.com/repos/binary-husky/gpt_academic/deployments',\n",
       "  'created_at': '2023-03-20T09:05:13Z',\n",
       "  'updated_at': '2024-09-10T22:13:34Z',\n",
       "  'pushed_at': '2024-09-08T16:33:05Z',\n",
       "  'git_url': 'git://github.com/binary-husky/gpt_academic.git',\n",
       "  'ssh_url': 'git@github.com:binary-husky/gpt_academic.git',\n",
       "  'clone_url': 'https://github.com/binary-husky/gpt_academic.git',\n",
       "  'svn_url': 'https://github.com/binary-husky/gpt_academic',\n",
       "  'homepage': 'https://github.com/binary-husky/gpt_academic/wiki/online',\n",
       "  'size': 70180,\n",
       "  'stargazers_count': 63815,\n",
       "  'watchers_count': 63815,\n",
       "  'language': 'Python',\n",
       "  'has_issues': True,\n",
       "  'has_projects': True,\n",
       "  'has_downloads': True,\n",
       "  'has_wiki': True,\n",
       "  'has_pages': False,\n",
       "  'has_discussions': True,\n",
       "  'forks_count': 7890,\n",
       "  'mirror_url': None,\n",
       "  'archived': False,\n",
       "  'disabled': False,\n",
       "  'open_issues_count': 327,\n",
       "  'license': {'key': 'gpl-3.0',\n",
       "   'name': 'GNU General Public License v3.0',\n",
       "   'spdx_id': 'GPL-3.0',\n",
       "   'url': 'https://api.github.com/licenses/gpl-3.0',\n",
       "   'node_id': 'MDc6TGljZW5zZTk='},\n",
       "  'allow_forking': True,\n",
       "  'is_template': False,\n",
       "  'web_commit_signoff_required': False,\n",
       "  'topics': ['academic',\n",
       "   'chatglm-6b',\n",
       "   'chatgpt',\n",
       "   'gpt-4',\n",
       "   'large-language-models'],\n",
       "  'visibility': 'public',\n",
       "  'forks': 7890,\n",
       "  'open_issues': 327,\n",
       "  'watchers': 63815,\n",
       "  'default_branch': 'master',\n",
       "  'score': 1.0},\n",
       " {'id': 3638964,\n",
       "  'node_id': 'MDEwOlJlcG9zaXRvcnkzNjM4OTY0',\n",
       "  'name': 'ansible',\n",
       "  'full_name': 'ansible/ansible',\n",
       "  'private': False,\n",
       "  'owner': {'login': 'ansible',\n",
       "   'id': 1507452,\n",
       "   'node_id': 'MDEyOk9yZ2FuaXphdGlvbjE1MDc0NTI=',\n",
       "   'avatar_url': 'https://avatars.githubusercontent.com/u/1507452?v=4',\n",
       "   'gravatar_id': '',\n",
       "   'url': 'https://api.github.com/users/ansible',\n",
       "   'html_url': 'https://github.com/ansible',\n",
       "   'followers_url': 'https://api.github.com/users/ansible/followers',\n",
       "   'following_url': 'https://api.github.com/users/ansible/following{/other_user}',\n",
       "   'gists_url': 'https://api.github.com/users/ansible/gists{/gist_id}',\n",
       "   'starred_url': 'https://api.github.com/users/ansible/starred{/owner}{/repo}',\n",
       "   'subscriptions_url': 'https://api.github.com/users/ansible/subscriptions',\n",
       "   'organizations_url': 'https://api.github.com/users/ansible/orgs',\n",
       "   'repos_url': 'https://api.github.com/users/ansible/repos',\n",
       "   'events_url': 'https://api.github.com/users/ansible/events{/privacy}',\n",
       "   'received_events_url': 'https://api.github.com/users/ansible/received_events',\n",
       "   'type': 'Organization',\n",
       "   'site_admin': False},\n",
       "  'html_url': 'https://github.com/ansible/ansible',\n",
       "  'description': 'Ansible is a radically simple IT automation platform that makes your applications and systems easier to deploy and maintain. Automate everything from code deployment to network configuration to cloud management, in a language that approaches plain English, using SSH, with no agents to install on remote systems. https://docs.ansible.com.',\n",
       "  'fork': False,\n",
       "  'url': 'https://api.github.com/repos/ansible/ansible',\n",
       "  'forks_url': 'https://api.github.com/repos/ansible/ansible/forks',\n",
       "  'keys_url': 'https://api.github.com/repos/ansible/ansible/keys{/key_id}',\n",
       "  'collaborators_url': 'https://api.github.com/repos/ansible/ansible/collaborators{/collaborator}',\n",
       "  'teams_url': 'https://api.github.com/repos/ansible/ansible/teams',\n",
       "  'hooks_url': 'https://api.github.com/repos/ansible/ansible/hooks',\n",
       "  'issue_events_url': 'https://api.github.com/repos/ansible/ansible/issues/events{/number}',\n",
       "  'events_url': 'https://api.github.com/repos/ansible/ansible/events',\n",
       "  'assignees_url': 'https://api.github.com/repos/ansible/ansible/assignees{/user}',\n",
       "  'branches_url': 'https://api.github.com/repos/ansible/ansible/branches{/branch}',\n",
       "  'tags_url': 'https://api.github.com/repos/ansible/ansible/tags',\n",
       "  'blobs_url': 'https://api.github.com/repos/ansible/ansible/git/blobs{/sha}',\n",
       "  'git_tags_url': 'https://api.github.com/repos/ansible/ansible/git/tags{/sha}',\n",
       "  'git_refs_url': 'https://api.github.com/repos/ansible/ansible/git/refs{/sha}',\n",
       "  'trees_url': 'https://api.github.com/repos/ansible/ansible/git/trees{/sha}',\n",
       "  'statuses_url': 'https://api.github.com/repos/ansible/ansible/statuses/{sha}',\n",
       "  'languages_url': 'https://api.github.com/repos/ansible/ansible/languages',\n",
       "  'stargazers_url': 'https://api.github.com/repos/ansible/ansible/stargazers',\n",
       "  'contributors_url': 'https://api.github.com/repos/ansible/ansible/contributors',\n",
       "  'subscribers_url': 'https://api.github.com/repos/ansible/ansible/subscribers',\n",
       "  'subscription_url': 'https://api.github.com/repos/ansible/ansible/subscription',\n",
       "  'commits_url': 'https://api.github.com/repos/ansible/ansible/commits{/sha}',\n",
       "  'git_commits_url': 'https://api.github.com/repos/ansible/ansible/git/commits{/sha}',\n",
       "  'comments_url': 'https://api.github.com/repos/ansible/ansible/comments{/number}',\n",
       "  'issue_comment_url': 'https://api.github.com/repos/ansible/ansible/issues/comments{/number}',\n",
       "  'contents_url': 'https://api.github.com/repos/ansible/ansible/contents/{+path}',\n",
       "  'compare_url': 'https://api.github.com/repos/ansible/ansible/compare/{base}...{head}',\n",
       "  'merges_url': 'https://api.github.com/repos/ansible/ansible/merges',\n",
       "  'archive_url': 'https://api.github.com/repos/ansible/ansible/{archive_format}{/ref}',\n",
       "  'downloads_url': 'https://api.github.com/repos/ansible/ansible/downloads',\n",
       "  'issues_url': 'https://api.github.com/repos/ansible/ansible/issues{/number}',\n",
       "  'pulls_url': 'https://api.github.com/repos/ansible/ansible/pulls{/number}',\n",
       "  'milestones_url': 'https://api.github.com/repos/ansible/ansible/milestones{/number}',\n",
       "  'notifications_url': 'https://api.github.com/repos/ansible/ansible/notifications{?since,all,participating}',\n",
       "  'labels_url': 'https://api.github.com/repos/ansible/ansible/labels{/name}',\n",
       "  'releases_url': 'https://api.github.com/repos/ansible/ansible/releases{/id}',\n",
       "  'deployments_url': 'https://api.github.com/repos/ansible/ansible/deployments',\n",
       "  'created_at': '2012-03-06T14:58:02Z',\n",
       "  'updated_at': '2024-09-10T22:39:26Z',\n",
       "  'pushed_at': '2024-09-10T17:32:52Z',\n",
       "  'git_url': 'git://github.com/ansible/ansible.git',\n",
       "  'ssh_url': 'git@github.com:ansible/ansible.git',\n",
       "  'clone_url': 'https://github.com/ansible/ansible.git',\n",
       "  'svn_url': 'https://github.com/ansible/ansible',\n",
       "  'homepage': 'https://www.ansible.com/',\n",
       "  'size': 255120,\n",
       "  'stargazers_count': 62307,\n",
       "  'watchers_count': 62307,\n",
       "  'language': 'Python',\n",
       "  'has_issues': True,\n",
       "  'has_projects': True,\n",
       "  'has_downloads': True,\n",
       "  'has_wiki': False,\n",
       "  'has_pages': False,\n",
       "  'has_discussions': False,\n",
       "  'forks_count': 23802,\n",
       "  'mirror_url': None,\n",
       "  'archived': False,\n",
       "  'disabled': False,\n",
       "  'open_issues_count': 858,\n",
       "  'license': {'key': 'gpl-3.0',\n",
       "   'name': 'GNU General Public License v3.0',\n",
       "   'spdx_id': 'GPL-3.0',\n",
       "   'url': 'https://api.github.com/licenses/gpl-3.0',\n",
       "   'node_id': 'MDc6TGljZW5zZTk='},\n",
       "  'allow_forking': True,\n",
       "  'is_template': False,\n",
       "  'web_commit_signoff_required': False,\n",
       "  'topics': ['ansible', 'hacktoberfest', 'python'],\n",
       "  'visibility': 'public',\n",
       "  'forks': 23802,\n",
       "  'open_issues': 858,\n",
       "  'watchers': 62307,\n",
       "  'default_branch': 'devel',\n",
       "  'score': 1.0},\n",
       " {'id': 81598961,\n",
       "  'node_id': 'MDEwOlJlcG9zaXRvcnk4MTU5ODk2MQ==',\n",
       "  'name': 'cpython',\n",
       "  'full_name': 'python/cpython',\n",
       "  'private': False,\n",
       "  'owner': {'login': 'python',\n",
       "   'id': 1525981,\n",
       "   'node_id': 'MDEyOk9yZ2FuaXphdGlvbjE1MjU5ODE=',\n",
       "   'avatar_url': 'https://avatars.githubusercontent.com/u/1525981?v=4',\n",
       "   'gravatar_id': '',\n",
       "   'url': 'https://api.github.com/users/python',\n",
       "   'html_url': 'https://github.com/python',\n",
       "   'followers_url': 'https://api.github.com/users/python/followers',\n",
       "   'following_url': 'https://api.github.com/users/python/following{/other_user}',\n",
       "   'gists_url': 'https://api.github.com/users/python/gists{/gist_id}',\n",
       "   'starred_url': 'https://api.github.com/users/python/starred{/owner}{/repo}',\n",
       "   'subscriptions_url': 'https://api.github.com/users/python/subscriptions',\n",
       "   'organizations_url': 'https://api.github.com/users/python/orgs',\n",
       "   'repos_url': 'https://api.github.com/users/python/repos',\n",
       "   'events_url': 'https://api.github.com/users/python/events{/privacy}',\n",
       "   'received_events_url': 'https://api.github.com/users/python/received_events',\n",
       "   'type': 'Organization',\n",
       "   'site_admin': False},\n",
       "  'html_url': 'https://github.com/python/cpython',\n",
       "  'description': 'The Python programming language',\n",
       "  'fork': False,\n",
       "  'url': 'https://api.github.com/repos/python/cpython',\n",
       "  'forks_url': 'https://api.github.com/repos/python/cpython/forks',\n",
       "  'keys_url': 'https://api.github.com/repos/python/cpython/keys{/key_id}',\n",
       "  'collaborators_url': 'https://api.github.com/repos/python/cpython/collaborators{/collaborator}',\n",
       "  'teams_url': 'https://api.github.com/repos/python/cpython/teams',\n",
       "  'hooks_url': 'https://api.github.com/repos/python/cpython/hooks',\n",
       "  'issue_events_url': 'https://api.github.com/repos/python/cpython/issues/events{/number}',\n",
       "  'events_url': 'https://api.github.com/repos/python/cpython/events',\n",
       "  'assignees_url': 'https://api.github.com/repos/python/cpython/assignees{/user}',\n",
       "  'branches_url': 'https://api.github.com/repos/python/cpython/branches{/branch}',\n",
       "  'tags_url': 'https://api.github.com/repos/python/cpython/tags',\n",
       "  'blobs_url': 'https://api.github.com/repos/python/cpython/git/blobs{/sha}',\n",
       "  'git_tags_url': 'https://api.github.com/repos/python/cpython/git/tags{/sha}',\n",
       "  'git_refs_url': 'https://api.github.com/repos/python/cpython/git/refs{/sha}',\n",
       "  'trees_url': 'https://api.github.com/repos/python/cpython/git/trees{/sha}',\n",
       "  'statuses_url': 'https://api.github.com/repos/python/cpython/statuses/{sha}',\n",
       "  'languages_url': 'https://api.github.com/repos/python/cpython/languages',\n",
       "  'stargazers_url': 'https://api.github.com/repos/python/cpython/stargazers',\n",
       "  'contributors_url': 'https://api.github.com/repos/python/cpython/contributors',\n",
       "  'subscribers_url': 'https://api.github.com/repos/python/cpython/subscribers',\n",
       "  'subscription_url': 'https://api.github.com/repos/python/cpython/subscription',\n",
       "  'commits_url': 'https://api.github.com/repos/python/cpython/commits{/sha}',\n",
       "  'git_commits_url': 'https://api.github.com/repos/python/cpython/git/commits{/sha}',\n",
       "  'comments_url': 'https://api.github.com/repos/python/cpython/comments{/number}',\n",
       "  'issue_comment_url': 'https://api.github.com/repos/python/cpython/issues/comments{/number}',\n",
       "  'contents_url': 'https://api.github.com/repos/python/cpython/contents/{+path}',\n",
       "  'compare_url': 'https://api.github.com/repos/python/cpython/compare/{base}...{head}',\n",
       "  'merges_url': 'https://api.github.com/repos/python/cpython/merges',\n",
       "  'archive_url': 'https://api.github.com/repos/python/cpython/{archive_format}{/ref}',\n",
       "  'downloads_url': 'https://api.github.com/repos/python/cpython/downloads',\n",
       "  'issues_url': 'https://api.github.com/repos/python/cpython/issues{/number}',\n",
       "  'pulls_url': 'https://api.github.com/repos/python/cpython/pulls{/number}',\n",
       "  'milestones_url': 'https://api.github.com/repos/python/cpython/milestones{/number}',\n",
       "  'notifications_url': 'https://api.github.com/repos/python/cpython/notifications{?since,all,participating}',\n",
       "  'labels_url': 'https://api.github.com/repos/python/cpython/labels{/name}',\n",
       "  'releases_url': 'https://api.github.com/repos/python/cpython/releases{/id}',\n",
       "  'deployments_url': 'https://api.github.com/repos/python/cpython/deployments',\n",
       "  'created_at': '2017-02-10T19:23:51Z',\n",
       "  'updated_at': '2024-09-10T22:38:41Z',\n",
       "  'pushed_at': '2024-09-10T20:12:42Z',\n",
       "  'git_url': 'git://github.com/python/cpython.git',\n",
       "  'ssh_url': 'git@github.com:python/cpython.git',\n",
       "  'clone_url': 'https://github.com/python/cpython.git',\n",
       "  'svn_url': 'https://github.com/python/cpython',\n",
       "  'homepage': 'https://www.python.org',\n",
       "  'size': 622922,\n",
       "  'stargazers_count': 62239,\n",
       "  'watchers_count': 62239,\n",
       "  'language': 'Python',\n",
       "  'has_issues': True,\n",
       "  'has_projects': True,\n",
       "  'has_downloads': True,\n",
       "  'has_wiki': False,\n",
       "  'has_pages': False,\n",
       "  'has_discussions': False,\n",
       "  'forks_count': 29912,\n",
       "  'mirror_url': None,\n",
       "  'archived': False,\n",
       "  'disabled': False,\n",
       "  'open_issues_count': 8815,\n",
       "  'license': {'key': 'other',\n",
       "   'name': 'Other',\n",
       "   'spdx_id': 'NOASSERTION',\n",
       "   'url': None,\n",
       "   'node_id': 'MDc6TGljZW5zZTA='},\n",
       "  'allow_forking': True,\n",
       "  'is_template': False,\n",
       "  'web_commit_signoff_required': False,\n",
       "  'topics': [],\n",
       "  'visibility': 'public',\n",
       "  'forks': 29912,\n",
       "  'open_issues': 8815,\n",
       "  'watchers': 62239,\n",
       "  'default_branch': 'main',\n",
       "  'score': 1.0},\n",
       " {'id': 32689863,\n",
       "  'node_id': 'MDEwOlJlcG9zaXRvcnkzMjY4OTg2Mw==',\n",
       "  'name': 'manim',\n",
       "  'full_name': '3b1b/manim',\n",
       "  'private': False,\n",
       "  'owner': {'login': '3b1b',\n",
       "   'id': 11601040,\n",
       "   'node_id': 'MDQ6VXNlcjExNjAxMDQw',\n",
       "   'avatar_url': 'https://avatars.githubusercontent.com/u/11601040?v=4',\n",
       "   'gravatar_id': '',\n",
       "   'url': 'https://api.github.com/users/3b1b',\n",
       "   'html_url': 'https://github.com/3b1b',\n",
       "   'followers_url': 'https://api.github.com/users/3b1b/followers',\n",
       "   'following_url': 'https://api.github.com/users/3b1b/following{/other_user}',\n",
       "   'gists_url': 'https://api.github.com/users/3b1b/gists{/gist_id}',\n",
       "   'starred_url': 'https://api.github.com/users/3b1b/starred{/owner}{/repo}',\n",
       "   'subscriptions_url': 'https://api.github.com/users/3b1b/subscriptions',\n",
       "   'organizations_url': 'https://api.github.com/users/3b1b/orgs',\n",
       "   'repos_url': 'https://api.github.com/users/3b1b/repos',\n",
       "   'events_url': 'https://api.github.com/users/3b1b/events{/privacy}',\n",
       "   'received_events_url': 'https://api.github.com/users/3b1b/received_events',\n",
       "   'type': 'User',\n",
       "   'site_admin': False},\n",
       "  'html_url': 'https://github.com/3b1b/manim',\n",
       "  'description': 'Animation engine for explanatory math videos',\n",
       "  'fork': False,\n",
       "  'url': 'https://api.github.com/repos/3b1b/manim',\n",
       "  'forks_url': 'https://api.github.com/repos/3b1b/manim/forks',\n",
       "  'keys_url': 'https://api.github.com/repos/3b1b/manim/keys{/key_id}',\n",
       "  'collaborators_url': 'https://api.github.com/repos/3b1b/manim/collaborators{/collaborator}',\n",
       "  'teams_url': 'https://api.github.com/repos/3b1b/manim/teams',\n",
       "  'hooks_url': 'https://api.github.com/repos/3b1b/manim/hooks',\n",
       "  'issue_events_url': 'https://api.github.com/repos/3b1b/manim/issues/events{/number}',\n",
       "  'events_url': 'https://api.github.com/repos/3b1b/manim/events',\n",
       "  'assignees_url': 'https://api.github.com/repos/3b1b/manim/assignees{/user}',\n",
       "  'branches_url': 'https://api.github.com/repos/3b1b/manim/branches{/branch}',\n",
       "  'tags_url': 'https://api.github.com/repos/3b1b/manim/tags',\n",
       "  'blobs_url': 'https://api.github.com/repos/3b1b/manim/git/blobs{/sha}',\n",
       "  'git_tags_url': 'https://api.github.com/repos/3b1b/manim/git/tags{/sha}',\n",
       "  'git_refs_url': 'https://api.github.com/repos/3b1b/manim/git/refs{/sha}',\n",
       "  'trees_url': 'https://api.github.com/repos/3b1b/manim/git/trees{/sha}',\n",
       "  'statuses_url': 'https://api.github.com/repos/3b1b/manim/statuses/{sha}',\n",
       "  'languages_url': 'https://api.github.com/repos/3b1b/manim/languages',\n",
       "  'stargazers_url': 'https://api.github.com/repos/3b1b/manim/stargazers',\n",
       "  'contributors_url': 'https://api.github.com/repos/3b1b/manim/contributors',\n",
       "  'subscribers_url': 'https://api.github.com/repos/3b1b/manim/subscribers',\n",
       "  'subscription_url': 'https://api.github.com/repos/3b1b/manim/subscription',\n",
       "  'commits_url': 'https://api.github.com/repos/3b1b/manim/commits{/sha}',\n",
       "  'git_commits_url': 'https://api.github.com/repos/3b1b/manim/git/commits{/sha}',\n",
       "  'comments_url': 'https://api.github.com/repos/3b1b/manim/comments{/number}',\n",
       "  'issue_comment_url': 'https://api.github.com/repos/3b1b/manim/issues/comments{/number}',\n",
       "  'contents_url': 'https://api.github.com/repos/3b1b/manim/contents/{+path}',\n",
       "  'compare_url': 'https://api.github.com/repos/3b1b/manim/compare/{base}...{head}',\n",
       "  'merges_url': 'https://api.github.com/repos/3b1b/manim/merges',\n",
       "  'archive_url': 'https://api.github.com/repos/3b1b/manim/{archive_format}{/ref}',\n",
       "  'downloads_url': 'https://api.github.com/repos/3b1b/manim/downloads',\n",
       "  'issues_url': 'https://api.github.com/repos/3b1b/manim/issues{/number}',\n",
       "  'pulls_url': 'https://api.github.com/repos/3b1b/manim/pulls{/number}',\n",
       "  'milestones_url': 'https://api.github.com/repos/3b1b/manim/milestones{/number}',\n",
       "  'notifications_url': 'https://api.github.com/repos/3b1b/manim/notifications{?since,all,participating}',\n",
       "  'labels_url': 'https://api.github.com/repos/3b1b/manim/labels{/name}',\n",
       "  'releases_url': 'https://api.github.com/repos/3b1b/manim/releases{/id}',\n",
       "  'deployments_url': 'https://api.github.com/repos/3b1b/manim/deployments',\n",
       "  'created_at': '2015-03-22T18:50:58Z',\n",
       "  'updated_at': '2024-09-10T21:32:28Z',\n",
       "  'pushed_at': '2024-09-06T18:03:38Z',\n",
       "  'git_url': 'git://github.com/3b1b/manim.git',\n",
       "  'ssh_url': 'git@github.com:3b1b/manim.git',\n",
       "  'clone_url': 'https://github.com/3b1b/manim.git',\n",
       "  'svn_url': 'https://github.com/3b1b/manim',\n",
       "  'homepage': None,\n",
       "  'size': 76346,\n",
       "  'stargazers_count': 61857,\n",
       "  'watchers_count': 61857,\n",
       "  'language': 'Python',\n",
       "  'has_issues': True,\n",
       "  'has_projects': True,\n",
       "  'has_downloads': True,\n",
       "  'has_wiki': True,\n",
       "  'has_pages': True,\n",
       "  'has_discussions': True,\n",
       "  'forks_count': 5759,\n",
       "  'mirror_url': None,\n",
       "  'archived': False,\n",
       "  'disabled': False,\n",
       "  'open_issues_count': 416,\n",
       "  'license': {'key': 'mit',\n",
       "   'name': 'MIT License',\n",
       "   'spdx_id': 'MIT',\n",
       "   'url': 'https://api.github.com/licenses/mit',\n",
       "   'node_id': 'MDc6TGljZW5zZTEz'},\n",
       "  'allow_forking': True,\n",
       "  'is_template': False,\n",
       "  'web_commit_signoff_required': False,\n",
       "  'topics': ['3b1b-videos', 'animation', 'explanatory-math-videos', 'python'],\n",
       "  'visibility': 'public',\n",
       "  'forks': 5759,\n",
       "  'open_issues': 416,\n",
       "  'watchers': 61857,\n",
       "  'default_branch': 'master',\n",
       "  'score': 1.0},\n",
       " {'id': 33015583,\n",
       "  'node_id': 'MDEwOlJlcG9zaXRvcnkzMzAxNTU4Mw==',\n",
       "  'name': 'keras',\n",
       "  'full_name': 'keras-team/keras',\n",
       "  'private': False,\n",
       "  'owner': {'login': 'keras-team',\n",
       "   'id': 34455048,\n",
       "   'node_id': 'MDEyOk9yZ2FuaXphdGlvbjM0NDU1MDQ4',\n",
       "   'avatar_url': 'https://avatars.githubusercontent.com/u/34455048?v=4',\n",
       "   'gravatar_id': '',\n",
       "   'url': 'https://api.github.com/users/keras-team',\n",
       "   'html_url': 'https://github.com/keras-team',\n",
       "   'followers_url': 'https://api.github.com/users/keras-team/followers',\n",
       "   'following_url': 'https://api.github.com/users/keras-team/following{/other_user}',\n",
       "   'gists_url': 'https://api.github.com/users/keras-team/gists{/gist_id}',\n",
       "   'starred_url': 'https://api.github.com/users/keras-team/starred{/owner}{/repo}',\n",
       "   'subscriptions_url': 'https://api.github.com/users/keras-team/subscriptions',\n",
       "   'organizations_url': 'https://api.github.com/users/keras-team/orgs',\n",
       "   'repos_url': 'https://api.github.com/users/keras-team/repos',\n",
       "   'events_url': 'https://api.github.com/users/keras-team/events{/privacy}',\n",
       "   'received_events_url': 'https://api.github.com/users/keras-team/received_events',\n",
       "   'type': 'Organization',\n",
       "   'site_admin': False},\n",
       "  'html_url': 'https://github.com/keras-team/keras',\n",
       "  'description': 'Deep Learning for humans',\n",
       "  'fork': False,\n",
       "  'url': 'https://api.github.com/repos/keras-team/keras',\n",
       "  'forks_url': 'https://api.github.com/repos/keras-team/keras/forks',\n",
       "  'keys_url': 'https://api.github.com/repos/keras-team/keras/keys{/key_id}',\n",
       "  'collaborators_url': 'https://api.github.com/repos/keras-team/keras/collaborators{/collaborator}',\n",
       "  'teams_url': 'https://api.github.com/repos/keras-team/keras/teams',\n",
       "  'hooks_url': 'https://api.github.com/repos/keras-team/keras/hooks',\n",
       "  'issue_events_url': 'https://api.github.com/repos/keras-team/keras/issues/events{/number}',\n",
       "  'events_url': 'https://api.github.com/repos/keras-team/keras/events',\n",
       "  'assignees_url': 'https://api.github.com/repos/keras-team/keras/assignees{/user}',\n",
       "  'branches_url': 'https://api.github.com/repos/keras-team/keras/branches{/branch}',\n",
       "  'tags_url': 'https://api.github.com/repos/keras-team/keras/tags',\n",
       "  'blobs_url': 'https://api.github.com/repos/keras-team/keras/git/blobs{/sha}',\n",
       "  'git_tags_url': 'https://api.github.com/repos/keras-team/keras/git/tags{/sha}',\n",
       "  'git_refs_url': 'https://api.github.com/repos/keras-team/keras/git/refs{/sha}',\n",
       "  'trees_url': 'https://api.github.com/repos/keras-team/keras/git/trees{/sha}',\n",
       "  'statuses_url': 'https://api.github.com/repos/keras-team/keras/statuses/{sha}',\n",
       "  'languages_url': 'https://api.github.com/repos/keras-team/keras/languages',\n",
       "  'stargazers_url': 'https://api.github.com/repos/keras-team/keras/stargazers',\n",
       "  'contributors_url': 'https://api.github.com/repos/keras-team/keras/contributors',\n",
       "  'subscribers_url': 'https://api.github.com/repos/keras-team/keras/subscribers',\n",
       "  'subscription_url': 'https://api.github.com/repos/keras-team/keras/subscription',\n",
       "  'commits_url': 'https://api.github.com/repos/keras-team/keras/commits{/sha}',\n",
       "  'git_commits_url': 'https://api.github.com/repos/keras-team/keras/git/commits{/sha}',\n",
       "  'comments_url': 'https://api.github.com/repos/keras-team/keras/comments{/number}',\n",
       "  'issue_comment_url': 'https://api.github.com/repos/keras-team/keras/issues/comments{/number}',\n",
       "  'contents_url': 'https://api.github.com/repos/keras-team/keras/contents/{+path}',\n",
       "  'compare_url': 'https://api.github.com/repos/keras-team/keras/compare/{base}...{head}',\n",
       "  'merges_url': 'https://api.github.com/repos/keras-team/keras/merges',\n",
       "  'archive_url': 'https://api.github.com/repos/keras-team/keras/{archive_format}{/ref}',\n",
       "  'downloads_url': 'https://api.github.com/repos/keras-team/keras/downloads',\n",
       "  'issues_url': 'https://api.github.com/repos/keras-team/keras/issues{/number}',\n",
       "  'pulls_url': 'https://api.github.com/repos/keras-team/keras/pulls{/number}',\n",
       "  'milestones_url': 'https://api.github.com/repos/keras-team/keras/milestones{/number}',\n",
       "  'notifications_url': 'https://api.github.com/repos/keras-team/keras/notifications{?since,all,participating}',\n",
       "  'labels_url': 'https://api.github.com/repos/keras-team/keras/labels{/name}',\n",
       "  'releases_url': 'https://api.github.com/repos/keras-team/keras/releases{/id}',\n",
       "  'deployments_url': 'https://api.github.com/repos/keras-team/keras/deployments',\n",
       "  'created_at': '2015-03-28T00:35:42Z',\n",
       "  'updated_at': '2024-09-10T20:24:07Z',\n",
       "  'pushed_at': '2024-09-09T23:07:54Z',\n",
       "  'git_url': 'git://github.com/keras-team/keras.git',\n",
       "  'ssh_url': 'git@github.com:keras-team/keras.git',\n",
       "  'clone_url': 'https://github.com/keras-team/keras.git',\n",
       "  'svn_url': 'https://github.com/keras-team/keras',\n",
       "  'homepage': 'http://keras.io/',\n",
       "  'size': 43061,\n",
       "  'stargazers_count': 61588,\n",
       "  'watchers_count': 61588,\n",
       "  'language': 'Python',\n",
       "  'has_issues': True,\n",
       "  'has_projects': True,\n",
       "  'has_downloads': True,\n",
       "  'has_wiki': True,\n",
       "  'has_pages': False,\n",
       "  'has_discussions': True,\n",
       "  'forks_count': 19415,\n",
       "  'mirror_url': None,\n",
       "  'archived': False,\n",
       "  'disabled': False,\n",
       "  'open_issues_count': 244,\n",
       "  'license': {'key': 'apache-2.0',\n",
       "   'name': 'Apache License 2.0',\n",
       "   'spdx_id': 'Apache-2.0',\n",
       "   'url': 'https://api.github.com/licenses/apache-2.0',\n",
       "   'node_id': 'MDc6TGljZW5zZTI='},\n",
       "  'allow_forking': True,\n",
       "  'is_template': False,\n",
       "  'web_commit_signoff_required': False,\n",
       "  'topics': ['data-science',\n",
       "   'deep-learning',\n",
       "   'jax',\n",
       "   'machine-learning',\n",
       "   'neural-networks',\n",
       "   'python',\n",
       "   'pytorch',\n",
       "   'tensorflow'],\n",
       "  'visibility': 'public',\n",
       "  'forks': 19415,\n",
       "  'open_issues': 244,\n",
       "  'watchers': 61588,\n",
       "  'default_branch': 'master',\n",
       "  'score': 1.0},\n",
       " {'id': 101138315,\n",
       "  'node_id': 'MDEwOlJlcG9zaXRvcnkxMDExMzgzMTU=',\n",
       "  'name': 'd2l-zh',\n",
       "  'full_name': 'd2l-ai/d2l-zh',\n",
       "  'private': False,\n",
       "  'owner': {'login': 'd2l-ai',\n",
       "   'id': 43974506,\n",
       "   'node_id': 'MDEyOk9yZ2FuaXphdGlvbjQzOTc0NTA2',\n",
       "   'avatar_url': 'https://avatars.githubusercontent.com/u/43974506?v=4',\n",
       "   'gravatar_id': '',\n",
       "   'url': 'https://api.github.com/users/d2l-ai',\n",
       "   'html_url': 'https://github.com/d2l-ai',\n",
       "   'followers_url': 'https://api.github.com/users/d2l-ai/followers',\n",
       "   'following_url': 'https://api.github.com/users/d2l-ai/following{/other_user}',\n",
       "   'gists_url': 'https://api.github.com/users/d2l-ai/gists{/gist_id}',\n",
       "   'starred_url': 'https://api.github.com/users/d2l-ai/starred{/owner}{/repo}',\n",
       "   'subscriptions_url': 'https://api.github.com/users/d2l-ai/subscriptions',\n",
       "   'organizations_url': 'https://api.github.com/users/d2l-ai/orgs',\n",
       "   'repos_url': 'https://api.github.com/users/d2l-ai/repos',\n",
       "   'events_url': 'https://api.github.com/users/d2l-ai/events{/privacy}',\n",
       "   'received_events_url': 'https://api.github.com/users/d2l-ai/received_events',\n",
       "   'type': 'Organization',\n",
       "   'site_admin': False},\n",
       "  'html_url': 'https://github.com/d2l-ai/d2l-zh',\n",
       "  'description': '《动手学深度学习》：面向中文读者、能运行、可讨论。中英文版被70多个国家的500多所大学用于教学。',\n",
       "  'fork': False,\n",
       "  'url': 'https://api.github.com/repos/d2l-ai/d2l-zh',\n",
       "  'forks_url': 'https://api.github.com/repos/d2l-ai/d2l-zh/forks',\n",
       "  'keys_url': 'https://api.github.com/repos/d2l-ai/d2l-zh/keys{/key_id}',\n",
       "  'collaborators_url': 'https://api.github.com/repos/d2l-ai/d2l-zh/collaborators{/collaborator}',\n",
       "  'teams_url': 'https://api.github.com/repos/d2l-ai/d2l-zh/teams',\n",
       "  'hooks_url': 'https://api.github.com/repos/d2l-ai/d2l-zh/hooks',\n",
       "  'issue_events_url': 'https://api.github.com/repos/d2l-ai/d2l-zh/issues/events{/number}',\n",
       "  'events_url': 'https://api.github.com/repos/d2l-ai/d2l-zh/events',\n",
       "  'assignees_url': 'https://api.github.com/repos/d2l-ai/d2l-zh/assignees{/user}',\n",
       "  'branches_url': 'https://api.github.com/repos/d2l-ai/d2l-zh/branches{/branch}',\n",
       "  'tags_url': 'https://api.github.com/repos/d2l-ai/d2l-zh/tags',\n",
       "  'blobs_url': 'https://api.github.com/repos/d2l-ai/d2l-zh/git/blobs{/sha}',\n",
       "  'git_tags_url': 'https://api.github.com/repos/d2l-ai/d2l-zh/git/tags{/sha}',\n",
       "  'git_refs_url': 'https://api.github.com/repos/d2l-ai/d2l-zh/git/refs{/sha}',\n",
       "  'trees_url': 'https://api.github.com/repos/d2l-ai/d2l-zh/git/trees{/sha}',\n",
       "  'statuses_url': 'https://api.github.com/repos/d2l-ai/d2l-zh/statuses/{sha}',\n",
       "  'languages_url': 'https://api.github.com/repos/d2l-ai/d2l-zh/languages',\n",
       "  'stargazers_url': 'https://api.github.com/repos/d2l-ai/d2l-zh/stargazers',\n",
       "  'contributors_url': 'https://api.github.com/repos/d2l-ai/d2l-zh/contributors',\n",
       "  'subscribers_url': 'https://api.github.com/repos/d2l-ai/d2l-zh/subscribers',\n",
       "  'subscription_url': 'https://api.github.com/repos/d2l-ai/d2l-zh/subscription',\n",
       "  'commits_url': 'https://api.github.com/repos/d2l-ai/d2l-zh/commits{/sha}',\n",
       "  'git_commits_url': 'https://api.github.com/repos/d2l-ai/d2l-zh/git/commits{/sha}',\n",
       "  'comments_url': 'https://api.github.com/repos/d2l-ai/d2l-zh/comments{/number}',\n",
       "  'issue_comment_url': 'https://api.github.com/repos/d2l-ai/d2l-zh/issues/comments{/number}',\n",
       "  'contents_url': 'https://api.github.com/repos/d2l-ai/d2l-zh/contents/{+path}',\n",
       "  'compare_url': 'https://api.github.com/repos/d2l-ai/d2l-zh/compare/{base}...{head}',\n",
       "  'merges_url': 'https://api.github.com/repos/d2l-ai/d2l-zh/merges',\n",
       "  'archive_url': 'https://api.github.com/repos/d2l-ai/d2l-zh/{archive_format}{/ref}',\n",
       "  'downloads_url': 'https://api.github.com/repos/d2l-ai/d2l-zh/downloads',\n",
       "  'issues_url': 'https://api.github.com/repos/d2l-ai/d2l-zh/issues{/number}',\n",
       "  'pulls_url': 'https://api.github.com/repos/d2l-ai/d2l-zh/pulls{/number}',\n",
       "  'milestones_url': 'https://api.github.com/repos/d2l-ai/d2l-zh/milestones{/number}',\n",
       "  'notifications_url': 'https://api.github.com/repos/d2l-ai/d2l-zh/notifications{?since,all,participating}',\n",
       "  'labels_url': 'https://api.github.com/repos/d2l-ai/d2l-zh/labels{/name}',\n",
       "  'releases_url': 'https://api.github.com/repos/d2l-ai/d2l-zh/releases{/id}',\n",
       "  'deployments_url': 'https://api.github.com/repos/d2l-ai/d2l-zh/deployments',\n",
       "  'created_at': '2017-08-23T04:40:24Z',\n",
       "  'updated_at': '2024-09-10T16:31:35Z',\n",
       "  'pushed_at': '2024-07-30T09:32:19Z',\n",
       "  'git_url': 'git://github.com/d2l-ai/d2l-zh.git',\n",
       "  'ssh_url': 'git@github.com:d2l-ai/d2l-zh.git',\n",
       "  'clone_url': 'https://github.com/d2l-ai/d2l-zh.git',\n",
       "  'svn_url': 'https://github.com/d2l-ai/d2l-zh',\n",
       "  'homepage': 'http://zh.d2l.ai',\n",
       "  'size': 316965,\n",
       "  'stargazers_count': 61188,\n",
       "  'watchers_count': 61188,\n",
       "  'language': 'Python',\n",
       "  'has_issues': False,\n",
       "  'has_projects': False,\n",
       "  'has_downloads': True,\n",
       "  'has_wiki': False,\n",
       "  'has_pages': False,\n",
       "  'has_discussions': False,\n",
       "  'forks_count': 10842,\n",
       "  'mirror_url': None,\n",
       "  'archived': False,\n",
       "  'disabled': False,\n",
       "  'open_issues_count': 84,\n",
       "  'license': {'key': 'apache-2.0',\n",
       "   'name': 'Apache License 2.0',\n",
       "   'spdx_id': 'Apache-2.0',\n",
       "   'url': 'https://api.github.com/licenses/apache-2.0',\n",
       "   'node_id': 'MDc6TGljZW5zZTI='},\n",
       "  'allow_forking': True,\n",
       "  'is_template': False,\n",
       "  'web_commit_signoff_required': False,\n",
       "  'topics': ['book',\n",
       "   'chinese',\n",
       "   'computer-vision',\n",
       "   'deep-learning',\n",
       "   'machine-learning',\n",
       "   'natural-language-processing',\n",
       "   'notebook',\n",
       "   'python'],\n",
       "  'visibility': 'public',\n",
       "  'forks': 10842,\n",
       "  'open_issues': 84,\n",
       "  'watchers': 61188,\n",
       "  'default_branch': 'master',\n",
       "  'score': 1.0},\n",
       " {'id': 620936652,\n",
       "  'node_id': 'R_kgDOJQK9zA',\n",
       "  'name': 'gpt4free',\n",
       "  'full_name': 'xtekky/gpt4free',\n",
       "  'private': False,\n",
       "  'owner': {'login': 'xtekky',\n",
       "   'id': 98614666,\n",
       "   'node_id': 'U_kgDOBeC9ig',\n",
       "   'avatar_url': 'https://avatars.githubusercontent.com/u/98614666?v=4',\n",
       "   'gravatar_id': '',\n",
       "   'url': 'https://api.github.com/users/xtekky',\n",
       "   'html_url': 'https://github.com/xtekky',\n",
       "   'followers_url': 'https://api.github.com/users/xtekky/followers',\n",
       "   'following_url': 'https://api.github.com/users/xtekky/following{/other_user}',\n",
       "   'gists_url': 'https://api.github.com/users/xtekky/gists{/gist_id}',\n",
       "   'starred_url': 'https://api.github.com/users/xtekky/starred{/owner}{/repo}',\n",
       "   'subscriptions_url': 'https://api.github.com/users/xtekky/subscriptions',\n",
       "   'organizations_url': 'https://api.github.com/users/xtekky/orgs',\n",
       "   'repos_url': 'https://api.github.com/users/xtekky/repos',\n",
       "   'events_url': 'https://api.github.com/users/xtekky/events{/privacy}',\n",
       "   'received_events_url': 'https://api.github.com/users/xtekky/received_events',\n",
       "   'type': 'User',\n",
       "   'site_admin': False},\n",
       "  'html_url': 'https://github.com/xtekky/gpt4free',\n",
       "  'description': 'The official gpt4free repository | various collection of powerful language models',\n",
       "  'fork': False,\n",
       "  'url': 'https://api.github.com/repos/xtekky/gpt4free',\n",
       "  'forks_url': 'https://api.github.com/repos/xtekky/gpt4free/forks',\n",
       "  'keys_url': 'https://api.github.com/repos/xtekky/gpt4free/keys{/key_id}',\n",
       "  'collaborators_url': 'https://api.github.com/repos/xtekky/gpt4free/collaborators{/collaborator}',\n",
       "  'teams_url': 'https://api.github.com/repos/xtekky/gpt4free/teams',\n",
       "  'hooks_url': 'https://api.github.com/repos/xtekky/gpt4free/hooks',\n",
       "  'issue_events_url': 'https://api.github.com/repos/xtekky/gpt4free/issues/events{/number}',\n",
       "  'events_url': 'https://api.github.com/repos/xtekky/gpt4free/events',\n",
       "  'assignees_url': 'https://api.github.com/repos/xtekky/gpt4free/assignees{/user}',\n",
       "  'branches_url': 'https://api.github.com/repos/xtekky/gpt4free/branches{/branch}',\n",
       "  'tags_url': 'https://api.github.com/repos/xtekky/gpt4free/tags',\n",
       "  'blobs_url': 'https://api.github.com/repos/xtekky/gpt4free/git/blobs{/sha}',\n",
       "  'git_tags_url': 'https://api.github.com/repos/xtekky/gpt4free/git/tags{/sha}',\n",
       "  'git_refs_url': 'https://api.github.com/repos/xtekky/gpt4free/git/refs{/sha}',\n",
       "  'trees_url': 'https://api.github.com/repos/xtekky/gpt4free/git/trees{/sha}',\n",
       "  'statuses_url': 'https://api.github.com/repos/xtekky/gpt4free/statuses/{sha}',\n",
       "  'languages_url': 'https://api.github.com/repos/xtekky/gpt4free/languages',\n",
       "  'stargazers_url': 'https://api.github.com/repos/xtekky/gpt4free/stargazers',\n",
       "  'contributors_url': 'https://api.github.com/repos/xtekky/gpt4free/contributors',\n",
       "  'subscribers_url': 'https://api.github.com/repos/xtekky/gpt4free/subscribers',\n",
       "  'subscription_url': 'https://api.github.com/repos/xtekky/gpt4free/subscription',\n",
       "  'commits_url': 'https://api.github.com/repos/xtekky/gpt4free/commits{/sha}',\n",
       "  'git_commits_url': 'https://api.github.com/repos/xtekky/gpt4free/git/commits{/sha}',\n",
       "  'comments_url': 'https://api.github.com/repos/xtekky/gpt4free/comments{/number}',\n",
       "  'issue_comment_url': 'https://api.github.com/repos/xtekky/gpt4free/issues/comments{/number}',\n",
       "  'contents_url': 'https://api.github.com/repos/xtekky/gpt4free/contents/{+path}',\n",
       "  'compare_url': 'https://api.github.com/repos/xtekky/gpt4free/compare/{base}...{head}',\n",
       "  'merges_url': 'https://api.github.com/repos/xtekky/gpt4free/merges',\n",
       "  'archive_url': 'https://api.github.com/repos/xtekky/gpt4free/{archive_format}{/ref}',\n",
       "  'downloads_url': 'https://api.github.com/repos/xtekky/gpt4free/downloads',\n",
       "  'issues_url': 'https://api.github.com/repos/xtekky/gpt4free/issues{/number}',\n",
       "  'pulls_url': 'https://api.github.com/repos/xtekky/gpt4free/pulls{/number}',\n",
       "  'milestones_url': 'https://api.github.com/repos/xtekky/gpt4free/milestones{/number}',\n",
       "  'notifications_url': 'https://api.github.com/repos/xtekky/gpt4free/notifications{?since,all,participating}',\n",
       "  'labels_url': 'https://api.github.com/repos/xtekky/gpt4free/labels{/name}',\n",
       "  'releases_url': 'https://api.github.com/repos/xtekky/gpt4free/releases{/id}',\n",
       "  'deployments_url': 'https://api.github.com/repos/xtekky/gpt4free/deployments',\n",
       "  'created_at': '2023-03-29T17:00:43Z',\n",
       "  'updated_at': '2024-09-10T21:06:28Z',\n",
       "  'pushed_at': '2024-09-07T19:40:42Z',\n",
       "  'git_url': 'git://github.com/xtekky/gpt4free.git',\n",
       "  'ssh_url': 'git@github.com:xtekky/gpt4free.git',\n",
       "  'clone_url': 'https://github.com/xtekky/gpt4free.git',\n",
       "  'svn_url': 'https://github.com/xtekky/gpt4free',\n",
       "  'homepage': 'https://g4f.ai',\n",
       "  'size': 162453,\n",
       "  'stargazers_count': 59894,\n",
       "  'watchers_count': 59894,\n",
       "  'language': 'Python',\n",
       "  'has_issues': True,\n",
       "  'has_projects': True,\n",
       "  'has_downloads': True,\n",
       "  'has_wiki': True,\n",
       "  'has_pages': False,\n",
       "  'has_discussions': True,\n",
       "  'forks_count': 13206,\n",
       "  'mirror_url': None,\n",
       "  'archived': False,\n",
       "  'disabled': False,\n",
       "  'open_issues_count': 11,\n",
       "  'license': {'key': 'gpl-3.0',\n",
       "   'name': 'GNU General Public License v3.0',\n",
       "   'spdx_id': 'GPL-3.0',\n",
       "   'url': 'https://api.github.com/licenses/gpl-3.0',\n",
       "   'node_id': 'MDc6TGljZW5zZTk='},\n",
       "  'allow_forking': True,\n",
       "  'is_template': False,\n",
       "  'web_commit_signoff_required': False,\n",
       "  'topics': ['chatbot',\n",
       "   'chatbots',\n",
       "   'chatgpt',\n",
       "   'chatgpt-4',\n",
       "   'chatgpt-api',\n",
       "   'chatgpt-free',\n",
       "   'chatgpt4',\n",
       "   'free-gpt',\n",
       "   'gpt',\n",
       "   'gpt-3',\n",
       "   'gpt-4',\n",
       "   'gpt3',\n",
       "   'gpt4',\n",
       "   'gpt4-api',\n",
       "   'language-model',\n",
       "   'openai',\n",
       "   'openai-api',\n",
       "   'openai-chatgpt',\n",
       "   'python',\n",
       "   'reverse-engineering'],\n",
       "  'visibility': 'public',\n",
       "  'forks': 13206,\n",
       "  'open_issues': 11,\n",
       "  'watchers': 59894,\n",
       "  'default_branch': 'main',\n",
       "  'score': 1.0},\n",
       " {'id': 71220757,\n",
       "  'node_id': 'MDEwOlJlcG9zaXRvcnk3MTIyMDc1Nw==',\n",
       "  'name': 'PayloadsAllTheThings',\n",
       "  'full_name': 'swisskyrepo/PayloadsAllTheThings',\n",
       "  'private': False,\n",
       "  'owner': {'login': 'swisskyrepo',\n",
       "   'id': 12152583,\n",
       "   'node_id': 'MDQ6VXNlcjEyMTUyNTgz',\n",
       "   'avatar_url': 'https://avatars.githubusercontent.com/u/12152583?v=4',\n",
       "   'gravatar_id': '',\n",
       "   'url': 'https://api.github.com/users/swisskyrepo',\n",
       "   'html_url': 'https://github.com/swisskyrepo',\n",
       "   'followers_url': 'https://api.github.com/users/swisskyrepo/followers',\n",
       "   'following_url': 'https://api.github.com/users/swisskyrepo/following{/other_user}',\n",
       "   'gists_url': 'https://api.github.com/users/swisskyrepo/gists{/gist_id}',\n",
       "   'starred_url': 'https://api.github.com/users/swisskyrepo/starred{/owner}{/repo}',\n",
       "   'subscriptions_url': 'https://api.github.com/users/swisskyrepo/subscriptions',\n",
       "   'organizations_url': 'https://api.github.com/users/swisskyrepo/orgs',\n",
       "   'repos_url': 'https://api.github.com/users/swisskyrepo/repos',\n",
       "   'events_url': 'https://api.github.com/users/swisskyrepo/events{/privacy}',\n",
       "   'received_events_url': 'https://api.github.com/users/swisskyrepo/received_events',\n",
       "   'type': 'User',\n",
       "   'site_admin': False},\n",
       "  'html_url': 'https://github.com/swisskyrepo/PayloadsAllTheThings',\n",
       "  'description': 'A list of useful payloads and bypass for Web Application Security and Pentest/CTF',\n",
       "  'fork': False,\n",
       "  'url': 'https://api.github.com/repos/swisskyrepo/PayloadsAllTheThings',\n",
       "  'forks_url': 'https://api.github.com/repos/swisskyrepo/PayloadsAllTheThings/forks',\n",
       "  'keys_url': 'https://api.github.com/repos/swisskyrepo/PayloadsAllTheThings/keys{/key_id}',\n",
       "  'collaborators_url': 'https://api.github.com/repos/swisskyrepo/PayloadsAllTheThings/collaborators{/collaborator}',\n",
       "  'teams_url': 'https://api.github.com/repos/swisskyrepo/PayloadsAllTheThings/teams',\n",
       "  'hooks_url': 'https://api.github.com/repos/swisskyrepo/PayloadsAllTheThings/hooks',\n",
       "  'issue_events_url': 'https://api.github.com/repos/swisskyrepo/PayloadsAllTheThings/issues/events{/number}',\n",
       "  'events_url': 'https://api.github.com/repos/swisskyrepo/PayloadsAllTheThings/events',\n",
       "  'assignees_url': 'https://api.github.com/repos/swisskyrepo/PayloadsAllTheThings/assignees{/user}',\n",
       "  'branches_url': 'https://api.github.com/repos/swisskyrepo/PayloadsAllTheThings/branches{/branch}',\n",
       "  'tags_url': 'https://api.github.com/repos/swisskyrepo/PayloadsAllTheThings/tags',\n",
       "  'blobs_url': 'https://api.github.com/repos/swisskyrepo/PayloadsAllTheThings/git/blobs{/sha}',\n",
       "  'git_tags_url': 'https://api.github.com/repos/swisskyrepo/PayloadsAllTheThings/git/tags{/sha}',\n",
       "  'git_refs_url': 'https://api.github.com/repos/swisskyrepo/PayloadsAllTheThings/git/refs{/sha}',\n",
       "  'trees_url': 'https://api.github.com/repos/swisskyrepo/PayloadsAllTheThings/git/trees{/sha}',\n",
       "  'statuses_url': 'https://api.github.com/repos/swisskyrepo/PayloadsAllTheThings/statuses/{sha}',\n",
       "  'languages_url': 'https://api.github.com/repos/swisskyrepo/PayloadsAllTheThings/languages',\n",
       "  'stargazers_url': 'https://api.github.com/repos/swisskyrepo/PayloadsAllTheThings/stargazers',\n",
       "  'contributors_url': 'https://api.github.com/repos/swisskyrepo/PayloadsAllTheThings/contributors',\n",
       "  'subscribers_url': 'https://api.github.com/repos/swisskyrepo/PayloadsAllTheThings/subscribers',\n",
       "  'subscription_url': 'https://api.github.com/repos/swisskyrepo/PayloadsAllTheThings/subscription',\n",
       "  'commits_url': 'https://api.github.com/repos/swisskyrepo/PayloadsAllTheThings/commits{/sha}',\n",
       "  'git_commits_url': 'https://api.github.com/repos/swisskyrepo/PayloadsAllTheThings/git/commits{/sha}',\n",
       "  'comments_url': 'https://api.github.com/repos/swisskyrepo/PayloadsAllTheThings/comments{/number}',\n",
       "  'issue_comment_url': 'https://api.github.com/repos/swisskyrepo/PayloadsAllTheThings/issues/comments{/number}',\n",
       "  'contents_url': 'https://api.github.com/repos/swisskyrepo/PayloadsAllTheThings/contents/{+path}',\n",
       "  'compare_url': 'https://api.github.com/repos/swisskyrepo/PayloadsAllTheThings/compare/{base}...{head}',\n",
       "  'merges_url': 'https://api.github.com/repos/swisskyrepo/PayloadsAllTheThings/merges',\n",
       "  'archive_url': 'https://api.github.com/repos/swisskyrepo/PayloadsAllTheThings/{archive_format}{/ref}',\n",
       "  'downloads_url': 'https://api.github.com/repos/swisskyrepo/PayloadsAllTheThings/downloads',\n",
       "  'issues_url': 'https://api.github.com/repos/swisskyrepo/PayloadsAllTheThings/issues{/number}',\n",
       "  'pulls_url': 'https://api.github.com/repos/swisskyrepo/PayloadsAllTheThings/pulls{/number}',\n",
       "  'milestones_url': 'https://api.github.com/repos/swisskyrepo/PayloadsAllTheThings/milestones{/number}',\n",
       "  'notifications_url': 'https://api.github.com/repos/swisskyrepo/PayloadsAllTheThings/notifications{?since,all,participating}',\n",
       "  'labels_url': 'https://api.github.com/repos/swisskyrepo/PayloadsAllTheThings/labels{/name}',\n",
       "  'releases_url': 'https://api.github.com/repos/swisskyrepo/PayloadsAllTheThings/releases{/id}',\n",
       "  'deployments_url': 'https://api.github.com/repos/swisskyrepo/PayloadsAllTheThings/deployments',\n",
       "  'created_at': '2016-10-18T07:29:07Z',\n",
       "  'updated_at': '2024-09-10T22:41:21Z',\n",
       "  'pushed_at': '2024-09-06T20:02:04Z',\n",
       "  'git_url': 'git://github.com/swisskyrepo/PayloadsAllTheThings.git',\n",
       "  'ssh_url': 'git@github.com:swisskyrepo/PayloadsAllTheThings.git',\n",
       "  'clone_url': 'https://github.com/swisskyrepo/PayloadsAllTheThings.git',\n",
       "  'svn_url': 'https://github.com/swisskyrepo/PayloadsAllTheThings',\n",
       "  'homepage': 'https://swisskyrepo.github.io/PayloadsAllTheThings/',\n",
       "  'size': 21879,\n",
       "  'stargazers_count': 59889,\n",
       "  'watchers_count': 59889,\n",
       "  'language': 'Python',\n",
       "  'has_issues': False,\n",
       "  'has_projects': True,\n",
       "  'has_downloads': True,\n",
       "  'has_wiki': False,\n",
       "  'has_pages': True,\n",
       "  'has_discussions': False,\n",
       "  'forks_count': 14442,\n",
       "  'mirror_url': None,\n",
       "  'archived': False,\n",
       "  'disabled': False,\n",
       "  'open_issues_count': 27,\n",
       "  'license': {'key': 'mit',\n",
       "   'name': 'MIT License',\n",
       "   'spdx_id': 'MIT',\n",
       "   'url': 'https://api.github.com/licenses/mit',\n",
       "   'node_id': 'MDc6TGljZW5zZTEz'},\n",
       "  'allow_forking': True,\n",
       "  'is_template': False,\n",
       "  'web_commit_signoff_required': False,\n",
       "  'topics': ['bounty',\n",
       "   'bugbounty',\n",
       "   'bypass',\n",
       "   'cheatsheet',\n",
       "   'enumeration',\n",
       "   'hacking',\n",
       "   'hacktoberfest',\n",
       "   'methodology',\n",
       "   'payload',\n",
       "   'payloads',\n",
       "   'penetration-testing',\n",
       "   'pentest',\n",
       "   'privilege-escalation',\n",
       "   'redteam',\n",
       "   'security',\n",
       "   'vulnerability',\n",
       "   'web-application'],\n",
       "  'visibility': 'public',\n",
       "  'forks': 14442,\n",
       "  'open_issues': 27,\n",
       "  'watchers': 59889,\n",
       "  'default_branch': 'master',\n",
       "  'score': 1.0}]"
      ]
     },
     "execution_count": 146,
     "metadata": {},
     "output_type": "execute_result"
    }
   ],
   "source": [
    "repo_dicts"
   ]
  },
  {
   "cell_type": "code",
   "execution_count": 130,
   "id": "88c6f826-5be4-4cb0-ad9e-f5ebc5eef0e7",
   "metadata": {
    "scrolled": true
   },
   "outputs": [
    {
     "name": "stdout",
     "output_type": "stream",
     "text": [
      "\n",
      "keys: 80\n",
      "allow_forking\n",
      "archive_url\n",
      "archived\n",
      "assignees_url\n",
      "blobs_url\n",
      "branches_url\n",
      "clone_url\n",
      "collaborators_url\n",
      "comments_url\n",
      "commits_url\n",
      "compare_url\n",
      "contents_url\n",
      "contributors_url\n",
      "created_at\n",
      "default_branch\n",
      "deployments_url\n",
      "description\n",
      "disabled\n",
      "downloads_url\n",
      "events_url\n",
      "fork\n",
      "forks\n",
      "forks_count\n",
      "forks_url\n",
      "full_name\n",
      "git_commits_url\n",
      "git_refs_url\n",
      "git_tags_url\n",
      "git_url\n",
      "has_discussions\n",
      "has_downloads\n",
      "has_issues\n",
      "has_pages\n",
      "has_projects\n",
      "has_wiki\n",
      "homepage\n",
      "hooks_url\n",
      "html_url\n",
      "id\n",
      "is_template\n",
      "issue_comment_url\n",
      "issue_events_url\n",
      "issues_url\n",
      "keys_url\n",
      "labels_url\n",
      "language\n",
      "languages_url\n",
      "license\n",
      "merges_url\n",
      "milestones_url\n",
      "mirror_url\n",
      "name\n",
      "node_id\n",
      "notifications_url\n",
      "open_issues\n",
      "open_issues_count\n",
      "owner\n",
      "private\n",
      "pulls_url\n",
      "pushed_at\n",
      "releases_url\n",
      "score\n",
      "size\n",
      "ssh_url\n",
      "stargazers_count\n",
      "stargazers_url\n",
      "statuses_url\n",
      "subscribers_url\n",
      "subscription_url\n",
      "svn_url\n",
      "tags_url\n",
      "teams_url\n",
      "topics\n",
      "trees_url\n",
      "updated_at\n",
      "url\n",
      "visibility\n",
      "watchers\n",
      "watchers_count\n",
      "web_commit_signoff_required\n"
     ]
    }
   ],
   "source": [
    "## Examine the first repository\n",
    "repo_dict = repo_dicts[0]\n",
    "print(f\"\\nkeys: {len(repo_dict)}\")\n",
    "\n",
    "for key in sorted(repo_dict.keys()):\n",
    "    print(key)"
   ]
  },
  {
   "cell_type": "markdown",
   "id": "63f09a17-ee19-4b3a-bca1-bba18c0b096e",
   "metadata": {},
   "source": [
    "### printing out some useful insights "
   ]
  },
  {
   "cell_type": "code",
   "execution_count": 142,
   "id": "4131b01d-7ffd-4943-945c-1ca293bb172e",
   "metadata": {},
   "outputs": [
    {
     "name": "stdout",
     "output_type": "stream",
     "text": [
      "\n",
      "\tSelected information about first repository: \n",
      "Name: public-apis\n",
      "Owner: public-apis\n",
      "Stars: 311932\n",
      "Repository: https://github.com/public-apis/public-apis\n",
      "Created: 2016-03-20T23:49:42Z\n",
      "Updated: 2024-09-10T22:09:43Z\n",
      "Description: A collective list of free APIs\n"
     ]
    }
   ],
   "source": [
    "print(\"\\n\\tSelected information about first repository: \")\n",
    "\n",
    "print(f\"Name: {repo_dict['name']}\")\n",
    "print(f\"Owner: {repo_dict['owner']['login']}\")\n",
    "print(f\"Stars: {repo_dict['stargazers_count']}\")\n",
    "print(f\"Repository: {repo_dict['html_url']}\")\n",
    "print(f\"Created: {repo_dict['created_at']}\")\n",
    "print(f\"Updated: {repo_dict['updated_at']}\")\n",
    "print(f\"Description: {repo_dict['description']}\")"
   ]
  },
  {
   "cell_type": "code",
   "execution_count": null,
   "id": "595d8a2e-94fa-4b10-b6fd-96f96701188e",
   "metadata": {},
   "outputs": [],
   "source": []
  },
  {
   "cell_type": "markdown",
   "id": "e14c999c-03c2-401f-b24a-a3692969c540",
   "metadata": {},
   "source": [
    "## Summarizing the Top Repositories"
   ]
  },
  {
   "cell_type": "code",
   "execution_count": 161,
   "id": "64aaf345-4cb0-45ef-9806-94cfdabe0385",
   "metadata": {
    "scrolled": true
   },
   "outputs": [
    {
     "name": "stdout",
     "output_type": "stream",
     "text": [
      "\n",
      "Selected information about each repository:\n",
      "\tName: public-apis\n",
      "Owner: public-apis\n",
      "Stars: 311932\n",
      "Repository: https://github.com/public-apis/public-apis\n",
      "Description: A collective list of free APIs\n",
      "\tName: system-design-primer\n",
      "Owner: donnemartin\n",
      "Stars: 269049\n",
      "Repository: https://github.com/donnemartin/system-design-primer\n",
      "Description: Learn how to design large-scale systems. Prep for the system design interview.  Includes Anki flashcards.\n",
      "\tName: awesome-python\n",
      "Owner: vinta\n",
      "Stars: 218213\n",
      "Repository: https://github.com/vinta/awesome-python\n",
      "Description: An opinionated list of awesome Python frameworks, libraries, software and resources.\n",
      "\tName: Python\n",
      "Owner: TheAlgorithms\n",
      "Stars: 184011\n",
      "Repository: https://github.com/TheAlgorithms/Python\n",
      "Description: All Algorithms implemented in Python\n",
      "\tName: AutoGPT\n",
      "Owner: Significant-Gravitas\n",
      "Stars: 166374\n",
      "Repository: https://github.com/Significant-Gravitas/AutoGPT\n",
      "Description: AutoGPT is the vision of accessible AI for everyone, to use and to build on. Our mission is to provide the tools, so that you can focus on what matters.\n",
      "\tName: Python-100-Days\n",
      "Owner: jackfrued\n",
      "Stars: 154609\n",
      "Repository: https://github.com/jackfrued/Python-100-Days\n",
      "Description: Python - 100天从新手到大师\n",
      "\tName: stable-diffusion-webui\n",
      "Owner: AUTOMATIC1111\n",
      "Stars: 139339\n",
      "Repository: https://github.com/AUTOMATIC1111/stable-diffusion-webui\n",
      "Description: Stable Diffusion web UI\n",
      "\tName: transformers\n",
      "Owner: huggingface\n",
      "Stars: 131826\n",
      "Repository: https://github.com/huggingface/transformers\n",
      "Description: 🤗 Transformers: State-of-the-art Machine Learning for Pytorch, TensorFlow, and JAX.\n",
      "\tName: youtube-dl\n",
      "Owner: ytdl-org\n",
      "Stars: 131235\n",
      "Repository: https://github.com/ytdl-org/youtube-dl\n",
      "Description: Command-line program to download videos from YouTube.com and other video sites\n",
      "\tName: HelloGitHub\n",
      "Owner: 521xueweihan\n",
      "Stars: 90278\n",
      "Repository: https://github.com/521xueweihan/HelloGitHub\n",
      "Description: :octocat: 分享 GitHub 上有趣、入门级的开源项目。Share interesting, entry-level open source projects on GitHub.\n",
      "\tName: thefuck\n",
      "Owner: nvbn\n",
      "Stars: 84655\n",
      "Repository: https://github.com/nvbn/thefuck\n",
      "Description: Magnificent app which corrects your previous console command.\n",
      "\tName: yt-dlp\n",
      "Owner: yt-dlp\n",
      "Stars: 82124\n",
      "Repository: https://github.com/yt-dlp/yt-dlp\n",
      "Description: A feature-rich command-line audio/video downloader\n",
      "\tName: pytorch\n",
      "Owner: pytorch\n",
      "Stars: 82043\n",
      "Repository: https://github.com/pytorch/pytorch\n",
      "Description: Tensors and Dynamic neural networks in Python with strong GPU acceleration\n",
      "\tName: django\n",
      "Owner: django\n",
      "Stars: 79102\n",
      "Repository: https://github.com/django/django\n",
      "Description: The Web framework for perfectionists with deadlines.\n",
      "\tName: models\n",
      "Owner: tensorflow\n",
      "Stars: 76946\n",
      "Repository: https://github.com/tensorflow/models\n",
      "Description: Models and examples built with TensorFlow\n",
      "\tName: fastapi\n",
      "Owner: fastapi\n",
      "Stars: 75465\n",
      "Repository: https://github.com/fastapi/fastapi\n",
      "Description: FastAPI framework, high performance, easy to learn, fast to code, ready for production\n",
      "\tName: core\n",
      "Owner: home-assistant\n",
      "Stars: 71096\n",
      "Repository: https://github.com/home-assistant/core\n",
      "Description: :house_with_garden: Open source home automation that puts local control and privacy first.\n",
      "\tName: funNLP\n",
      "Owner: fighting41love\n",
      "Stars: 67562\n",
      "Repository: https://github.com/fighting41love/funNLP\n",
      "Description: 中英文敏感词、语言检测、中外手机/电话归属地/运营商查询、名字推断性别、手机号抽取、身份证抽取、邮箱抽取、中日文人名库、中文缩写库、拆字词典、词汇情感值、停用词、反动词表、暴恐词表、繁简体转换、英文模拟中文发音、汪峰歌词生成器、职业名称词库、同义词库、反义词库、否定词库、汽车品牌词库、汽车零件词库、连续英文切割、各种中文词向量、公司名字大全、古诗词库、IT词库、财经词库、成语词库、地名词库、历史名人词库、诗词词库、医学词库、饮食词库、法律词库、汽车词库、动物词库、中文聊天语料、中文谣言数据、百度中文问答数据集、句子相似度匹配算法集合、bert资源、文本生成&摘要相关工具、cocoNLP信息抽取工具、国内电话号码正则匹配、清华大学XLORE:中英文跨语言百科知识图谱、清华大学人工智能技术系列报告、自然语言生成、NLU太难了系列、自动对联数据及机器人、用户名黑名单列表、罪名法务名词及分类模型、微信公众号语料、cs224n深度学习自然语言处理课程、中文手写汉字识别、中文自然语言处理 语料/数据集、变量命名神器、分词语料库+代码、任务型对话英文数据集、ASR 语音数据集 + 基于深度学习的中文语音识别系统、笑声检测器、Microsoft多语言数字/单位/如日期时间识别包、中华新华字典数据库及api(包括常用歇后语、成语、词语和汉字)、文档图谱自动生成、SpaCy 中文模型、Common Voice语音识别数据集新版、神经网络关系抽取、基于bert的命名实体识别、关键词(Keyphrase)抽取包pke、基于医疗领域知识图谱的问答系统、基于依存句法与语义角色标注的事件三元组抽取、依存句法分析4万句高质量标注数据、cnocr：用来做中文OCR的Python3包、中文人物关系知识图谱项目、中文nlp竞赛项目及代码汇总、中文字符数据、speech-aligner: 从“人声语音”及其“语言文本”产生音素级别时间对齐标注的工具、AmpliGraph: 知识图谱表示学习(Python)库：知识图谱概念链接预测、Scattertext 文本可视化(python)、语言/知识表示工具：BERT & ERNIE、中文对比英文自然语言处理NLP的区别综述、Synonyms中文近义词工具包、HarvestText领域自适应文本挖掘工具（新词发现-情感分析-实体链接等）、word2word：(Python)方便易用的多语言词-词对集：62种语言/3,564个多语言对、语音识别语料生成工具：从具有音频/字幕的在线视频创建自动语音识别(ASR)语料库、构建医疗实体识别的模型（包含词典和语料标注）、单文档非监督的关键词抽取、Kashgari中使用gpt-2语言模型、开源的金融投资数据提取工具、文本自动摘要库TextTeaser: 仅支持英文、人民日报语料处理工具集、一些关于自然语言的基本模型、基于14W歌曲知识库的问答尝试--功能包括歌词接龙and已知歌词找歌曲以及歌曲歌手歌词三角关系的问答、基于Siamese bilstm模型的相似句子判定模型并提供训练数据集和测试数据集、用Transformer编解码模型实现的根据Hacker News文章标题自动生成评论、用BERT进行序列标记和文本分类的模板代码、LitBank：NLP数据集——支持自然语言处理和计算人文学科任务的100部带标记英文小说语料、百度开源的基准信息抽取系统、虚假新闻数据集、Facebook: LAMA语言模型分析，提供Transformer-XL/BERT/ELMo/GPT预训练语言模型的统一访问接口、CommonsenseQA：面向常识的英文QA挑战、中文知识图谱资料、数据及工具、各大公司内部里大牛分享的技术文档 PDF 或者 PPT、自然语言生成SQL语句（英文）、中文NLP数据增强（EDA）工具、英文NLP数据增强工具 、基于医药知识图谱的智能问答系统、京东商品知识图谱、基于mongodb存储的军事领域知识图谱问答项目、基于远监督的中文关系抽取、语音情感分析、中文ULMFiT-情感分析-文本分类-语料及模型、一个拍照做题程序、世界各国大规模人名库、一个利用有趣中文语料库 qingyun 训练出来的中文聊天机器人、中文聊天机器人seqGAN、省市区镇行政区划数据带拼音标注、教育行业新闻语料库包含自动文摘功能、开放了对话机器人-知识图谱-语义理解-自然语言处理工具及数据、中文知识图谱：基于百度百科中文页面-抽取三元组信息-构建中文知识图谱、masr: 中文语音识别-提供预训练模型-高识别率、Python音频数据增广库、中文全词覆盖BERT及两份阅读理解数据、ConvLab：开源多域端到端对话系统平台、中文自然语言处理数据集、基于最新版本rasa搭建的对话系统、基于TensorFlow和BERT的管道式实体及关系抽取、一个小型的证券知识图谱/知识库、复盘所有NLP比赛的TOP方案、OpenCLaP：多领域开源中文预训练语言模型仓库、UER：基于不同语料+编码器+目标任务的中文预训练模型仓库、中文自然语言处理向量合集、基于金融-司法领域(兼有闲聊性质)的聊天机器人、g2pC：基于上下文的汉语读音自动标记模块、Zincbase 知识图谱构建工具包、诗歌质量评价/细粒度情感诗歌语料库、快速转化「中文数字」和「阿拉伯数字」、百度知道问答语料库、基于知识图谱的问答系统、jieba_fast 加速版的jieba、正则表达式教程、中文阅读理解数据集、基于BERT等最新语言模型的抽取式摘要提取、Python利用深度学习进行文本摘要的综合指南、知识图谱深度学习相关资料整理、维基大规模平行文本语料、StanfordNLP 0.2.0：纯Python版自然语言处理包、NeuralNLP-NeuralClassifier：腾讯开源深度学习文本分类工具、端到端的封闭域对话系统、中文命名实体识别：NeuroNER vs. BertNER、新闻事件线索抽取、2019年百度的三元组抽取比赛：“科学空间队”源码、基于依存句法的开放域文本知识三元组抽取和知识库构建、中文的GPT2训练代码、ML-NLP - 机器学习(Machine Learning)NLP面试中常考到的知识点和代码实现、nlp4han:中文自然语言处理工具集(断句/分词/词性标注/组块/句法分析/语义分析/NER/N元语法/HMM/代词消解/情感分析/拼写检查、XLM：Facebook的跨语言预训练语言模型、用基于BERT的微调和特征提取方法来进行知识图谱百度百科人物词条属性抽取、中文自然语言处理相关的开放任务-数据集-当前最佳结果、CoupletAI - 基于CNN+Bi-LSTM+Attention 的自动对对联系统、抽象知识图谱、MiningZhiDaoQACorpus - 580万百度知道问答数据挖掘项目、brat rapid annotation tool: 序列标注工具、大规模中文知识图谱数据：1.4亿实体、数据增强在机器翻译及其他nlp任务中的应用及效果、allennlp阅读理解:支持多种数据和模型、PDF表格数据提取工具 、 Graphbrain：AI开源软件库和科研工具，目的是促进自动意义提取和文本理解以及知识的探索和推断、简历自动筛选系统、基于命名实体识别的简历自动摘要、中文语言理解测评基准，包括代表性的数据集&基准模型&语料库&排行榜、树洞 OCR 文字识别 、从包含表格的扫描图片中识别表格和文字、语声迁移、Python口语自然语言处理工具集(英文)、 similarity：相似度计算工具包，java编写、海量中文预训练ALBERT模型 、Transformers 2.0 、基于大规模音频数据集Audioset的音频增强 、Poplar：网页版自然语言标注工具、图片文字去除，可用于漫画翻译 、186种语言的数字叫法库、Amazon发布基于知识的人-人开放领域对话数据集 、中文文本纠错模块代码、繁简体转换 、 Python实现的多种文本可读性评价指标、类似于人名/地名/组织机构名的命名体识别数据集 、东南大学《知识图谱》研究生课程(资料)、. 英文拼写检查库 、 wwsearch是企业微信后台自研的全文检索引擎、CHAMELEON：深度学习新闻推荐系统元架构 、 8篇论文梳理BERT相关模型进展与反思、DocSearch：免费文档搜索引擎、 LIDA：轻量交互式对话标注工具 、aili - the fastest in-memory index in the East 东半球最快并发索引 、知识图谱车音工作项目、自然语言生成资源大全 、中日韩分词库mecab的Python接口库、中文文本摘要/关键词提取、汉字字符特征提取器 (featurizer)，提取汉字的特征（发音特征、字形特征）用做深度学习的特征、中文生成任务基准测评 、中文缩写数据集、中文任务基准测评 - 代表性的数据集-基准(预训练)模型-语料库-baseline-工具包-排行榜、PySS3：面向可解释AI的SS3文本分类器机器可视化工具 、中文NLP数据集列表、COPE - 格律诗编辑程序、doccano：基于网页的开源协同多语言文本标注工具 、PreNLP：自然语言预处理库、简单的简历解析器，用来从简历中提取关键信息、用于中文闲聊的GPT2模型：GPT2-chitchat、基于检索聊天机器人多轮响应选择相关资源列表(Leaderboards、Datasets、Papers)、(Colab)抽象文本摘要实现集锦(教程 、词语拼音数据、高效模糊搜索工具、NLP数据增广资源集、微软对话机器人框架 、 GitHub Typo Corpus：大规模GitHub多语言拼写错误/语法错误数据集、TextCluster：短文本聚类预处理模块 Short text cluster、面向语音识别的中文文本规范化、BLINK：最先进的实体链接库、BertPunc：基于BERT的最先进标点修复模型、Tokenizer：快速、可定制的文本词条化库、中文语言理解测评基准，包括代表性的数据集、基准(预训练)模型、语料库、排行榜、spaCy 医学文本挖掘与信息提取 、 NLP任务示例项目代码集、 python拼写检查库、chatbot-list - 行业内关于智能客服、聊天机器人的应用和架构、算法分享和介绍、语音质量评价指标(MOSNet, BSSEval, STOI, PESQ, SRMR)、 用138GB语料训练的法文RoBERTa预训练语言模型 、BERT-NER-Pytorch：三种不同模式的BERT中文NER实验、无道词典 - 有道词典的命令行版本，支持英汉互查和在线查询、2019年NLP亮点回顾、 Chinese medical dialogue data 中文医疗对话数据集 、最好的汉字数字(中文数字)-阿拉伯数字转换工具、 基于百科知识库的中文词语多词义/义项获取与特定句子词语语义消歧、awesome-nlp-sentiment-analysis - 情感分析、情绪原因识别、评价对象和评价词抽取、LineFlow：面向所有深度学习框架的NLP数据高效加载器、中文医学NLP公开资源整理 、MedQuAD：(英文)医学问答数据集、将自然语言数字串解析转换为整数和浮点数、Transfer Learning in Natural Language Processing (NLP) 、面向语音识别的中文/英文发音辞典、Tokenizers：注重性能与多功能性的最先进分词器、CLUENER 细粒度命名实体识别 Fine Grained Named Entity Recognition、 基于BERT的中文命名实体识别、中文谣言数据库、NLP数据集/基准任务大列表、nlp相关的一些论文及代码, 包括主题模型、词向量(Word Embedding)、命名实体识别(NER)、文本分类(Text Classificatin)、文本生成(Text Generation)、文本相似性(Text Similarity)计算等，涉及到各种与nlp相关的算法，基于keras和tensorflow 、Python文本挖掘/NLP实战示例、 Blackstone：面向非结构化法律文本的spaCy pipeline和NLP模型通过同义词替换实现文本“变脸” 、中文 预训练 ELECTREA 模型: 基于对抗学习 pretrain Chinese Model 、albert-chinese-ner - 用预训练语言模型ALBERT做中文NER 、基于GPT2的特定主题文本生成/文本增广、开源预训练语言模型合集、多语言句向量包、编码、标记和实现：一种可控高效的文本生成方法、 英文脏话大列表 、attnvis：GPT2、BERT等transformer语言模型注意力交互可视化、CoVoST：Facebook发布的多语种语音-文本翻译语料库，包括11种语言(法语、德语、荷兰语、俄语、西班牙语、意大利语、土耳其语、波斯语、瑞典语、蒙古语和中文)的语音、文字转录及英文译文、Jiagu自然语言处理工具 - 以BiLSTM等模型为基础，提供知识图谱关系抽取 中文分词 词性标注 命名实体识别 情感分析 新词发现 关键词 文本摘要 文本聚类等功能、用unet实现对文档表格的自动检测，表格重建、NLP事件提取文献资源列表 、 金融领域自然语言处理研究资源大列表、CLUEDatasetSearch - 中英文NLP数据集：搜索所有中文NLP数据集，附常用英文NLP数据集 、medical_NER - 中文医学知识图谱命名实体识别 、(哈佛)讲因果推理的免费书、知识图谱相关学习资料/数据集/工具资源大列表、Forte：灵活强大的自然语言处理pipeline工具集 、Python字符串相似性算法库、PyLaia：面向手写文档分析的深度学习工具包、TextFooler：针对文本分类/推理的对抗文本生成模块、Haystack：灵活、强大的可扩展问答(QA)框架、中文关键短语抽取工具\n",
      "\tName: flask\n",
      "Owner: pallets\n",
      "Stars: 67518\n",
      "Repository: https://github.com/pallets/flask\n",
      "Description: The Python micro framework for building web applications.\n",
      "\tName: whisper\n",
      "Owner: openai\n",
      "Stars: 67294\n",
      "Repository: https://github.com/openai/whisper\n",
      "Description: Robust Speech Recognition via Large-Scale Weak Supervision\n",
      "\tName: devops-exercises\n",
      "Owner: bregman-arie\n",
      "Stars: 65775\n",
      "Repository: https://github.com/bregman-arie/devops-exercises\n",
      "Description: Linux, Jenkins, AWS, SRE, Prometheus, Docker, Python, Ansible, Git, Kubernetes, Terraform, OpenStack, SQL, NoSQL, Azure, GCP, DNS, Elastic, Network, Virtualization. DevOps Interview Questions\n",
      "\tName: awesome-machine-learning\n",
      "Owner: josephmisiti\n",
      "Stars: 65323\n",
      "Repository: https://github.com/josephmisiti/awesome-machine-learning\n",
      "Description: A curated list of awesome Machine Learning frameworks, libraries and software.\n",
      "\tName: gpt_academic\n",
      "Owner: binary-husky\n",
      "Stars: 63815\n",
      "Repository: https://github.com/binary-husky/gpt_academic\n",
      "Description: 为GPT/GLM等LLM大语言模型提供实用化交互接口，特别优化论文阅读/润色/写作体验，模块化设计，支持自定义快捷按钮&函数插件，支持Python和C++等项目剖析&自译解功能，PDF/LaTex论文翻译&总结功能，支持并行问询多种LLM模型，支持chatglm3等本地模型。接入通义千问, deepseekcoder, 讯飞星火, 文心一言, llama2, rwkv, claude2, moss等。\n",
      "\tName: ansible\n",
      "Owner: ansible\n",
      "Stars: 62307\n",
      "Repository: https://github.com/ansible/ansible\n",
      "Description: Ansible is a radically simple IT automation platform that makes your applications and systems easier to deploy and maintain. Automate everything from code deployment to network configuration to cloud management, in a language that approaches plain English, using SSH, with no agents to install on remote systems. https://docs.ansible.com.\n",
      "\tName: cpython\n",
      "Owner: python\n",
      "Stars: 62239\n",
      "Repository: https://github.com/python/cpython\n",
      "Description: The Python programming language\n",
      "\tName: manim\n",
      "Owner: 3b1b\n",
      "Stars: 61857\n",
      "Repository: https://github.com/3b1b/manim\n",
      "Description: Animation engine for explanatory math videos\n",
      "\tName: keras\n",
      "Owner: keras-team\n",
      "Stars: 61588\n",
      "Repository: https://github.com/keras-team/keras\n",
      "Description: Deep Learning for humans\n",
      "\tName: d2l-zh\n",
      "Owner: d2l-ai\n",
      "Stars: 61188\n",
      "Repository: https://github.com/d2l-ai/d2l-zh\n",
      "Description: 《动手学深度学习》：面向中文读者、能运行、可讨论。中英文版被70多个国家的500多所大学用于教学。\n",
      "\tName: gpt4free\n",
      "Owner: xtekky\n",
      "Stars: 59894\n",
      "Repository: https://github.com/xtekky/gpt4free\n",
      "Description: The official gpt4free repository | various collection of powerful language models\n",
      "\tName: PayloadsAllTheThings\n",
      "Owner: swisskyrepo\n",
      "Stars: 59889\n",
      "Repository: https://github.com/swisskyrepo/PayloadsAllTheThings\n",
      "Description: A list of useful payloads and bypass for Web Application Security and Pentest/CTF\n"
     ]
    }
   ],
   "source": [
    "print(\"\\nSelected information about each repository:\")\n",
    "for repo_dict in repo_dicts:\n",
    "    print(f\"\\tName: {repo_dict['name']}\")\n",
    "    print(f\"Owner: {repo_dict['owner']['login']}\")\n",
    "    print(f\"Stars: {repo_dict['stargazers_count']}\")\n",
    "    print(f\"Repository: {repo_dict['html_url']}\")\n",
    "    print(f\"Description: {repo_dict['description']}\")"
   ]
  },
  {
   "cell_type": "code",
   "execution_count": null,
   "id": "bfed0358-a220-4468-87f8-2241c15669eb",
   "metadata": {},
   "outputs": [],
   "source": []
  },
  {
   "cell_type": "markdown",
   "id": "eceb71b8-0a1f-440d-99f6-44677fdceb01",
   "metadata": {},
   "source": [
    "## create variables to hold useful information needed for visualization"
   ]
  },
  {
   "cell_type": "code",
   "execution_count": 171,
   "id": "f44b2269-925a-4041-9e36-2e2a39ac9ad5",
   "metadata": {},
   "outputs": [],
   "source": [
    "repo_names, stars = [],[]\n",
    "\n",
    "for repo_dict in repo_dicts:\n",
    "    repo_names.append(repo_dict['name'])\n",
    "    stars.append(repo_dict['stargazers_count'])  "
   ]
  },
  {
   "cell_type": "code",
   "execution_count": null,
   "id": "2a4799f4-8b74-4773-9cf7-07c47b0f6ad0",
   "metadata": {},
   "outputs": [],
   "source": []
  },
  {
   "cell_type": "markdown",
   "id": "76938233-2d1a-49aa-b0b4-9276e24b15f8",
   "metadata": {},
   "source": [
    "### visualize the extracted information from the loo using plotly\n"
   ]
  },
  {
   "cell_type": "code",
   "execution_count": 199,
   "id": "f35a1be8-c389-4dd3-9b5c-18255ae67813",
   "metadata": {},
   "outputs": [
    {
     "data": {
      "application/vnd.plotly.v1+json": {
       "config": {
        "plotlyServerURL": "https://plot.ly"
       },
       "data": [
        {
         "alignmentgroup": "True",
         "hovertemplate": "Repository=%{x}<br>Stars=%{y}<extra></extra>",
         "legendgroup": "",
         "marker": {
          "color": "#636efa",
          "pattern": {
           "shape": ""
          }
         },
         "name": "",
         "offsetgroup": "",
         "orientation": "v",
         "showlegend": false,
         "textposition": "auto",
         "type": "bar",
         "x": [
          "public-apis",
          "system-design-primer",
          "awesome-python",
          "Python",
          "AutoGPT",
          "Python-100-Days",
          "stable-diffusion-webui",
          "transformers",
          "youtube-dl",
          "HelloGitHub",
          "thefuck",
          "yt-dlp",
          "pytorch",
          "django",
          "models",
          "fastapi",
          "core",
          "funNLP",
          "flask",
          "whisper",
          "devops-exercises",
          "awesome-machine-learning",
          "gpt_academic",
          "ansible",
          "cpython",
          "manim",
          "keras",
          "d2l-zh",
          "gpt4free",
          "PayloadsAllTheThings"
         ],
         "xaxis": "x",
         "y": [
          311932,
          269049,
          218213,
          184011,
          166374,
          154609,
          139339,
          131826,
          131235,
          90278,
          84655,
          82124,
          82043,
          79102,
          76946,
          75465,
          71096,
          67562,
          67518,
          67294,
          65775,
          65323,
          63815,
          62307,
          62239,
          61857,
          61588,
          61188,
          59894,
          59889
         ],
         "yaxis": "y"
        }
       ],
       "layout": {
        "autosize": true,
        "barmode": "relative",
        "dragmode": "zoom",
        "legend": {
         "tracegroupgap": 0
        },
        "template": {
         "data": {
          "bar": [
           {
            "error_x": {
             "color": "#2a3f5f"
            },
            "error_y": {
             "color": "#2a3f5f"
            },
            "marker": {
             "line": {
              "color": "#E5ECF6",
              "width": 0.5
             },
             "pattern": {
              "fillmode": "overlay",
              "size": 10,
              "solidity": 0.2
             }
            },
            "type": "bar"
           }
          ],
          "barpolar": [
           {
            "marker": {
             "line": {
              "color": "#E5ECF6",
              "width": 0.5
             },
             "pattern": {
              "fillmode": "overlay",
              "size": 10,
              "solidity": 0.2
             }
            },
            "type": "barpolar"
           }
          ],
          "carpet": [
           {
            "aaxis": {
             "endlinecolor": "#2a3f5f",
             "gridcolor": "white",
             "linecolor": "white",
             "minorgridcolor": "white",
             "startlinecolor": "#2a3f5f"
            },
            "baxis": {
             "endlinecolor": "#2a3f5f",
             "gridcolor": "white",
             "linecolor": "white",
             "minorgridcolor": "white",
             "startlinecolor": "#2a3f5f"
            },
            "type": "carpet"
           }
          ],
          "choropleth": [
           {
            "colorbar": {
             "outlinewidth": 0,
             "ticks": ""
            },
            "type": "choropleth"
           }
          ],
          "contour": [
           {
            "colorbar": {
             "outlinewidth": 0,
             "ticks": ""
            },
            "colorscale": [
             [
              0,
              "#0d0887"
             ],
             [
              0.1111111111111111,
              "#46039f"
             ],
             [
              0.2222222222222222,
              "#7201a8"
             ],
             [
              0.3333333333333333,
              "#9c179e"
             ],
             [
              0.4444444444444444,
              "#bd3786"
             ],
             [
              0.5555555555555556,
              "#d8576b"
             ],
             [
              0.6666666666666666,
              "#ed7953"
             ],
             [
              0.7777777777777778,
              "#fb9f3a"
             ],
             [
              0.8888888888888888,
              "#fdca26"
             ],
             [
              1,
              "#f0f921"
             ]
            ],
            "type": "contour"
           }
          ],
          "contourcarpet": [
           {
            "colorbar": {
             "outlinewidth": 0,
             "ticks": ""
            },
            "type": "contourcarpet"
           }
          ],
          "heatmap": [
           {
            "colorbar": {
             "outlinewidth": 0,
             "ticks": ""
            },
            "colorscale": [
             [
              0,
              "#0d0887"
             ],
             [
              0.1111111111111111,
              "#46039f"
             ],
             [
              0.2222222222222222,
              "#7201a8"
             ],
             [
              0.3333333333333333,
              "#9c179e"
             ],
             [
              0.4444444444444444,
              "#bd3786"
             ],
             [
              0.5555555555555556,
              "#d8576b"
             ],
             [
              0.6666666666666666,
              "#ed7953"
             ],
             [
              0.7777777777777778,
              "#fb9f3a"
             ],
             [
              0.8888888888888888,
              "#fdca26"
             ],
             [
              1,
              "#f0f921"
             ]
            ],
            "type": "heatmap"
           }
          ],
          "heatmapgl": [
           {
            "colorbar": {
             "outlinewidth": 0,
             "ticks": ""
            },
            "colorscale": [
             [
              0,
              "#0d0887"
             ],
             [
              0.1111111111111111,
              "#46039f"
             ],
             [
              0.2222222222222222,
              "#7201a8"
             ],
             [
              0.3333333333333333,
              "#9c179e"
             ],
             [
              0.4444444444444444,
              "#bd3786"
             ],
             [
              0.5555555555555556,
              "#d8576b"
             ],
             [
              0.6666666666666666,
              "#ed7953"
             ],
             [
              0.7777777777777778,
              "#fb9f3a"
             ],
             [
              0.8888888888888888,
              "#fdca26"
             ],
             [
              1,
              "#f0f921"
             ]
            ],
            "type": "heatmapgl"
           }
          ],
          "histogram": [
           {
            "marker": {
             "pattern": {
              "fillmode": "overlay",
              "size": 10,
              "solidity": 0.2
             }
            },
            "type": "histogram"
           }
          ],
          "histogram2d": [
           {
            "colorbar": {
             "outlinewidth": 0,
             "ticks": ""
            },
            "colorscale": [
             [
              0,
              "#0d0887"
             ],
             [
              0.1111111111111111,
              "#46039f"
             ],
             [
              0.2222222222222222,
              "#7201a8"
             ],
             [
              0.3333333333333333,
              "#9c179e"
             ],
             [
              0.4444444444444444,
              "#bd3786"
             ],
             [
              0.5555555555555556,
              "#d8576b"
             ],
             [
              0.6666666666666666,
              "#ed7953"
             ],
             [
              0.7777777777777778,
              "#fb9f3a"
             ],
             [
              0.8888888888888888,
              "#fdca26"
             ],
             [
              1,
              "#f0f921"
             ]
            ],
            "type": "histogram2d"
           }
          ],
          "histogram2dcontour": [
           {
            "colorbar": {
             "outlinewidth": 0,
             "ticks": ""
            },
            "colorscale": [
             [
              0,
              "#0d0887"
             ],
             [
              0.1111111111111111,
              "#46039f"
             ],
             [
              0.2222222222222222,
              "#7201a8"
             ],
             [
              0.3333333333333333,
              "#9c179e"
             ],
             [
              0.4444444444444444,
              "#bd3786"
             ],
             [
              0.5555555555555556,
              "#d8576b"
             ],
             [
              0.6666666666666666,
              "#ed7953"
             ],
             [
              0.7777777777777778,
              "#fb9f3a"
             ],
             [
              0.8888888888888888,
              "#fdca26"
             ],
             [
              1,
              "#f0f921"
             ]
            ],
            "type": "histogram2dcontour"
           }
          ],
          "mesh3d": [
           {
            "colorbar": {
             "outlinewidth": 0,
             "ticks": ""
            },
            "type": "mesh3d"
           }
          ],
          "parcoords": [
           {
            "line": {
             "colorbar": {
              "outlinewidth": 0,
              "ticks": ""
             }
            },
            "type": "parcoords"
           }
          ],
          "pie": [
           {
            "automargin": true,
            "type": "pie"
           }
          ],
          "scatter": [
           {
            "fillpattern": {
             "fillmode": "overlay",
             "size": 10,
             "solidity": 0.2
            },
            "type": "scatter"
           }
          ],
          "scatter3d": [
           {
            "line": {
             "colorbar": {
              "outlinewidth": 0,
              "ticks": ""
             }
            },
            "marker": {
             "colorbar": {
              "outlinewidth": 0,
              "ticks": ""
             }
            },
            "type": "scatter3d"
           }
          ],
          "scattercarpet": [
           {
            "marker": {
             "colorbar": {
              "outlinewidth": 0,
              "ticks": ""
             }
            },
            "type": "scattercarpet"
           }
          ],
          "scattergeo": [
           {
            "marker": {
             "colorbar": {
              "outlinewidth": 0,
              "ticks": ""
             }
            },
            "type": "scattergeo"
           }
          ],
          "scattergl": [
           {
            "marker": {
             "colorbar": {
              "outlinewidth": 0,
              "ticks": ""
             }
            },
            "type": "scattergl"
           }
          ],
          "scattermapbox": [
           {
            "marker": {
             "colorbar": {
              "outlinewidth": 0,
              "ticks": ""
             }
            },
            "type": "scattermapbox"
           }
          ],
          "scatterpolar": [
           {
            "marker": {
             "colorbar": {
              "outlinewidth": 0,
              "ticks": ""
             }
            },
            "type": "scatterpolar"
           }
          ],
          "scatterpolargl": [
           {
            "marker": {
             "colorbar": {
              "outlinewidth": 0,
              "ticks": ""
             }
            },
            "type": "scatterpolargl"
           }
          ],
          "scatterternary": [
           {
            "marker": {
             "colorbar": {
              "outlinewidth": 0,
              "ticks": ""
             }
            },
            "type": "scatterternary"
           }
          ],
          "surface": [
           {
            "colorbar": {
             "outlinewidth": 0,
             "ticks": ""
            },
            "colorscale": [
             [
              0,
              "#0d0887"
             ],
             [
              0.1111111111111111,
              "#46039f"
             ],
             [
              0.2222222222222222,
              "#7201a8"
             ],
             [
              0.3333333333333333,
              "#9c179e"
             ],
             [
              0.4444444444444444,
              "#bd3786"
             ],
             [
              0.5555555555555556,
              "#d8576b"
             ],
             [
              0.6666666666666666,
              "#ed7953"
             ],
             [
              0.7777777777777778,
              "#fb9f3a"
             ],
             [
              0.8888888888888888,
              "#fdca26"
             ],
             [
              1,
              "#f0f921"
             ]
            ],
            "type": "surface"
           }
          ],
          "table": [
           {
            "cells": {
             "fill": {
              "color": "#EBF0F8"
             },
             "line": {
              "color": "white"
             }
            },
            "header": {
             "fill": {
              "color": "#C8D4E3"
             },
             "line": {
              "color": "white"
             }
            },
            "type": "table"
           }
          ]
         },
         "layout": {
          "annotationdefaults": {
           "arrowcolor": "#2a3f5f",
           "arrowhead": 0,
           "arrowwidth": 1
          },
          "autotypenumbers": "strict",
          "coloraxis": {
           "colorbar": {
            "outlinewidth": 0,
            "ticks": ""
           }
          },
          "colorscale": {
           "diverging": [
            [
             0,
             "#8e0152"
            ],
            [
             0.1,
             "#c51b7d"
            ],
            [
             0.2,
             "#de77ae"
            ],
            [
             0.3,
             "#f1b6da"
            ],
            [
             0.4,
             "#fde0ef"
            ],
            [
             0.5,
             "#f7f7f7"
            ],
            [
             0.6,
             "#e6f5d0"
            ],
            [
             0.7,
             "#b8e186"
            ],
            [
             0.8,
             "#7fbc41"
            ],
            [
             0.9,
             "#4d9221"
            ],
            [
             1,
             "#276419"
            ]
           ],
           "sequential": [
            [
             0,
             "#0d0887"
            ],
            [
             0.1111111111111111,
             "#46039f"
            ],
            [
             0.2222222222222222,
             "#7201a8"
            ],
            [
             0.3333333333333333,
             "#9c179e"
            ],
            [
             0.4444444444444444,
             "#bd3786"
            ],
            [
             0.5555555555555556,
             "#d8576b"
            ],
            [
             0.6666666666666666,
             "#ed7953"
            ],
            [
             0.7777777777777778,
             "#fb9f3a"
            ],
            [
             0.8888888888888888,
             "#fdca26"
            ],
            [
             1,
             "#f0f921"
            ]
           ],
           "sequentialminus": [
            [
             0,
             "#0d0887"
            ],
            [
             0.1111111111111111,
             "#46039f"
            ],
            [
             0.2222222222222222,
             "#7201a8"
            ],
            [
             0.3333333333333333,
             "#9c179e"
            ],
            [
             0.4444444444444444,
             "#bd3786"
            ],
            [
             0.5555555555555556,
             "#d8576b"
            ],
            [
             0.6666666666666666,
             "#ed7953"
            ],
            [
             0.7777777777777778,
             "#fb9f3a"
            ],
            [
             0.8888888888888888,
             "#fdca26"
            ],
            [
             1,
             "#f0f921"
            ]
           ]
          },
          "colorway": [
           "#636efa",
           "#EF553B",
           "#00cc96",
           "#ab63fa",
           "#FFA15A",
           "#19d3f3",
           "#FF6692",
           "#B6E880",
           "#FF97FF",
           "#FECB52"
          ],
          "font": {
           "color": "#2a3f5f"
          },
          "geo": {
           "bgcolor": "white",
           "lakecolor": "white",
           "landcolor": "#E5ECF6",
           "showlakes": true,
           "showland": true,
           "subunitcolor": "white"
          },
          "hoverlabel": {
           "align": "left"
          },
          "hovermode": "closest",
          "mapbox": {
           "style": "light"
          },
          "paper_bgcolor": "white",
          "plot_bgcolor": "#E5ECF6",
          "polar": {
           "angularaxis": {
            "gridcolor": "white",
            "linecolor": "white",
            "ticks": ""
           },
           "bgcolor": "#E5ECF6",
           "radialaxis": {
            "gridcolor": "white",
            "linecolor": "white",
            "ticks": ""
           }
          },
          "scene": {
           "xaxis": {
            "backgroundcolor": "#E5ECF6",
            "gridcolor": "white",
            "gridwidth": 2,
            "linecolor": "white",
            "showbackground": true,
            "ticks": "",
            "zerolinecolor": "white"
           },
           "yaxis": {
            "backgroundcolor": "#E5ECF6",
            "gridcolor": "white",
            "gridwidth": 2,
            "linecolor": "white",
            "showbackground": true,
            "ticks": "",
            "zerolinecolor": "white"
           },
           "zaxis": {
            "backgroundcolor": "#E5ECF6",
            "gridcolor": "white",
            "gridwidth": 2,
            "linecolor": "white",
            "showbackground": true,
            "ticks": "",
            "zerolinecolor": "white"
           }
          },
          "shapedefaults": {
           "line": {
            "color": "#2a3f5f"
           }
          },
          "ternary": {
           "aaxis": {
            "gridcolor": "white",
            "linecolor": "white",
            "ticks": ""
           },
           "baxis": {
            "gridcolor": "white",
            "linecolor": "white",
            "ticks": ""
           },
           "bgcolor": "#E5ECF6",
           "caxis": {
            "gridcolor": "white",
            "linecolor": "white",
            "ticks": ""
           }
          },
          "title": {
           "x": 0.05
          },
          "xaxis": {
           "automargin": true,
           "gridcolor": "white",
           "linecolor": "white",
           "ticks": "",
           "title": {
            "standoff": 15
           },
           "zerolinecolor": "white",
           "zerolinewidth": 2
          },
          "yaxis": {
           "automargin": true,
           "gridcolor": "white",
           "linecolor": "white",
           "ticks": "",
           "title": {
            "standoff": 15
           },
           "zerolinecolor": "white",
           "zerolinewidth": 2
          }
         }
        },
        "title": {
         "font": {
          "size": 28
         },
         "text": "Most-Starred Python projects on Github"
        },
        "xaxis": {
         "anchor": "y",
         "autorange": true,
         "domain": [
          0,
          1
         ],
         "range": [
          -0.5,
          29.5
         ],
         "title": {
          "font": {
           "size": 20
          },
          "text": "Repository"
         },
         "type": "category"
        },
        "yaxis": {
         "anchor": "x",
         "autorange": true,
         "domain": [
          0,
          1
         ],
         "range": [
          0,
          328349.4736842105
         ],
         "title": {
          "font": {
           "size": 20
          },
          "text": "Stars"
         },
         "type": "linear"
        }
       }
      },
      "image/png": "[encoded data removed]",
      "text/html": [
       "<div>                            <div id=\"1174fa95-6a59-4484-8b27-c6bd52c31936\" class=\"plotly-graph-div\" style=\"height:525px; width:100%;\"></div>            <script type=\"text/javascript\">                require([\"plotly\"], function(Plotly) {                    window.PLOTLYENV=window.PLOTLYENV || {};                                    if (document.getElementById(\"1174fa95-6a59-4484-8b27-c6bd52c31936\")) {                    Plotly.newPlot(                        \"1174fa95-6a59-4484-8b27-c6bd52c31936\",                        [{\"alignmentgroup\":\"True\",\"hovertemplate\":\"Repository=%{x}\\u003cbr\\u003eStars=%{y}\\u003cextra\\u003e\\u003c\\u002fextra\\u003e\",\"legendgroup\":\"\",\"marker\":{\"color\":\"#636efa\",\"pattern\":{\"shape\":\"\"}},\"name\":\"\",\"offsetgroup\":\"\",\"orientation\":\"v\",\"showlegend\":false,\"textposition\":\"auto\",\"x\":[\"public-apis\",\"system-design-primer\",\"awesome-python\",\"Python\",\"AutoGPT\",\"Python-100-Days\",\"stable-diffusion-webui\",\"transformers\",\"youtube-dl\",\"HelloGitHub\",\"thefuck\",\"yt-dlp\",\"pytorch\",\"django\",\"models\",\"fastapi\",\"core\",\"funNLP\",\"flask\",\"whisper\",\"devops-exercises\",\"awesome-machine-learning\",\"gpt_academic\",\"ansible\",\"cpython\",\"manim\",\"keras\",\"d2l-zh\",\"gpt4free\",\"PayloadsAllTheThings\"],\"xaxis\":\"x\",\"y\":[311932,269049,218213,184011,166374,154609,139339,131826,131235,90278,84655,82124,82043,79102,76946,75465,71096,67562,67518,67294,65775,65323,63815,62307,62239,61857,61588,61188,59894,59889],\"yaxis\":\"y\",\"type\":\"bar\"}],                        {\"template\":{\"data\":{\"histogram2dcontour\":[{\"type\":\"histogram2dcontour\",\"colorbar\":{\"outlinewidth\":0,\"ticks\":\"\"},\"colorscale\":[[0.0,\"#0d0887\"],[0.1111111111111111,\"#46039f\"],[0.2222222222222222,\"#7201a8\"],[0.3333333333333333,\"#9c179e\"],[0.4444444444444444,\"#bd3786\"],[0.5555555555555556,\"#d8576b\"],[0.6666666666666666,\"#ed7953\"],[0.7777777777777778,\"#fb9f3a\"],[0.8888888888888888,\"#fdca26\"],[1.0,\"#f0f921\"]]}],\"choropleth\":[{\"type\":\"choropleth\",\"colorbar\":{\"outlinewidth\":0,\"ticks\":\"\"}}],\"histogram2d\":[{\"type\":\"histogram2d\",\"colorbar\":{\"outlinewidth\":0,\"ticks\":\"\"},\"colorscale\":[[0.0,\"#0d0887\"],[0.1111111111111111,\"#46039f\"],[0.2222222222222222,\"#7201a8\"],[0.3333333333333333,\"#9c179e\"],[0.4444444444444444,\"#bd3786\"],[0.5555555555555556,\"#d8576b\"],[0.6666666666666666,\"#ed7953\"],[0.7777777777777778,\"#fb9f3a\"],[0.8888888888888888,\"#fdca26\"],[1.0,\"#f0f921\"]]}],\"heatmap\":[{\"type\":\"heatmap\",\"colorbar\":{\"outlinewidth\":0,\"ticks\":\"\"},\"colorscale\":[[0.0,\"#0d0887\"],[0.1111111111111111,\"#46039f\"],[0.2222222222222222,\"#7201a8\"],[0.3333333333333333,\"#9c179e\"],[0.4444444444444444,\"#bd3786\"],[0.5555555555555556,\"#d8576b\"],[0.6666666666666666,\"#ed7953\"],[0.7777777777777778,\"#fb9f3a\"],[0.8888888888888888,\"#fdca26\"],[1.0,\"#f0f921\"]]}],\"heatmapgl\":[{\"type\":\"heatmapgl\",\"colorbar\":{\"outlinewidth\":0,\"ticks\":\"\"},\"colorscale\":[[0.0,\"#0d0887\"],[0.1111111111111111,\"#46039f\"],[0.2222222222222222,\"#7201a8\"],[0.3333333333333333,\"#9c179e\"],[0.4444444444444444,\"#bd3786\"],[0.5555555555555556,\"#d8576b\"],[0.6666666666666666,\"#ed7953\"],[0.7777777777777778,\"#fb9f3a\"],[0.8888888888888888,\"#fdca26\"],[1.0,\"#f0f921\"]]}],\"contourcarpet\":[{\"type\":\"contourcarpet\",\"colorbar\":{\"outlinewidth\":0,\"ticks\":\"\"}}],\"contour\":[{\"type\":\"contour\",\"colorbar\":{\"outlinewidth\":0,\"ticks\":\"\"},\"colorscale\":[[0.0,\"#0d0887\"],[0.1111111111111111,\"#46039f\"],[0.2222222222222222,\"#7201a8\"],[0.3333333333333333,\"#9c179e\"],[0.4444444444444444,\"#bd3786\"],[0.5555555555555556,\"#d8576b\"],[0.6666666666666666,\"#ed7953\"],[0.7777777777777778,\"#fb9f3a\"],[0.8888888888888888,\"#fdca26\"],[1.0,\"#f0f921\"]]}],\"surface\":[{\"type\":\"surface\",\"colorbar\":{\"outlinewidth\":0,\"ticks\":\"\"},\"colorscale\":[[0.0,\"#0d0887\"],[0.1111111111111111,\"#46039f\"],[0.2222222222222222,\"#7201a8\"],[0.3333333333333333,\"#9c179e\"],[0.4444444444444444,\"#bd3786\"],[0.5555555555555556,\"#d8576b\"],[0.6666666666666666,\"#ed7953\"],[0.7777777777777778,\"#fb9f3a\"],[0.8888888888888888,\"#fdca26\"],[1.0,\"#f0f921\"]]}],\"mesh3d\":[{\"type\":\"mesh3d\",\"colorbar\":{\"outlinewidth\":0,\"ticks\":\"\"}}],\"scatter\":[{\"fillpattern\":{\"fillmode\":\"overlay\",\"size\":10,\"solidity\":0.2},\"type\":\"scatter\"}],\"parcoords\":[{\"type\":\"parcoords\",\"line\":{\"colorbar\":{\"outlinewidth\":0,\"ticks\":\"\"}}}],\"scatterpolargl\":[{\"type\":\"scatterpolargl\",\"marker\":{\"colorbar\":{\"outlinewidth\":0,\"ticks\":\"\"}}}],\"bar\":[{\"error_x\":{\"color\":\"#2a3f5f\"},\"error_y\":{\"color\":\"#2a3f5f\"},\"marker\":{\"line\":{\"color\":\"#E5ECF6\",\"width\":0.5},\"pattern\":{\"fillmode\":\"overlay\",\"size\":10,\"solidity\":0.2}},\"type\":\"bar\"}],\"scattergeo\":[{\"type\":\"scattergeo\",\"marker\":{\"colorbar\":{\"outlinewidth\":0,\"ticks\":\"\"}}}],\"scatterpolar\":[{\"type\":\"scatterpolar\",\"marker\":{\"colorbar\":{\"outlinewidth\":0,\"ticks\":\"\"}}}],\"histogram\":[{\"marker\":{\"pattern\":{\"fillmode\":\"overlay\",\"size\":10,\"solidity\":0.2}},\"type\":\"histogram\"}],\"scattergl\":[{\"type\":\"scattergl\",\"marker\":{\"colorbar\":{\"outlinewidth\":0,\"ticks\":\"\"}}}],\"scatter3d\":[{\"type\":\"scatter3d\",\"line\":{\"colorbar\":{\"outlinewidth\":0,\"ticks\":\"\"}},\"marker\":{\"colorbar\":{\"outlinewidth\":0,\"ticks\":\"\"}}}],\"scattermapbox\":[{\"type\":\"scattermapbox\",\"marker\":{\"colorbar\":{\"outlinewidth\":0,\"ticks\":\"\"}}}],\"scatterternary\":[{\"type\":\"scatterternary\",\"marker\":{\"colorbar\":{\"outlinewidth\":0,\"ticks\":\"\"}}}],\"scattercarpet\":[{\"type\":\"scattercarpet\",\"marker\":{\"colorbar\":{\"outlinewidth\":0,\"ticks\":\"\"}}}],\"carpet\":[{\"aaxis\":{\"endlinecolor\":\"#2a3f5f\",\"gridcolor\":\"white\",\"linecolor\":\"white\",\"minorgridcolor\":\"white\",\"startlinecolor\":\"#2a3f5f\"},\"baxis\":{\"endlinecolor\":\"#2a3f5f\",\"gridcolor\":\"white\",\"linecolor\":\"white\",\"minorgridcolor\":\"white\",\"startlinecolor\":\"#2a3f5f\"},\"type\":\"carpet\"}],\"table\":[{\"cells\":{\"fill\":{\"color\":\"#EBF0F8\"},\"line\":{\"color\":\"white\"}},\"header\":{\"fill\":{\"color\":\"#C8D4E3\"},\"line\":{\"color\":\"white\"}},\"type\":\"table\"}],\"barpolar\":[{\"marker\":{\"line\":{\"color\":\"#E5ECF6\",\"width\":0.5},\"pattern\":{\"fillmode\":\"overlay\",\"size\":10,\"solidity\":0.2}},\"type\":\"barpolar\"}],\"pie\":[{\"automargin\":true,\"type\":\"pie\"}]},\"layout\":{\"autotypenumbers\":\"strict\",\"colorway\":[\"#636efa\",\"#EF553B\",\"#00cc96\",\"#ab63fa\",\"#FFA15A\",\"#19d3f3\",\"#FF6692\",\"#B6E880\",\"#FF97FF\",\"#FECB52\"],\"font\":{\"color\":\"#2a3f5f\"},\"hovermode\":\"closest\",\"hoverlabel\":{\"align\":\"left\"},\"paper_bgcolor\":\"white\",\"plot_bgcolor\":\"#E5ECF6\",\"polar\":{\"bgcolor\":\"#E5ECF6\",\"angularaxis\":{\"gridcolor\":\"white\",\"linecolor\":\"white\",\"ticks\":\"\"},\"radialaxis\":{\"gridcolor\":\"white\",\"linecolor\":\"white\",\"ticks\":\"\"}},\"ternary\":{\"bgcolor\":\"#E5ECF6\",\"aaxis\":{\"gridcolor\":\"white\",\"linecolor\":\"white\",\"ticks\":\"\"},\"baxis\":{\"gridcolor\":\"white\",\"linecolor\":\"white\",\"ticks\":\"\"},\"caxis\":{\"gridcolor\":\"white\",\"linecolor\":\"white\",\"ticks\":\"\"}},\"coloraxis\":{\"colorbar\":{\"outlinewidth\":0,\"ticks\":\"\"}},\"colorscale\":{\"sequential\":[[0.0,\"#0d0887\"],[0.1111111111111111,\"#46039f\"],[0.2222222222222222,\"#7201a8\"],[0.3333333333333333,\"#9c179e\"],[0.4444444444444444,\"#bd3786\"],[0.5555555555555556,\"#d8576b\"],[0.6666666666666666,\"#ed7953\"],[0.7777777777777778,\"#fb9f3a\"],[0.8888888888888888,\"#fdca26\"],[1.0,\"#f0f921\"]],\"sequentialminus\":[[0.0,\"#0d0887\"],[0.1111111111111111,\"#46039f\"],[0.2222222222222222,\"#7201a8\"],[0.3333333333333333,\"#9c179e\"],[0.4444444444444444,\"#bd3786\"],[0.5555555555555556,\"#d8576b\"],[0.6666666666666666,\"#ed7953\"],[0.7777777777777778,\"#fb9f3a\"],[0.8888888888888888,\"#fdca26\"],[1.0,\"#f0f921\"]],\"diverging\":[[0,\"#8e0152\"],[0.1,\"#c51b7d\"],[0.2,\"#de77ae\"],[0.3,\"#f1b6da\"],[0.4,\"#fde0ef\"],[0.5,\"#f7f7f7\"],[0.6,\"#e6f5d0\"],[0.7,\"#b8e186\"],[0.8,\"#7fbc41\"],[0.9,\"#4d9221\"],[1,\"#276419\"]]},\"xaxis\":{\"gridcolor\":\"white\",\"linecolor\":\"white\",\"ticks\":\"\",\"title\":{\"standoff\":15},\"zerolinecolor\":\"white\",\"automargin\":true,\"zerolinewidth\":2},\"yaxis\":{\"gridcolor\":\"white\",\"linecolor\":\"white\",\"ticks\":\"\",\"title\":{\"standoff\":15},\"zerolinecolor\":\"white\",\"automargin\":true,\"zerolinewidth\":2},\"scene\":{\"xaxis\":{\"backgroundcolor\":\"#E5ECF6\",\"gridcolor\":\"white\",\"linecolor\":\"white\",\"showbackground\":true,\"ticks\":\"\",\"zerolinecolor\":\"white\",\"gridwidth\":2},\"yaxis\":{\"backgroundcolor\":\"#E5ECF6\",\"gridcolor\":\"white\",\"linecolor\":\"white\",\"showbackground\":true,\"ticks\":\"\",\"zerolinecolor\":\"white\",\"gridwidth\":2},\"zaxis\":{\"backgroundcolor\":\"#E5ECF6\",\"gridcolor\":\"white\",\"linecolor\":\"white\",\"showbackground\":true,\"ticks\":\"\",\"zerolinecolor\":\"white\",\"gridwidth\":2}},\"shapedefaults\":{\"line\":{\"color\":\"#2a3f5f\"}},\"annotationdefaults\":{\"arrowcolor\":\"#2a3f5f\",\"arrowhead\":0,\"arrowwidth\":1},\"geo\":{\"bgcolor\":\"white\",\"landcolor\":\"#E5ECF6\",\"subunitcolor\":\"white\",\"showland\":true,\"showlakes\":true,\"lakecolor\":\"white\"},\"title\":{\"x\":0.05},\"mapbox\":{\"style\":\"light\"}}},\"xaxis\":{\"anchor\":\"y\",\"domain\":[0.0,1.0],\"title\":{\"text\":\"Repository\",\"font\":{\"size\":20}}},\"yaxis\":{\"anchor\":\"x\",\"domain\":[0.0,1.0],\"title\":{\"text\":\"Stars\",\"font\":{\"size\":20}}},\"legend\":{\"tracegroupgap\":0},\"title\":{\"text\":\"Most-Starred Python projects on Github\",\"font\":{\"size\":28}},\"barmode\":\"relative\"},                        {\"responsive\": true}                    ).then(function(){\n",
       "                            \n",
       "var gd = document.getElementById('1174fa95-6a59-4484-8b27-c6bd52c31936');\n",
       "var x = new MutationObserver(function (mutations, observer) {{\n",
       "        var display = window.getComputedStyle(gd).display;\n",
       "        if (!display || display === 'none') {{\n",
       "            console.log([gd, 'removed!']);\n",
       "            Plotly.purge(gd);\n",
       "            observer.disconnect();\n",
       "        }}\n",
       "}});\n",
       "\n",
       "// Listen for the removal of the full notebook cells\n",
       "var notebookContainer = gd.closest('#notebook-container');\n",
       "if (notebookContainer) {{\n",
       "    x.observe(notebookContainer, {childList: true});\n",
       "}}\n",
       "\n",
       "// Listen for the clearing of the current output cell\n",
       "var outputEl = gd.closest('.output');\n",
       "if (outputEl) {{\n",
       "    x.observe(outputEl, {childList: true});\n",
       "}}\n",
       "\n",
       "                        })                };                });            </script>        </div>"
      ]
     },
     "metadata": {},
     "output_type": "display_data"
    }
   ],
   "source": [
    "## make a bar graph with plotly\n",
    "x= repo_names\n",
    "y = stars\n",
    "title = 'Most-Starred Python projects on Github'\n",
    "labels = {'x':'Repository', 'y': 'Stars'}\n",
    "fig = px.bar(x=x, y=y,\n",
    "            title = title, labels = labels)\n",
    "fig.update_layout(title_font_size = 28, xaxis_title_font_size = 20, yaxis_title_font_size =20)\n",
    "\n",
    "fig.show()\n"
   ]
  },
  {
   "cell_type": "code",
   "execution_count": null,
   "id": "807f65e9-dec6-4ec3-b414-e0dee7b4f419",
   "metadata": {},
   "outputs": [],
   "source": []
  },
  {
   "cell_type": "markdown",
   "id": "9503fad2-c250-40d3-ad66-d3fadfd8db43",
   "metadata": {},
   "source": [
    "## Adding a custom toolpis\n",
    "\n",
    "In Plotly, you can hover the cursor over an individual bar to show the infor\u0002mation the bar represents. This is commonly called a tooltip, and in this \n",
    "case, it currently shows the number of stars a project has."
   ]
  },
  {
   "cell_type": "code",
   "execution_count": 225,
   "id": "f4cf81ac-4f9d-41f4-950d-ddaf2cabf80f",
   "metadata": {},
   "outputs": [],
   "source": [
    "repo_names, stars,hover_texts = [],[],[]\n",
    "\n",
    "for repo_dict in repo_dicts:\n",
    "    repo_names.append(repo_dict['name'])\n",
    "    stars.append(repo_dict['stargazers_count'])  \n",
    "\n",
    "    # Build hover text\n",
    "    owner = repo_dict['owner']['login']\n",
    "    description = repo_dict['description']\n",
    "    hover_text = f\"{owner}<br />{description}\"\n",
    "    hover_texts.append(hover_text)"
   ]
  },
  {
   "cell_type": "code",
   "execution_count": 227,
   "id": "5e5d8c1b-e9d4-4add-80c2-52b9b7f23bef",
   "metadata": {},
   "outputs": [
    {
     "data": {
      "application/vnd.plotly.v1+json": {
       "config": {
        "plotlyServerURL": "https://plot.ly"
       },
       "data": [
        {
         "alignmentgroup": "True",
         "hovertemplate": "<b>%{hovertext}</b><br><br>Repository=%{x}<br>Stars=%{y}<extra></extra>",
         "hovertext": [
          "public-apis<br />A collective list of free APIs",
          "donnemartin<br />Learn how to design large-scale systems. Prep for the system design interview.  Includes Anki flashcards.",
          "vinta<br />An opinionated list of awesome Python frameworks, libraries, software and resources.",
          "TheAlgorithms<br />All Algorithms implemented in Python",
          "Significant-Gravitas<br />AutoGPT is the vision of accessible AI for everyone, to use and to build on. Our mission is to provide the tools, so that you can focus on what matters.",
          "jackfrued<br />Python - 100天从新手到大师",
          "AUTOMATIC1111<br />Stable Diffusion web UI",
          "huggingface<br />🤗 Transformers: State-of-the-art Machine Learning for Pytorch, TensorFlow, and JAX.",
          "ytdl-org<br />Command-line program to download videos from YouTube.com and other video sites",
          "521xueweihan<br />:octocat: 分享 GitHub 上有趣、入门级的开源项目。Share interesting, entry-level open source projects on GitHub.",
          "nvbn<br />Magnificent app which corrects your previous console command.",
          "yt-dlp<br />A feature-rich command-line audio/video downloader",
          "pytorch<br />Tensors and Dynamic neural networks in Python with strong GPU acceleration",
          "django<br />The Web framework for perfectionists with deadlines.",
          "tensorflow<br />Models and examples built with TensorFlow",
          "fastapi<br />FastAPI framework, high performance, easy to learn, fast to code, ready for production",
          "home-assistant<br />:house_with_garden: Open source home automation that puts local control and privacy first.",
          "fighting41love<br />中英文敏感词、语言检测、中外手机/电话归属地/运营商查询、名字推断性别、手机号抽取、身份证抽取、邮箱抽取、中日文人名库、中文缩写库、拆字词典、词汇情感值、停用词、反动词表、暴恐词表、繁简体转换、英文模拟中文发音、汪峰歌词生成器、职业名称词库、同义词库、反义词库、否定词库、汽车品牌词库、汽车零件词库、连续英文切割、各种中文词向量、公司名字大全、古诗词库、IT词库、财经词库、成语词库、地名词库、历史名人词库、诗词词库、医学词库、饮食词库、法律词库、汽车词库、动物词库、中文聊天语料、中文谣言数据、百度中文问答数据集、句子相似度匹配算法集合、bert资源、文本生成&摘要相关工具、cocoNLP信息抽取工具、国内电话号码正则匹配、清华大学XLORE:中英文跨语言百科知识图谱、清华大学人工智能技术系列报告、自然语言生成、NLU太难了系列、自动对联数据及机器人、用户名黑名单列表、罪名法务名词及分类模型、微信公众号语料、cs224n深度学习自然语言处理课程、中文手写汉字识别、中文自然语言处理 语料/数据集、变量命名神器、分词语料库+代码、任务型对话英文数据集、ASR 语音数据集 + 基于深度学习的中文语音识别系统、笑声检测器、Microsoft多语言数字/单位/如日期时间识别包、中华新华字典数据库及api(包括常用歇后语、成语、词语和汉字)、文档图谱自动生成、SpaCy 中文模型、Common Voice语音识别数据集新版、神经网络关系抽取、基于bert的命名实体识别、关键词(Keyphrase)抽取包pke、基于医疗领域知识图谱的问答系统、基于依存句法与语义角色标注的事件三元组抽取、依存句法分析4万句高质量标注数据、cnocr：用来做中文OCR的Python3包、中文人物关系知识图谱项目、中文nlp竞赛项目及代码汇总、中文字符数据、speech-aligner: 从“人声语音”及其“语言文本”产生音素级别时间对齐标注的工具、AmpliGraph: 知识图谱表示学习(Python)库：知识图谱概念链接预测、Scattertext 文本可视化(python)、语言/知识表示工具：BERT & ERNIE、中文对比英文自然语言处理NLP的区别综述、Synonyms中文近义词工具包、HarvestText领域自适应文本挖掘工具（新词发现-情感分析-实体链接等）、word2word：(Python)方便易用的多语言词-词对集：62种语言/3,564个多语言对、语音识别语料生成工具：从具有音频/字幕的在线视频创建自动语音识别(ASR)语料库、构建医疗实体识别的模型（包含词典和语料标注）、单文档非监督的关键词抽取、Kashgari中使用gpt-2语言模型、开源的金融投资数据提取工具、文本自动摘要库TextTeaser: 仅支持英文、人民日报语料处理工具集、一些关于自然语言的基本模型、基于14W歌曲知识库的问答尝试--功能包括歌词接龙and已知歌词找歌曲以及歌曲歌手歌词三角关系的问答、基于Siamese bilstm模型的相似句子判定模型并提供训练数据集和测试数据集、用Transformer编解码模型实现的根据Hacker News文章标题自动生成评论、用BERT进行序列标记和文本分类的模板代码、LitBank：NLP数据集——支持自然语言处理和计算人文学科任务的100部带标记英文小说语料、百度开源的基准信息抽取系统、虚假新闻数据集、Facebook: LAMA语言模型分析，提供Transformer-XL/BERT/ELMo/GPT预训练语言模型的统一访问接口、CommonsenseQA：面向常识的英文QA挑战、中文知识图谱资料、数据及工具、各大公司内部里大牛分享的技术文档 PDF 或者 PPT、自然语言生成SQL语句（英文）、中文NLP数据增强（EDA）工具、英文NLP数据增强工具 、基于医药知识图谱的智能问答系统、京东商品知识图谱、基于mongodb存储的军事领域知识图谱问答项目、基于远监督的中文关系抽取、语音情感分析、中文ULMFiT-情感分析-文本分类-语料及模型、一个拍照做题程序、世界各国大规模人名库、一个利用有趣中文语料库 qingyun 训练出来的中文聊天机器人、中文聊天机器人seqGAN、省市区镇行政区划数据带拼音标注、教育行业新闻语料库包含自动文摘功能、开放了对话机器人-知识图谱-语义理解-自然语言处理工具及数据、中文知识图谱：基于百度百科中文页面-抽取三元组信息-构建中文知识图谱、masr: 中文语音识别-提供预训练模型-高识别率、Python音频数据增广库、中文全词覆盖BERT及两份阅读理解数据、ConvLab：开源多域端到端对话系统平台、中文自然语言处理数据集、基于最新版本rasa搭建的对话系统、基于TensorFlow和BERT的管道式实体及关系抽取、一个小型的证券知识图谱/知识库、复盘所有NLP比赛的TOP方案、OpenCLaP：多领域开源中文预训练语言模型仓库、UER：基于不同语料+编码器+目标任务的中文预训练模型仓库、中文自然语言处理向量合集、基于金融-司法领域(兼有闲聊性质)的聊天机器人、g2pC：基于上下文的汉语读音自动标记模块、Zincbase 知识图谱构建工具包、诗歌质量评价/细粒度情感诗歌语料库、快速转化「中文数字」和「阿拉伯数字」、百度知道问答语料库、基于知识图谱的问答系统、jieba_fast 加速版的jieba、正则表达式教程、中文阅读理解数据集、基于BERT等最新语言模型的抽取式摘要提取、Python利用深度学习进行文本摘要的综合指南、知识图谱深度学习相关资料整理、维基大规模平行文本语料、StanfordNLP 0.2.0：纯Python版自然语言处理包、NeuralNLP-NeuralClassifier：腾讯开源深度学习文本分类工具、端到端的封闭域对话系统、中文命名实体识别：NeuroNER vs. BertNER、新闻事件线索抽取、2019年百度的三元组抽取比赛：“科学空间队”源码、基于依存句法的开放域文本知识三元组抽取和知识库构建、中文的GPT2训练代码、ML-NLP - 机器学习(Machine Learning)NLP面试中常考到的知识点和代码实现、nlp4han:中文自然语言处理工具集(断句/分词/词性标注/组块/句法分析/语义分析/NER/N元语法/HMM/代词消解/情感分析/拼写检查、XLM：Facebook的跨语言预训练语言模型、用基于BERT的微调和特征提取方法来进行知识图谱百度百科人物词条属性抽取、中文自然语言处理相关的开放任务-数据集-当前最佳结果、CoupletAI - 基于CNN+Bi-LSTM+Attention 的自动对对联系统、抽象知识图谱、MiningZhiDaoQACorpus - 580万百度知道问答数据挖掘项目、brat rapid annotation tool: 序列标注工具、大规模中文知识图谱数据：1.4亿实体、数据增强在机器翻译及其他nlp任务中的应用及效果、allennlp阅读理解:支持多种数据和模型、PDF表格数据提取工具 、 Graphbrain：AI开源软件库和科研工具，目的是促进自动意义提取和文本理解以及知识的探索和推断、简历自动筛选系统、基于命名实体识别的简历自动摘要、中文语言理解测评基准，包括代表性的数据集&基准模型&语料库&排行榜、树洞 OCR 文字识别 、从包含表格的扫描图片中识别表格和文字、语声迁移、Python口语自然语言处理工具集(英文)、 similarity：相似度计算工具包，java编写、海量中文预训练ALBERT模型 、Transformers 2.0 、基于大规模音频数据集Audioset的音频增强 、Poplar：网页版自然语言标注工具、图片文字去除，可用于漫画翻译 、186种语言的数字叫法库、Amazon发布基于知识的人-人开放领域对话数据集 、中文文本纠错模块代码、繁简体转换 、 Python实现的多种文本可读性评价指标、类似于人名/地名/组织机构名的命名体识别数据集 、东南大学《知识图谱》研究生课程(资料)、. 英文拼写检查库 、 wwsearch是企业微信后台自研的全文检索引擎、CHAMELEON：深度学习新闻推荐系统元架构 、 8篇论文梳理BERT相关模型进展与反思、DocSearch：免费文档搜索引擎、 LIDA：轻量交互式对话标注工具 、aili - the fastest in-memory index in the East 东半球最快并发索引 、知识图谱车音工作项目、自然语言生成资源大全 、中日韩分词库mecab的Python接口库、中文文本摘要/关键词提取、汉字字符特征提取器 (featurizer)，提取汉字的特征（发音特征、字形特征）用做深度学习的特征、中文生成任务基准测评 、中文缩写数据集、中文任务基准测评 - 代表性的数据集-基准(预训练)模型-语料库-baseline-工具包-排行榜、PySS3：面向可解释AI的SS3文本分类器机器可视化工具 、中文NLP数据集列表、COPE - 格律诗编辑程序、doccano：基于网页的开源协同多语言文本标注工具 、PreNLP：自然语言预处理库、简单的简历解析器，用来从简历中提取关键信息、用于中文闲聊的GPT2模型：GPT2-chitchat、基于检索聊天机器人多轮响应选择相关资源列表(Leaderboards、Datasets、Papers)、(Colab)抽象文本摘要实现集锦(教程 、词语拼音数据、高效模糊搜索工具、NLP数据增广资源集、微软对话机器人框架 、 GitHub Typo Corpus：大规模GitHub多语言拼写错误/语法错误数据集、TextCluster：短文本聚类预处理模块 Short text cluster、面向语音识别的中文文本规范化、BLINK：最先进的实体链接库、BertPunc：基于BERT的最先进标点修复模型、Tokenizer：快速、可定制的文本词条化库、中文语言理解测评基准，包括代表性的数据集、基准(预训练)模型、语料库、排行榜、spaCy 医学文本挖掘与信息提取 、 NLP任务示例项目代码集、 python拼写检查库、chatbot-list - 行业内关于智能客服、聊天机器人的应用和架构、算法分享和介绍、语音质量评价指标(MOSNet, BSSEval, STOI, PESQ, SRMR)、 用138GB语料训练的法文RoBERTa预训练语言模型 、BERT-NER-Pytorch：三种不同模式的BERT中文NER实验、无道词典 - 有道词典的命令行版本，支持英汉互查和在线查询、2019年NLP亮点回顾、 Chinese medical dialogue data 中文医疗对话数据集 、最好的汉字数字(中文数字)-阿拉伯数字转换工具、 基于百科知识库的中文词语多词义/义项获取与特定句子词语语义消歧、awesome-nlp-sentiment-analysis - 情感分析、情绪原因识别、评价对象和评价词抽取、LineFlow：面向所有深度学习框架的NLP数据高效加载器、中文医学NLP公开资源整理 、MedQuAD：(英文)医学问答数据集、将自然语言数字串解析转换为整数和浮点数、Transfer Learning in Natural Language Processing (NLP) 、面向语音识别的中文/英文发音辞典、Tokenizers：注重性能与多功能性的最先进分词器、CLUENER 细粒度命名实体识别 Fine Grained Named Entity Recognition、 基于BERT的中文命名实体识别、中文谣言数据库、NLP数据集/基准任务大列表、nlp相关的一些论文及代码, 包括主题模型、词向量(Word Embedding)、命名实体识别(NER)、文本分类(Text Classificatin)、文本生成(Text Generation)、文本相似性(Text Similarity)计算等，涉及到各种与nlp相关的算法，基于keras和tensorflow 、Python文本挖掘/NLP实战示例、 Blackstone：面向非结构化法律文本的spaCy pipeline和NLP模型通过同义词替换实现文本“变脸” 、中文 预训练 ELECTREA 模型: 基于对抗学习 pretrain Chinese Model 、albert-chinese-ner - 用预训练语言模型ALBERT做中文NER 、基于GPT2的特定主题文本生成/文本增广、开源预训练语言模型合集、多语言句向量包、编码、标记和实现：一种可控高效的文本生成方法、 英文脏话大列表 、attnvis：GPT2、BERT等transformer语言模型注意力交互可视化、CoVoST：Facebook发布的多语种语音-文本翻译语料库，包括11种语言(法语、德语、荷兰语、俄语、西班牙语、意大利语、土耳其语、波斯语、瑞典语、蒙古语和中文)的语音、文字转录及英文译文、Jiagu自然语言处理工具 - 以BiLSTM等模型为基础，提供知识图谱关系抽取 中文分词 词性标注 命名实体识别 情感分析 新词发现 关键词 文本摘要 文本聚类等功能、用unet实现对文档表格的自动检测，表格重建、NLP事件提取文献资源列表 、 金融领域自然语言处理研究资源大列表、CLUEDatasetSearch - 中英文NLP数据集：搜索所有中文NLP数据集，附常用英文NLP数据集 、medical_NER - 中文医学知识图谱命名实体识别 、(哈佛)讲因果推理的免费书、知识图谱相关学习资料/数据集/工具资源大列表、Forte：灵活强大的自然语言处理pipeline工具集 、Python字符串相似性算法库、PyLaia：面向手写文档分析的深度学习工具包、TextFooler：针对文本分类/推理的对抗文本生成模块、Haystack：灵活、强大的可扩展问答(QA)框架、中文关键短语抽取工具",
          "pallets<br />The Python micro framework for building web applications.",
          "openai<br />Robust Speech Recognition via Large-Scale Weak Supervision",
          "bregman-arie<br />Linux, Jenkins, AWS, SRE, Prometheus, Docker, Python, Ansible, Git, Kubernetes, Terraform, OpenStack, SQL, NoSQL, Azure, GCP, DNS, Elastic, Network, Virtualization. DevOps Interview Questions",
          "josephmisiti<br />A curated list of awesome Machine Learning frameworks, libraries and software.",
          "binary-husky<br />为GPT/GLM等LLM大语言模型提供实用化交互接口，特别优化论文阅读/润色/写作体验，模块化设计，支持自定义快捷按钮&函数插件，支持Python和C++等项目剖析&自译解功能，PDF/LaTex论文翻译&总结功能，支持并行问询多种LLM模型，支持chatglm3等本地模型。接入通义千问, deepseekcoder, 讯飞星火, 文心一言, llama2, rwkv, claude2, moss等。",
          "ansible<br />Ansible is a radically simple IT automation platform that makes your applications and systems easier to deploy and maintain. Automate everything from code deployment to network configuration to cloud management, in a language that approaches plain English, using SSH, with no agents to install on remote systems. https://docs.ansible.com.",
          "python<br />The Python programming language",
          "3b1b<br />Animation engine for explanatory math videos",
          "keras-team<br />Deep Learning for humans",
          "d2l-ai<br />《动手学深度学习》：面向中文读者、能运行、可讨论。中英文版被70多个国家的500多所大学用于教学。",
          "xtekky<br />The official gpt4free repository | various collection of powerful language models",
          "swisskyrepo<br />A list of useful payloads and bypass for Web Application Security and Pentest/CTF"
         ],
         "legendgroup": "",
         "marker": {
          "color": "#636efa",
          "pattern": {
           "shape": ""
          }
         },
         "name": "",
         "offsetgroup": "",
         "orientation": "v",
         "showlegend": false,
         "textposition": "auto",
         "type": "bar",
         "x": [
          "public-apis",
          "system-design-primer",
          "awesome-python",
          "Python",
          "AutoGPT",
          "Python-100-Days",
          "stable-diffusion-webui",
          "transformers",
          "youtube-dl",
          "HelloGitHub",
          "thefuck",
          "yt-dlp",
          "pytorch",
          "django",
          "models",
          "fastapi",
          "core",
          "funNLP",
          "flask",
          "whisper",
          "devops-exercises",
          "awesome-machine-learning",
          "gpt_academic",
          "ansible",
          "cpython",
          "manim",
          "keras",
          "d2l-zh",
          "gpt4free",
          "PayloadsAllTheThings"
         ],
         "xaxis": "x",
         "y": [
          311932,
          269049,
          218213,
          184011,
          166374,
          154609,
          139339,
          131826,
          131235,
          90278,
          84655,
          82124,
          82043,
          79102,
          76946,
          75465,
          71096,
          67562,
          67518,
          67294,
          65775,
          65323,
          63815,
          62307,
          62239,
          61857,
          61588,
          61188,
          59894,
          59889
         ],
         "yaxis": "y"
        }
       ],
       "layout": {
        "autosize": true,
        "barmode": "relative",
        "legend": {
         "tracegroupgap": 0
        },
        "template": {
         "data": {
          "bar": [
           {
            "error_x": {
             "color": "#2a3f5f"
            },
            "error_y": {
             "color": "#2a3f5f"
            },
            "marker": {
             "line": {
              "color": "#E5ECF6",
              "width": 0.5
             },
             "pattern": {
              "fillmode": "overlay",
              "size": 10,
              "solidity": 0.2
             }
            },
            "type": "bar"
           }
          ],
          "barpolar": [
           {
            "marker": {
             "line": {
              "color": "#E5ECF6",
              "width": 0.5
             },
             "pattern": {
              "fillmode": "overlay",
              "size": 10,
              "solidity": 0.2
             }
            },
            "type": "barpolar"
           }
          ],
          "carpet": [
           {
            "aaxis": {
             "endlinecolor": "#2a3f5f",
             "gridcolor": "white",
             "linecolor": "white",
             "minorgridcolor": "white",
             "startlinecolor": "#2a3f5f"
            },
            "baxis": {
             "endlinecolor": "#2a3f5f",
             "gridcolor": "white",
             "linecolor": "white",
             "minorgridcolor": "white",
             "startlinecolor": "#2a3f5f"
            },
            "type": "carpet"
           }
          ],
          "choropleth": [
           {
            "colorbar": {
             "outlinewidth": 0,
             "ticks": ""
            },
            "type": "choropleth"
           }
          ],
          "contour": [
           {
            "colorbar": {
             "outlinewidth": 0,
             "ticks": ""
            },
            "colorscale": [
             [
              0,
              "#0d0887"
             ],
             [
              0.1111111111111111,
              "#46039f"
             ],
             [
              0.2222222222222222,
              "#7201a8"
             ],
             [
              0.3333333333333333,
              "#9c179e"
             ],
             [
              0.4444444444444444,
              "#bd3786"
             ],
             [
              0.5555555555555556,
              "#d8576b"
             ],
             [
              0.6666666666666666,
              "#ed7953"
             ],
             [
              0.7777777777777778,
              "#fb9f3a"
             ],
             [
              0.8888888888888888,
              "#fdca26"
             ],
             [
              1,
              "#f0f921"
             ]
            ],
            "type": "contour"
           }
          ],
          "contourcarpet": [
           {
            "colorbar": {
             "outlinewidth": 0,
             "ticks": ""
            },
            "type": "contourcarpet"
           }
          ],
          "heatmap": [
           {
            "colorbar": {
             "outlinewidth": 0,
             "ticks": ""
            },
            "colorscale": [
             [
              0,
              "#0d0887"
             ],
             [
              0.1111111111111111,
              "#46039f"
             ],
             [
              0.2222222222222222,
              "#7201a8"
             ],
             [
              0.3333333333333333,
              "#9c179e"
             ],
             [
              0.4444444444444444,
              "#bd3786"
             ],
             [
              0.5555555555555556,
              "#d8576b"
             ],
             [
              0.6666666666666666,
              "#ed7953"
             ],
             [
              0.7777777777777778,
              "#fb9f3a"
             ],
             [
              0.8888888888888888,
              "#fdca26"
             ],
             [
              1,
              "#f0f921"
             ]
            ],
            "type": "heatmap"
           }
          ],
          "heatmapgl": [
           {
            "colorbar": {
             "outlinewidth": 0,
             "ticks": ""
            },
            "colorscale": [
             [
              0,
              "#0d0887"
             ],
             [
              0.1111111111111111,
              "#46039f"
             ],
             [
              0.2222222222222222,
              "#7201a8"
             ],
             [
              0.3333333333333333,
              "#9c179e"
             ],
             [
              0.4444444444444444,
              "#bd3786"
             ],
             [
              0.5555555555555556,
              "#d8576b"
             ],
             [
              0.6666666666666666,
              "#ed7953"
             ],
             [
              0.7777777777777778,
              "#fb9f3a"
             ],
             [
              0.8888888888888888,
              "#fdca26"
             ],
             [
              1,
              "#f0f921"
             ]
            ],
            "type": "heatmapgl"
           }
          ],
          "histogram": [
           {
            "marker": {
             "pattern": {
              "fillmode": "overlay",
              "size": 10,
              "solidity": 0.2
             }
            },
            "type": "histogram"
           }
          ],
          "histogram2d": [
           {
            "colorbar": {
             "outlinewidth": 0,
             "ticks": ""
            },
            "colorscale": [
             [
              0,
              "#0d0887"
             ],
             [
              0.1111111111111111,
              "#46039f"
             ],
             [
              0.2222222222222222,
              "#7201a8"
             ],
             [
              0.3333333333333333,
              "#9c179e"
             ],
             [
              0.4444444444444444,
              "#bd3786"
             ],
             [
              0.5555555555555556,
              "#d8576b"
             ],
             [
              0.6666666666666666,
              "#ed7953"
             ],
             [
              0.7777777777777778,
              "#fb9f3a"
             ],
             [
              0.8888888888888888,
              "#fdca26"
             ],
             [
              1,
              "#f0f921"
             ]
            ],
            "type": "histogram2d"
           }
          ],
          "histogram2dcontour": [
           {
            "colorbar": {
             "outlinewidth": 0,
             "ticks": ""
            },
            "colorscale": [
             [
              0,
              "#0d0887"
             ],
             [
              0.1111111111111111,
              "#46039f"
             ],
             [
              0.2222222222222222,
              "#7201a8"
             ],
             [
              0.3333333333333333,
              "#9c179e"
             ],
             [
              0.4444444444444444,
              "#bd3786"
             ],
             [
              0.5555555555555556,
              "#d8576b"
             ],
             [
              0.6666666666666666,
              "#ed7953"
             ],
             [
              0.7777777777777778,
              "#fb9f3a"
             ],
             [
              0.8888888888888888,
              "#fdca26"
             ],
             [
              1,
              "#f0f921"
             ]
            ],
            "type": "histogram2dcontour"
           }
          ],
          "mesh3d": [
           {
            "colorbar": {
             "outlinewidth": 0,
             "ticks": ""
            },
            "type": "mesh3d"
           }
          ],
          "parcoords": [
           {
            "line": {
             "colorbar": {
              "outlinewidth": 0,
              "ticks": ""
             }
            },
            "type": "parcoords"
           }
          ],
          "pie": [
           {
            "automargin": true,
            "type": "pie"
           }
          ],
          "scatter": [
           {
            "fillpattern": {
             "fillmode": "overlay",
             "size": 10,
             "solidity": 0.2
            },
            "type": "scatter"
           }
          ],
          "scatter3d": [
           {
            "line": {
             "colorbar": {
              "outlinewidth": 0,
              "ticks": ""
             }
            },
            "marker": {
             "colorbar": {
              "outlinewidth": 0,
              "ticks": ""
             }
            },
            "type": "scatter3d"
           }
          ],
          "scattercarpet": [
           {
            "marker": {
             "colorbar": {
              "outlinewidth": 0,
              "ticks": ""
             }
            },
            "type": "scattercarpet"
           }
          ],
          "scattergeo": [
           {
            "marker": {
             "colorbar": {
              "outlinewidth": 0,
              "ticks": ""
             }
            },
            "type": "scattergeo"
           }
          ],
          "scattergl": [
           {
            "marker": {
             "colorbar": {
              "outlinewidth": 0,
              "ticks": ""
             }
            },
            "type": "scattergl"
           }
          ],
          "scattermapbox": [
           {
            "marker": {
             "colorbar": {
              "outlinewidth": 0,
              "ticks": ""
             }
            },
            "type": "scattermapbox"
           }
          ],
          "scatterpolar": [
           {
            "marker": {
             "colorbar": {
              "outlinewidth": 0,
              "ticks": ""
             }
            },
            "type": "scatterpolar"
           }
          ],
          "scatterpolargl": [
           {
            "marker": {
             "colorbar": {
              "outlinewidth": 0,
              "ticks": ""
             }
            },
            "type": "scatterpolargl"
           }
          ],
          "scatterternary": [
           {
            "marker": {
             "colorbar": {
              "outlinewidth": 0,
              "ticks": ""
             }
            },
            "type": "scatterternary"
           }
          ],
          "surface": [
           {
            "colorbar": {
             "outlinewidth": 0,
             "ticks": ""
            },
            "colorscale": [
             [
              0,
              "#0d0887"
             ],
             [
              0.1111111111111111,
              "#46039f"
             ],
             [
              0.2222222222222222,
              "#7201a8"
             ],
             [
              0.3333333333333333,
              "#9c179e"
             ],
             [
              0.4444444444444444,
              "#bd3786"
             ],
             [
              0.5555555555555556,
              "#d8576b"
             ],
             [
              0.6666666666666666,
              "#ed7953"
             ],
             [
              0.7777777777777778,
              "#fb9f3a"
             ],
             [
              0.8888888888888888,
              "#fdca26"
             ],
             [
              1,
              "#f0f921"
             ]
            ],
            "type": "surface"
           }
          ],
          "table": [
           {
            "cells": {
             "fill": {
              "color": "#EBF0F8"
             },
             "line": {
              "color": "white"
             }
            },
            "header": {
             "fill": {
              "color": "#C8D4E3"
             },
             "line": {
              "color": "white"
             }
            },
            "type": "table"
           }
          ]
         },
         "layout": {
          "annotationdefaults": {
           "arrowcolor": "#2a3f5f",
           "arrowhead": 0,
           "arrowwidth": 1
          },
          "autotypenumbers": "strict",
          "coloraxis": {
           "colorbar": {
            "outlinewidth": 0,
            "ticks": ""
           }
          },
          "colorscale": {
           "diverging": [
            [
             0,
             "#8e0152"
            ],
            [
             0.1,
             "#c51b7d"
            ],
            [
             0.2,
             "#de77ae"
            ],
            [
             0.3,
             "#f1b6da"
            ],
            [
             0.4,
             "#fde0ef"
            ],
            [
             0.5,
             "#f7f7f7"
            ],
            [
             0.6,
             "#e6f5d0"
            ],
            [
             0.7,
             "#b8e186"
            ],
            [
             0.8,
             "#7fbc41"
            ],
            [
             0.9,
             "#4d9221"
            ],
            [
             1,
             "#276419"
            ]
           ],
           "sequential": [
            [
             0,
             "#0d0887"
            ],
            [
             0.1111111111111111,
             "#46039f"
            ],
            [
             0.2222222222222222,
             "#7201a8"
            ],
            [
             0.3333333333333333,
             "#9c179e"
            ],
            [
             0.4444444444444444,
             "#bd3786"
            ],
            [
             0.5555555555555556,
             "#d8576b"
            ],
            [
             0.6666666666666666,
             "#ed7953"
            ],
            [
             0.7777777777777778,
             "#fb9f3a"
            ],
            [
             0.8888888888888888,
             "#fdca26"
            ],
            [
             1,
             "#f0f921"
            ]
           ],
           "sequentialminus": [
            [
             0,
             "#0d0887"
            ],
            [
             0.1111111111111111,
             "#46039f"
            ],
            [
             0.2222222222222222,
             "#7201a8"
            ],
            [
             0.3333333333333333,
             "#9c179e"
            ],
            [
             0.4444444444444444,
             "#bd3786"
            ],
            [
             0.5555555555555556,
             "#d8576b"
            ],
            [
             0.6666666666666666,
             "#ed7953"
            ],
            [
             0.7777777777777778,
             "#fb9f3a"
            ],
            [
             0.8888888888888888,
             "#fdca26"
            ],
            [
             1,
             "#f0f921"
            ]
           ]
          },
          "colorway": [
           "#636efa",
           "#EF553B",
           "#00cc96",
           "#ab63fa",
           "#FFA15A",
           "#19d3f3",
           "#FF6692",
           "#B6E880",
           "#FF97FF",
           "#FECB52"
          ],
          "font": {
           "color": "#2a3f5f"
          },
          "geo": {
           "bgcolor": "white",
           "lakecolor": "white",
           "landcolor": "#E5ECF6",
           "showlakes": true,
           "showland": true,
           "subunitcolor": "white"
          },
          "hoverlabel": {
           "align": "left"
          },
          "hovermode": "closest",
          "mapbox": {
           "style": "light"
          },
          "paper_bgcolor": "white",
          "plot_bgcolor": "#E5ECF6",
          "polar": {
           "angularaxis": {
            "gridcolor": "white",
            "linecolor": "white",
            "ticks": ""
           },
           "bgcolor": "#E5ECF6",
           "radialaxis": {
            "gridcolor": "white",
            "linecolor": "white",
            "ticks": ""
           }
          },
          "scene": {
           "xaxis": {
            "backgroundcolor": "#E5ECF6",
            "gridcolor": "white",
            "gridwidth": 2,
            "linecolor": "white",
            "showbackground": true,
            "ticks": "",
            "zerolinecolor": "white"
           },
           "yaxis": {
            "backgroundcolor": "#E5ECF6",
            "gridcolor": "white",
            "gridwidth": 2,
            "linecolor": "white",
            "showbackground": true,
            "ticks": "",
            "zerolinecolor": "white"
           },
           "zaxis": {
            "backgroundcolor": "#E5ECF6",
            "gridcolor": "white",
            "gridwidth": 2,
            "linecolor": "white",
            "showbackground": true,
            "ticks": "",
            "zerolinecolor": "white"
           }
          },
          "shapedefaults": {
           "line": {
            "color": "#2a3f5f"
           }
          },
          "ternary": {
           "aaxis": {
            "gridcolor": "white",
            "linecolor": "white",
            "ticks": ""
           },
           "baxis": {
            "gridcolor": "white",
            "linecolor": "white",
            "ticks": ""
           },
           "bgcolor": "#E5ECF6",
           "caxis": {
            "gridcolor": "white",
            "linecolor": "white",
            "ticks": ""
           }
          },
          "title": {
           "x": 0.05
          },
          "xaxis": {
           "automargin": true,
           "gridcolor": "white",
           "linecolor": "white",
           "ticks": "",
           "title": {
            "standoff": 15
           },
           "zerolinecolor": "white",
           "zerolinewidth": 2
          },
          "yaxis": {
           "automargin": true,
           "gridcolor": "white",
           "linecolor": "white",
           "ticks": "",
           "title": {
            "standoff": 15
           },
           "zerolinecolor": "white",
           "zerolinewidth": 2
          }
         }
        },
        "title": {
         "font": {
          "size": 28
         },
         "text": "Most-Starred Python projects on Github"
        },
        "xaxis": {
         "anchor": "y",
         "autorange": true,
         "domain": [
          0,
          1
         ],
         "range": [
          -0.5,
          29.5
         ],
         "title": {
          "font": {
           "size": 20
          },
          "text": "Repository"
         },
         "type": "category"
        },
        "yaxis": {
         "anchor": "x",
         "autorange": true,
         "domain": [
          0,
          1
         ],
         "range": [
          0,
          328349.4736842105
         ],
         "title": {
          "font": {
           "size": 20
          },
          "text": "Stars"
         },
         "type": "linear"
        }
       }
      },
      "image/png": "[encoded data removed]",
      "text/html": [
       "<div>                            <div id=\"a7974cce-7ae4-4bb9-83ce-ee84d96b4f5e\" class=\"plotly-graph-div\" style=\"height:525px; width:100%;\"></div>            <script type=\"text/javascript\">                require([\"plotly\"], function(Plotly) {                    window.PLOTLYENV=window.PLOTLYENV || {};                                    if (document.getElementById(\"a7974cce-7ae4-4bb9-83ce-ee84d96b4f5e\")) {                    Plotly.newPlot(                        \"a7974cce-7ae4-4bb9-83ce-ee84d96b4f5e\",                        [{\"alignmentgroup\":\"True\",\"hovertemplate\":\"\\u003cb\\u003e%{hovertext}\\u003c\\u002fb\\u003e\\u003cbr\\u003e\\u003cbr\\u003eRepository=%{x}\\u003cbr\\u003eStars=%{y}\\u003cextra\\u003e\\u003c\\u002fextra\\u003e\",\"hovertext\":[\"public-apis\\u003cbr \\u002f\\u003eA collective list of free APIs\",\"donnemartin\\u003cbr \\u002f\\u003eLearn how to design large-scale systems. Prep for the system design interview.  Includes Anki flashcards.\",\"vinta\\u003cbr \\u002f\\u003eAn opinionated list of awesome Python frameworks, libraries, software and resources.\",\"TheAlgorithms\\u003cbr \\u002f\\u003eAll Algorithms implemented in Python\",\"Significant-Gravitas\\u003cbr \\u002f\\u003eAutoGPT is the vision of accessible AI for everyone, to use and to build on. Our mission is to provide the tools, so that you can focus on what matters.\",\"jackfrued\\u003cbr \\u002f\\u003ePython - 100\\u5929\\u4ece\\u65b0\\u624b\\u5230\\u5927\\u5e08\",\"AUTOMATIC1111\\u003cbr \\u002f\\u003eStable Diffusion web UI\",\"huggingface\\u003cbr \\u002f\\u003e\\ud83e\\udd17 Transformers: State-of-the-art Machine Learning for Pytorch, TensorFlow, and JAX.\",\"ytdl-org\\u003cbr \\u002f\\u003eCommand-line program to download videos from YouTube.com and other video sites\",\"521xueweihan\\u003cbr \\u002f\\u003e:octocat: \\u5206\\u4eab GitHub \\u4e0a\\u6709\\u8da3\\u3001\\u5165\\u95e8\\u7ea7\\u7684\\u5f00\\u6e90\\u9879\\u76ee\\u3002Share interesting, entry-level open source projects on GitHub.\",\"nvbn\\u003cbr \\u002f\\u003eMagnificent app which corrects your previous console command.\",\"yt-dlp\\u003cbr \\u002f\\u003eA feature-rich command-line audio\\u002fvideo downloader\",\"pytorch\\u003cbr \\u002f\\u003eTensors and Dynamic neural networks in Python with strong GPU acceleration\",\"django\\u003cbr \\u002f\\u003eThe Web framework for perfectionists with deadlines.\",\"tensorflow\\u003cbr \\u002f\\u003eModels and examples built with TensorFlow\",\"fastapi\\u003cbr \\u002f\\u003eFastAPI framework, high performance, easy to learn, fast to code, ready for production\",\"home-assistant\\u003cbr \\u002f\\u003e:house_with_garden: Open source home automation that puts local control and privacy first.\",\"fighting41love\\u003cbr \\u002f\\u003e\\u4e2d\\u82f1\\u6587\\u654f\\u611f\\u8bcd\\u3001\\u8bed\\u8a00\\u68c0\\u6d4b\\u3001\\u4e2d\\u5916\\u624b\\u673a\\u002f\\u7535\\u8bdd\\u5f52\\u5c5e\\u5730\\u002f\\u8fd0\\u8425\\u5546\\u67e5\\u8be2\\u3001\\u540d\\u5b57\\u63a8\\u65ad\\u6027\\u522b\\u3001\\u624b\\u673a\\u53f7\\u62bd\\u53d6\\u3001\\u8eab\\u4efd\\u8bc1\\u62bd\\u53d6\\u3001\\u90ae\\u7bb1\\u62bd\\u53d6\\u3001\\u4e2d\\u65e5\\u6587\\u4eba\\u540d\\u5e93\\u3001\\u4e2d\\u6587\\u7f29\\u5199\\u5e93\\u3001\\u62c6\\u5b57\\u8bcd\\u5178\\u3001\\u8bcd\\u6c47\\u60c5\\u611f\\u503c\\u3001\\u505c\\u7528\\u8bcd\\u3001\\u53cd\\u52a8\\u8bcd\\u8868\\u3001\\u66b4\\u6050\\u8bcd\\u8868\\u3001\\u7e41\\u7b80\\u4f53\\u8f6c\\u6362\\u3001\\u82f1\\u6587\\u6a21\\u62df\\u4e2d\\u6587\\u53d1\\u97f3\\u3001\\u6c6a\\u5cf0\\u6b4c\\u8bcd\\u751f\\u6210\\u5668\\u3001\\u804c\\u4e1a\\u540d\\u79f0\\u8bcd\\u5e93\\u3001\\u540c\\u4e49\\u8bcd\\u5e93\\u3001\\u53cd\\u4e49\\u8bcd\\u5e93\\u3001\\u5426\\u5b9a\\u8bcd\\u5e93\\u3001\\u6c7d\\u8f66\\u54c1\\u724c\\u8bcd\\u5e93\\u3001\\u6c7d\\u8f66\\u96f6\\u4ef6\\u8bcd\\u5e93\\u3001\\u8fde\\u7eed\\u82f1\\u6587\\u5207\\u5272\\u3001\\u5404\\u79cd\\u4e2d\\u6587\\u8bcd\\u5411\\u91cf\\u3001\\u516c\\u53f8\\u540d\\u5b57\\u5927\\u5168\\u3001\\u53e4\\u8bd7\\u8bcd\\u5e93\\u3001IT\\u8bcd\\u5e93\\u3001\\u8d22\\u7ecf\\u8bcd\\u5e93\\u3001\\u6210\\u8bed\\u8bcd\\u5e93\\u3001\\u5730\\u540d\\u8bcd\\u5e93\\u3001\\u5386\\u53f2\\u540d\\u4eba\\u8bcd\\u5e93\\u3001\\u8bd7\\u8bcd\\u8bcd\\u5e93\\u3001\\u533b\\u5b66\\u8bcd\\u5e93\\u3001\\u996e\\u98df\\u8bcd\\u5e93\\u3001\\u6cd5\\u5f8b\\u8bcd\\u5e93\\u3001\\u6c7d\\u8f66\\u8bcd\\u5e93\\u3001\\u52a8\\u7269\\u8bcd\\u5e93\\u3001\\u4e2d\\u6587\\u804a\\u5929\\u8bed\\u6599\\u3001\\u4e2d\\u6587\\u8c23\\u8a00\\u6570\\u636e\\u3001\\u767e\\u5ea6\\u4e2d\\u6587\\u95ee\\u7b54\\u6570\\u636e\\u96c6\\u3001\\u53e5\\u5b50\\u76f8\\u4f3c\\u5ea6\\u5339\\u914d\\u7b97\\u6cd5\\u96c6\\u5408\\u3001bert\\u8d44\\u6e90\\u3001\\u6587\\u672c\\u751f\\u6210&\\u6458\\u8981\\u76f8\\u5173\\u5de5\\u5177\\u3001cocoNLP\\u4fe1\\u606f\\u62bd\\u53d6\\u5de5\\u5177\\u3001\\u56fd\\u5185\\u7535\\u8bdd\\u53f7\\u7801\\u6b63\\u5219\\u5339\\u914d\\u3001\\u6e05\\u534e\\u5927\\u5b66XLORE:\\u4e2d\\u82f1\\u6587\\u8de8\\u8bed\\u8a00\\u767e\\u79d1\\u77e5\\u8bc6\\u56fe\\u8c31\\u3001\\u6e05\\u534e\\u5927\\u5b66\\u4eba\\u5de5\\u667a\\u80fd\\u6280\\u672f\\u7cfb\\u5217\\u62a5\\u544a\\u3001\\u81ea\\u7136\\u8bed\\u8a00\\u751f\\u6210\\u3001NLU\\u592a\\u96be\\u4e86\\u7cfb\\u5217\\u3001\\u81ea\\u52a8\\u5bf9\\u8054\\u6570\\u636e\\u53ca\\u673a\\u5668\\u4eba\\u3001\\u7528\\u6237\\u540d\\u9ed1\\u540d\\u5355\\u5217\\u8868\\u3001\\u7f6a\\u540d\\u6cd5\\u52a1\\u540d\\u8bcd\\u53ca\\u5206\\u7c7b\\u6a21\\u578b\\u3001\\u5fae\\u4fe1\\u516c\\u4f17\\u53f7\\u8bed\\u6599\\u3001cs224n\\u6df1\\u5ea6\\u5b66\\u4e60\\u81ea\\u7136\\u8bed\\u8a00\\u5904\\u7406\\u8bfe\\u7a0b\\u3001\\u4e2d\\u6587\\u624b\\u5199\\u6c49\\u5b57\\u8bc6\\u522b\\u3001\\u4e2d\\u6587\\u81ea\\u7136\\u8bed\\u8a00\\u5904\\u7406 \\u8bed\\u6599\\u002f\\u6570\\u636e\\u96c6\\u3001\\u53d8\\u91cf\\u547d\\u540d\\u795e\\u5668\\u3001\\u5206\\u8bcd\\u8bed\\u6599\\u5e93+\\u4ee3\\u7801\\u3001\\u4efb\\u52a1\\u578b\\u5bf9\\u8bdd\\u82f1\\u6587\\u6570\\u636e\\u96c6\\u3001ASR \\u8bed\\u97f3\\u6570\\u636e\\u96c6 + \\u57fa\\u4e8e\\u6df1\\u5ea6\\u5b66\\u4e60\\u7684\\u4e2d\\u6587\\u8bed\\u97f3\\u8bc6\\u522b\\u7cfb\\u7edf\\u3001\\u7b11\\u58f0\\u68c0\\u6d4b\\u5668\\u3001Microsoft\\u591a\\u8bed\\u8a00\\u6570\\u5b57\\u002f\\u5355\\u4f4d\\u002f\\u5982\\u65e5\\u671f\\u65f6\\u95f4\\u8bc6\\u522b\\u5305\\u3001\\u4e2d\\u534e\\u65b0\\u534e\\u5b57\\u5178\\u6570\\u636e\\u5e93\\u53caapi(\\u5305\\u62ec\\u5e38\\u7528\\u6b47\\u540e\\u8bed\\u3001\\u6210\\u8bed\\u3001\\u8bcd\\u8bed\\u548c\\u6c49\\u5b57)\\u3001\\u6587\\u6863\\u56fe\\u8c31\\u81ea\\u52a8\\u751f\\u6210\\u3001SpaCy \\u4e2d\\u6587\\u6a21\\u578b\\u3001Common Voice\\u8bed\\u97f3\\u8bc6\\u522b\\u6570\\u636e\\u96c6\\u65b0\\u7248\\u3001\\u795e\\u7ecf\\u7f51\\u7edc\\u5173\\u7cfb\\u62bd\\u53d6\\u3001\\u57fa\\u4e8ebert\\u7684\\u547d\\u540d\\u5b9e\\u4f53\\u8bc6\\u522b\\u3001\\u5173\\u952e\\u8bcd(Keyphrase)\\u62bd\\u53d6\\u5305pke\\u3001\\u57fa\\u4e8e\\u533b\\u7597\\u9886\\u57df\\u77e5\\u8bc6\\u56fe\\u8c31\\u7684\\u95ee\\u7b54\\u7cfb\\u7edf\\u3001\\u57fa\\u4e8e\\u4f9d\\u5b58\\u53e5\\u6cd5\\u4e0e\\u8bed\\u4e49\\u89d2\\u8272\\u6807\\u6ce8\\u7684\\u4e8b\\u4ef6\\u4e09\\u5143\\u7ec4\\u62bd\\u53d6\\u3001\\u4f9d\\u5b58\\u53e5\\u6cd5\\u5206\\u67904\\u4e07\\u53e5\\u9ad8\\u8d28\\u91cf\\u6807\\u6ce8\\u6570\\u636e\\u3001cnocr\\uff1a\\u7528\\u6765\\u505a\\u4e2d\\u6587OCR\\u7684Python3\\u5305\\u3001\\u4e2d\\u6587\\u4eba\\u7269\\u5173\\u7cfb\\u77e5\\u8bc6\\u56fe\\u8c31\\u9879\\u76ee\\u3001\\u4e2d\\u6587nlp\\u7ade\\u8d5b\\u9879\\u76ee\\u53ca\\u4ee3\\u7801\\u6c47\\u603b\\u3001\\u4e2d\\u6587\\u5b57\\u7b26\\u6570\\u636e\\u3001speech-aligner: \\u4ece\\u201c\\u4eba\\u58f0\\u8bed\\u97f3\\u201d\\u53ca\\u5176\\u201c\\u8bed\\u8a00\\u6587\\u672c\\u201d\\u4ea7\\u751f\\u97f3\\u7d20\\u7ea7\\u522b\\u65f6\\u95f4\\u5bf9\\u9f50\\u6807\\u6ce8\\u7684\\u5de5\\u5177\\u3001AmpliGraph: \\u77e5\\u8bc6\\u56fe\\u8c31\\u8868\\u793a\\u5b66\\u4e60(Python)\\u5e93\\uff1a\\u77e5\\u8bc6\\u56fe\\u8c31\\u6982\\u5ff5\\u94fe\\u63a5\\u9884\\u6d4b\\u3001Scattertext \\u6587\\u672c\\u53ef\\u89c6\\u5316(python)\\u3001\\u8bed\\u8a00\\u002f\\u77e5\\u8bc6\\u8868\\u793a\\u5de5\\u5177\\uff1aBERT & ERNIE\\u3001\\u4e2d\\u6587\\u5bf9\\u6bd4\\u82f1\\u6587\\u81ea\\u7136\\u8bed\\u8a00\\u5904\\u7406NLP\\u7684\\u533a\\u522b\\u7efc\\u8ff0\\u3001Synonyms\\u4e2d\\u6587\\u8fd1\\u4e49\\u8bcd\\u5de5\\u5177\\u5305\\u3001HarvestText\\u9886\\u57df\\u81ea\\u9002\\u5e94\\u6587\\u672c\\u6316\\u6398\\u5de5\\u5177\\uff08\\u65b0\\u8bcd\\u53d1\\u73b0-\\u60c5\\u611f\\u5206\\u6790-\\u5b9e\\u4f53\\u94fe\\u63a5\\u7b49\\uff09\\u3001word2word\\uff1a(Python)\\u65b9\\u4fbf\\u6613\\u7528\\u7684\\u591a\\u8bed\\u8a00\\u8bcd-\\u8bcd\\u5bf9\\u96c6\\uff1a62\\u79cd\\u8bed\\u8a00\\u002f3,564\\u4e2a\\u591a\\u8bed\\u8a00\\u5bf9\\u3001\\u8bed\\u97f3\\u8bc6\\u522b\\u8bed\\u6599\\u751f\\u6210\\u5de5\\u5177\\uff1a\\u4ece\\u5177\\u6709\\u97f3\\u9891\\u002f\\u5b57\\u5e55\\u7684\\u5728\\u7ebf\\u89c6\\u9891\\u521b\\u5efa\\u81ea\\u52a8\\u8bed\\u97f3\\u8bc6\\u522b(ASR)\\u8bed\\u6599\\u5e93\\u3001\\u6784\\u5efa\\u533b\\u7597\\u5b9e\\u4f53\\u8bc6\\u522b\\u7684\\u6a21\\u578b\\uff08\\u5305\\u542b\\u8bcd\\u5178\\u548c\\u8bed\\u6599\\u6807\\u6ce8\\uff09\\u3001\\u5355\\u6587\\u6863\\u975e\\u76d1\\u7763\\u7684\\u5173\\u952e\\u8bcd\\u62bd\\u53d6\\u3001Kashgari\\u4e2d\\u4f7f\\u7528gpt-2\\u8bed\\u8a00\\u6a21\\u578b\\u3001\\u5f00\\u6e90\\u7684\\u91d1\\u878d\\u6295\\u8d44\\u6570\\u636e\\u63d0\\u53d6\\u5de5\\u5177\\u3001\\u6587\\u672c\\u81ea\\u52a8\\u6458\\u8981\\u5e93TextTeaser: \\u4ec5\\u652f\\u6301\\u82f1\\u6587\\u3001\\u4eba\\u6c11\\u65e5\\u62a5\\u8bed\\u6599\\u5904\\u7406\\u5de5\\u5177\\u96c6\\u3001\\u4e00\\u4e9b\\u5173\\u4e8e\\u81ea\\u7136\\u8bed\\u8a00\\u7684\\u57fa\\u672c\\u6a21\\u578b\\u3001\\u57fa\\u4e8e14W\\u6b4c\\u66f2\\u77e5\\u8bc6\\u5e93\\u7684\\u95ee\\u7b54\\u5c1d\\u8bd5--\\u529f\\u80fd\\u5305\\u62ec\\u6b4c\\u8bcd\\u63a5\\u9f99and\\u5df2\\u77e5\\u6b4c\\u8bcd\\u627e\\u6b4c\\u66f2\\u4ee5\\u53ca\\u6b4c\\u66f2\\u6b4c\\u624b\\u6b4c\\u8bcd\\u4e09\\u89d2\\u5173\\u7cfb\\u7684\\u95ee\\u7b54\\u3001\\u57fa\\u4e8eSiamese bilstm\\u6a21\\u578b\\u7684\\u76f8\\u4f3c\\u53e5\\u5b50\\u5224\\u5b9a\\u6a21\\u578b\\u5e76\\u63d0\\u4f9b\\u8bad\\u7ec3\\u6570\\u636e\\u96c6\\u548c\\u6d4b\\u8bd5\\u6570\\u636e\\u96c6\\u3001\\u7528Transformer\\u7f16\\u89e3\\u7801\\u6a21\\u578b\\u5b9e\\u73b0\\u7684\\u6839\\u636eHacker News\\u6587\\u7ae0\\u6807\\u9898\\u81ea\\u52a8\\u751f\\u6210\\u8bc4\\u8bba\\u3001\\u7528BERT\\u8fdb\\u884c\\u5e8f\\u5217\\u6807\\u8bb0\\u548c\\u6587\\u672c\\u5206\\u7c7b\\u7684\\u6a21\\u677f\\u4ee3\\u7801\\u3001LitBank\\uff1aNLP\\u6570\\u636e\\u96c6\\u2014\\u2014\\u652f\\u6301\\u81ea\\u7136\\u8bed\\u8a00\\u5904\\u7406\\u548c\\u8ba1\\u7b97\\u4eba\\u6587\\u5b66\\u79d1\\u4efb\\u52a1\\u7684100\\u90e8\\u5e26\\u6807\\u8bb0\\u82f1\\u6587\\u5c0f\\u8bf4\\u8bed\\u6599\\u3001\\u767e\\u5ea6\\u5f00\\u6e90\\u7684\\u57fa\\u51c6\\u4fe1\\u606f\\u62bd\\u53d6\\u7cfb\\u7edf\\u3001\\u865a\\u5047\\u65b0\\u95fb\\u6570\\u636e\\u96c6\\u3001Facebook: LAMA\\u8bed\\u8a00\\u6a21\\u578b\\u5206\\u6790\\uff0c\\u63d0\\u4f9bTransformer-XL\\u002fBERT\\u002fELMo\\u002fGPT\\u9884\\u8bad\\u7ec3\\u8bed\\u8a00\\u6a21\\u578b\\u7684\\u7edf\\u4e00\\u8bbf\\u95ee\\u63a5\\u53e3\\u3001CommonsenseQA\\uff1a\\u9762\\u5411\\u5e38\\u8bc6\\u7684\\u82f1\\u6587QA\\u6311\\u6218\\u3001\\u4e2d\\u6587\\u77e5\\u8bc6\\u56fe\\u8c31\\u8d44\\u6599\\u3001\\u6570\\u636e\\u53ca\\u5de5\\u5177\\u3001\\u5404\\u5927\\u516c\\u53f8\\u5185\\u90e8\\u91cc\\u5927\\u725b\\u5206\\u4eab\\u7684\\u6280\\u672f\\u6587\\u6863 PDF \\u6216\\u8005 PPT\\u3001\\u81ea\\u7136\\u8bed\\u8a00\\u751f\\u6210SQL\\u8bed\\u53e5\\uff08\\u82f1\\u6587\\uff09\\u3001\\u4e2d\\u6587NLP\\u6570\\u636e\\u589e\\u5f3a\\uff08EDA\\uff09\\u5de5\\u5177\\u3001\\u82f1\\u6587NLP\\u6570\\u636e\\u589e\\u5f3a\\u5de5\\u5177 \\u3001\\u57fa\\u4e8e\\u533b\\u836f\\u77e5\\u8bc6\\u56fe\\u8c31\\u7684\\u667a\\u80fd\\u95ee\\u7b54\\u7cfb\\u7edf\\u3001\\u4eac\\u4e1c\\u5546\\u54c1\\u77e5\\u8bc6\\u56fe\\u8c31\\u3001\\u57fa\\u4e8emongodb\\u5b58\\u50a8\\u7684\\u519b\\u4e8b\\u9886\\u57df\\u77e5\\u8bc6\\u56fe\\u8c31\\u95ee\\u7b54\\u9879\\u76ee\\u3001\\u57fa\\u4e8e\\u8fdc\\u76d1\\u7763\\u7684\\u4e2d\\u6587\\u5173\\u7cfb\\u62bd\\u53d6\\u3001\\u8bed\\u97f3\\u60c5\\u611f\\u5206\\u6790\\u3001\\u4e2d\\u6587ULMFiT-\\u60c5\\u611f\\u5206\\u6790-\\u6587\\u672c\\u5206\\u7c7b-\\u8bed\\u6599\\u53ca\\u6a21\\u578b\\u3001\\u4e00\\u4e2a\\u62cd\\u7167\\u505a\\u9898\\u7a0b\\u5e8f\\u3001\\u4e16\\u754c\\u5404\\u56fd\\u5927\\u89c4\\u6a21\\u4eba\\u540d\\u5e93\\u3001\\u4e00\\u4e2a\\u5229\\u7528\\u6709\\u8da3\\u4e2d\\u6587\\u8bed\\u6599\\u5e93 qingyun \\u8bad\\u7ec3\\u51fa\\u6765\\u7684\\u4e2d\\u6587\\u804a\\u5929\\u673a\\u5668\\u4eba\\u3001\\u4e2d\\u6587\\u804a\\u5929\\u673a\\u5668\\u4ebaseqGAN\\u3001\\u7701\\u5e02\\u533a\\u9547\\u884c\\u653f\\u533a\\u5212\\u6570\\u636e\\u5e26\\u62fc\\u97f3\\u6807\\u6ce8\\u3001\\u6559\\u80b2\\u884c\\u4e1a\\u65b0\\u95fb\\u8bed\\u6599\\u5e93\\u5305\\u542b\\u81ea\\u52a8\\u6587\\u6458\\u529f\\u80fd\\u3001\\u5f00\\u653e\\u4e86\\u5bf9\\u8bdd\\u673a\\u5668\\u4eba-\\u77e5\\u8bc6\\u56fe\\u8c31-\\u8bed\\u4e49\\u7406\\u89e3-\\u81ea\\u7136\\u8bed\\u8a00\\u5904\\u7406\\u5de5\\u5177\\u53ca\\u6570\\u636e\\u3001\\u4e2d\\u6587\\u77e5\\u8bc6\\u56fe\\u8c31\\uff1a\\u57fa\\u4e8e\\u767e\\u5ea6\\u767e\\u79d1\\u4e2d\\u6587\\u9875\\u9762-\\u62bd\\u53d6\\u4e09\\u5143\\u7ec4\\u4fe1\\u606f-\\u6784\\u5efa\\u4e2d\\u6587\\u77e5\\u8bc6\\u56fe\\u8c31\\u3001masr: \\u4e2d\\u6587\\u8bed\\u97f3\\u8bc6\\u522b-\\u63d0\\u4f9b\\u9884\\u8bad\\u7ec3\\u6a21\\u578b-\\u9ad8\\u8bc6\\u522b\\u7387\\u3001Python\\u97f3\\u9891\\u6570\\u636e\\u589e\\u5e7f\\u5e93\\u3001\\u4e2d\\u6587\\u5168\\u8bcd\\u8986\\u76d6BERT\\u53ca\\u4e24\\u4efd\\u9605\\u8bfb\\u7406\\u89e3\\u6570\\u636e\\u3001ConvLab\\uff1a\\u5f00\\u6e90\\u591a\\u57df\\u7aef\\u5230\\u7aef\\u5bf9\\u8bdd\\u7cfb\\u7edf\\u5e73\\u53f0\\u3001\\u4e2d\\u6587\\u81ea\\u7136\\u8bed\\u8a00\\u5904\\u7406\\u6570\\u636e\\u96c6\\u3001\\u57fa\\u4e8e\\u6700\\u65b0\\u7248\\u672crasa\\u642d\\u5efa\\u7684\\u5bf9\\u8bdd\\u7cfb\\u7edf\\u3001\\u57fa\\u4e8eTensorFlow\\u548cBERT\\u7684\\u7ba1\\u9053\\u5f0f\\u5b9e\\u4f53\\u53ca\\u5173\\u7cfb\\u62bd\\u53d6\\u3001\\u4e00\\u4e2a\\u5c0f\\u578b\\u7684\\u8bc1\\u5238\\u77e5\\u8bc6\\u56fe\\u8c31\\u002f\\u77e5\\u8bc6\\u5e93\\u3001\\u590d\\u76d8\\u6240\\u6709NLP\\u6bd4\\u8d5b\\u7684TOP\\u65b9\\u6848\\u3001OpenCLaP\\uff1a\\u591a\\u9886\\u57df\\u5f00\\u6e90\\u4e2d\\u6587\\u9884\\u8bad\\u7ec3\\u8bed\\u8a00\\u6a21\\u578b\\u4ed3\\u5e93\\u3001UER\\uff1a\\u57fa\\u4e8e\\u4e0d\\u540c\\u8bed\\u6599+\\u7f16\\u7801\\u5668+\\u76ee\\u6807\\u4efb\\u52a1\\u7684\\u4e2d\\u6587\\u9884\\u8bad\\u7ec3\\u6a21\\u578b\\u4ed3\\u5e93\\u3001\\u4e2d\\u6587\\u81ea\\u7136\\u8bed\\u8a00\\u5904\\u7406\\u5411\\u91cf\\u5408\\u96c6\\u3001\\u57fa\\u4e8e\\u91d1\\u878d-\\u53f8\\u6cd5\\u9886\\u57df(\\u517c\\u6709\\u95f2\\u804a\\u6027\\u8d28)\\u7684\\u804a\\u5929\\u673a\\u5668\\u4eba\\u3001g2pC\\uff1a\\u57fa\\u4e8e\\u4e0a\\u4e0b\\u6587\\u7684\\u6c49\\u8bed\\u8bfb\\u97f3\\u81ea\\u52a8\\u6807\\u8bb0\\u6a21\\u5757\\u3001Zincbase \\u77e5\\u8bc6\\u56fe\\u8c31\\u6784\\u5efa\\u5de5\\u5177\\u5305\\u3001\\u8bd7\\u6b4c\\u8d28\\u91cf\\u8bc4\\u4ef7\\u002f\\u7ec6\\u7c92\\u5ea6\\u60c5\\u611f\\u8bd7\\u6b4c\\u8bed\\u6599\\u5e93\\u3001\\u5feb\\u901f\\u8f6c\\u5316\\u300c\\u4e2d\\u6587\\u6570\\u5b57\\u300d\\u548c\\u300c\\u963f\\u62c9\\u4f2f\\u6570\\u5b57\\u300d\\u3001\\u767e\\u5ea6\\u77e5\\u9053\\u95ee\\u7b54\\u8bed\\u6599\\u5e93\\u3001\\u57fa\\u4e8e\\u77e5\\u8bc6\\u56fe\\u8c31\\u7684\\u95ee\\u7b54\\u7cfb\\u7edf\\u3001jieba_fast \\u52a0\\u901f\\u7248\\u7684jieba\\u3001\\u6b63\\u5219\\u8868\\u8fbe\\u5f0f\\u6559\\u7a0b\\u3001\\u4e2d\\u6587\\u9605\\u8bfb\\u7406\\u89e3\\u6570\\u636e\\u96c6\\u3001\\u57fa\\u4e8eBERT\\u7b49\\u6700\\u65b0\\u8bed\\u8a00\\u6a21\\u578b\\u7684\\u62bd\\u53d6\\u5f0f\\u6458\\u8981\\u63d0\\u53d6\\u3001Python\\u5229\\u7528\\u6df1\\u5ea6\\u5b66\\u4e60\\u8fdb\\u884c\\u6587\\u672c\\u6458\\u8981\\u7684\\u7efc\\u5408\\u6307\\u5357\\u3001\\u77e5\\u8bc6\\u56fe\\u8c31\\u6df1\\u5ea6\\u5b66\\u4e60\\u76f8\\u5173\\u8d44\\u6599\\u6574\\u7406\\u3001\\u7ef4\\u57fa\\u5927\\u89c4\\u6a21\\u5e73\\u884c\\u6587\\u672c\\u8bed\\u6599\\u3001StanfordNLP 0.2.0\\uff1a\\u7eafPython\\u7248\\u81ea\\u7136\\u8bed\\u8a00\\u5904\\u7406\\u5305\\u3001NeuralNLP-NeuralClassifier\\uff1a\\u817e\\u8baf\\u5f00\\u6e90\\u6df1\\u5ea6\\u5b66\\u4e60\\u6587\\u672c\\u5206\\u7c7b\\u5de5\\u5177\\u3001\\u7aef\\u5230\\u7aef\\u7684\\u5c01\\u95ed\\u57df\\u5bf9\\u8bdd\\u7cfb\\u7edf\\u3001\\u4e2d\\u6587\\u547d\\u540d\\u5b9e\\u4f53\\u8bc6\\u522b\\uff1aNeuroNER vs. BertNER\\u3001\\u65b0\\u95fb\\u4e8b\\u4ef6\\u7ebf\\u7d22\\u62bd\\u53d6\\u30012019\\u5e74\\u767e\\u5ea6\\u7684\\u4e09\\u5143\\u7ec4\\u62bd\\u53d6\\u6bd4\\u8d5b\\uff1a\\u201c\\u79d1\\u5b66\\u7a7a\\u95f4\\u961f\\u201d\\u6e90\\u7801\\u3001\\u57fa\\u4e8e\\u4f9d\\u5b58\\u53e5\\u6cd5\\u7684\\u5f00\\u653e\\u57df\\u6587\\u672c\\u77e5\\u8bc6\\u4e09\\u5143\\u7ec4\\u62bd\\u53d6\\u548c\\u77e5\\u8bc6\\u5e93\\u6784\\u5efa\\u3001\\u4e2d\\u6587\\u7684GPT2\\u8bad\\u7ec3\\u4ee3\\u7801\\u3001ML-NLP - \\u673a\\u5668\\u5b66\\u4e60(Machine Learning)NLP\\u9762\\u8bd5\\u4e2d\\u5e38\\u8003\\u5230\\u7684\\u77e5\\u8bc6\\u70b9\\u548c\\u4ee3\\u7801\\u5b9e\\u73b0\\u3001nlp4han:\\u4e2d\\u6587\\u81ea\\u7136\\u8bed\\u8a00\\u5904\\u7406\\u5de5\\u5177\\u96c6(\\u65ad\\u53e5\\u002f\\u5206\\u8bcd\\u002f\\u8bcd\\u6027\\u6807\\u6ce8\\u002f\\u7ec4\\u5757\\u002f\\u53e5\\u6cd5\\u5206\\u6790\\u002f\\u8bed\\u4e49\\u5206\\u6790\\u002fNER\\u002fN\\u5143\\u8bed\\u6cd5\\u002fHMM\\u002f\\u4ee3\\u8bcd\\u6d88\\u89e3\\u002f\\u60c5\\u611f\\u5206\\u6790\\u002f\\u62fc\\u5199\\u68c0\\u67e5\\u3001XLM\\uff1aFacebook\\u7684\\u8de8\\u8bed\\u8a00\\u9884\\u8bad\\u7ec3\\u8bed\\u8a00\\u6a21\\u578b\\u3001\\u7528\\u57fa\\u4e8eBERT\\u7684\\u5fae\\u8c03\\u548c\\u7279\\u5f81\\u63d0\\u53d6\\u65b9\\u6cd5\\u6765\\u8fdb\\u884c\\u77e5\\u8bc6\\u56fe\\u8c31\\u767e\\u5ea6\\u767e\\u79d1\\u4eba\\u7269\\u8bcd\\u6761\\u5c5e\\u6027\\u62bd\\u53d6\\u3001\\u4e2d\\u6587\\u81ea\\u7136\\u8bed\\u8a00\\u5904\\u7406\\u76f8\\u5173\\u7684\\u5f00\\u653e\\u4efb\\u52a1-\\u6570\\u636e\\u96c6-\\u5f53\\u524d\\u6700\\u4f73\\u7ed3\\u679c\\u3001CoupletAI - \\u57fa\\u4e8eCNN+Bi-LSTM+Attention \\u7684\\u81ea\\u52a8\\u5bf9\\u5bf9\\u8054\\u7cfb\\u7edf\\u3001\\u62bd\\u8c61\\u77e5\\u8bc6\\u56fe\\u8c31\\u3001MiningZhiDaoQACorpus - 580\\u4e07\\u767e\\u5ea6\\u77e5\\u9053\\u95ee\\u7b54\\u6570\\u636e\\u6316\\u6398\\u9879\\u76ee\\u3001brat rapid annotation tool: \\u5e8f\\u5217\\u6807\\u6ce8\\u5de5\\u5177\\u3001\\u5927\\u89c4\\u6a21\\u4e2d\\u6587\\u77e5\\u8bc6\\u56fe\\u8c31\\u6570\\u636e\\uff1a1.4\\u4ebf\\u5b9e\\u4f53\\u3001\\u6570\\u636e\\u589e\\u5f3a\\u5728\\u673a\\u5668\\u7ffb\\u8bd1\\u53ca\\u5176\\u4ed6nlp\\u4efb\\u52a1\\u4e2d\\u7684\\u5e94\\u7528\\u53ca\\u6548\\u679c\\u3001allennlp\\u9605\\u8bfb\\u7406\\u89e3:\\u652f\\u6301\\u591a\\u79cd\\u6570\\u636e\\u548c\\u6a21\\u578b\\u3001PDF\\u8868\\u683c\\u6570\\u636e\\u63d0\\u53d6\\u5de5\\u5177 \\u3001 Graphbrain\\uff1aAI\\u5f00\\u6e90\\u8f6f\\u4ef6\\u5e93\\u548c\\u79d1\\u7814\\u5de5\\u5177\\uff0c\\u76ee\\u7684\\u662f\\u4fc3\\u8fdb\\u81ea\\u52a8\\u610f\\u4e49\\u63d0\\u53d6\\u548c\\u6587\\u672c\\u7406\\u89e3\\u4ee5\\u53ca\\u77e5\\u8bc6\\u7684\\u63a2\\u7d22\\u548c\\u63a8\\u65ad\\u3001\\u7b80\\u5386\\u81ea\\u52a8\\u7b5b\\u9009\\u7cfb\\u7edf\\u3001\\u57fa\\u4e8e\\u547d\\u540d\\u5b9e\\u4f53\\u8bc6\\u522b\\u7684\\u7b80\\u5386\\u81ea\\u52a8\\u6458\\u8981\\u3001\\u4e2d\\u6587\\u8bed\\u8a00\\u7406\\u89e3\\u6d4b\\u8bc4\\u57fa\\u51c6\\uff0c\\u5305\\u62ec\\u4ee3\\u8868\\u6027\\u7684\\u6570\\u636e\\u96c6&\\u57fa\\u51c6\\u6a21\\u578b&\\u8bed\\u6599\\u5e93&\\u6392\\u884c\\u699c\\u3001\\u6811\\u6d1e OCR \\u6587\\u5b57\\u8bc6\\u522b \\u3001\\u4ece\\u5305\\u542b\\u8868\\u683c\\u7684\\u626b\\u63cf\\u56fe\\u7247\\u4e2d\\u8bc6\\u522b\\u8868\\u683c\\u548c\\u6587\\u5b57\\u3001\\u8bed\\u58f0\\u8fc1\\u79fb\\u3001Python\\u53e3\\u8bed\\u81ea\\u7136\\u8bed\\u8a00\\u5904\\u7406\\u5de5\\u5177\\u96c6(\\u82f1\\u6587)\\u3001 similarity\\uff1a\\u76f8\\u4f3c\\u5ea6\\u8ba1\\u7b97\\u5de5\\u5177\\u5305\\uff0cjava\\u7f16\\u5199\\u3001\\u6d77\\u91cf\\u4e2d\\u6587\\u9884\\u8bad\\u7ec3ALBERT\\u6a21\\u578b \\u3001Transformers 2.0 \\u3001\\u57fa\\u4e8e\\u5927\\u89c4\\u6a21\\u97f3\\u9891\\u6570\\u636e\\u96c6Audioset\\u7684\\u97f3\\u9891\\u589e\\u5f3a \\u3001Poplar\\uff1a\\u7f51\\u9875\\u7248\\u81ea\\u7136\\u8bed\\u8a00\\u6807\\u6ce8\\u5de5\\u5177\\u3001\\u56fe\\u7247\\u6587\\u5b57\\u53bb\\u9664\\uff0c\\u53ef\\u7528\\u4e8e\\u6f2b\\u753b\\u7ffb\\u8bd1 \\u3001186\\u79cd\\u8bed\\u8a00\\u7684\\u6570\\u5b57\\u53eb\\u6cd5\\u5e93\\u3001Amazon\\u53d1\\u5e03\\u57fa\\u4e8e\\u77e5\\u8bc6\\u7684\\u4eba-\\u4eba\\u5f00\\u653e\\u9886\\u57df\\u5bf9\\u8bdd\\u6570\\u636e\\u96c6 \\u3001\\u4e2d\\u6587\\u6587\\u672c\\u7ea0\\u9519\\u6a21\\u5757\\u4ee3\\u7801\\u3001\\u7e41\\u7b80\\u4f53\\u8f6c\\u6362 \\u3001 Python\\u5b9e\\u73b0\\u7684\\u591a\\u79cd\\u6587\\u672c\\u53ef\\u8bfb\\u6027\\u8bc4\\u4ef7\\u6307\\u6807\\u3001\\u7c7b\\u4f3c\\u4e8e\\u4eba\\u540d\\u002f\\u5730\\u540d\\u002f\\u7ec4\\u7ec7\\u673a\\u6784\\u540d\\u7684\\u547d\\u540d\\u4f53\\u8bc6\\u522b\\u6570\\u636e\\u96c6 \\u3001\\u4e1c\\u5357\\u5927\\u5b66\\u300a\\u77e5\\u8bc6\\u56fe\\u8c31\\u300b\\u7814\\u7a76\\u751f\\u8bfe\\u7a0b(\\u8d44\\u6599)\\u3001. \\u82f1\\u6587\\u62fc\\u5199\\u68c0\\u67e5\\u5e93 \\u3001 wwsearch\\u662f\\u4f01\\u4e1a\\u5fae\\u4fe1\\u540e\\u53f0\\u81ea\\u7814\\u7684\\u5168\\u6587\\u68c0\\u7d22\\u5f15\\u64ce\\u3001CHAMELEON\\uff1a\\u6df1\\u5ea6\\u5b66\\u4e60\\u65b0\\u95fb\\u63a8\\u8350\\u7cfb\\u7edf\\u5143\\u67b6\\u6784 \\u3001 8\\u7bc7\\u8bba\\u6587\\u68b3\\u7406BERT\\u76f8\\u5173\\u6a21\\u578b\\u8fdb\\u5c55\\u4e0e\\u53cd\\u601d\\u3001DocSearch\\uff1a\\u514d\\u8d39\\u6587\\u6863\\u641c\\u7d22\\u5f15\\u64ce\\u3001 LIDA\\uff1a\\u8f7b\\u91cf\\u4ea4\\u4e92\\u5f0f\\u5bf9\\u8bdd\\u6807\\u6ce8\\u5de5\\u5177 \\u3001aili - the fastest in-memory index in the East \\u4e1c\\u534a\\u7403\\u6700\\u5feb\\u5e76\\u53d1\\u7d22\\u5f15 \\u3001\\u77e5\\u8bc6\\u56fe\\u8c31\\u8f66\\u97f3\\u5de5\\u4f5c\\u9879\\u76ee\\u3001\\u81ea\\u7136\\u8bed\\u8a00\\u751f\\u6210\\u8d44\\u6e90\\u5927\\u5168 \\u3001\\u4e2d\\u65e5\\u97e9\\u5206\\u8bcd\\u5e93mecab\\u7684Python\\u63a5\\u53e3\\u5e93\\u3001\\u4e2d\\u6587\\u6587\\u672c\\u6458\\u8981\\u002f\\u5173\\u952e\\u8bcd\\u63d0\\u53d6\\u3001\\u6c49\\u5b57\\u5b57\\u7b26\\u7279\\u5f81\\u63d0\\u53d6\\u5668 (featurizer)\\uff0c\\u63d0\\u53d6\\u6c49\\u5b57\\u7684\\u7279\\u5f81\\uff08\\u53d1\\u97f3\\u7279\\u5f81\\u3001\\u5b57\\u5f62\\u7279\\u5f81\\uff09\\u7528\\u505a\\u6df1\\u5ea6\\u5b66\\u4e60\\u7684\\u7279\\u5f81\\u3001\\u4e2d\\u6587\\u751f\\u6210\\u4efb\\u52a1\\u57fa\\u51c6\\u6d4b\\u8bc4 \\u3001\\u4e2d\\u6587\\u7f29\\u5199\\u6570\\u636e\\u96c6\\u3001\\u4e2d\\u6587\\u4efb\\u52a1\\u57fa\\u51c6\\u6d4b\\u8bc4 - \\u4ee3\\u8868\\u6027\\u7684\\u6570\\u636e\\u96c6-\\u57fa\\u51c6(\\u9884\\u8bad\\u7ec3)\\u6a21\\u578b-\\u8bed\\u6599\\u5e93-baseline-\\u5de5\\u5177\\u5305-\\u6392\\u884c\\u699c\\u3001PySS3\\uff1a\\u9762\\u5411\\u53ef\\u89e3\\u91caAI\\u7684SS3\\u6587\\u672c\\u5206\\u7c7b\\u5668\\u673a\\u5668\\u53ef\\u89c6\\u5316\\u5de5\\u5177 \\u3001\\u4e2d\\u6587NLP\\u6570\\u636e\\u96c6\\u5217\\u8868\\u3001COPE - \\u683c\\u5f8b\\u8bd7\\u7f16\\u8f91\\u7a0b\\u5e8f\\u3001doccano\\uff1a\\u57fa\\u4e8e\\u7f51\\u9875\\u7684\\u5f00\\u6e90\\u534f\\u540c\\u591a\\u8bed\\u8a00\\u6587\\u672c\\u6807\\u6ce8\\u5de5\\u5177 \\u3001PreNLP\\uff1a\\u81ea\\u7136\\u8bed\\u8a00\\u9884\\u5904\\u7406\\u5e93\\u3001\\u7b80\\u5355\\u7684\\u7b80\\u5386\\u89e3\\u6790\\u5668\\uff0c\\u7528\\u6765\\u4ece\\u7b80\\u5386\\u4e2d\\u63d0\\u53d6\\u5173\\u952e\\u4fe1\\u606f\\u3001\\u7528\\u4e8e\\u4e2d\\u6587\\u95f2\\u804a\\u7684GPT2\\u6a21\\u578b\\uff1aGPT2-chitchat\\u3001\\u57fa\\u4e8e\\u68c0\\u7d22\\u804a\\u5929\\u673a\\u5668\\u4eba\\u591a\\u8f6e\\u54cd\\u5e94\\u9009\\u62e9\\u76f8\\u5173\\u8d44\\u6e90\\u5217\\u8868(Leaderboards\\u3001Datasets\\u3001Papers)\\u3001(Colab)\\u62bd\\u8c61\\u6587\\u672c\\u6458\\u8981\\u5b9e\\u73b0\\u96c6\\u9526(\\u6559\\u7a0b \\u3001\\u8bcd\\u8bed\\u62fc\\u97f3\\u6570\\u636e\\u3001\\u9ad8\\u6548\\u6a21\\u7cca\\u641c\\u7d22\\u5de5\\u5177\\u3001NLP\\u6570\\u636e\\u589e\\u5e7f\\u8d44\\u6e90\\u96c6\\u3001\\u5fae\\u8f6f\\u5bf9\\u8bdd\\u673a\\u5668\\u4eba\\u6846\\u67b6 \\u3001 GitHub Typo Corpus\\uff1a\\u5927\\u89c4\\u6a21GitHub\\u591a\\u8bed\\u8a00\\u62fc\\u5199\\u9519\\u8bef\\u002f\\u8bed\\u6cd5\\u9519\\u8bef\\u6570\\u636e\\u96c6\\u3001TextCluster\\uff1a\\u77ed\\u6587\\u672c\\u805a\\u7c7b\\u9884\\u5904\\u7406\\u6a21\\u5757 Short text cluster\\u3001\\u9762\\u5411\\u8bed\\u97f3\\u8bc6\\u522b\\u7684\\u4e2d\\u6587\\u6587\\u672c\\u89c4\\u8303\\u5316\\u3001BLINK\\uff1a\\u6700\\u5148\\u8fdb\\u7684\\u5b9e\\u4f53\\u94fe\\u63a5\\u5e93\\u3001BertPunc\\uff1a\\u57fa\\u4e8eBERT\\u7684\\u6700\\u5148\\u8fdb\\u6807\\u70b9\\u4fee\\u590d\\u6a21\\u578b\\u3001Tokenizer\\uff1a\\u5feb\\u901f\\u3001\\u53ef\\u5b9a\\u5236\\u7684\\u6587\\u672c\\u8bcd\\u6761\\u5316\\u5e93\\u3001\\u4e2d\\u6587\\u8bed\\u8a00\\u7406\\u89e3\\u6d4b\\u8bc4\\u57fa\\u51c6\\uff0c\\u5305\\u62ec\\u4ee3\\u8868\\u6027\\u7684\\u6570\\u636e\\u96c6\\u3001\\u57fa\\u51c6(\\u9884\\u8bad\\u7ec3)\\u6a21\\u578b\\u3001\\u8bed\\u6599\\u5e93\\u3001\\u6392\\u884c\\u699c\\u3001spaCy \\u533b\\u5b66\\u6587\\u672c\\u6316\\u6398\\u4e0e\\u4fe1\\u606f\\u63d0\\u53d6 \\u3001 NLP\\u4efb\\u52a1\\u793a\\u4f8b\\u9879\\u76ee\\u4ee3\\u7801\\u96c6\\u3001 python\\u62fc\\u5199\\u68c0\\u67e5\\u5e93\\u3001chatbot-list - \\u884c\\u4e1a\\u5185\\u5173\\u4e8e\\u667a\\u80fd\\u5ba2\\u670d\\u3001\\u804a\\u5929\\u673a\\u5668\\u4eba\\u7684\\u5e94\\u7528\\u548c\\u67b6\\u6784\\u3001\\u7b97\\u6cd5\\u5206\\u4eab\\u548c\\u4ecb\\u7ecd\\u3001\\u8bed\\u97f3\\u8d28\\u91cf\\u8bc4\\u4ef7\\u6307\\u6807(MOSNet, BSSEval, STOI, PESQ, SRMR)\\u3001 \\u7528138GB\\u8bed\\u6599\\u8bad\\u7ec3\\u7684\\u6cd5\\u6587RoBERTa\\u9884\\u8bad\\u7ec3\\u8bed\\u8a00\\u6a21\\u578b \\u3001BERT-NER-Pytorch\\uff1a\\u4e09\\u79cd\\u4e0d\\u540c\\u6a21\\u5f0f\\u7684BERT\\u4e2d\\u6587NER\\u5b9e\\u9a8c\\u3001\\u65e0\\u9053\\u8bcd\\u5178 - \\u6709\\u9053\\u8bcd\\u5178\\u7684\\u547d\\u4ee4\\u884c\\u7248\\u672c\\uff0c\\u652f\\u6301\\u82f1\\u6c49\\u4e92\\u67e5\\u548c\\u5728\\u7ebf\\u67e5\\u8be2\\u30012019\\u5e74NLP\\u4eae\\u70b9\\u56de\\u987e\\u3001 Chinese medical dialogue data \\u4e2d\\u6587\\u533b\\u7597\\u5bf9\\u8bdd\\u6570\\u636e\\u96c6 \\u3001\\u6700\\u597d\\u7684\\u6c49\\u5b57\\u6570\\u5b57(\\u4e2d\\u6587\\u6570\\u5b57)-\\u963f\\u62c9\\u4f2f\\u6570\\u5b57\\u8f6c\\u6362\\u5de5\\u5177\\u3001 \\u57fa\\u4e8e\\u767e\\u79d1\\u77e5\\u8bc6\\u5e93\\u7684\\u4e2d\\u6587\\u8bcd\\u8bed\\u591a\\u8bcd\\u4e49\\u002f\\u4e49\\u9879\\u83b7\\u53d6\\u4e0e\\u7279\\u5b9a\\u53e5\\u5b50\\u8bcd\\u8bed\\u8bed\\u4e49\\u6d88\\u6b67\\u3001awesome-nlp-sentiment-analysis - \\u60c5\\u611f\\u5206\\u6790\\u3001\\u60c5\\u7eea\\u539f\\u56e0\\u8bc6\\u522b\\u3001\\u8bc4\\u4ef7\\u5bf9\\u8c61\\u548c\\u8bc4\\u4ef7\\u8bcd\\u62bd\\u53d6\\u3001LineFlow\\uff1a\\u9762\\u5411\\u6240\\u6709\\u6df1\\u5ea6\\u5b66\\u4e60\\u6846\\u67b6\\u7684NLP\\u6570\\u636e\\u9ad8\\u6548\\u52a0\\u8f7d\\u5668\\u3001\\u4e2d\\u6587\\u533b\\u5b66NLP\\u516c\\u5f00\\u8d44\\u6e90\\u6574\\u7406 \\u3001MedQuAD\\uff1a(\\u82f1\\u6587)\\u533b\\u5b66\\u95ee\\u7b54\\u6570\\u636e\\u96c6\\u3001\\u5c06\\u81ea\\u7136\\u8bed\\u8a00\\u6570\\u5b57\\u4e32\\u89e3\\u6790\\u8f6c\\u6362\\u4e3a\\u6574\\u6570\\u548c\\u6d6e\\u70b9\\u6570\\u3001Transfer Learning in Natural Language Processing (NLP) \\u3001\\u9762\\u5411\\u8bed\\u97f3\\u8bc6\\u522b\\u7684\\u4e2d\\u6587\\u002f\\u82f1\\u6587\\u53d1\\u97f3\\u8f9e\\u5178\\u3001Tokenizers\\uff1a\\u6ce8\\u91cd\\u6027\\u80fd\\u4e0e\\u591a\\u529f\\u80fd\\u6027\\u7684\\u6700\\u5148\\u8fdb\\u5206\\u8bcd\\u5668\\u3001CLUENER \\u7ec6\\u7c92\\u5ea6\\u547d\\u540d\\u5b9e\\u4f53\\u8bc6\\u522b Fine Grained Named Entity Recognition\\u3001 \\u57fa\\u4e8eBERT\\u7684\\u4e2d\\u6587\\u547d\\u540d\\u5b9e\\u4f53\\u8bc6\\u522b\\u3001\\u4e2d\\u6587\\u8c23\\u8a00\\u6570\\u636e\\u5e93\\u3001NLP\\u6570\\u636e\\u96c6\\u002f\\u57fa\\u51c6\\u4efb\\u52a1\\u5927\\u5217\\u8868\\u3001nlp\\u76f8\\u5173\\u7684\\u4e00\\u4e9b\\u8bba\\u6587\\u53ca\\u4ee3\\u7801, \\u5305\\u62ec\\u4e3b\\u9898\\u6a21\\u578b\\u3001\\u8bcd\\u5411\\u91cf(Word Embedding)\\u3001\\u547d\\u540d\\u5b9e\\u4f53\\u8bc6\\u522b(NER)\\u3001\\u6587\\u672c\\u5206\\u7c7b(Text Classificatin)\\u3001\\u6587\\u672c\\u751f\\u6210(Text Generation)\\u3001\\u6587\\u672c\\u76f8\\u4f3c\\u6027(Text Similarity)\\u8ba1\\u7b97\\u7b49\\uff0c\\u6d89\\u53ca\\u5230\\u5404\\u79cd\\u4e0enlp\\u76f8\\u5173\\u7684\\u7b97\\u6cd5\\uff0c\\u57fa\\u4e8ekeras\\u548ctensorflow \\u3001Python\\u6587\\u672c\\u6316\\u6398\\u002fNLP\\u5b9e\\u6218\\u793a\\u4f8b\\u3001 Blackstone\\uff1a\\u9762\\u5411\\u975e\\u7ed3\\u6784\\u5316\\u6cd5\\u5f8b\\u6587\\u672c\\u7684spaCy pipeline\\u548cNLP\\u6a21\\u578b\\u901a\\u8fc7\\u540c\\u4e49\\u8bcd\\u66ff\\u6362\\u5b9e\\u73b0\\u6587\\u672c\\u201c\\u53d8\\u8138\\u201d \\u3001\\u4e2d\\u6587 \\u9884\\u8bad\\u7ec3 ELECTREA \\u6a21\\u578b: \\u57fa\\u4e8e\\u5bf9\\u6297\\u5b66\\u4e60 pretrain Chinese Model \\u3001albert-chinese-ner - \\u7528\\u9884\\u8bad\\u7ec3\\u8bed\\u8a00\\u6a21\\u578bALBERT\\u505a\\u4e2d\\u6587NER \\u3001\\u57fa\\u4e8eGPT2\\u7684\\u7279\\u5b9a\\u4e3b\\u9898\\u6587\\u672c\\u751f\\u6210\\u002f\\u6587\\u672c\\u589e\\u5e7f\\u3001\\u5f00\\u6e90\\u9884\\u8bad\\u7ec3\\u8bed\\u8a00\\u6a21\\u578b\\u5408\\u96c6\\u3001\\u591a\\u8bed\\u8a00\\u53e5\\u5411\\u91cf\\u5305\\u3001\\u7f16\\u7801\\u3001\\u6807\\u8bb0\\u548c\\u5b9e\\u73b0\\uff1a\\u4e00\\u79cd\\u53ef\\u63a7\\u9ad8\\u6548\\u7684\\u6587\\u672c\\u751f\\u6210\\u65b9\\u6cd5\\u3001 \\u82f1\\u6587\\u810f\\u8bdd\\u5927\\u5217\\u8868 \\u3001attnvis\\uff1aGPT2\\u3001BERT\\u7b49transformer\\u8bed\\u8a00\\u6a21\\u578b\\u6ce8\\u610f\\u529b\\u4ea4\\u4e92\\u53ef\\u89c6\\u5316\\u3001CoVoST\\uff1aFacebook\\u53d1\\u5e03\\u7684\\u591a\\u8bed\\u79cd\\u8bed\\u97f3-\\u6587\\u672c\\u7ffb\\u8bd1\\u8bed\\u6599\\u5e93\\uff0c\\u5305\\u62ec11\\u79cd\\u8bed\\u8a00(\\u6cd5\\u8bed\\u3001\\u5fb7\\u8bed\\u3001\\u8377\\u5170\\u8bed\\u3001\\u4fc4\\u8bed\\u3001\\u897f\\u73ed\\u7259\\u8bed\\u3001\\u610f\\u5927\\u5229\\u8bed\\u3001\\u571f\\u8033\\u5176\\u8bed\\u3001\\u6ce2\\u65af\\u8bed\\u3001\\u745e\\u5178\\u8bed\\u3001\\u8499\\u53e4\\u8bed\\u548c\\u4e2d\\u6587)\\u7684\\u8bed\\u97f3\\u3001\\u6587\\u5b57\\u8f6c\\u5f55\\u53ca\\u82f1\\u6587\\u8bd1\\u6587\\u3001Jiagu\\u81ea\\u7136\\u8bed\\u8a00\\u5904\\u7406\\u5de5\\u5177 - \\u4ee5BiLSTM\\u7b49\\u6a21\\u578b\\u4e3a\\u57fa\\u7840\\uff0c\\u63d0\\u4f9b\\u77e5\\u8bc6\\u56fe\\u8c31\\u5173\\u7cfb\\u62bd\\u53d6 \\u4e2d\\u6587\\u5206\\u8bcd \\u8bcd\\u6027\\u6807\\u6ce8 \\u547d\\u540d\\u5b9e\\u4f53\\u8bc6\\u522b \\u60c5\\u611f\\u5206\\u6790 \\u65b0\\u8bcd\\u53d1\\u73b0 \\u5173\\u952e\\u8bcd \\u6587\\u672c\\u6458\\u8981 \\u6587\\u672c\\u805a\\u7c7b\\u7b49\\u529f\\u80fd\\u3001\\u7528unet\\u5b9e\\u73b0\\u5bf9\\u6587\\u6863\\u8868\\u683c\\u7684\\u81ea\\u52a8\\u68c0\\u6d4b\\uff0c\\u8868\\u683c\\u91cd\\u5efa\\u3001NLP\\u4e8b\\u4ef6\\u63d0\\u53d6\\u6587\\u732e\\u8d44\\u6e90\\u5217\\u8868 \\u3001 \\u91d1\\u878d\\u9886\\u57df\\u81ea\\u7136\\u8bed\\u8a00\\u5904\\u7406\\u7814\\u7a76\\u8d44\\u6e90\\u5927\\u5217\\u8868\\u3001CLUEDatasetSearch - \\u4e2d\\u82f1\\u6587NLP\\u6570\\u636e\\u96c6\\uff1a\\u641c\\u7d22\\u6240\\u6709\\u4e2d\\u6587NLP\\u6570\\u636e\\u96c6\\uff0c\\u9644\\u5e38\\u7528\\u82f1\\u6587NLP\\u6570\\u636e\\u96c6 \\u3001medical_NER - \\u4e2d\\u6587\\u533b\\u5b66\\u77e5\\u8bc6\\u56fe\\u8c31\\u547d\\u540d\\u5b9e\\u4f53\\u8bc6\\u522b \\u3001(\\u54c8\\u4f5b)\\u8bb2\\u56e0\\u679c\\u63a8\\u7406\\u7684\\u514d\\u8d39\\u4e66\\u3001\\u77e5\\u8bc6\\u56fe\\u8c31\\u76f8\\u5173\\u5b66\\u4e60\\u8d44\\u6599\\u002f\\u6570\\u636e\\u96c6\\u002f\\u5de5\\u5177\\u8d44\\u6e90\\u5927\\u5217\\u8868\\u3001Forte\\uff1a\\u7075\\u6d3b\\u5f3a\\u5927\\u7684\\u81ea\\u7136\\u8bed\\u8a00\\u5904\\u7406pipeline\\u5de5\\u5177\\u96c6 \\u3001Python\\u5b57\\u7b26\\u4e32\\u76f8\\u4f3c\\u6027\\u7b97\\u6cd5\\u5e93\\u3001PyLaia\\uff1a\\u9762\\u5411\\u624b\\u5199\\u6587\\u6863\\u5206\\u6790\\u7684\\u6df1\\u5ea6\\u5b66\\u4e60\\u5de5\\u5177\\u5305\\u3001TextFooler\\uff1a\\u9488\\u5bf9\\u6587\\u672c\\u5206\\u7c7b\\u002f\\u63a8\\u7406\\u7684\\u5bf9\\u6297\\u6587\\u672c\\u751f\\u6210\\u6a21\\u5757\\u3001Haystack\\uff1a\\u7075\\u6d3b\\u3001\\u5f3a\\u5927\\u7684\\u53ef\\u6269\\u5c55\\u95ee\\u7b54(QA)\\u6846\\u67b6\\u3001\\u4e2d\\u6587\\u5173\\u952e\\u77ed\\u8bed\\u62bd\\u53d6\\u5de5\\u5177\",\"pallets\\u003cbr \\u002f\\u003eThe Python micro framework for building web applications.\",\"openai\\u003cbr \\u002f\\u003eRobust Speech Recognition via Large-Scale Weak Supervision\",\"bregman-arie\\u003cbr \\u002f\\u003eLinux, Jenkins, AWS, SRE, Prometheus, Docker, Python, Ansible, Git, Kubernetes, Terraform, OpenStack, SQL, NoSQL, Azure, GCP, DNS, Elastic, Network, Virtualization. DevOps Interview Questions\",\"josephmisiti\\u003cbr \\u002f\\u003eA curated list of awesome Machine Learning frameworks, libraries and software.\",\"binary-husky\\u003cbr \\u002f\\u003e\\u4e3aGPT\\u002fGLM\\u7b49LLM\\u5927\\u8bed\\u8a00\\u6a21\\u578b\\u63d0\\u4f9b\\u5b9e\\u7528\\u5316\\u4ea4\\u4e92\\u63a5\\u53e3\\uff0c\\u7279\\u522b\\u4f18\\u5316\\u8bba\\u6587\\u9605\\u8bfb\\u002f\\u6da6\\u8272\\u002f\\u5199\\u4f5c\\u4f53\\u9a8c\\uff0c\\u6a21\\u5757\\u5316\\u8bbe\\u8ba1\\uff0c\\u652f\\u6301\\u81ea\\u5b9a\\u4e49\\u5feb\\u6377\\u6309\\u94ae&\\u51fd\\u6570\\u63d2\\u4ef6\\uff0c\\u652f\\u6301Python\\u548cC++\\u7b49\\u9879\\u76ee\\u5256\\u6790&\\u81ea\\u8bd1\\u89e3\\u529f\\u80fd\\uff0cPDF\\u002fLaTex\\u8bba\\u6587\\u7ffb\\u8bd1&\\u603b\\u7ed3\\u529f\\u80fd\\uff0c\\u652f\\u6301\\u5e76\\u884c\\u95ee\\u8be2\\u591a\\u79cdLLM\\u6a21\\u578b\\uff0c\\u652f\\u6301chatglm3\\u7b49\\u672c\\u5730\\u6a21\\u578b\\u3002\\u63a5\\u5165\\u901a\\u4e49\\u5343\\u95ee, deepseekcoder, \\u8baf\\u98de\\u661f\\u706b, \\u6587\\u5fc3\\u4e00\\u8a00, llama2, rwkv, claude2, moss\\u7b49\\u3002\",\"ansible\\u003cbr \\u002f\\u003eAnsible is a radically simple IT automation platform that makes your applications and systems easier to deploy and maintain. Automate everything from code deployment to network configuration to cloud management, in a language that approaches plain English, using SSH, with no agents to install on remote systems. https:\\u002f\\u002fdocs.ansible.com.\",\"python\\u003cbr \\u002f\\u003eThe Python programming language\",\"3b1b\\u003cbr \\u002f\\u003eAnimation engine for explanatory math videos\",\"keras-team\\u003cbr \\u002f\\u003eDeep Learning for humans\",\"d2l-ai\\u003cbr \\u002f\\u003e\\u300a\\u52a8\\u624b\\u5b66\\u6df1\\u5ea6\\u5b66\\u4e60\\u300b\\uff1a\\u9762\\u5411\\u4e2d\\u6587\\u8bfb\\u8005\\u3001\\u80fd\\u8fd0\\u884c\\u3001\\u53ef\\u8ba8\\u8bba\\u3002\\u4e2d\\u82f1\\u6587\\u7248\\u88ab70\\u591a\\u4e2a\\u56fd\\u5bb6\\u7684500\\u591a\\u6240\\u5927\\u5b66\\u7528\\u4e8e\\u6559\\u5b66\\u3002\",\"xtekky\\u003cbr \\u002f\\u003eThe official gpt4free repository | various collection of powerful language models\",\"swisskyrepo\\u003cbr \\u002f\\u003eA list of useful payloads and bypass for Web Application Security and Pentest\\u002fCTF\"],\"legendgroup\":\"\",\"marker\":{\"color\":\"#636efa\",\"pattern\":{\"shape\":\"\"}},\"name\":\"\",\"offsetgroup\":\"\",\"orientation\":\"v\",\"showlegend\":false,\"textposition\":\"auto\",\"x\":[\"public-apis\",\"system-design-primer\",\"awesome-python\",\"Python\",\"AutoGPT\",\"Python-100-Days\",\"stable-diffusion-webui\",\"transformers\",\"youtube-dl\",\"HelloGitHub\",\"thefuck\",\"yt-dlp\",\"pytorch\",\"django\",\"models\",\"fastapi\",\"core\",\"funNLP\",\"flask\",\"whisper\",\"devops-exercises\",\"awesome-machine-learning\",\"gpt_academic\",\"ansible\",\"cpython\",\"manim\",\"keras\",\"d2l-zh\",\"gpt4free\",\"PayloadsAllTheThings\"],\"xaxis\":\"x\",\"y\":[311932,269049,218213,184011,166374,154609,139339,131826,131235,90278,84655,82124,82043,79102,76946,75465,71096,67562,67518,67294,65775,65323,63815,62307,62239,61857,61588,61188,59894,59889],\"yaxis\":\"y\",\"type\":\"bar\"}],                        {\"template\":{\"data\":{\"histogram2dcontour\":[{\"type\":\"histogram2dcontour\",\"colorbar\":{\"outlinewidth\":0,\"ticks\":\"\"},\"colorscale\":[[0.0,\"#0d0887\"],[0.1111111111111111,\"#46039f\"],[0.2222222222222222,\"#7201a8\"],[0.3333333333333333,\"#9c179e\"],[0.4444444444444444,\"#bd3786\"],[0.5555555555555556,\"#d8576b\"],[0.6666666666666666,\"#ed7953\"],[0.7777777777777778,\"#fb9f3a\"],[0.8888888888888888,\"#fdca26\"],[1.0,\"#f0f921\"]]}],\"choropleth\":[{\"type\":\"choropleth\",\"colorbar\":{\"outlinewidth\":0,\"ticks\":\"\"}}],\"histogram2d\":[{\"type\":\"histogram2d\",\"colorbar\":{\"outlinewidth\":0,\"ticks\":\"\"},\"colorscale\":[[0.0,\"#0d0887\"],[0.1111111111111111,\"#46039f\"],[0.2222222222222222,\"#7201a8\"],[0.3333333333333333,\"#9c179e\"],[0.4444444444444444,\"#bd3786\"],[0.5555555555555556,\"#d8576b\"],[0.6666666666666666,\"#ed7953\"],[0.7777777777777778,\"#fb9f3a\"],[0.8888888888888888,\"#fdca26\"],[1.0,\"#f0f921\"]]}],\"heatmap\":[{\"type\":\"heatmap\",\"colorbar\":{\"outlinewidth\":0,\"ticks\":\"\"},\"colorscale\":[[0.0,\"#0d0887\"],[0.1111111111111111,\"#46039f\"],[0.2222222222222222,\"#7201a8\"],[0.3333333333333333,\"#9c179e\"],[0.4444444444444444,\"#bd3786\"],[0.5555555555555556,\"#d8576b\"],[0.6666666666666666,\"#ed7953\"],[0.7777777777777778,\"#fb9f3a\"],[0.8888888888888888,\"#fdca26\"],[1.0,\"#f0f921\"]]}],\"heatmapgl\":[{\"type\":\"heatmapgl\",\"colorbar\":{\"outlinewidth\":0,\"ticks\":\"\"},\"colorscale\":[[0.0,\"#0d0887\"],[0.1111111111111111,\"#46039f\"],[0.2222222222222222,\"#7201a8\"],[0.3333333333333333,\"#9c179e\"],[0.4444444444444444,\"#bd3786\"],[0.5555555555555556,\"#d8576b\"],[0.6666666666666666,\"#ed7953\"],[0.7777777777777778,\"#fb9f3a\"],[0.8888888888888888,\"#fdca26\"],[1.0,\"#f0f921\"]]}],\"contourcarpet\":[{\"type\":\"contourcarpet\",\"colorbar\":{\"outlinewidth\":0,\"ticks\":\"\"}}],\"contour\":[{\"type\":\"contour\",\"colorbar\":{\"outlinewidth\":0,\"ticks\":\"\"},\"colorscale\":[[0.0,\"#0d0887\"],[0.1111111111111111,\"#46039f\"],[0.2222222222222222,\"#7201a8\"],[0.3333333333333333,\"#9c179e\"],[0.4444444444444444,\"#bd3786\"],[0.5555555555555556,\"#d8576b\"],[0.6666666666666666,\"#ed7953\"],[0.7777777777777778,\"#fb9f3a\"],[0.8888888888888888,\"#fdca26\"],[1.0,\"#f0f921\"]]}],\"surface\":[{\"type\":\"surface\",\"colorbar\":{\"outlinewidth\":0,\"ticks\":\"\"},\"colorscale\":[[0.0,\"#0d0887\"],[0.1111111111111111,\"#46039f\"],[0.2222222222222222,\"#7201a8\"],[0.3333333333333333,\"#9c179e\"],[0.4444444444444444,\"#bd3786\"],[0.5555555555555556,\"#d8576b\"],[0.6666666666666666,\"#ed7953\"],[0.7777777777777778,\"#fb9f3a\"],[0.8888888888888888,\"#fdca26\"],[1.0,\"#f0f921\"]]}],\"mesh3d\":[{\"type\":\"mesh3d\",\"colorbar\":{\"outlinewidth\":0,\"ticks\":\"\"}}],\"scatter\":[{\"fillpattern\":{\"fillmode\":\"overlay\",\"size\":10,\"solidity\":0.2},\"type\":\"scatter\"}],\"parcoords\":[{\"type\":\"parcoords\",\"line\":{\"colorbar\":{\"outlinewidth\":0,\"ticks\":\"\"}}}],\"scatterpolargl\":[{\"type\":\"scatterpolargl\",\"marker\":{\"colorbar\":{\"outlinewidth\":0,\"ticks\":\"\"}}}],\"bar\":[{\"error_x\":{\"color\":\"#2a3f5f\"},\"error_y\":{\"color\":\"#2a3f5f\"},\"marker\":{\"line\":{\"color\":\"#E5ECF6\",\"width\":0.5},\"pattern\":{\"fillmode\":\"overlay\",\"size\":10,\"solidity\":0.2}},\"type\":\"bar\"}],\"scattergeo\":[{\"type\":\"scattergeo\",\"marker\":{\"colorbar\":{\"outlinewidth\":0,\"ticks\":\"\"}}}],\"scatterpolar\":[{\"type\":\"scatterpolar\",\"marker\":{\"colorbar\":{\"outlinewidth\":0,\"ticks\":\"\"}}}],\"histogram\":[{\"marker\":{\"pattern\":{\"fillmode\":\"overlay\",\"size\":10,\"solidity\":0.2}},\"type\":\"histogram\"}],\"scattergl\":[{\"type\":\"scattergl\",\"marker\":{\"colorbar\":{\"outlinewidth\":0,\"ticks\":\"\"}}}],\"scatter3d\":[{\"type\":\"scatter3d\",\"line\":{\"colorbar\":{\"outlinewidth\":0,\"ticks\":\"\"}},\"marker\":{\"colorbar\":{\"outlinewidth\":0,\"ticks\":\"\"}}}],\"scattermapbox\":[{\"type\":\"scattermapbox\",\"marker\":{\"colorbar\":{\"outlinewidth\":0,\"ticks\":\"\"}}}],\"scatterternary\":[{\"type\":\"scatterternary\",\"marker\":{\"colorbar\":{\"outlinewidth\":0,\"ticks\":\"\"}}}],\"scattercarpet\":[{\"type\":\"scattercarpet\",\"marker\":{\"colorbar\":{\"outlinewidth\":0,\"ticks\":\"\"}}}],\"carpet\":[{\"aaxis\":{\"endlinecolor\":\"#2a3f5f\",\"gridcolor\":\"white\",\"linecolor\":\"white\",\"minorgridcolor\":\"white\",\"startlinecolor\":\"#2a3f5f\"},\"baxis\":{\"endlinecolor\":\"#2a3f5f\",\"gridcolor\":\"white\",\"linecolor\":\"white\",\"minorgridcolor\":\"white\",\"startlinecolor\":\"#2a3f5f\"},\"type\":\"carpet\"}],\"table\":[{\"cells\":{\"fill\":{\"color\":\"#EBF0F8\"},\"line\":{\"color\":\"white\"}},\"header\":{\"fill\":{\"color\":\"#C8D4E3\"},\"line\":{\"color\":\"white\"}},\"type\":\"table\"}],\"barpolar\":[{\"marker\":{\"line\":{\"color\":\"#E5ECF6\",\"width\":0.5},\"pattern\":{\"fillmode\":\"overlay\",\"size\":10,\"solidity\":0.2}},\"type\":\"barpolar\"}],\"pie\":[{\"automargin\":true,\"type\":\"pie\"}]},\"layout\":{\"autotypenumbers\":\"strict\",\"colorway\":[\"#636efa\",\"#EF553B\",\"#00cc96\",\"#ab63fa\",\"#FFA15A\",\"#19d3f3\",\"#FF6692\",\"#B6E880\",\"#FF97FF\",\"#FECB52\"],\"font\":{\"color\":\"#2a3f5f\"},\"hovermode\":\"closest\",\"hoverlabel\":{\"align\":\"left\"},\"paper_bgcolor\":\"white\",\"plot_bgcolor\":\"#E5ECF6\",\"polar\":{\"bgcolor\":\"#E5ECF6\",\"angularaxis\":{\"gridcolor\":\"white\",\"linecolor\":\"white\",\"ticks\":\"\"},\"radialaxis\":{\"gridcolor\":\"white\",\"linecolor\":\"white\",\"ticks\":\"\"}},\"ternary\":{\"bgcolor\":\"#E5ECF6\",\"aaxis\":{\"gridcolor\":\"white\",\"linecolor\":\"white\",\"ticks\":\"\"},\"baxis\":{\"gridcolor\":\"white\",\"linecolor\":\"white\",\"ticks\":\"\"},\"caxis\":{\"gridcolor\":\"white\",\"linecolor\":\"white\",\"ticks\":\"\"}},\"coloraxis\":{\"colorbar\":{\"outlinewidth\":0,\"ticks\":\"\"}},\"colorscale\":{\"sequential\":[[0.0,\"#0d0887\"],[0.1111111111111111,\"#46039f\"],[0.2222222222222222,\"#7201a8\"],[0.3333333333333333,\"#9c179e\"],[0.4444444444444444,\"#bd3786\"],[0.5555555555555556,\"#d8576b\"],[0.6666666666666666,\"#ed7953\"],[0.7777777777777778,\"#fb9f3a\"],[0.8888888888888888,\"#fdca26\"],[1.0,\"#f0f921\"]],\"sequentialminus\":[[0.0,\"#0d0887\"],[0.1111111111111111,\"#46039f\"],[0.2222222222222222,\"#7201a8\"],[0.3333333333333333,\"#9c179e\"],[0.4444444444444444,\"#bd3786\"],[0.5555555555555556,\"#d8576b\"],[0.6666666666666666,\"#ed7953\"],[0.7777777777777778,\"#fb9f3a\"],[0.8888888888888888,\"#fdca26\"],[1.0,\"#f0f921\"]],\"diverging\":[[0,\"#8e0152\"],[0.1,\"#c51b7d\"],[0.2,\"#de77ae\"],[0.3,\"#f1b6da\"],[0.4,\"#fde0ef\"],[0.5,\"#f7f7f7\"],[0.6,\"#e6f5d0\"],[0.7,\"#b8e186\"],[0.8,\"#7fbc41\"],[0.9,\"#4d9221\"],[1,\"#276419\"]]},\"xaxis\":{\"gridcolor\":\"white\",\"linecolor\":\"white\",\"ticks\":\"\",\"title\":{\"standoff\":15},\"zerolinecolor\":\"white\",\"automargin\":true,\"zerolinewidth\":2},\"yaxis\":{\"gridcolor\":\"white\",\"linecolor\":\"white\",\"ticks\":\"\",\"title\":{\"standoff\":15},\"zerolinecolor\":\"white\",\"automargin\":true,\"zerolinewidth\":2},\"scene\":{\"xaxis\":{\"backgroundcolor\":\"#E5ECF6\",\"gridcolor\":\"white\",\"linecolor\":\"white\",\"showbackground\":true,\"ticks\":\"\",\"zerolinecolor\":\"white\",\"gridwidth\":2},\"yaxis\":{\"backgroundcolor\":\"#E5ECF6\",\"gridcolor\":\"white\",\"linecolor\":\"white\",\"showbackground\":true,\"ticks\":\"\",\"zerolinecolor\":\"white\",\"gridwidth\":2},\"zaxis\":{\"backgroundcolor\":\"#E5ECF6\",\"gridcolor\":\"white\",\"linecolor\":\"white\",\"showbackground\":true,\"ticks\":\"\",\"zerolinecolor\":\"white\",\"gridwidth\":2}},\"shapedefaults\":{\"line\":{\"color\":\"#2a3f5f\"}},\"annotationdefaults\":{\"arrowcolor\":\"#2a3f5f\",\"arrowhead\":0,\"arrowwidth\":1},\"geo\":{\"bgcolor\":\"white\",\"landcolor\":\"#E5ECF6\",\"subunitcolor\":\"white\",\"showland\":true,\"showlakes\":true,\"lakecolor\":\"white\"},\"title\":{\"x\":0.05},\"mapbox\":{\"style\":\"light\"}}},\"xaxis\":{\"anchor\":\"y\",\"domain\":[0.0,1.0],\"title\":{\"text\":\"Repository\",\"font\":{\"size\":20}}},\"yaxis\":{\"anchor\":\"x\",\"domain\":[0.0,1.0],\"title\":{\"text\":\"Stars\",\"font\":{\"size\":20}}},\"legend\":{\"tracegroupgap\":0},\"title\":{\"text\":\"Most-Starred Python projects on Github\",\"font\":{\"size\":28}},\"barmode\":\"relative\"},                        {\"responsive\": true}                    ).then(function(){\n",
       "                            \n",
       "var gd = document.getElementById('a7974cce-7ae4-4bb9-83ce-ee84d96b4f5e');\n",
       "var x = new MutationObserver(function (mutations, observer) {{\n",
       "        var display = window.getComputedStyle(gd).display;\n",
       "        if (!display || display === 'none') {{\n",
       "            console.log([gd, 'removed!']);\n",
       "            Plotly.purge(gd);\n",
       "            observer.disconnect();\n",
       "        }}\n",
       "}});\n",
       "\n",
       "// Listen for the removal of the full notebook cells\n",
       "var notebookContainer = gd.closest('#notebook-container');\n",
       "if (notebookContainer) {{\n",
       "    x.observe(notebookContainer, {childList: true});\n",
       "}}\n",
       "\n",
       "// Listen for the clearing of the current output cell\n",
       "var outputEl = gd.closest('.output');\n",
       "if (outputEl) {{\n",
       "    x.observe(outputEl, {childList: true});\n",
       "}}\n",
       "\n",
       "                        })                };                });            </script>        </div>"
      ]
     },
     "metadata": {},
     "output_type": "display_data"
    }
   ],
   "source": [
    "fig = px.bar(x=x, y=y,\n",
    "            title = title, labels = labels, hover_name = hover_texts)\n",
    "fig.update_layout(title_font_size = 28, xaxis_title_font_size = 20, yaxis_title_font_size =20)\n",
    "\n",
    "fig.show()\n"
   ]
  },
  {
   "cell_type": "code",
   "execution_count": null,
   "id": "98aff511-1ddc-4770-80ed-1f7f06e0087a",
   "metadata": {},
   "outputs": [],
   "source": []
  },
  {
   "cell_type": "markdown",
   "id": "6a4a3eff-ccea-48d3-8901-d708d80dae2e",
   "metadata": {},
   "source": [
    "## Adding clickable links"
   ]
  },
  {
   "cell_type": "code",
   "execution_count": 236,
   "id": "46a8f763-8c54-4ab6-af64-07e7c67c01a9",
   "metadata": {},
   "outputs": [],
   "source": [
    "# process repository information\n",
    "repo_links, stars, hover_texts = [], [], []\n",
    "\n",
    "for repo_dict in repo_dicts:\n",
    "    # Turn repo names into active links\n",
    "    repo_name = repo_dict[\"name\"]\n",
    "    repo_url = repo_dict[\"html_url\"]\n",
    "    repo_link = f\"<a href= '{repo_url}'>{repo_name}</a>\"\n",
    "    repo_links.append(repo_link)\n",
    "    ##Build hover texts\n",
    "    owner = repo_dict['owner']['login']\n",
    "    description = repo_dict['description']\n",
    "    hover_text = f\"{owner}<br />{description}\"\n",
    "    hover_texts.append(hover_text)"
   ]
  },
  {
   "cell_type": "code",
   "execution_count": 250,
   "id": "91d69aae-4d94-4c4d-ab77-f6e0664c37ee",
   "metadata": {},
   "outputs": [
    {
     "data": {
      "application/vnd.plotly.v1+json": {
       "config": {
        "plotlyServerURL": "https://plot.ly"
       },
       "data": [
        {
         "alignmentgroup": "True",
         "hovertemplate": "<b>%{hovertext}</b><br><br>Repository=%{x}<br>Stars=%{y}<extra></extra>",
         "hovertext": [
          "public-apis<br />A collective list of free APIs",
          "donnemartin<br />Learn how to design large-scale systems. Prep for the system design interview.  Includes Anki flashcards.",
          "vinta<br />An opinionated list of awesome Python frameworks, libraries, software and resources.",
          "TheAlgorithms<br />All Algorithms implemented in Python",
          "Significant-Gravitas<br />AutoGPT is the vision of accessible AI for everyone, to use and to build on. Our mission is to provide the tools, so that you can focus on what matters.",
          "jackfrued<br />Python - 100天从新手到大师",
          "AUTOMATIC1111<br />Stable Diffusion web UI",
          "huggingface<br />🤗 Transformers: State-of-the-art Machine Learning for Pytorch, TensorFlow, and JAX.",
          "ytdl-org<br />Command-line program to download videos from YouTube.com and other video sites",
          "521xueweihan<br />:octocat: 分享 GitHub 上有趣、入门级的开源项目。Share interesting, entry-level open source projects on GitHub.",
          "nvbn<br />Magnificent app which corrects your previous console command.",
          "yt-dlp<br />A feature-rich command-line audio/video downloader",
          "pytorch<br />Tensors and Dynamic neural networks in Python with strong GPU acceleration",
          "django<br />The Web framework for perfectionists with deadlines.",
          "tensorflow<br />Models and examples built with TensorFlow",
          "fastapi<br />FastAPI framework, high performance, easy to learn, fast to code, ready for production",
          "home-assistant<br />:house_with_garden: Open source home automation that puts local control and privacy first.",
          "fighting41love<br />中英文敏感词、语言检测、中外手机/电话归属地/运营商查询、名字推断性别、手机号抽取、身份证抽取、邮箱抽取、中日文人名库、中文缩写库、拆字词典、词汇情感值、停用词、反动词表、暴恐词表、繁简体转换、英文模拟中文发音、汪峰歌词生成器、职业名称词库、同义词库、反义词库、否定词库、汽车品牌词库、汽车零件词库、连续英文切割、各种中文词向量、公司名字大全、古诗词库、IT词库、财经词库、成语词库、地名词库、历史名人词库、诗词词库、医学词库、饮食词库、法律词库、汽车词库、动物词库、中文聊天语料、中文谣言数据、百度中文问答数据集、句子相似度匹配算法集合、bert资源、文本生成&摘要相关工具、cocoNLP信息抽取工具、国内电话号码正则匹配、清华大学XLORE:中英文跨语言百科知识图谱、清华大学人工智能技术系列报告、自然语言生成、NLU太难了系列、自动对联数据及机器人、用户名黑名单列表、罪名法务名词及分类模型、微信公众号语料、cs224n深度学习自然语言处理课程、中文手写汉字识别、中文自然语言处理 语料/数据集、变量命名神器、分词语料库+代码、任务型对话英文数据集、ASR 语音数据集 + 基于深度学习的中文语音识别系统、笑声检测器、Microsoft多语言数字/单位/如日期时间识别包、中华新华字典数据库及api(包括常用歇后语、成语、词语和汉字)、文档图谱自动生成、SpaCy 中文模型、Common Voice语音识别数据集新版、神经网络关系抽取、基于bert的命名实体识别、关键词(Keyphrase)抽取包pke、基于医疗领域知识图谱的问答系统、基于依存句法与语义角色标注的事件三元组抽取、依存句法分析4万句高质量标注数据、cnocr：用来做中文OCR的Python3包、中文人物关系知识图谱项目、中文nlp竞赛项目及代码汇总、中文字符数据、speech-aligner: 从“人声语音”及其“语言文本”产生音素级别时间对齐标注的工具、AmpliGraph: 知识图谱表示学习(Python)库：知识图谱概念链接预测、Scattertext 文本可视化(python)、语言/知识表示工具：BERT & ERNIE、中文对比英文自然语言处理NLP的区别综述、Synonyms中文近义词工具包、HarvestText领域自适应文本挖掘工具（新词发现-情感分析-实体链接等）、word2word：(Python)方便易用的多语言词-词对集：62种语言/3,564个多语言对、语音识别语料生成工具：从具有音频/字幕的在线视频创建自动语音识别(ASR)语料库、构建医疗实体识别的模型（包含词典和语料标注）、单文档非监督的关键词抽取、Kashgari中使用gpt-2语言模型、开源的金融投资数据提取工具、文本自动摘要库TextTeaser: 仅支持英文、人民日报语料处理工具集、一些关于自然语言的基本模型、基于14W歌曲知识库的问答尝试--功能包括歌词接龙and已知歌词找歌曲以及歌曲歌手歌词三角关系的问答、基于Siamese bilstm模型的相似句子判定模型并提供训练数据集和测试数据集、用Transformer编解码模型实现的根据Hacker News文章标题自动生成评论、用BERT进行序列标记和文本分类的模板代码、LitBank：NLP数据集——支持自然语言处理和计算人文学科任务的100部带标记英文小说语料、百度开源的基准信息抽取系统、虚假新闻数据集、Facebook: LAMA语言模型分析，提供Transformer-XL/BERT/ELMo/GPT预训练语言模型的统一访问接口、CommonsenseQA：面向常识的英文QA挑战、中文知识图谱资料、数据及工具、各大公司内部里大牛分享的技术文档 PDF 或者 PPT、自然语言生成SQL语句（英文）、中文NLP数据增强（EDA）工具、英文NLP数据增强工具 、基于医药知识图谱的智能问答系统、京东商品知识图谱、基于mongodb存储的军事领域知识图谱问答项目、基于远监督的中文关系抽取、语音情感分析、中文ULMFiT-情感分析-文本分类-语料及模型、一个拍照做题程序、世界各国大规模人名库、一个利用有趣中文语料库 qingyun 训练出来的中文聊天机器人、中文聊天机器人seqGAN、省市区镇行政区划数据带拼音标注、教育行业新闻语料库包含自动文摘功能、开放了对话机器人-知识图谱-语义理解-自然语言处理工具及数据、中文知识图谱：基于百度百科中文页面-抽取三元组信息-构建中文知识图谱、masr: 中文语音识别-提供预训练模型-高识别率、Python音频数据增广库、中文全词覆盖BERT及两份阅读理解数据、ConvLab：开源多域端到端对话系统平台、中文自然语言处理数据集、基于最新版本rasa搭建的对话系统、基于TensorFlow和BERT的管道式实体及关系抽取、一个小型的证券知识图谱/知识库、复盘所有NLP比赛的TOP方案、OpenCLaP：多领域开源中文预训练语言模型仓库、UER：基于不同语料+编码器+目标任务的中文预训练模型仓库、中文自然语言处理向量合集、基于金融-司法领域(兼有闲聊性质)的聊天机器人、g2pC：基于上下文的汉语读音自动标记模块、Zincbase 知识图谱构建工具包、诗歌质量评价/细粒度情感诗歌语料库、快速转化「中文数字」和「阿拉伯数字」、百度知道问答语料库、基于知识图谱的问答系统、jieba_fast 加速版的jieba、正则表达式教程、中文阅读理解数据集、基于BERT等最新语言模型的抽取式摘要提取、Python利用深度学习进行文本摘要的综合指南、知识图谱深度学习相关资料整理、维基大规模平行文本语料、StanfordNLP 0.2.0：纯Python版自然语言处理包、NeuralNLP-NeuralClassifier：腾讯开源深度学习文本分类工具、端到端的封闭域对话系统、中文命名实体识别：NeuroNER vs. BertNER、新闻事件线索抽取、2019年百度的三元组抽取比赛：“科学空间队”源码、基于依存句法的开放域文本知识三元组抽取和知识库构建、中文的GPT2训练代码、ML-NLP - 机器学习(Machine Learning)NLP面试中常考到的知识点和代码实现、nlp4han:中文自然语言处理工具集(断句/分词/词性标注/组块/句法分析/语义分析/NER/N元语法/HMM/代词消解/情感分析/拼写检查、XLM：Facebook的跨语言预训练语言模型、用基于BERT的微调和特征提取方法来进行知识图谱百度百科人物词条属性抽取、中文自然语言处理相关的开放任务-数据集-当前最佳结果、CoupletAI - 基于CNN+Bi-LSTM+Attention 的自动对对联系统、抽象知识图谱、MiningZhiDaoQACorpus - 580万百度知道问答数据挖掘项目、brat rapid annotation tool: 序列标注工具、大规模中文知识图谱数据：1.4亿实体、数据增强在机器翻译及其他nlp任务中的应用及效果、allennlp阅读理解:支持多种数据和模型、PDF表格数据提取工具 、 Graphbrain：AI开源软件库和科研工具，目的是促进自动意义提取和文本理解以及知识的探索和推断、简历自动筛选系统、基于命名实体识别的简历自动摘要、中文语言理解测评基准，包括代表性的数据集&基准模型&语料库&排行榜、树洞 OCR 文字识别 、从包含表格的扫描图片中识别表格和文字、语声迁移、Python口语自然语言处理工具集(英文)、 similarity：相似度计算工具包，java编写、海量中文预训练ALBERT模型 、Transformers 2.0 、基于大规模音频数据集Audioset的音频增强 、Poplar：网页版自然语言标注工具、图片文字去除，可用于漫画翻译 、186种语言的数字叫法库、Amazon发布基于知识的人-人开放领域对话数据集 、中文文本纠错模块代码、繁简体转换 、 Python实现的多种文本可读性评价指标、类似于人名/地名/组织机构名的命名体识别数据集 、东南大学《知识图谱》研究生课程(资料)、. 英文拼写检查库 、 wwsearch是企业微信后台自研的全文检索引擎、CHAMELEON：深度学习新闻推荐系统元架构 、 8篇论文梳理BERT相关模型进展与反思、DocSearch：免费文档搜索引擎、 LIDA：轻量交互式对话标注工具 、aili - the fastest in-memory index in the East 东半球最快并发索引 、知识图谱车音工作项目、自然语言生成资源大全 、中日韩分词库mecab的Python接口库、中文文本摘要/关键词提取、汉字字符特征提取器 (featurizer)，提取汉字的特征（发音特征、字形特征）用做深度学习的特征、中文生成任务基准测评 、中文缩写数据集、中文任务基准测评 - 代表性的数据集-基准(预训练)模型-语料库-baseline-工具包-排行榜、PySS3：面向可解释AI的SS3文本分类器机器可视化工具 、中文NLP数据集列表、COPE - 格律诗编辑程序、doccano：基于网页的开源协同多语言文本标注工具 、PreNLP：自然语言预处理库、简单的简历解析器，用来从简历中提取关键信息、用于中文闲聊的GPT2模型：GPT2-chitchat、基于检索聊天机器人多轮响应选择相关资源列表(Leaderboards、Datasets、Papers)、(Colab)抽象文本摘要实现集锦(教程 、词语拼音数据、高效模糊搜索工具、NLP数据增广资源集、微软对话机器人框架 、 GitHub Typo Corpus：大规模GitHub多语言拼写错误/语法错误数据集、TextCluster：短文本聚类预处理模块 Short text cluster、面向语音识别的中文文本规范化、BLINK：最先进的实体链接库、BertPunc：基于BERT的最先进标点修复模型、Tokenizer：快速、可定制的文本词条化库、中文语言理解测评基准，包括代表性的数据集、基准(预训练)模型、语料库、排行榜、spaCy 医学文本挖掘与信息提取 、 NLP任务示例项目代码集、 python拼写检查库、chatbot-list - 行业内关于智能客服、聊天机器人的应用和架构、算法分享和介绍、语音质量评价指标(MOSNet, BSSEval, STOI, PESQ, SRMR)、 用138GB语料训练的法文RoBERTa预训练语言模型 、BERT-NER-Pytorch：三种不同模式的BERT中文NER实验、无道词典 - 有道词典的命令行版本，支持英汉互查和在线查询、2019年NLP亮点回顾、 Chinese medical dialogue data 中文医疗对话数据集 、最好的汉字数字(中文数字)-阿拉伯数字转换工具、 基于百科知识库的中文词语多词义/义项获取与特定句子词语语义消歧、awesome-nlp-sentiment-analysis - 情感分析、情绪原因识别、评价对象和评价词抽取、LineFlow：面向所有深度学习框架的NLP数据高效加载器、中文医学NLP公开资源整理 、MedQuAD：(英文)医学问答数据集、将自然语言数字串解析转换为整数和浮点数、Transfer Learning in Natural Language Processing (NLP) 、面向语音识别的中文/英文发音辞典、Tokenizers：注重性能与多功能性的最先进分词器、CLUENER 细粒度命名实体识别 Fine Grained Named Entity Recognition、 基于BERT的中文命名实体识别、中文谣言数据库、NLP数据集/基准任务大列表、nlp相关的一些论文及代码, 包括主题模型、词向量(Word Embedding)、命名实体识别(NER)、文本分类(Text Classificatin)、文本生成(Text Generation)、文本相似性(Text Similarity)计算等，涉及到各种与nlp相关的算法，基于keras和tensorflow 、Python文本挖掘/NLP实战示例、 Blackstone：面向非结构化法律文本的spaCy pipeline和NLP模型通过同义词替换实现文本“变脸” 、中文 预训练 ELECTREA 模型: 基于对抗学习 pretrain Chinese Model 、albert-chinese-ner - 用预训练语言模型ALBERT做中文NER 、基于GPT2的特定主题文本生成/文本增广、开源预训练语言模型合集、多语言句向量包、编码、标记和实现：一种可控高效的文本生成方法、 英文脏话大列表 、attnvis：GPT2、BERT等transformer语言模型注意力交互可视化、CoVoST：Facebook发布的多语种语音-文本翻译语料库，包括11种语言(法语、德语、荷兰语、俄语、西班牙语、意大利语、土耳其语、波斯语、瑞典语、蒙古语和中文)的语音、文字转录及英文译文、Jiagu自然语言处理工具 - 以BiLSTM等模型为基础，提供知识图谱关系抽取 中文分词 词性标注 命名实体识别 情感分析 新词发现 关键词 文本摘要 文本聚类等功能、用unet实现对文档表格的自动检测，表格重建、NLP事件提取文献资源列表 、 金融领域自然语言处理研究资源大列表、CLUEDatasetSearch - 中英文NLP数据集：搜索所有中文NLP数据集，附常用英文NLP数据集 、medical_NER - 中文医学知识图谱命名实体识别 、(哈佛)讲因果推理的免费书、知识图谱相关学习资料/数据集/工具资源大列表、Forte：灵活强大的自然语言处理pipeline工具集 、Python字符串相似性算法库、PyLaia：面向手写文档分析的深度学习工具包、TextFooler：针对文本分类/推理的对抗文本生成模块、Haystack：灵活、强大的可扩展问答(QA)框架、中文关键短语抽取工具",
          "pallets<br />The Python micro framework for building web applications.",
          "openai<br />Robust Speech Recognition via Large-Scale Weak Supervision",
          "bregman-arie<br />Linux, Jenkins, AWS, SRE, Prometheus, Docker, Python, Ansible, Git, Kubernetes, Terraform, OpenStack, SQL, NoSQL, Azure, GCP, DNS, Elastic, Network, Virtualization. DevOps Interview Questions",
          "josephmisiti<br />A curated list of awesome Machine Learning frameworks, libraries and software.",
          "binary-husky<br />为GPT/GLM等LLM大语言模型提供实用化交互接口，特别优化论文阅读/润色/写作体验，模块化设计，支持自定义快捷按钮&函数插件，支持Python和C++等项目剖析&自译解功能，PDF/LaTex论文翻译&总结功能，支持并行问询多种LLM模型，支持chatglm3等本地模型。接入通义千问, deepseekcoder, 讯飞星火, 文心一言, llama2, rwkv, claude2, moss等。",
          "ansible<br />Ansible is a radically simple IT automation platform that makes your applications and systems easier to deploy and maintain. Automate everything from code deployment to network configuration to cloud management, in a language that approaches plain English, using SSH, with no agents to install on remote systems. https://docs.ansible.com.",
          "python<br />The Python programming language",
          "3b1b<br />Animation engine for explanatory math videos",
          "keras-team<br />Deep Learning for humans",
          "d2l-ai<br />《动手学深度学习》：面向中文读者、能运行、可讨论。中英文版被70多个国家的500多所大学用于教学。",
          "xtekky<br />The official gpt4free repository | various collection of powerful language models",
          "swisskyrepo<br />A list of useful payloads and bypass for Web Application Security and Pentest/CTF"
         ],
         "legendgroup": "",
         "marker": {
          "color": "SteelBlue",
          "opacity": 0.5,
          "pattern": {
           "shape": ""
          }
         },
         "name": "",
         "offsetgroup": "",
         "orientation": "v",
         "showlegend": false,
         "textposition": "auto",
         "type": "bar",
         "x": [
          "<a href= 'https://github.com/public-apis/public-apis'>public-apis</a>",
          "<a href= 'https://github.com/donnemartin/system-design-primer'>system-design-primer</a>",
          "<a href= 'https://github.com/vinta/awesome-python'>awesome-python</a>",
          "<a href= 'https://github.com/TheAlgorithms/Python'>Python</a>",
          "<a href= 'https://github.com/Significant-Gravitas/AutoGPT'>AutoGPT</a>",
          "<a href= 'https://github.com/jackfrued/Python-100-Days'>Python-100-Days</a>",
          "<a href= 'https://github.com/AUTOMATIC1111/stable-diffusion-webui'>stable-diffusion-webui</a>",
          "<a href= 'https://github.com/huggingface/transformers'>transformers</a>",
          "<a href= 'https://github.com/ytdl-org/youtube-dl'>youtube-dl</a>",
          "<a href= 'https://github.com/521xueweihan/HelloGitHub'>HelloGitHub</a>",
          "<a href= 'https://github.com/nvbn/thefuck'>thefuck</a>",
          "<a href= 'https://github.com/yt-dlp/yt-dlp'>yt-dlp</a>",
          "<a href= 'https://github.com/pytorch/pytorch'>pytorch</a>",
          "<a href= 'https://github.com/django/django'>django</a>",
          "<a href= 'https://github.com/tensorflow/models'>models</a>",
          "<a href= 'https://github.com/fastapi/fastapi'>fastapi</a>",
          "<a href= 'https://github.com/home-assistant/core'>core</a>",
          "<a href= 'https://github.com/fighting41love/funNLP'>funNLP</a>",
          "<a href= 'https://github.com/pallets/flask'>flask</a>",
          "<a href= 'https://github.com/openai/whisper'>whisper</a>",
          "<a href= 'https://github.com/bregman-arie/devops-exercises'>devops-exercises</a>",
          "<a href= 'https://github.com/josephmisiti/awesome-machine-learning'>awesome-machine-learning</a>",
          "<a href= 'https://github.com/binary-husky/gpt_academic'>gpt_academic</a>",
          "<a href= 'https://github.com/ansible/ansible'>ansible</a>",
          "<a href= 'https://github.com/python/cpython'>cpython</a>",
          "<a href= 'https://github.com/3b1b/manim'>manim</a>",
          "<a href= 'https://github.com/keras-team/keras'>keras</a>",
          "<a href= 'https://github.com/d2l-ai/d2l-zh'>d2l-zh</a>",
          "<a href= 'https://github.com/xtekky/gpt4free'>gpt4free</a>",
          "<a href= 'https://github.com/swisskyrepo/PayloadsAllTheThings'>PayloadsAllTheThings</a>"
         ],
         "xaxis": "x",
         "y": [
          311932,
          269049,
          218213,
          184011,
          166374,
          154609,
          139339,
          131826,
          131235,
          90278,
          84655,
          82124,
          82043,
          79102,
          76946,
          75465,
          71096,
          67562,
          67518,
          67294,
          65775,
          65323,
          63815,
          62307,
          62239,
          61857,
          61588,
          61188,
          59894,
          59889
         ],
         "yaxis": "y"
        }
       ],
       "layout": {
        "autosize": true,
        "barmode": "relative",
        "legend": {
         "tracegroupgap": 0
        },
        "template": {
         "data": {
          "bar": [
           {
            "error_x": {
             "color": "#2a3f5f"
            },
            "error_y": {
             "color": "#2a3f5f"
            },
            "marker": {
             "line": {
              "color": "#E5ECF6",
              "width": 0.5
             },
             "pattern": {
              "fillmode": "overlay",
              "size": 10,
              "solidity": 0.2
             }
            },
            "type": "bar"
           }
          ],
          "barpolar": [
           {
            "marker": {
             "line": {
              "color": "#E5ECF6",
              "width": 0.5
             },
             "pattern": {
              "fillmode": "overlay",
              "size": 10,
              "solidity": 0.2
             }
            },
            "type": "barpolar"
           }
          ],
          "carpet": [
           {
            "aaxis": {
             "endlinecolor": "#2a3f5f",
             "gridcolor": "white",
             "linecolor": "white",
             "minorgridcolor": "white",
             "startlinecolor": "#2a3f5f"
            },
            "baxis": {
             "endlinecolor": "#2a3f5f",
             "gridcolor": "white",
             "linecolor": "white",
             "minorgridcolor": "white",
             "startlinecolor": "#2a3f5f"
            },
            "type": "carpet"
           }
          ],
          "choropleth": [
           {
            "colorbar": {
             "outlinewidth": 0,
             "ticks": ""
            },
            "type": "choropleth"
           }
          ],
          "contour": [
           {
            "colorbar": {
             "outlinewidth": 0,
             "ticks": ""
            },
            "colorscale": [
             [
              0,
              "#0d0887"
             ],
             [
              0.1111111111111111,
              "#46039f"
             ],
             [
              0.2222222222222222,
              "#7201a8"
             ],
             [
              0.3333333333333333,
              "#9c179e"
             ],
             [
              0.4444444444444444,
              "#bd3786"
             ],
             [
              0.5555555555555556,
              "#d8576b"
             ],
             [
              0.6666666666666666,
              "#ed7953"
             ],
             [
              0.7777777777777778,
              "#fb9f3a"
             ],
             [
              0.8888888888888888,
              "#fdca26"
             ],
             [
              1,
              "#f0f921"
             ]
            ],
            "type": "contour"
           }
          ],
          "contourcarpet": [
           {
            "colorbar": {
             "outlinewidth": 0,
             "ticks": ""
            },
            "type": "contourcarpet"
           }
          ],
          "heatmap": [
           {
            "colorbar": {
             "outlinewidth": 0,
             "ticks": ""
            },
            "colorscale": [
             [
              0,
              "#0d0887"
             ],
             [
              0.1111111111111111,
              "#46039f"
             ],
             [
              0.2222222222222222,
              "#7201a8"
             ],
             [
              0.3333333333333333,
              "#9c179e"
             ],
             [
              0.4444444444444444,
              "#bd3786"
             ],
             [
              0.5555555555555556,
              "#d8576b"
             ],
             [
              0.6666666666666666,
              "#ed7953"
             ],
             [
              0.7777777777777778,
              "#fb9f3a"
             ],
             [
              0.8888888888888888,
              "#fdca26"
             ],
             [
              1,
              "#f0f921"
             ]
            ],
            "type": "heatmap"
           }
          ],
          "heatmapgl": [
           {
            "colorbar": {
             "outlinewidth": 0,
             "ticks": ""
            },
            "colorscale": [
             [
              0,
              "#0d0887"
             ],
             [
              0.1111111111111111,
              "#46039f"
             ],
             [
              0.2222222222222222,
              "#7201a8"
             ],
             [
              0.3333333333333333,
              "#9c179e"
             ],
             [
              0.4444444444444444,
              "#bd3786"
             ],
             [
              0.5555555555555556,
              "#d8576b"
             ],
             [
              0.6666666666666666,
              "#ed7953"
             ],
             [
              0.7777777777777778,
              "#fb9f3a"
             ],
             [
              0.8888888888888888,
              "#fdca26"
             ],
             [
              1,
              "#f0f921"
             ]
            ],
            "type": "heatmapgl"
           }
          ],
          "histogram": [
           {
            "marker": {
             "pattern": {
              "fillmode": "overlay",
              "size": 10,
              "solidity": 0.2
             }
            },
            "type": "histogram"
           }
          ],
          "histogram2d": [
           {
            "colorbar": {
             "outlinewidth": 0,
             "ticks": ""
            },
            "colorscale": [
             [
              0,
              "#0d0887"
             ],
             [
              0.1111111111111111,
              "#46039f"
             ],
             [
              0.2222222222222222,
              "#7201a8"
             ],
             [
              0.3333333333333333,
              "#9c179e"
             ],
             [
              0.4444444444444444,
              "#bd3786"
             ],
             [
              0.5555555555555556,
              "#d8576b"
             ],
             [
              0.6666666666666666,
              "#ed7953"
             ],
             [
              0.7777777777777778,
              "#fb9f3a"
             ],
             [
              0.8888888888888888,
              "#fdca26"
             ],
             [
              1,
              "#f0f921"
             ]
            ],
            "type": "histogram2d"
           }
          ],
          "histogram2dcontour": [
           {
            "colorbar": {
             "outlinewidth": 0,
             "ticks": ""
            },
            "colorscale": [
             [
              0,
              "#0d0887"
             ],
             [
              0.1111111111111111,
              "#46039f"
             ],
             [
              0.2222222222222222,
              "#7201a8"
             ],
             [
              0.3333333333333333,
              "#9c179e"
             ],
             [
              0.4444444444444444,
              "#bd3786"
             ],
             [
              0.5555555555555556,
              "#d8576b"
             ],
             [
              0.6666666666666666,
              "#ed7953"
             ],
             [
              0.7777777777777778,
              "#fb9f3a"
             ],
             [
              0.8888888888888888,
              "#fdca26"
             ],
             [
              1,
              "#f0f921"
             ]
            ],
            "type": "histogram2dcontour"
           }
          ],
          "mesh3d": [
           {
            "colorbar": {
             "outlinewidth": 0,
             "ticks": ""
            },
            "type": "mesh3d"
           }
          ],
          "parcoords": [
           {
            "line": {
             "colorbar": {
              "outlinewidth": 0,
              "ticks": ""
             }
            },
            "type": "parcoords"
           }
          ],
          "pie": [
           {
            "automargin": true,
            "type": "pie"
           }
          ],
          "scatter": [
           {
            "fillpattern": {
             "fillmode": "overlay",
             "size": 10,
             "solidity": 0.2
            },
            "type": "scatter"
           }
          ],
          "scatter3d": [
           {
            "line": {
             "colorbar": {
              "outlinewidth": 0,
              "ticks": ""
             }
            },
            "marker": {
             "colorbar": {
              "outlinewidth": 0,
              "ticks": ""
             }
            },
            "type": "scatter3d"
           }
          ],
          "scattercarpet": [
           {
            "marker": {
             "colorbar": {
              "outlinewidth": 0,
              "ticks": ""
             }
            },
            "type": "scattercarpet"
           }
          ],
          "scattergeo": [
           {
            "marker": {
             "colorbar": {
              "outlinewidth": 0,
              "ticks": ""
             }
            },
            "type": "scattergeo"
           }
          ],
          "scattergl": [
           {
            "marker": {
             "colorbar": {
              "outlinewidth": 0,
              "ticks": ""
             }
            },
            "type": "scattergl"
           }
          ],
          "scattermapbox": [
           {
            "marker": {
             "colorbar": {
              "outlinewidth": 0,
              "ticks": ""
             }
            },
            "type": "scattermapbox"
           }
          ],
          "scatterpolar": [
           {
            "marker": {
             "colorbar": {
              "outlinewidth": 0,
              "ticks": ""
             }
            },
            "type": "scatterpolar"
           }
          ],
          "scatterpolargl": [
           {
            "marker": {
             "colorbar": {
              "outlinewidth": 0,
              "ticks": ""
             }
            },
            "type": "scatterpolargl"
           }
          ],
          "scatterternary": [
           {
            "marker": {
             "colorbar": {
              "outlinewidth": 0,
              "ticks": ""
             }
            },
            "type": "scatterternary"
           }
          ],
          "surface": [
           {
            "colorbar": {
             "outlinewidth": 0,
             "ticks": ""
            },
            "colorscale": [
             [
              0,
              "#0d0887"
             ],
             [
              0.1111111111111111,
              "#46039f"
             ],
             [
              0.2222222222222222,
              "#7201a8"
             ],
             [
              0.3333333333333333,
              "#9c179e"
             ],
             [
              0.4444444444444444,
              "#bd3786"
             ],
             [
              0.5555555555555556,
              "#d8576b"
             ],
             [
              0.6666666666666666,
              "#ed7953"
             ],
             [
              0.7777777777777778,
              "#fb9f3a"
             ],
             [
              0.8888888888888888,
              "#fdca26"
             ],
             [
              1,
              "#f0f921"
             ]
            ],
            "type": "surface"
           }
          ],
          "table": [
           {
            "cells": {
             "fill": {
              "color": "#EBF0F8"
             },
             "line": {
              "color": "white"
             }
            },
            "header": {
             "fill": {
              "color": "#C8D4E3"
             },
             "line": {
              "color": "white"
             }
            },
            "type": "table"
           }
          ]
         },
         "layout": {
          "annotationdefaults": {
           "arrowcolor": "#2a3f5f",
           "arrowhead": 0,
           "arrowwidth": 1
          },
          "autotypenumbers": "strict",
          "coloraxis": {
           "colorbar": {
            "outlinewidth": 0,
            "ticks": ""
           }
          },
          "colorscale": {
           "diverging": [
            [
             0,
             "#8e0152"
            ],
            [
             0.1,
             "#c51b7d"
            ],
            [
             0.2,
             "#de77ae"
            ],
            [
             0.3,
             "#f1b6da"
            ],
            [
             0.4,
             "#fde0ef"
            ],
            [
             0.5,
             "#f7f7f7"
            ],
            [
             0.6,
             "#e6f5d0"
            ],
            [
             0.7,
             "#b8e186"
            ],
            [
             0.8,
             "#7fbc41"
            ],
            [
             0.9,
             "#4d9221"
            ],
            [
             1,
             "#276419"
            ]
           ],
           "sequential": [
            [
             0,
             "#0d0887"
            ],
            [
             0.1111111111111111,
             "#46039f"
            ],
            [
             0.2222222222222222,
             "#7201a8"
            ],
            [
             0.3333333333333333,
             "#9c179e"
            ],
            [
             0.4444444444444444,
             "#bd3786"
            ],
            [
             0.5555555555555556,
             "#d8576b"
            ],
            [
             0.6666666666666666,
             "#ed7953"
            ],
            [
             0.7777777777777778,
             "#fb9f3a"
            ],
            [
             0.8888888888888888,
             "#fdca26"
            ],
            [
             1,
             "#f0f921"
            ]
           ],
           "sequentialminus": [
            [
             0,
             "#0d0887"
            ],
            [
             0.1111111111111111,
             "#46039f"
            ],
            [
             0.2222222222222222,
             "#7201a8"
            ],
            [
             0.3333333333333333,
             "#9c179e"
            ],
            [
             0.4444444444444444,
             "#bd3786"
            ],
            [
             0.5555555555555556,
             "#d8576b"
            ],
            [
             0.6666666666666666,
             "#ed7953"
            ],
            [
             0.7777777777777778,
             "#fb9f3a"
            ],
            [
             0.8888888888888888,
             "#fdca26"
            ],
            [
             1,
             "#f0f921"
            ]
           ]
          },
          "colorway": [
           "#636efa",
           "#EF553B",
           "#00cc96",
           "#ab63fa",
           "#FFA15A",
           "#19d3f3",
           "#FF6692",
           "#B6E880",
           "#FF97FF",
           "#FECB52"
          ],
          "font": {
           "color": "#2a3f5f"
          },
          "geo": {
           "bgcolor": "white",
           "lakecolor": "white",
           "landcolor": "#E5ECF6",
           "showlakes": true,
           "showland": true,
           "subunitcolor": "white"
          },
          "hoverlabel": {
           "align": "left"
          },
          "hovermode": "closest",
          "mapbox": {
           "style": "light"
          },
          "paper_bgcolor": "white",
          "plot_bgcolor": "#E5ECF6",
          "polar": {
           "angularaxis": {
            "gridcolor": "white",
            "linecolor": "white",
            "ticks": ""
           },
           "bgcolor": "#E5ECF6",
           "radialaxis": {
            "gridcolor": "white",
            "linecolor": "white",
            "ticks": ""
           }
          },
          "scene": {
           "xaxis": {
            "backgroundcolor": "#E5ECF6",
            "gridcolor": "white",
            "gridwidth": 2,
            "linecolor": "white",
            "showbackground": true,
            "ticks": "",
            "zerolinecolor": "white"
           },
           "yaxis": {
            "backgroundcolor": "#E5ECF6",
            "gridcolor": "white",
            "gridwidth": 2,
            "linecolor": "white",
            "showbackground": true,
            "ticks": "",
            "zerolinecolor": "white"
           },
           "zaxis": {
            "backgroundcolor": "#E5ECF6",
            "gridcolor": "white",
            "gridwidth": 2,
            "linecolor": "white",
            "showbackground": true,
            "ticks": "",
            "zerolinecolor": "white"
           }
          },
          "shapedefaults": {
           "line": {
            "color": "#2a3f5f"
           }
          },
          "ternary": {
           "aaxis": {
            "gridcolor": "white",
            "linecolor": "white",
            "ticks": ""
           },
           "baxis": {
            "gridcolor": "white",
            "linecolor": "white",
            "ticks": ""
           },
           "bgcolor": "#E5ECF6",
           "caxis": {
            "gridcolor": "white",
            "linecolor": "white",
            "ticks": ""
           }
          },
          "title": {
           "x": 0.05
          },
          "xaxis": {
           "automargin": true,
           "gridcolor": "white",
           "linecolor": "white",
           "ticks": "",
           "title": {
            "standoff": 15
           },
           "zerolinecolor": "white",
           "zerolinewidth": 2
          },
          "yaxis": {
           "automargin": true,
           "gridcolor": "white",
           "linecolor": "white",
           "ticks": "",
           "title": {
            "standoff": 15
           },
           "zerolinecolor": "white",
           "zerolinewidth": 2
          }
         }
        },
        "title": {
         "font": {
          "size": 28
         },
         "text": "Most-Starred Python projects on Github"
        },
        "xaxis": {
         "anchor": "y",
         "autorange": true,
         "domain": [
          0,
          1
         ],
         "range": [
          -0.5,
          29.5
         ],
         "title": {
          "font": {
           "size": 20
          },
          "text": "Repository"
         },
         "type": "category"
        },
        "yaxis": {
         "anchor": "x",
         "autorange": true,
         "domain": [
          0,
          1
         ],
         "range": [
          0,
          328349.4736842105
         ],
         "title": {
          "font": {
           "size": 20
          },
          "text": "Stars"
         },
         "type": "linear"
        }
       }
      },
      "image/png": "[encoded data removed]",
      "text/html": [
       "<div>                            <div id=\"aaa13b0f-25b3-43ba-9150-d36a78d6ab2c\" class=\"plotly-graph-div\" style=\"height:525px; width:100%;\"></div>            <script type=\"text/javascript\">                require([\"plotly\"], function(Plotly) {                    window.PLOTLYENV=window.PLOTLYENV || {};                                    if (document.getElementById(\"aaa13b0f-25b3-43ba-9150-d36a78d6ab2c\")) {                    Plotly.newPlot(                        \"aaa13b0f-25b3-43ba-9150-d36a78d6ab2c\",                        [{\"alignmentgroup\":\"True\",\"hovertemplate\":\"\\u003cb\\u003e%{hovertext}\\u003c\\u002fb\\u003e\\u003cbr\\u003e\\u003cbr\\u003eRepository=%{x}\\u003cbr\\u003eStars=%{y}\\u003cextra\\u003e\\u003c\\u002fextra\\u003e\",\"hovertext\":[\"public-apis\\u003cbr \\u002f\\u003eA collective list of free APIs\",\"donnemartin\\u003cbr \\u002f\\u003eLearn how to design large-scale systems. Prep for the system design interview.  Includes Anki flashcards.\",\"vinta\\u003cbr \\u002f\\u003eAn opinionated list of awesome Python frameworks, libraries, software and resources.\",\"TheAlgorithms\\u003cbr \\u002f\\u003eAll Algorithms implemented in Python\",\"Significant-Gravitas\\u003cbr \\u002f\\u003eAutoGPT is the vision of accessible AI for everyone, to use and to build on. Our mission is to provide the tools, so that you can focus on what matters.\",\"jackfrued\\u003cbr \\u002f\\u003ePython - 100\\u5929\\u4ece\\u65b0\\u624b\\u5230\\u5927\\u5e08\",\"AUTOMATIC1111\\u003cbr \\u002f\\u003eStable Diffusion web UI\",\"huggingface\\u003cbr \\u002f\\u003e\\ud83e\\udd17 Transformers: State-of-the-art Machine Learning for Pytorch, TensorFlow, and JAX.\",\"ytdl-org\\u003cbr \\u002f\\u003eCommand-line program to download videos from YouTube.com and other video sites\",\"521xueweihan\\u003cbr \\u002f\\u003e:octocat: \\u5206\\u4eab GitHub \\u4e0a\\u6709\\u8da3\\u3001\\u5165\\u95e8\\u7ea7\\u7684\\u5f00\\u6e90\\u9879\\u76ee\\u3002Share interesting, entry-level open source projects on GitHub.\",\"nvbn\\u003cbr \\u002f\\u003eMagnificent app which corrects your previous console command.\",\"yt-dlp\\u003cbr \\u002f\\u003eA feature-rich command-line audio\\u002fvideo downloader\",\"pytorch\\u003cbr \\u002f\\u003eTensors and Dynamic neural networks in Python with strong GPU acceleration\",\"django\\u003cbr \\u002f\\u003eThe Web framework for perfectionists with deadlines.\",\"tensorflow\\u003cbr \\u002f\\u003eModels and examples built with TensorFlow\",\"fastapi\\u003cbr \\u002f\\u003eFastAPI framework, high performance, easy to learn, fast to code, ready for production\",\"home-assistant\\u003cbr \\u002f\\u003e:house_with_garden: Open source home automation that puts local control and privacy first.\",\"fighting41love\\u003cbr \\u002f\\u003e\\u4e2d\\u82f1\\u6587\\u654f\\u611f\\u8bcd\\u3001\\u8bed\\u8a00\\u68c0\\u6d4b\\u3001\\u4e2d\\u5916\\u624b\\u673a\\u002f\\u7535\\u8bdd\\u5f52\\u5c5e\\u5730\\u002f\\u8fd0\\u8425\\u5546\\u67e5\\u8be2\\u3001\\u540d\\u5b57\\u63a8\\u65ad\\u6027\\u522b\\u3001\\u624b\\u673a\\u53f7\\u62bd\\u53d6\\u3001\\u8eab\\u4efd\\u8bc1\\u62bd\\u53d6\\u3001\\u90ae\\u7bb1\\u62bd\\u53d6\\u3001\\u4e2d\\u65e5\\u6587\\u4eba\\u540d\\u5e93\\u3001\\u4e2d\\u6587\\u7f29\\u5199\\u5e93\\u3001\\u62c6\\u5b57\\u8bcd\\u5178\\u3001\\u8bcd\\u6c47\\u60c5\\u611f\\u503c\\u3001\\u505c\\u7528\\u8bcd\\u3001\\u53cd\\u52a8\\u8bcd\\u8868\\u3001\\u66b4\\u6050\\u8bcd\\u8868\\u3001\\u7e41\\u7b80\\u4f53\\u8f6c\\u6362\\u3001\\u82f1\\u6587\\u6a21\\u62df\\u4e2d\\u6587\\u53d1\\u97f3\\u3001\\u6c6a\\u5cf0\\u6b4c\\u8bcd\\u751f\\u6210\\u5668\\u3001\\u804c\\u4e1a\\u540d\\u79f0\\u8bcd\\u5e93\\u3001\\u540c\\u4e49\\u8bcd\\u5e93\\u3001\\u53cd\\u4e49\\u8bcd\\u5e93\\u3001\\u5426\\u5b9a\\u8bcd\\u5e93\\u3001\\u6c7d\\u8f66\\u54c1\\u724c\\u8bcd\\u5e93\\u3001\\u6c7d\\u8f66\\u96f6\\u4ef6\\u8bcd\\u5e93\\u3001\\u8fde\\u7eed\\u82f1\\u6587\\u5207\\u5272\\u3001\\u5404\\u79cd\\u4e2d\\u6587\\u8bcd\\u5411\\u91cf\\u3001\\u516c\\u53f8\\u540d\\u5b57\\u5927\\u5168\\u3001\\u53e4\\u8bd7\\u8bcd\\u5e93\\u3001IT\\u8bcd\\u5e93\\u3001\\u8d22\\u7ecf\\u8bcd\\u5e93\\u3001\\u6210\\u8bed\\u8bcd\\u5e93\\u3001\\u5730\\u540d\\u8bcd\\u5e93\\u3001\\u5386\\u53f2\\u540d\\u4eba\\u8bcd\\u5e93\\u3001\\u8bd7\\u8bcd\\u8bcd\\u5e93\\u3001\\u533b\\u5b66\\u8bcd\\u5e93\\u3001\\u996e\\u98df\\u8bcd\\u5e93\\u3001\\u6cd5\\u5f8b\\u8bcd\\u5e93\\u3001\\u6c7d\\u8f66\\u8bcd\\u5e93\\u3001\\u52a8\\u7269\\u8bcd\\u5e93\\u3001\\u4e2d\\u6587\\u804a\\u5929\\u8bed\\u6599\\u3001\\u4e2d\\u6587\\u8c23\\u8a00\\u6570\\u636e\\u3001\\u767e\\u5ea6\\u4e2d\\u6587\\u95ee\\u7b54\\u6570\\u636e\\u96c6\\u3001\\u53e5\\u5b50\\u76f8\\u4f3c\\u5ea6\\u5339\\u914d\\u7b97\\u6cd5\\u96c6\\u5408\\u3001bert\\u8d44\\u6e90\\u3001\\u6587\\u672c\\u751f\\u6210&\\u6458\\u8981\\u76f8\\u5173\\u5de5\\u5177\\u3001cocoNLP\\u4fe1\\u606f\\u62bd\\u53d6\\u5de5\\u5177\\u3001\\u56fd\\u5185\\u7535\\u8bdd\\u53f7\\u7801\\u6b63\\u5219\\u5339\\u914d\\u3001\\u6e05\\u534e\\u5927\\u5b66XLORE:\\u4e2d\\u82f1\\u6587\\u8de8\\u8bed\\u8a00\\u767e\\u79d1\\u77e5\\u8bc6\\u56fe\\u8c31\\u3001\\u6e05\\u534e\\u5927\\u5b66\\u4eba\\u5de5\\u667a\\u80fd\\u6280\\u672f\\u7cfb\\u5217\\u62a5\\u544a\\u3001\\u81ea\\u7136\\u8bed\\u8a00\\u751f\\u6210\\u3001NLU\\u592a\\u96be\\u4e86\\u7cfb\\u5217\\u3001\\u81ea\\u52a8\\u5bf9\\u8054\\u6570\\u636e\\u53ca\\u673a\\u5668\\u4eba\\u3001\\u7528\\u6237\\u540d\\u9ed1\\u540d\\u5355\\u5217\\u8868\\u3001\\u7f6a\\u540d\\u6cd5\\u52a1\\u540d\\u8bcd\\u53ca\\u5206\\u7c7b\\u6a21\\u578b\\u3001\\u5fae\\u4fe1\\u516c\\u4f17\\u53f7\\u8bed\\u6599\\u3001cs224n\\u6df1\\u5ea6\\u5b66\\u4e60\\u81ea\\u7136\\u8bed\\u8a00\\u5904\\u7406\\u8bfe\\u7a0b\\u3001\\u4e2d\\u6587\\u624b\\u5199\\u6c49\\u5b57\\u8bc6\\u522b\\u3001\\u4e2d\\u6587\\u81ea\\u7136\\u8bed\\u8a00\\u5904\\u7406 \\u8bed\\u6599\\u002f\\u6570\\u636e\\u96c6\\u3001\\u53d8\\u91cf\\u547d\\u540d\\u795e\\u5668\\u3001\\u5206\\u8bcd\\u8bed\\u6599\\u5e93+\\u4ee3\\u7801\\u3001\\u4efb\\u52a1\\u578b\\u5bf9\\u8bdd\\u82f1\\u6587\\u6570\\u636e\\u96c6\\u3001ASR \\u8bed\\u97f3\\u6570\\u636e\\u96c6 + \\u57fa\\u4e8e\\u6df1\\u5ea6\\u5b66\\u4e60\\u7684\\u4e2d\\u6587\\u8bed\\u97f3\\u8bc6\\u522b\\u7cfb\\u7edf\\u3001\\u7b11\\u58f0\\u68c0\\u6d4b\\u5668\\u3001Microsoft\\u591a\\u8bed\\u8a00\\u6570\\u5b57\\u002f\\u5355\\u4f4d\\u002f\\u5982\\u65e5\\u671f\\u65f6\\u95f4\\u8bc6\\u522b\\u5305\\u3001\\u4e2d\\u534e\\u65b0\\u534e\\u5b57\\u5178\\u6570\\u636e\\u5e93\\u53caapi(\\u5305\\u62ec\\u5e38\\u7528\\u6b47\\u540e\\u8bed\\u3001\\u6210\\u8bed\\u3001\\u8bcd\\u8bed\\u548c\\u6c49\\u5b57)\\u3001\\u6587\\u6863\\u56fe\\u8c31\\u81ea\\u52a8\\u751f\\u6210\\u3001SpaCy \\u4e2d\\u6587\\u6a21\\u578b\\u3001Common Voice\\u8bed\\u97f3\\u8bc6\\u522b\\u6570\\u636e\\u96c6\\u65b0\\u7248\\u3001\\u795e\\u7ecf\\u7f51\\u7edc\\u5173\\u7cfb\\u62bd\\u53d6\\u3001\\u57fa\\u4e8ebert\\u7684\\u547d\\u540d\\u5b9e\\u4f53\\u8bc6\\u522b\\u3001\\u5173\\u952e\\u8bcd(Keyphrase)\\u62bd\\u53d6\\u5305pke\\u3001\\u57fa\\u4e8e\\u533b\\u7597\\u9886\\u57df\\u77e5\\u8bc6\\u56fe\\u8c31\\u7684\\u95ee\\u7b54\\u7cfb\\u7edf\\u3001\\u57fa\\u4e8e\\u4f9d\\u5b58\\u53e5\\u6cd5\\u4e0e\\u8bed\\u4e49\\u89d2\\u8272\\u6807\\u6ce8\\u7684\\u4e8b\\u4ef6\\u4e09\\u5143\\u7ec4\\u62bd\\u53d6\\u3001\\u4f9d\\u5b58\\u53e5\\u6cd5\\u5206\\u67904\\u4e07\\u53e5\\u9ad8\\u8d28\\u91cf\\u6807\\u6ce8\\u6570\\u636e\\u3001cnocr\\uff1a\\u7528\\u6765\\u505a\\u4e2d\\u6587OCR\\u7684Python3\\u5305\\u3001\\u4e2d\\u6587\\u4eba\\u7269\\u5173\\u7cfb\\u77e5\\u8bc6\\u56fe\\u8c31\\u9879\\u76ee\\u3001\\u4e2d\\u6587nlp\\u7ade\\u8d5b\\u9879\\u76ee\\u53ca\\u4ee3\\u7801\\u6c47\\u603b\\u3001\\u4e2d\\u6587\\u5b57\\u7b26\\u6570\\u636e\\u3001speech-aligner: \\u4ece\\u201c\\u4eba\\u58f0\\u8bed\\u97f3\\u201d\\u53ca\\u5176\\u201c\\u8bed\\u8a00\\u6587\\u672c\\u201d\\u4ea7\\u751f\\u97f3\\u7d20\\u7ea7\\u522b\\u65f6\\u95f4\\u5bf9\\u9f50\\u6807\\u6ce8\\u7684\\u5de5\\u5177\\u3001AmpliGraph: \\u77e5\\u8bc6\\u56fe\\u8c31\\u8868\\u793a\\u5b66\\u4e60(Python)\\u5e93\\uff1a\\u77e5\\u8bc6\\u56fe\\u8c31\\u6982\\u5ff5\\u94fe\\u63a5\\u9884\\u6d4b\\u3001Scattertext \\u6587\\u672c\\u53ef\\u89c6\\u5316(python)\\u3001\\u8bed\\u8a00\\u002f\\u77e5\\u8bc6\\u8868\\u793a\\u5de5\\u5177\\uff1aBERT & ERNIE\\u3001\\u4e2d\\u6587\\u5bf9\\u6bd4\\u82f1\\u6587\\u81ea\\u7136\\u8bed\\u8a00\\u5904\\u7406NLP\\u7684\\u533a\\u522b\\u7efc\\u8ff0\\u3001Synonyms\\u4e2d\\u6587\\u8fd1\\u4e49\\u8bcd\\u5de5\\u5177\\u5305\\u3001HarvestText\\u9886\\u57df\\u81ea\\u9002\\u5e94\\u6587\\u672c\\u6316\\u6398\\u5de5\\u5177\\uff08\\u65b0\\u8bcd\\u53d1\\u73b0-\\u60c5\\u611f\\u5206\\u6790-\\u5b9e\\u4f53\\u94fe\\u63a5\\u7b49\\uff09\\u3001word2word\\uff1a(Python)\\u65b9\\u4fbf\\u6613\\u7528\\u7684\\u591a\\u8bed\\u8a00\\u8bcd-\\u8bcd\\u5bf9\\u96c6\\uff1a62\\u79cd\\u8bed\\u8a00\\u002f3,564\\u4e2a\\u591a\\u8bed\\u8a00\\u5bf9\\u3001\\u8bed\\u97f3\\u8bc6\\u522b\\u8bed\\u6599\\u751f\\u6210\\u5de5\\u5177\\uff1a\\u4ece\\u5177\\u6709\\u97f3\\u9891\\u002f\\u5b57\\u5e55\\u7684\\u5728\\u7ebf\\u89c6\\u9891\\u521b\\u5efa\\u81ea\\u52a8\\u8bed\\u97f3\\u8bc6\\u522b(ASR)\\u8bed\\u6599\\u5e93\\u3001\\u6784\\u5efa\\u533b\\u7597\\u5b9e\\u4f53\\u8bc6\\u522b\\u7684\\u6a21\\u578b\\uff08\\u5305\\u542b\\u8bcd\\u5178\\u548c\\u8bed\\u6599\\u6807\\u6ce8\\uff09\\u3001\\u5355\\u6587\\u6863\\u975e\\u76d1\\u7763\\u7684\\u5173\\u952e\\u8bcd\\u62bd\\u53d6\\u3001Kashgari\\u4e2d\\u4f7f\\u7528gpt-2\\u8bed\\u8a00\\u6a21\\u578b\\u3001\\u5f00\\u6e90\\u7684\\u91d1\\u878d\\u6295\\u8d44\\u6570\\u636e\\u63d0\\u53d6\\u5de5\\u5177\\u3001\\u6587\\u672c\\u81ea\\u52a8\\u6458\\u8981\\u5e93TextTeaser: \\u4ec5\\u652f\\u6301\\u82f1\\u6587\\u3001\\u4eba\\u6c11\\u65e5\\u62a5\\u8bed\\u6599\\u5904\\u7406\\u5de5\\u5177\\u96c6\\u3001\\u4e00\\u4e9b\\u5173\\u4e8e\\u81ea\\u7136\\u8bed\\u8a00\\u7684\\u57fa\\u672c\\u6a21\\u578b\\u3001\\u57fa\\u4e8e14W\\u6b4c\\u66f2\\u77e5\\u8bc6\\u5e93\\u7684\\u95ee\\u7b54\\u5c1d\\u8bd5--\\u529f\\u80fd\\u5305\\u62ec\\u6b4c\\u8bcd\\u63a5\\u9f99and\\u5df2\\u77e5\\u6b4c\\u8bcd\\u627e\\u6b4c\\u66f2\\u4ee5\\u53ca\\u6b4c\\u66f2\\u6b4c\\u624b\\u6b4c\\u8bcd\\u4e09\\u89d2\\u5173\\u7cfb\\u7684\\u95ee\\u7b54\\u3001\\u57fa\\u4e8eSiamese bilstm\\u6a21\\u578b\\u7684\\u76f8\\u4f3c\\u53e5\\u5b50\\u5224\\u5b9a\\u6a21\\u578b\\u5e76\\u63d0\\u4f9b\\u8bad\\u7ec3\\u6570\\u636e\\u96c6\\u548c\\u6d4b\\u8bd5\\u6570\\u636e\\u96c6\\u3001\\u7528Transformer\\u7f16\\u89e3\\u7801\\u6a21\\u578b\\u5b9e\\u73b0\\u7684\\u6839\\u636eHacker News\\u6587\\u7ae0\\u6807\\u9898\\u81ea\\u52a8\\u751f\\u6210\\u8bc4\\u8bba\\u3001\\u7528BERT\\u8fdb\\u884c\\u5e8f\\u5217\\u6807\\u8bb0\\u548c\\u6587\\u672c\\u5206\\u7c7b\\u7684\\u6a21\\u677f\\u4ee3\\u7801\\u3001LitBank\\uff1aNLP\\u6570\\u636e\\u96c6\\u2014\\u2014\\u652f\\u6301\\u81ea\\u7136\\u8bed\\u8a00\\u5904\\u7406\\u548c\\u8ba1\\u7b97\\u4eba\\u6587\\u5b66\\u79d1\\u4efb\\u52a1\\u7684100\\u90e8\\u5e26\\u6807\\u8bb0\\u82f1\\u6587\\u5c0f\\u8bf4\\u8bed\\u6599\\u3001\\u767e\\u5ea6\\u5f00\\u6e90\\u7684\\u57fa\\u51c6\\u4fe1\\u606f\\u62bd\\u53d6\\u7cfb\\u7edf\\u3001\\u865a\\u5047\\u65b0\\u95fb\\u6570\\u636e\\u96c6\\u3001Facebook: LAMA\\u8bed\\u8a00\\u6a21\\u578b\\u5206\\u6790\\uff0c\\u63d0\\u4f9bTransformer-XL\\u002fBERT\\u002fELMo\\u002fGPT\\u9884\\u8bad\\u7ec3\\u8bed\\u8a00\\u6a21\\u578b\\u7684\\u7edf\\u4e00\\u8bbf\\u95ee\\u63a5\\u53e3\\u3001CommonsenseQA\\uff1a\\u9762\\u5411\\u5e38\\u8bc6\\u7684\\u82f1\\u6587QA\\u6311\\u6218\\u3001\\u4e2d\\u6587\\u77e5\\u8bc6\\u56fe\\u8c31\\u8d44\\u6599\\u3001\\u6570\\u636e\\u53ca\\u5de5\\u5177\\u3001\\u5404\\u5927\\u516c\\u53f8\\u5185\\u90e8\\u91cc\\u5927\\u725b\\u5206\\u4eab\\u7684\\u6280\\u672f\\u6587\\u6863 PDF \\u6216\\u8005 PPT\\u3001\\u81ea\\u7136\\u8bed\\u8a00\\u751f\\u6210SQL\\u8bed\\u53e5\\uff08\\u82f1\\u6587\\uff09\\u3001\\u4e2d\\u6587NLP\\u6570\\u636e\\u589e\\u5f3a\\uff08EDA\\uff09\\u5de5\\u5177\\u3001\\u82f1\\u6587NLP\\u6570\\u636e\\u589e\\u5f3a\\u5de5\\u5177 \\u3001\\u57fa\\u4e8e\\u533b\\u836f\\u77e5\\u8bc6\\u56fe\\u8c31\\u7684\\u667a\\u80fd\\u95ee\\u7b54\\u7cfb\\u7edf\\u3001\\u4eac\\u4e1c\\u5546\\u54c1\\u77e5\\u8bc6\\u56fe\\u8c31\\u3001\\u57fa\\u4e8emongodb\\u5b58\\u50a8\\u7684\\u519b\\u4e8b\\u9886\\u57df\\u77e5\\u8bc6\\u56fe\\u8c31\\u95ee\\u7b54\\u9879\\u76ee\\u3001\\u57fa\\u4e8e\\u8fdc\\u76d1\\u7763\\u7684\\u4e2d\\u6587\\u5173\\u7cfb\\u62bd\\u53d6\\u3001\\u8bed\\u97f3\\u60c5\\u611f\\u5206\\u6790\\u3001\\u4e2d\\u6587ULMFiT-\\u60c5\\u611f\\u5206\\u6790-\\u6587\\u672c\\u5206\\u7c7b-\\u8bed\\u6599\\u53ca\\u6a21\\u578b\\u3001\\u4e00\\u4e2a\\u62cd\\u7167\\u505a\\u9898\\u7a0b\\u5e8f\\u3001\\u4e16\\u754c\\u5404\\u56fd\\u5927\\u89c4\\u6a21\\u4eba\\u540d\\u5e93\\u3001\\u4e00\\u4e2a\\u5229\\u7528\\u6709\\u8da3\\u4e2d\\u6587\\u8bed\\u6599\\u5e93 qingyun \\u8bad\\u7ec3\\u51fa\\u6765\\u7684\\u4e2d\\u6587\\u804a\\u5929\\u673a\\u5668\\u4eba\\u3001\\u4e2d\\u6587\\u804a\\u5929\\u673a\\u5668\\u4ebaseqGAN\\u3001\\u7701\\u5e02\\u533a\\u9547\\u884c\\u653f\\u533a\\u5212\\u6570\\u636e\\u5e26\\u62fc\\u97f3\\u6807\\u6ce8\\u3001\\u6559\\u80b2\\u884c\\u4e1a\\u65b0\\u95fb\\u8bed\\u6599\\u5e93\\u5305\\u542b\\u81ea\\u52a8\\u6587\\u6458\\u529f\\u80fd\\u3001\\u5f00\\u653e\\u4e86\\u5bf9\\u8bdd\\u673a\\u5668\\u4eba-\\u77e5\\u8bc6\\u56fe\\u8c31-\\u8bed\\u4e49\\u7406\\u89e3-\\u81ea\\u7136\\u8bed\\u8a00\\u5904\\u7406\\u5de5\\u5177\\u53ca\\u6570\\u636e\\u3001\\u4e2d\\u6587\\u77e5\\u8bc6\\u56fe\\u8c31\\uff1a\\u57fa\\u4e8e\\u767e\\u5ea6\\u767e\\u79d1\\u4e2d\\u6587\\u9875\\u9762-\\u62bd\\u53d6\\u4e09\\u5143\\u7ec4\\u4fe1\\u606f-\\u6784\\u5efa\\u4e2d\\u6587\\u77e5\\u8bc6\\u56fe\\u8c31\\u3001masr: \\u4e2d\\u6587\\u8bed\\u97f3\\u8bc6\\u522b-\\u63d0\\u4f9b\\u9884\\u8bad\\u7ec3\\u6a21\\u578b-\\u9ad8\\u8bc6\\u522b\\u7387\\u3001Python\\u97f3\\u9891\\u6570\\u636e\\u589e\\u5e7f\\u5e93\\u3001\\u4e2d\\u6587\\u5168\\u8bcd\\u8986\\u76d6BERT\\u53ca\\u4e24\\u4efd\\u9605\\u8bfb\\u7406\\u89e3\\u6570\\u636e\\u3001ConvLab\\uff1a\\u5f00\\u6e90\\u591a\\u57df\\u7aef\\u5230\\u7aef\\u5bf9\\u8bdd\\u7cfb\\u7edf\\u5e73\\u53f0\\u3001\\u4e2d\\u6587\\u81ea\\u7136\\u8bed\\u8a00\\u5904\\u7406\\u6570\\u636e\\u96c6\\u3001\\u57fa\\u4e8e\\u6700\\u65b0\\u7248\\u672crasa\\u642d\\u5efa\\u7684\\u5bf9\\u8bdd\\u7cfb\\u7edf\\u3001\\u57fa\\u4e8eTensorFlow\\u548cBERT\\u7684\\u7ba1\\u9053\\u5f0f\\u5b9e\\u4f53\\u53ca\\u5173\\u7cfb\\u62bd\\u53d6\\u3001\\u4e00\\u4e2a\\u5c0f\\u578b\\u7684\\u8bc1\\u5238\\u77e5\\u8bc6\\u56fe\\u8c31\\u002f\\u77e5\\u8bc6\\u5e93\\u3001\\u590d\\u76d8\\u6240\\u6709NLP\\u6bd4\\u8d5b\\u7684TOP\\u65b9\\u6848\\u3001OpenCLaP\\uff1a\\u591a\\u9886\\u57df\\u5f00\\u6e90\\u4e2d\\u6587\\u9884\\u8bad\\u7ec3\\u8bed\\u8a00\\u6a21\\u578b\\u4ed3\\u5e93\\u3001UER\\uff1a\\u57fa\\u4e8e\\u4e0d\\u540c\\u8bed\\u6599+\\u7f16\\u7801\\u5668+\\u76ee\\u6807\\u4efb\\u52a1\\u7684\\u4e2d\\u6587\\u9884\\u8bad\\u7ec3\\u6a21\\u578b\\u4ed3\\u5e93\\u3001\\u4e2d\\u6587\\u81ea\\u7136\\u8bed\\u8a00\\u5904\\u7406\\u5411\\u91cf\\u5408\\u96c6\\u3001\\u57fa\\u4e8e\\u91d1\\u878d-\\u53f8\\u6cd5\\u9886\\u57df(\\u517c\\u6709\\u95f2\\u804a\\u6027\\u8d28)\\u7684\\u804a\\u5929\\u673a\\u5668\\u4eba\\u3001g2pC\\uff1a\\u57fa\\u4e8e\\u4e0a\\u4e0b\\u6587\\u7684\\u6c49\\u8bed\\u8bfb\\u97f3\\u81ea\\u52a8\\u6807\\u8bb0\\u6a21\\u5757\\u3001Zincbase \\u77e5\\u8bc6\\u56fe\\u8c31\\u6784\\u5efa\\u5de5\\u5177\\u5305\\u3001\\u8bd7\\u6b4c\\u8d28\\u91cf\\u8bc4\\u4ef7\\u002f\\u7ec6\\u7c92\\u5ea6\\u60c5\\u611f\\u8bd7\\u6b4c\\u8bed\\u6599\\u5e93\\u3001\\u5feb\\u901f\\u8f6c\\u5316\\u300c\\u4e2d\\u6587\\u6570\\u5b57\\u300d\\u548c\\u300c\\u963f\\u62c9\\u4f2f\\u6570\\u5b57\\u300d\\u3001\\u767e\\u5ea6\\u77e5\\u9053\\u95ee\\u7b54\\u8bed\\u6599\\u5e93\\u3001\\u57fa\\u4e8e\\u77e5\\u8bc6\\u56fe\\u8c31\\u7684\\u95ee\\u7b54\\u7cfb\\u7edf\\u3001jieba_fast \\u52a0\\u901f\\u7248\\u7684jieba\\u3001\\u6b63\\u5219\\u8868\\u8fbe\\u5f0f\\u6559\\u7a0b\\u3001\\u4e2d\\u6587\\u9605\\u8bfb\\u7406\\u89e3\\u6570\\u636e\\u96c6\\u3001\\u57fa\\u4e8eBERT\\u7b49\\u6700\\u65b0\\u8bed\\u8a00\\u6a21\\u578b\\u7684\\u62bd\\u53d6\\u5f0f\\u6458\\u8981\\u63d0\\u53d6\\u3001Python\\u5229\\u7528\\u6df1\\u5ea6\\u5b66\\u4e60\\u8fdb\\u884c\\u6587\\u672c\\u6458\\u8981\\u7684\\u7efc\\u5408\\u6307\\u5357\\u3001\\u77e5\\u8bc6\\u56fe\\u8c31\\u6df1\\u5ea6\\u5b66\\u4e60\\u76f8\\u5173\\u8d44\\u6599\\u6574\\u7406\\u3001\\u7ef4\\u57fa\\u5927\\u89c4\\u6a21\\u5e73\\u884c\\u6587\\u672c\\u8bed\\u6599\\u3001StanfordNLP 0.2.0\\uff1a\\u7eafPython\\u7248\\u81ea\\u7136\\u8bed\\u8a00\\u5904\\u7406\\u5305\\u3001NeuralNLP-NeuralClassifier\\uff1a\\u817e\\u8baf\\u5f00\\u6e90\\u6df1\\u5ea6\\u5b66\\u4e60\\u6587\\u672c\\u5206\\u7c7b\\u5de5\\u5177\\u3001\\u7aef\\u5230\\u7aef\\u7684\\u5c01\\u95ed\\u57df\\u5bf9\\u8bdd\\u7cfb\\u7edf\\u3001\\u4e2d\\u6587\\u547d\\u540d\\u5b9e\\u4f53\\u8bc6\\u522b\\uff1aNeuroNER vs. BertNER\\u3001\\u65b0\\u95fb\\u4e8b\\u4ef6\\u7ebf\\u7d22\\u62bd\\u53d6\\u30012019\\u5e74\\u767e\\u5ea6\\u7684\\u4e09\\u5143\\u7ec4\\u62bd\\u53d6\\u6bd4\\u8d5b\\uff1a\\u201c\\u79d1\\u5b66\\u7a7a\\u95f4\\u961f\\u201d\\u6e90\\u7801\\u3001\\u57fa\\u4e8e\\u4f9d\\u5b58\\u53e5\\u6cd5\\u7684\\u5f00\\u653e\\u57df\\u6587\\u672c\\u77e5\\u8bc6\\u4e09\\u5143\\u7ec4\\u62bd\\u53d6\\u548c\\u77e5\\u8bc6\\u5e93\\u6784\\u5efa\\u3001\\u4e2d\\u6587\\u7684GPT2\\u8bad\\u7ec3\\u4ee3\\u7801\\u3001ML-NLP - \\u673a\\u5668\\u5b66\\u4e60(Machine Learning)NLP\\u9762\\u8bd5\\u4e2d\\u5e38\\u8003\\u5230\\u7684\\u77e5\\u8bc6\\u70b9\\u548c\\u4ee3\\u7801\\u5b9e\\u73b0\\u3001nlp4han:\\u4e2d\\u6587\\u81ea\\u7136\\u8bed\\u8a00\\u5904\\u7406\\u5de5\\u5177\\u96c6(\\u65ad\\u53e5\\u002f\\u5206\\u8bcd\\u002f\\u8bcd\\u6027\\u6807\\u6ce8\\u002f\\u7ec4\\u5757\\u002f\\u53e5\\u6cd5\\u5206\\u6790\\u002f\\u8bed\\u4e49\\u5206\\u6790\\u002fNER\\u002fN\\u5143\\u8bed\\u6cd5\\u002fHMM\\u002f\\u4ee3\\u8bcd\\u6d88\\u89e3\\u002f\\u60c5\\u611f\\u5206\\u6790\\u002f\\u62fc\\u5199\\u68c0\\u67e5\\u3001XLM\\uff1aFacebook\\u7684\\u8de8\\u8bed\\u8a00\\u9884\\u8bad\\u7ec3\\u8bed\\u8a00\\u6a21\\u578b\\u3001\\u7528\\u57fa\\u4e8eBERT\\u7684\\u5fae\\u8c03\\u548c\\u7279\\u5f81\\u63d0\\u53d6\\u65b9\\u6cd5\\u6765\\u8fdb\\u884c\\u77e5\\u8bc6\\u56fe\\u8c31\\u767e\\u5ea6\\u767e\\u79d1\\u4eba\\u7269\\u8bcd\\u6761\\u5c5e\\u6027\\u62bd\\u53d6\\u3001\\u4e2d\\u6587\\u81ea\\u7136\\u8bed\\u8a00\\u5904\\u7406\\u76f8\\u5173\\u7684\\u5f00\\u653e\\u4efb\\u52a1-\\u6570\\u636e\\u96c6-\\u5f53\\u524d\\u6700\\u4f73\\u7ed3\\u679c\\u3001CoupletAI - \\u57fa\\u4e8eCNN+Bi-LSTM+Attention \\u7684\\u81ea\\u52a8\\u5bf9\\u5bf9\\u8054\\u7cfb\\u7edf\\u3001\\u62bd\\u8c61\\u77e5\\u8bc6\\u56fe\\u8c31\\u3001MiningZhiDaoQACorpus - 580\\u4e07\\u767e\\u5ea6\\u77e5\\u9053\\u95ee\\u7b54\\u6570\\u636e\\u6316\\u6398\\u9879\\u76ee\\u3001brat rapid annotation tool: \\u5e8f\\u5217\\u6807\\u6ce8\\u5de5\\u5177\\u3001\\u5927\\u89c4\\u6a21\\u4e2d\\u6587\\u77e5\\u8bc6\\u56fe\\u8c31\\u6570\\u636e\\uff1a1.4\\u4ebf\\u5b9e\\u4f53\\u3001\\u6570\\u636e\\u589e\\u5f3a\\u5728\\u673a\\u5668\\u7ffb\\u8bd1\\u53ca\\u5176\\u4ed6nlp\\u4efb\\u52a1\\u4e2d\\u7684\\u5e94\\u7528\\u53ca\\u6548\\u679c\\u3001allennlp\\u9605\\u8bfb\\u7406\\u89e3:\\u652f\\u6301\\u591a\\u79cd\\u6570\\u636e\\u548c\\u6a21\\u578b\\u3001PDF\\u8868\\u683c\\u6570\\u636e\\u63d0\\u53d6\\u5de5\\u5177 \\u3001 Graphbrain\\uff1aAI\\u5f00\\u6e90\\u8f6f\\u4ef6\\u5e93\\u548c\\u79d1\\u7814\\u5de5\\u5177\\uff0c\\u76ee\\u7684\\u662f\\u4fc3\\u8fdb\\u81ea\\u52a8\\u610f\\u4e49\\u63d0\\u53d6\\u548c\\u6587\\u672c\\u7406\\u89e3\\u4ee5\\u53ca\\u77e5\\u8bc6\\u7684\\u63a2\\u7d22\\u548c\\u63a8\\u65ad\\u3001\\u7b80\\u5386\\u81ea\\u52a8\\u7b5b\\u9009\\u7cfb\\u7edf\\u3001\\u57fa\\u4e8e\\u547d\\u540d\\u5b9e\\u4f53\\u8bc6\\u522b\\u7684\\u7b80\\u5386\\u81ea\\u52a8\\u6458\\u8981\\u3001\\u4e2d\\u6587\\u8bed\\u8a00\\u7406\\u89e3\\u6d4b\\u8bc4\\u57fa\\u51c6\\uff0c\\u5305\\u62ec\\u4ee3\\u8868\\u6027\\u7684\\u6570\\u636e\\u96c6&\\u57fa\\u51c6\\u6a21\\u578b&\\u8bed\\u6599\\u5e93&\\u6392\\u884c\\u699c\\u3001\\u6811\\u6d1e OCR \\u6587\\u5b57\\u8bc6\\u522b \\u3001\\u4ece\\u5305\\u542b\\u8868\\u683c\\u7684\\u626b\\u63cf\\u56fe\\u7247\\u4e2d\\u8bc6\\u522b\\u8868\\u683c\\u548c\\u6587\\u5b57\\u3001\\u8bed\\u58f0\\u8fc1\\u79fb\\u3001Python\\u53e3\\u8bed\\u81ea\\u7136\\u8bed\\u8a00\\u5904\\u7406\\u5de5\\u5177\\u96c6(\\u82f1\\u6587)\\u3001 similarity\\uff1a\\u76f8\\u4f3c\\u5ea6\\u8ba1\\u7b97\\u5de5\\u5177\\u5305\\uff0cjava\\u7f16\\u5199\\u3001\\u6d77\\u91cf\\u4e2d\\u6587\\u9884\\u8bad\\u7ec3ALBERT\\u6a21\\u578b \\u3001Transformers 2.0 \\u3001\\u57fa\\u4e8e\\u5927\\u89c4\\u6a21\\u97f3\\u9891\\u6570\\u636e\\u96c6Audioset\\u7684\\u97f3\\u9891\\u589e\\u5f3a \\u3001Poplar\\uff1a\\u7f51\\u9875\\u7248\\u81ea\\u7136\\u8bed\\u8a00\\u6807\\u6ce8\\u5de5\\u5177\\u3001\\u56fe\\u7247\\u6587\\u5b57\\u53bb\\u9664\\uff0c\\u53ef\\u7528\\u4e8e\\u6f2b\\u753b\\u7ffb\\u8bd1 \\u3001186\\u79cd\\u8bed\\u8a00\\u7684\\u6570\\u5b57\\u53eb\\u6cd5\\u5e93\\u3001Amazon\\u53d1\\u5e03\\u57fa\\u4e8e\\u77e5\\u8bc6\\u7684\\u4eba-\\u4eba\\u5f00\\u653e\\u9886\\u57df\\u5bf9\\u8bdd\\u6570\\u636e\\u96c6 \\u3001\\u4e2d\\u6587\\u6587\\u672c\\u7ea0\\u9519\\u6a21\\u5757\\u4ee3\\u7801\\u3001\\u7e41\\u7b80\\u4f53\\u8f6c\\u6362 \\u3001 Python\\u5b9e\\u73b0\\u7684\\u591a\\u79cd\\u6587\\u672c\\u53ef\\u8bfb\\u6027\\u8bc4\\u4ef7\\u6307\\u6807\\u3001\\u7c7b\\u4f3c\\u4e8e\\u4eba\\u540d\\u002f\\u5730\\u540d\\u002f\\u7ec4\\u7ec7\\u673a\\u6784\\u540d\\u7684\\u547d\\u540d\\u4f53\\u8bc6\\u522b\\u6570\\u636e\\u96c6 \\u3001\\u4e1c\\u5357\\u5927\\u5b66\\u300a\\u77e5\\u8bc6\\u56fe\\u8c31\\u300b\\u7814\\u7a76\\u751f\\u8bfe\\u7a0b(\\u8d44\\u6599)\\u3001. \\u82f1\\u6587\\u62fc\\u5199\\u68c0\\u67e5\\u5e93 \\u3001 wwsearch\\u662f\\u4f01\\u4e1a\\u5fae\\u4fe1\\u540e\\u53f0\\u81ea\\u7814\\u7684\\u5168\\u6587\\u68c0\\u7d22\\u5f15\\u64ce\\u3001CHAMELEON\\uff1a\\u6df1\\u5ea6\\u5b66\\u4e60\\u65b0\\u95fb\\u63a8\\u8350\\u7cfb\\u7edf\\u5143\\u67b6\\u6784 \\u3001 8\\u7bc7\\u8bba\\u6587\\u68b3\\u7406BERT\\u76f8\\u5173\\u6a21\\u578b\\u8fdb\\u5c55\\u4e0e\\u53cd\\u601d\\u3001DocSearch\\uff1a\\u514d\\u8d39\\u6587\\u6863\\u641c\\u7d22\\u5f15\\u64ce\\u3001 LIDA\\uff1a\\u8f7b\\u91cf\\u4ea4\\u4e92\\u5f0f\\u5bf9\\u8bdd\\u6807\\u6ce8\\u5de5\\u5177 \\u3001aili - the fastest in-memory index in the East \\u4e1c\\u534a\\u7403\\u6700\\u5feb\\u5e76\\u53d1\\u7d22\\u5f15 \\u3001\\u77e5\\u8bc6\\u56fe\\u8c31\\u8f66\\u97f3\\u5de5\\u4f5c\\u9879\\u76ee\\u3001\\u81ea\\u7136\\u8bed\\u8a00\\u751f\\u6210\\u8d44\\u6e90\\u5927\\u5168 \\u3001\\u4e2d\\u65e5\\u97e9\\u5206\\u8bcd\\u5e93mecab\\u7684Python\\u63a5\\u53e3\\u5e93\\u3001\\u4e2d\\u6587\\u6587\\u672c\\u6458\\u8981\\u002f\\u5173\\u952e\\u8bcd\\u63d0\\u53d6\\u3001\\u6c49\\u5b57\\u5b57\\u7b26\\u7279\\u5f81\\u63d0\\u53d6\\u5668 (featurizer)\\uff0c\\u63d0\\u53d6\\u6c49\\u5b57\\u7684\\u7279\\u5f81\\uff08\\u53d1\\u97f3\\u7279\\u5f81\\u3001\\u5b57\\u5f62\\u7279\\u5f81\\uff09\\u7528\\u505a\\u6df1\\u5ea6\\u5b66\\u4e60\\u7684\\u7279\\u5f81\\u3001\\u4e2d\\u6587\\u751f\\u6210\\u4efb\\u52a1\\u57fa\\u51c6\\u6d4b\\u8bc4 \\u3001\\u4e2d\\u6587\\u7f29\\u5199\\u6570\\u636e\\u96c6\\u3001\\u4e2d\\u6587\\u4efb\\u52a1\\u57fa\\u51c6\\u6d4b\\u8bc4 - \\u4ee3\\u8868\\u6027\\u7684\\u6570\\u636e\\u96c6-\\u57fa\\u51c6(\\u9884\\u8bad\\u7ec3)\\u6a21\\u578b-\\u8bed\\u6599\\u5e93-baseline-\\u5de5\\u5177\\u5305-\\u6392\\u884c\\u699c\\u3001PySS3\\uff1a\\u9762\\u5411\\u53ef\\u89e3\\u91caAI\\u7684SS3\\u6587\\u672c\\u5206\\u7c7b\\u5668\\u673a\\u5668\\u53ef\\u89c6\\u5316\\u5de5\\u5177 \\u3001\\u4e2d\\u6587NLP\\u6570\\u636e\\u96c6\\u5217\\u8868\\u3001COPE - \\u683c\\u5f8b\\u8bd7\\u7f16\\u8f91\\u7a0b\\u5e8f\\u3001doccano\\uff1a\\u57fa\\u4e8e\\u7f51\\u9875\\u7684\\u5f00\\u6e90\\u534f\\u540c\\u591a\\u8bed\\u8a00\\u6587\\u672c\\u6807\\u6ce8\\u5de5\\u5177 \\u3001PreNLP\\uff1a\\u81ea\\u7136\\u8bed\\u8a00\\u9884\\u5904\\u7406\\u5e93\\u3001\\u7b80\\u5355\\u7684\\u7b80\\u5386\\u89e3\\u6790\\u5668\\uff0c\\u7528\\u6765\\u4ece\\u7b80\\u5386\\u4e2d\\u63d0\\u53d6\\u5173\\u952e\\u4fe1\\u606f\\u3001\\u7528\\u4e8e\\u4e2d\\u6587\\u95f2\\u804a\\u7684GPT2\\u6a21\\u578b\\uff1aGPT2-chitchat\\u3001\\u57fa\\u4e8e\\u68c0\\u7d22\\u804a\\u5929\\u673a\\u5668\\u4eba\\u591a\\u8f6e\\u54cd\\u5e94\\u9009\\u62e9\\u76f8\\u5173\\u8d44\\u6e90\\u5217\\u8868(Leaderboards\\u3001Datasets\\u3001Papers)\\u3001(Colab)\\u62bd\\u8c61\\u6587\\u672c\\u6458\\u8981\\u5b9e\\u73b0\\u96c6\\u9526(\\u6559\\u7a0b \\u3001\\u8bcd\\u8bed\\u62fc\\u97f3\\u6570\\u636e\\u3001\\u9ad8\\u6548\\u6a21\\u7cca\\u641c\\u7d22\\u5de5\\u5177\\u3001NLP\\u6570\\u636e\\u589e\\u5e7f\\u8d44\\u6e90\\u96c6\\u3001\\u5fae\\u8f6f\\u5bf9\\u8bdd\\u673a\\u5668\\u4eba\\u6846\\u67b6 \\u3001 GitHub Typo Corpus\\uff1a\\u5927\\u89c4\\u6a21GitHub\\u591a\\u8bed\\u8a00\\u62fc\\u5199\\u9519\\u8bef\\u002f\\u8bed\\u6cd5\\u9519\\u8bef\\u6570\\u636e\\u96c6\\u3001TextCluster\\uff1a\\u77ed\\u6587\\u672c\\u805a\\u7c7b\\u9884\\u5904\\u7406\\u6a21\\u5757 Short text cluster\\u3001\\u9762\\u5411\\u8bed\\u97f3\\u8bc6\\u522b\\u7684\\u4e2d\\u6587\\u6587\\u672c\\u89c4\\u8303\\u5316\\u3001BLINK\\uff1a\\u6700\\u5148\\u8fdb\\u7684\\u5b9e\\u4f53\\u94fe\\u63a5\\u5e93\\u3001BertPunc\\uff1a\\u57fa\\u4e8eBERT\\u7684\\u6700\\u5148\\u8fdb\\u6807\\u70b9\\u4fee\\u590d\\u6a21\\u578b\\u3001Tokenizer\\uff1a\\u5feb\\u901f\\u3001\\u53ef\\u5b9a\\u5236\\u7684\\u6587\\u672c\\u8bcd\\u6761\\u5316\\u5e93\\u3001\\u4e2d\\u6587\\u8bed\\u8a00\\u7406\\u89e3\\u6d4b\\u8bc4\\u57fa\\u51c6\\uff0c\\u5305\\u62ec\\u4ee3\\u8868\\u6027\\u7684\\u6570\\u636e\\u96c6\\u3001\\u57fa\\u51c6(\\u9884\\u8bad\\u7ec3)\\u6a21\\u578b\\u3001\\u8bed\\u6599\\u5e93\\u3001\\u6392\\u884c\\u699c\\u3001spaCy \\u533b\\u5b66\\u6587\\u672c\\u6316\\u6398\\u4e0e\\u4fe1\\u606f\\u63d0\\u53d6 \\u3001 NLP\\u4efb\\u52a1\\u793a\\u4f8b\\u9879\\u76ee\\u4ee3\\u7801\\u96c6\\u3001 python\\u62fc\\u5199\\u68c0\\u67e5\\u5e93\\u3001chatbot-list - \\u884c\\u4e1a\\u5185\\u5173\\u4e8e\\u667a\\u80fd\\u5ba2\\u670d\\u3001\\u804a\\u5929\\u673a\\u5668\\u4eba\\u7684\\u5e94\\u7528\\u548c\\u67b6\\u6784\\u3001\\u7b97\\u6cd5\\u5206\\u4eab\\u548c\\u4ecb\\u7ecd\\u3001\\u8bed\\u97f3\\u8d28\\u91cf\\u8bc4\\u4ef7\\u6307\\u6807(MOSNet, BSSEval, STOI, PESQ, SRMR)\\u3001 \\u7528138GB\\u8bed\\u6599\\u8bad\\u7ec3\\u7684\\u6cd5\\u6587RoBERTa\\u9884\\u8bad\\u7ec3\\u8bed\\u8a00\\u6a21\\u578b \\u3001BERT-NER-Pytorch\\uff1a\\u4e09\\u79cd\\u4e0d\\u540c\\u6a21\\u5f0f\\u7684BERT\\u4e2d\\u6587NER\\u5b9e\\u9a8c\\u3001\\u65e0\\u9053\\u8bcd\\u5178 - \\u6709\\u9053\\u8bcd\\u5178\\u7684\\u547d\\u4ee4\\u884c\\u7248\\u672c\\uff0c\\u652f\\u6301\\u82f1\\u6c49\\u4e92\\u67e5\\u548c\\u5728\\u7ebf\\u67e5\\u8be2\\u30012019\\u5e74NLP\\u4eae\\u70b9\\u56de\\u987e\\u3001 Chinese medical dialogue data \\u4e2d\\u6587\\u533b\\u7597\\u5bf9\\u8bdd\\u6570\\u636e\\u96c6 \\u3001\\u6700\\u597d\\u7684\\u6c49\\u5b57\\u6570\\u5b57(\\u4e2d\\u6587\\u6570\\u5b57)-\\u963f\\u62c9\\u4f2f\\u6570\\u5b57\\u8f6c\\u6362\\u5de5\\u5177\\u3001 \\u57fa\\u4e8e\\u767e\\u79d1\\u77e5\\u8bc6\\u5e93\\u7684\\u4e2d\\u6587\\u8bcd\\u8bed\\u591a\\u8bcd\\u4e49\\u002f\\u4e49\\u9879\\u83b7\\u53d6\\u4e0e\\u7279\\u5b9a\\u53e5\\u5b50\\u8bcd\\u8bed\\u8bed\\u4e49\\u6d88\\u6b67\\u3001awesome-nlp-sentiment-analysis - \\u60c5\\u611f\\u5206\\u6790\\u3001\\u60c5\\u7eea\\u539f\\u56e0\\u8bc6\\u522b\\u3001\\u8bc4\\u4ef7\\u5bf9\\u8c61\\u548c\\u8bc4\\u4ef7\\u8bcd\\u62bd\\u53d6\\u3001LineFlow\\uff1a\\u9762\\u5411\\u6240\\u6709\\u6df1\\u5ea6\\u5b66\\u4e60\\u6846\\u67b6\\u7684NLP\\u6570\\u636e\\u9ad8\\u6548\\u52a0\\u8f7d\\u5668\\u3001\\u4e2d\\u6587\\u533b\\u5b66NLP\\u516c\\u5f00\\u8d44\\u6e90\\u6574\\u7406 \\u3001MedQuAD\\uff1a(\\u82f1\\u6587)\\u533b\\u5b66\\u95ee\\u7b54\\u6570\\u636e\\u96c6\\u3001\\u5c06\\u81ea\\u7136\\u8bed\\u8a00\\u6570\\u5b57\\u4e32\\u89e3\\u6790\\u8f6c\\u6362\\u4e3a\\u6574\\u6570\\u548c\\u6d6e\\u70b9\\u6570\\u3001Transfer Learning in Natural Language Processing (NLP) \\u3001\\u9762\\u5411\\u8bed\\u97f3\\u8bc6\\u522b\\u7684\\u4e2d\\u6587\\u002f\\u82f1\\u6587\\u53d1\\u97f3\\u8f9e\\u5178\\u3001Tokenizers\\uff1a\\u6ce8\\u91cd\\u6027\\u80fd\\u4e0e\\u591a\\u529f\\u80fd\\u6027\\u7684\\u6700\\u5148\\u8fdb\\u5206\\u8bcd\\u5668\\u3001CLUENER \\u7ec6\\u7c92\\u5ea6\\u547d\\u540d\\u5b9e\\u4f53\\u8bc6\\u522b Fine Grained Named Entity Recognition\\u3001 \\u57fa\\u4e8eBERT\\u7684\\u4e2d\\u6587\\u547d\\u540d\\u5b9e\\u4f53\\u8bc6\\u522b\\u3001\\u4e2d\\u6587\\u8c23\\u8a00\\u6570\\u636e\\u5e93\\u3001NLP\\u6570\\u636e\\u96c6\\u002f\\u57fa\\u51c6\\u4efb\\u52a1\\u5927\\u5217\\u8868\\u3001nlp\\u76f8\\u5173\\u7684\\u4e00\\u4e9b\\u8bba\\u6587\\u53ca\\u4ee3\\u7801, \\u5305\\u62ec\\u4e3b\\u9898\\u6a21\\u578b\\u3001\\u8bcd\\u5411\\u91cf(Word Embedding)\\u3001\\u547d\\u540d\\u5b9e\\u4f53\\u8bc6\\u522b(NER)\\u3001\\u6587\\u672c\\u5206\\u7c7b(Text Classificatin)\\u3001\\u6587\\u672c\\u751f\\u6210(Text Generation)\\u3001\\u6587\\u672c\\u76f8\\u4f3c\\u6027(Text Similarity)\\u8ba1\\u7b97\\u7b49\\uff0c\\u6d89\\u53ca\\u5230\\u5404\\u79cd\\u4e0enlp\\u76f8\\u5173\\u7684\\u7b97\\u6cd5\\uff0c\\u57fa\\u4e8ekeras\\u548ctensorflow \\u3001Python\\u6587\\u672c\\u6316\\u6398\\u002fNLP\\u5b9e\\u6218\\u793a\\u4f8b\\u3001 Blackstone\\uff1a\\u9762\\u5411\\u975e\\u7ed3\\u6784\\u5316\\u6cd5\\u5f8b\\u6587\\u672c\\u7684spaCy pipeline\\u548cNLP\\u6a21\\u578b\\u901a\\u8fc7\\u540c\\u4e49\\u8bcd\\u66ff\\u6362\\u5b9e\\u73b0\\u6587\\u672c\\u201c\\u53d8\\u8138\\u201d \\u3001\\u4e2d\\u6587 \\u9884\\u8bad\\u7ec3 ELECTREA \\u6a21\\u578b: \\u57fa\\u4e8e\\u5bf9\\u6297\\u5b66\\u4e60 pretrain Chinese Model \\u3001albert-chinese-ner - \\u7528\\u9884\\u8bad\\u7ec3\\u8bed\\u8a00\\u6a21\\u578bALBERT\\u505a\\u4e2d\\u6587NER \\u3001\\u57fa\\u4e8eGPT2\\u7684\\u7279\\u5b9a\\u4e3b\\u9898\\u6587\\u672c\\u751f\\u6210\\u002f\\u6587\\u672c\\u589e\\u5e7f\\u3001\\u5f00\\u6e90\\u9884\\u8bad\\u7ec3\\u8bed\\u8a00\\u6a21\\u578b\\u5408\\u96c6\\u3001\\u591a\\u8bed\\u8a00\\u53e5\\u5411\\u91cf\\u5305\\u3001\\u7f16\\u7801\\u3001\\u6807\\u8bb0\\u548c\\u5b9e\\u73b0\\uff1a\\u4e00\\u79cd\\u53ef\\u63a7\\u9ad8\\u6548\\u7684\\u6587\\u672c\\u751f\\u6210\\u65b9\\u6cd5\\u3001 \\u82f1\\u6587\\u810f\\u8bdd\\u5927\\u5217\\u8868 \\u3001attnvis\\uff1aGPT2\\u3001BERT\\u7b49transformer\\u8bed\\u8a00\\u6a21\\u578b\\u6ce8\\u610f\\u529b\\u4ea4\\u4e92\\u53ef\\u89c6\\u5316\\u3001CoVoST\\uff1aFacebook\\u53d1\\u5e03\\u7684\\u591a\\u8bed\\u79cd\\u8bed\\u97f3-\\u6587\\u672c\\u7ffb\\u8bd1\\u8bed\\u6599\\u5e93\\uff0c\\u5305\\u62ec11\\u79cd\\u8bed\\u8a00(\\u6cd5\\u8bed\\u3001\\u5fb7\\u8bed\\u3001\\u8377\\u5170\\u8bed\\u3001\\u4fc4\\u8bed\\u3001\\u897f\\u73ed\\u7259\\u8bed\\u3001\\u610f\\u5927\\u5229\\u8bed\\u3001\\u571f\\u8033\\u5176\\u8bed\\u3001\\u6ce2\\u65af\\u8bed\\u3001\\u745e\\u5178\\u8bed\\u3001\\u8499\\u53e4\\u8bed\\u548c\\u4e2d\\u6587)\\u7684\\u8bed\\u97f3\\u3001\\u6587\\u5b57\\u8f6c\\u5f55\\u53ca\\u82f1\\u6587\\u8bd1\\u6587\\u3001Jiagu\\u81ea\\u7136\\u8bed\\u8a00\\u5904\\u7406\\u5de5\\u5177 - \\u4ee5BiLSTM\\u7b49\\u6a21\\u578b\\u4e3a\\u57fa\\u7840\\uff0c\\u63d0\\u4f9b\\u77e5\\u8bc6\\u56fe\\u8c31\\u5173\\u7cfb\\u62bd\\u53d6 \\u4e2d\\u6587\\u5206\\u8bcd \\u8bcd\\u6027\\u6807\\u6ce8 \\u547d\\u540d\\u5b9e\\u4f53\\u8bc6\\u522b \\u60c5\\u611f\\u5206\\u6790 \\u65b0\\u8bcd\\u53d1\\u73b0 \\u5173\\u952e\\u8bcd \\u6587\\u672c\\u6458\\u8981 \\u6587\\u672c\\u805a\\u7c7b\\u7b49\\u529f\\u80fd\\u3001\\u7528unet\\u5b9e\\u73b0\\u5bf9\\u6587\\u6863\\u8868\\u683c\\u7684\\u81ea\\u52a8\\u68c0\\u6d4b\\uff0c\\u8868\\u683c\\u91cd\\u5efa\\u3001NLP\\u4e8b\\u4ef6\\u63d0\\u53d6\\u6587\\u732e\\u8d44\\u6e90\\u5217\\u8868 \\u3001 \\u91d1\\u878d\\u9886\\u57df\\u81ea\\u7136\\u8bed\\u8a00\\u5904\\u7406\\u7814\\u7a76\\u8d44\\u6e90\\u5927\\u5217\\u8868\\u3001CLUEDatasetSearch - \\u4e2d\\u82f1\\u6587NLP\\u6570\\u636e\\u96c6\\uff1a\\u641c\\u7d22\\u6240\\u6709\\u4e2d\\u6587NLP\\u6570\\u636e\\u96c6\\uff0c\\u9644\\u5e38\\u7528\\u82f1\\u6587NLP\\u6570\\u636e\\u96c6 \\u3001medical_NER - \\u4e2d\\u6587\\u533b\\u5b66\\u77e5\\u8bc6\\u56fe\\u8c31\\u547d\\u540d\\u5b9e\\u4f53\\u8bc6\\u522b \\u3001(\\u54c8\\u4f5b)\\u8bb2\\u56e0\\u679c\\u63a8\\u7406\\u7684\\u514d\\u8d39\\u4e66\\u3001\\u77e5\\u8bc6\\u56fe\\u8c31\\u76f8\\u5173\\u5b66\\u4e60\\u8d44\\u6599\\u002f\\u6570\\u636e\\u96c6\\u002f\\u5de5\\u5177\\u8d44\\u6e90\\u5927\\u5217\\u8868\\u3001Forte\\uff1a\\u7075\\u6d3b\\u5f3a\\u5927\\u7684\\u81ea\\u7136\\u8bed\\u8a00\\u5904\\u7406pipeline\\u5de5\\u5177\\u96c6 \\u3001Python\\u5b57\\u7b26\\u4e32\\u76f8\\u4f3c\\u6027\\u7b97\\u6cd5\\u5e93\\u3001PyLaia\\uff1a\\u9762\\u5411\\u624b\\u5199\\u6587\\u6863\\u5206\\u6790\\u7684\\u6df1\\u5ea6\\u5b66\\u4e60\\u5de5\\u5177\\u5305\\u3001TextFooler\\uff1a\\u9488\\u5bf9\\u6587\\u672c\\u5206\\u7c7b\\u002f\\u63a8\\u7406\\u7684\\u5bf9\\u6297\\u6587\\u672c\\u751f\\u6210\\u6a21\\u5757\\u3001Haystack\\uff1a\\u7075\\u6d3b\\u3001\\u5f3a\\u5927\\u7684\\u53ef\\u6269\\u5c55\\u95ee\\u7b54(QA)\\u6846\\u67b6\\u3001\\u4e2d\\u6587\\u5173\\u952e\\u77ed\\u8bed\\u62bd\\u53d6\\u5de5\\u5177\",\"pallets\\u003cbr \\u002f\\u003eThe Python micro framework for building web applications.\",\"openai\\u003cbr \\u002f\\u003eRobust Speech Recognition via Large-Scale Weak Supervision\",\"bregman-arie\\u003cbr \\u002f\\u003eLinux, Jenkins, AWS, SRE, Prometheus, Docker, Python, Ansible, Git, Kubernetes, Terraform, OpenStack, SQL, NoSQL, Azure, GCP, DNS, Elastic, Network, Virtualization. DevOps Interview Questions\",\"josephmisiti\\u003cbr \\u002f\\u003eA curated list of awesome Machine Learning frameworks, libraries and software.\",\"binary-husky\\u003cbr \\u002f\\u003e\\u4e3aGPT\\u002fGLM\\u7b49LLM\\u5927\\u8bed\\u8a00\\u6a21\\u578b\\u63d0\\u4f9b\\u5b9e\\u7528\\u5316\\u4ea4\\u4e92\\u63a5\\u53e3\\uff0c\\u7279\\u522b\\u4f18\\u5316\\u8bba\\u6587\\u9605\\u8bfb\\u002f\\u6da6\\u8272\\u002f\\u5199\\u4f5c\\u4f53\\u9a8c\\uff0c\\u6a21\\u5757\\u5316\\u8bbe\\u8ba1\\uff0c\\u652f\\u6301\\u81ea\\u5b9a\\u4e49\\u5feb\\u6377\\u6309\\u94ae&\\u51fd\\u6570\\u63d2\\u4ef6\\uff0c\\u652f\\u6301Python\\u548cC++\\u7b49\\u9879\\u76ee\\u5256\\u6790&\\u81ea\\u8bd1\\u89e3\\u529f\\u80fd\\uff0cPDF\\u002fLaTex\\u8bba\\u6587\\u7ffb\\u8bd1&\\u603b\\u7ed3\\u529f\\u80fd\\uff0c\\u652f\\u6301\\u5e76\\u884c\\u95ee\\u8be2\\u591a\\u79cdLLM\\u6a21\\u578b\\uff0c\\u652f\\u6301chatglm3\\u7b49\\u672c\\u5730\\u6a21\\u578b\\u3002\\u63a5\\u5165\\u901a\\u4e49\\u5343\\u95ee, deepseekcoder, \\u8baf\\u98de\\u661f\\u706b, \\u6587\\u5fc3\\u4e00\\u8a00, llama2, rwkv, claude2, moss\\u7b49\\u3002\",\"ansible\\u003cbr \\u002f\\u003eAnsible is a radically simple IT automation platform that makes your applications and systems easier to deploy and maintain. Automate everything from code deployment to network configuration to cloud management, in a language that approaches plain English, using SSH, with no agents to install on remote systems. https:\\u002f\\u002fdocs.ansible.com.\",\"python\\u003cbr \\u002f\\u003eThe Python programming language\",\"3b1b\\u003cbr \\u002f\\u003eAnimation engine for explanatory math videos\",\"keras-team\\u003cbr \\u002f\\u003eDeep Learning for humans\",\"d2l-ai\\u003cbr \\u002f\\u003e\\u300a\\u52a8\\u624b\\u5b66\\u6df1\\u5ea6\\u5b66\\u4e60\\u300b\\uff1a\\u9762\\u5411\\u4e2d\\u6587\\u8bfb\\u8005\\u3001\\u80fd\\u8fd0\\u884c\\u3001\\u53ef\\u8ba8\\u8bba\\u3002\\u4e2d\\u82f1\\u6587\\u7248\\u88ab70\\u591a\\u4e2a\\u56fd\\u5bb6\\u7684500\\u591a\\u6240\\u5927\\u5b66\\u7528\\u4e8e\\u6559\\u5b66\\u3002\",\"xtekky\\u003cbr \\u002f\\u003eThe official gpt4free repository | various collection of powerful language models\",\"swisskyrepo\\u003cbr \\u002f\\u003eA list of useful payloads and bypass for Web Application Security and Pentest\\u002fCTF\"],\"legendgroup\":\"\",\"marker\":{\"color\":\"SteelBlue\",\"pattern\":{\"shape\":\"\"},\"opacity\":0.5},\"name\":\"\",\"offsetgroup\":\"\",\"orientation\":\"v\",\"showlegend\":false,\"textposition\":\"auto\",\"x\":[\"\\u003ca href= 'https:\\u002f\\u002fgithub.com\\u002fpublic-apis\\u002fpublic-apis'\\u003epublic-apis\\u003c\\u002fa\\u003e\",\"\\u003ca href= 'https:\\u002f\\u002fgithub.com\\u002fdonnemartin\\u002fsystem-design-primer'\\u003esystem-design-primer\\u003c\\u002fa\\u003e\",\"\\u003ca href= 'https:\\u002f\\u002fgithub.com\\u002fvinta\\u002fawesome-python'\\u003eawesome-python\\u003c\\u002fa\\u003e\",\"\\u003ca href= 'https:\\u002f\\u002fgithub.com\\u002fTheAlgorithms\\u002fPython'\\u003ePython\\u003c\\u002fa\\u003e\",\"\\u003ca href= 'https:\\u002f\\u002fgithub.com\\u002fSignificant-Gravitas\\u002fAutoGPT'\\u003eAutoGPT\\u003c\\u002fa\\u003e\",\"\\u003ca href= 'https:\\u002f\\u002fgithub.com\\u002fjackfrued\\u002fPython-100-Days'\\u003ePython-100-Days\\u003c\\u002fa\\u003e\",\"\\u003ca href= 'https:\\u002f\\u002fgithub.com\\u002fAUTOMATIC1111\\u002fstable-diffusion-webui'\\u003estable-diffusion-webui\\u003c\\u002fa\\u003e\",\"\\u003ca href= 'https:\\u002f\\u002fgithub.com\\u002fhuggingface\\u002ftransformers'\\u003etransformers\\u003c\\u002fa\\u003e\",\"\\u003ca href= 'https:\\u002f\\u002fgithub.com\\u002fytdl-org\\u002fyoutube-dl'\\u003eyoutube-dl\\u003c\\u002fa\\u003e\",\"\\u003ca href= 'https:\\u002f\\u002fgithub.com\\u002f521xueweihan\\u002fHelloGitHub'\\u003eHelloGitHub\\u003c\\u002fa\\u003e\",\"\\u003ca href= 'https:\\u002f\\u002fgithub.com\\u002fnvbn\\u002fthefuck'\\u003ethefuck\\u003c\\u002fa\\u003e\",\"\\u003ca href= 'https:\\u002f\\u002fgithub.com\\u002fyt-dlp\\u002fyt-dlp'\\u003eyt-dlp\\u003c\\u002fa\\u003e\",\"\\u003ca href= 'https:\\u002f\\u002fgithub.com\\u002fpytorch\\u002fpytorch'\\u003epytorch\\u003c\\u002fa\\u003e\",\"\\u003ca href= 'https:\\u002f\\u002fgithub.com\\u002fdjango\\u002fdjango'\\u003edjango\\u003c\\u002fa\\u003e\",\"\\u003ca href= 'https:\\u002f\\u002fgithub.com\\u002ftensorflow\\u002fmodels'\\u003emodels\\u003c\\u002fa\\u003e\",\"\\u003ca href= 'https:\\u002f\\u002fgithub.com\\u002ffastapi\\u002ffastapi'\\u003efastapi\\u003c\\u002fa\\u003e\",\"\\u003ca href= 'https:\\u002f\\u002fgithub.com\\u002fhome-assistant\\u002fcore'\\u003ecore\\u003c\\u002fa\\u003e\",\"\\u003ca href= 'https:\\u002f\\u002fgithub.com\\u002ffighting41love\\u002ffunNLP'\\u003efunNLP\\u003c\\u002fa\\u003e\",\"\\u003ca href= 'https:\\u002f\\u002fgithub.com\\u002fpallets\\u002fflask'\\u003eflask\\u003c\\u002fa\\u003e\",\"\\u003ca href= 'https:\\u002f\\u002fgithub.com\\u002fopenai\\u002fwhisper'\\u003ewhisper\\u003c\\u002fa\\u003e\",\"\\u003ca href= 'https:\\u002f\\u002fgithub.com\\u002fbregman-arie\\u002fdevops-exercises'\\u003edevops-exercises\\u003c\\u002fa\\u003e\",\"\\u003ca href= 'https:\\u002f\\u002fgithub.com\\u002fjosephmisiti\\u002fawesome-machine-learning'\\u003eawesome-machine-learning\\u003c\\u002fa\\u003e\",\"\\u003ca href= 'https:\\u002f\\u002fgithub.com\\u002fbinary-husky\\u002fgpt_academic'\\u003egpt_academic\\u003c\\u002fa\\u003e\",\"\\u003ca href= 'https:\\u002f\\u002fgithub.com\\u002fansible\\u002fansible'\\u003eansible\\u003c\\u002fa\\u003e\",\"\\u003ca href= 'https:\\u002f\\u002fgithub.com\\u002fpython\\u002fcpython'\\u003ecpython\\u003c\\u002fa\\u003e\",\"\\u003ca href= 'https:\\u002f\\u002fgithub.com\\u002f3b1b\\u002fmanim'\\u003emanim\\u003c\\u002fa\\u003e\",\"\\u003ca href= 'https:\\u002f\\u002fgithub.com\\u002fkeras-team\\u002fkeras'\\u003ekeras\\u003c\\u002fa\\u003e\",\"\\u003ca href= 'https:\\u002f\\u002fgithub.com\\u002fd2l-ai\\u002fd2l-zh'\\u003ed2l-zh\\u003c\\u002fa\\u003e\",\"\\u003ca href= 'https:\\u002f\\u002fgithub.com\\u002fxtekky\\u002fgpt4free'\\u003egpt4free\\u003c\\u002fa\\u003e\",\"\\u003ca href= 'https:\\u002f\\u002fgithub.com\\u002fswisskyrepo\\u002fPayloadsAllTheThings'\\u003ePayloadsAllTheThings\\u003c\\u002fa\\u003e\"],\"xaxis\":\"x\",\"y\":[311932,269049,218213,184011,166374,154609,139339,131826,131235,90278,84655,82124,82043,79102,76946,75465,71096,67562,67518,67294,65775,65323,63815,62307,62239,61857,61588,61188,59894,59889],\"yaxis\":\"y\",\"type\":\"bar\"}],                        {\"template\":{\"data\":{\"histogram2dcontour\":[{\"type\":\"histogram2dcontour\",\"colorbar\":{\"outlinewidth\":0,\"ticks\":\"\"},\"colorscale\":[[0.0,\"#0d0887\"],[0.1111111111111111,\"#46039f\"],[0.2222222222222222,\"#7201a8\"],[0.3333333333333333,\"#9c179e\"],[0.4444444444444444,\"#bd3786\"],[0.5555555555555556,\"#d8576b\"],[0.6666666666666666,\"#ed7953\"],[0.7777777777777778,\"#fb9f3a\"],[0.8888888888888888,\"#fdca26\"],[1.0,\"#f0f921\"]]}],\"choropleth\":[{\"type\":\"choropleth\",\"colorbar\":{\"outlinewidth\":0,\"ticks\":\"\"}}],\"histogram2d\":[{\"type\":\"histogram2d\",\"colorbar\":{\"outlinewidth\":0,\"ticks\":\"\"},\"colorscale\":[[0.0,\"#0d0887\"],[0.1111111111111111,\"#46039f\"],[0.2222222222222222,\"#7201a8\"],[0.3333333333333333,\"#9c179e\"],[0.4444444444444444,\"#bd3786\"],[0.5555555555555556,\"#d8576b\"],[0.6666666666666666,\"#ed7953\"],[0.7777777777777778,\"#fb9f3a\"],[0.8888888888888888,\"#fdca26\"],[1.0,\"#f0f921\"]]}],\"heatmap\":[{\"type\":\"heatmap\",\"colorbar\":{\"outlinewidth\":0,\"ticks\":\"\"},\"colorscale\":[[0.0,\"#0d0887\"],[0.1111111111111111,\"#46039f\"],[0.2222222222222222,\"#7201a8\"],[0.3333333333333333,\"#9c179e\"],[0.4444444444444444,\"#bd3786\"],[0.5555555555555556,\"#d8576b\"],[0.6666666666666666,\"#ed7953\"],[0.7777777777777778,\"#fb9f3a\"],[0.8888888888888888,\"#fdca26\"],[1.0,\"#f0f921\"]]}],\"heatmapgl\":[{\"type\":\"heatmapgl\",\"colorbar\":{\"outlinewidth\":0,\"ticks\":\"\"},\"colorscale\":[[0.0,\"#0d0887\"],[0.1111111111111111,\"#46039f\"],[0.2222222222222222,\"#7201a8\"],[0.3333333333333333,\"#9c179e\"],[0.4444444444444444,\"#bd3786\"],[0.5555555555555556,\"#d8576b\"],[0.6666666666666666,\"#ed7953\"],[0.7777777777777778,\"#fb9f3a\"],[0.8888888888888888,\"#fdca26\"],[1.0,\"#f0f921\"]]}],\"contourcarpet\":[{\"type\":\"contourcarpet\",\"colorbar\":{\"outlinewidth\":0,\"ticks\":\"\"}}],\"contour\":[{\"type\":\"contour\",\"colorbar\":{\"outlinewidth\":0,\"ticks\":\"\"},\"colorscale\":[[0.0,\"#0d0887\"],[0.1111111111111111,\"#46039f\"],[0.2222222222222222,\"#7201a8\"],[0.3333333333333333,\"#9c179e\"],[0.4444444444444444,\"#bd3786\"],[0.5555555555555556,\"#d8576b\"],[0.6666666666666666,\"#ed7953\"],[0.7777777777777778,\"#fb9f3a\"],[0.8888888888888888,\"#fdca26\"],[1.0,\"#f0f921\"]]}],\"surface\":[{\"type\":\"surface\",\"colorbar\":{\"outlinewidth\":0,\"ticks\":\"\"},\"colorscale\":[[0.0,\"#0d0887\"],[0.1111111111111111,\"#46039f\"],[0.2222222222222222,\"#7201a8\"],[0.3333333333333333,\"#9c179e\"],[0.4444444444444444,\"#bd3786\"],[0.5555555555555556,\"#d8576b\"],[0.6666666666666666,\"#ed7953\"],[0.7777777777777778,\"#fb9f3a\"],[0.8888888888888888,\"#fdca26\"],[1.0,\"#f0f921\"]]}],\"mesh3d\":[{\"type\":\"mesh3d\",\"colorbar\":{\"outlinewidth\":0,\"ticks\":\"\"}}],\"scatter\":[{\"fillpattern\":{\"fillmode\":\"overlay\",\"size\":10,\"solidity\":0.2},\"type\":\"scatter\"}],\"parcoords\":[{\"type\":\"parcoords\",\"line\":{\"colorbar\":{\"outlinewidth\":0,\"ticks\":\"\"}}}],\"scatterpolargl\":[{\"type\":\"scatterpolargl\",\"marker\":{\"colorbar\":{\"outlinewidth\":0,\"ticks\":\"\"}}}],\"bar\":[{\"error_x\":{\"color\":\"#2a3f5f\"},\"error_y\":{\"color\":\"#2a3f5f\"},\"marker\":{\"line\":{\"color\":\"#E5ECF6\",\"width\":0.5},\"pattern\":{\"fillmode\":\"overlay\",\"size\":10,\"solidity\":0.2}},\"type\":\"bar\"}],\"scattergeo\":[{\"type\":\"scattergeo\",\"marker\":{\"colorbar\":{\"outlinewidth\":0,\"ticks\":\"\"}}}],\"scatterpolar\":[{\"type\":\"scatterpolar\",\"marker\":{\"colorbar\":{\"outlinewidth\":0,\"ticks\":\"\"}}}],\"histogram\":[{\"marker\":{\"pattern\":{\"fillmode\":\"overlay\",\"size\":10,\"solidity\":0.2}},\"type\":\"histogram\"}],\"scattergl\":[{\"type\":\"scattergl\",\"marker\":{\"colorbar\":{\"outlinewidth\":0,\"ticks\":\"\"}}}],\"scatter3d\":[{\"type\":\"scatter3d\",\"line\":{\"colorbar\":{\"outlinewidth\":0,\"ticks\":\"\"}},\"marker\":{\"colorbar\":{\"outlinewidth\":0,\"ticks\":\"\"}}}],\"scattermapbox\":[{\"type\":\"scattermapbox\",\"marker\":{\"colorbar\":{\"outlinewidth\":0,\"ticks\":\"\"}}}],\"scatterternary\":[{\"type\":\"scatterternary\",\"marker\":{\"colorbar\":{\"outlinewidth\":0,\"ticks\":\"\"}}}],\"scattercarpet\":[{\"type\":\"scattercarpet\",\"marker\":{\"colorbar\":{\"outlinewidth\":0,\"ticks\":\"\"}}}],\"carpet\":[{\"aaxis\":{\"endlinecolor\":\"#2a3f5f\",\"gridcolor\":\"white\",\"linecolor\":\"white\",\"minorgridcolor\":\"white\",\"startlinecolor\":\"#2a3f5f\"},\"baxis\":{\"endlinecolor\":\"#2a3f5f\",\"gridcolor\":\"white\",\"linecolor\":\"white\",\"minorgridcolor\":\"white\",\"startlinecolor\":\"#2a3f5f\"},\"type\":\"carpet\"}],\"table\":[{\"cells\":{\"fill\":{\"color\":\"#EBF0F8\"},\"line\":{\"color\":\"white\"}},\"header\":{\"fill\":{\"color\":\"#C8D4E3\"},\"line\":{\"color\":\"white\"}},\"type\":\"table\"}],\"barpolar\":[{\"marker\":{\"line\":{\"color\":\"#E5ECF6\",\"width\":0.5},\"pattern\":{\"fillmode\":\"overlay\",\"size\":10,\"solidity\":0.2}},\"type\":\"barpolar\"}],\"pie\":[{\"automargin\":true,\"type\":\"pie\"}]},\"layout\":{\"autotypenumbers\":\"strict\",\"colorway\":[\"#636efa\",\"#EF553B\",\"#00cc96\",\"#ab63fa\",\"#FFA15A\",\"#19d3f3\",\"#FF6692\",\"#B6E880\",\"#FF97FF\",\"#FECB52\"],\"font\":{\"color\":\"#2a3f5f\"},\"hovermode\":\"closest\",\"hoverlabel\":{\"align\":\"left\"},\"paper_bgcolor\":\"white\",\"plot_bgcolor\":\"#E5ECF6\",\"polar\":{\"bgcolor\":\"#E5ECF6\",\"angularaxis\":{\"gridcolor\":\"white\",\"linecolor\":\"white\",\"ticks\":\"\"},\"radialaxis\":{\"gridcolor\":\"white\",\"linecolor\":\"white\",\"ticks\":\"\"}},\"ternary\":{\"bgcolor\":\"#E5ECF6\",\"aaxis\":{\"gridcolor\":\"white\",\"linecolor\":\"white\",\"ticks\":\"\"},\"baxis\":{\"gridcolor\":\"white\",\"linecolor\":\"white\",\"ticks\":\"\"},\"caxis\":{\"gridcolor\":\"white\",\"linecolor\":\"white\",\"ticks\":\"\"}},\"coloraxis\":{\"colorbar\":{\"outlinewidth\":0,\"ticks\":\"\"}},\"colorscale\":{\"sequential\":[[0.0,\"#0d0887\"],[0.1111111111111111,\"#46039f\"],[0.2222222222222222,\"#7201a8\"],[0.3333333333333333,\"#9c179e\"],[0.4444444444444444,\"#bd3786\"],[0.5555555555555556,\"#d8576b\"],[0.6666666666666666,\"#ed7953\"],[0.7777777777777778,\"#fb9f3a\"],[0.8888888888888888,\"#fdca26\"],[1.0,\"#f0f921\"]],\"sequentialminus\":[[0.0,\"#0d0887\"],[0.1111111111111111,\"#46039f\"],[0.2222222222222222,\"#7201a8\"],[0.3333333333333333,\"#9c179e\"],[0.4444444444444444,\"#bd3786\"],[0.5555555555555556,\"#d8576b\"],[0.6666666666666666,\"#ed7953\"],[0.7777777777777778,\"#fb9f3a\"],[0.8888888888888888,\"#fdca26\"],[1.0,\"#f0f921\"]],\"diverging\":[[0,\"#8e0152\"],[0.1,\"#c51b7d\"],[0.2,\"#de77ae\"],[0.3,\"#f1b6da\"],[0.4,\"#fde0ef\"],[0.5,\"#f7f7f7\"],[0.6,\"#e6f5d0\"],[0.7,\"#b8e186\"],[0.8,\"#7fbc41\"],[0.9,\"#4d9221\"],[1,\"#276419\"]]},\"xaxis\":{\"gridcolor\":\"white\",\"linecolor\":\"white\",\"ticks\":\"\",\"title\":{\"standoff\":15},\"zerolinecolor\":\"white\",\"automargin\":true,\"zerolinewidth\":2},\"yaxis\":{\"gridcolor\":\"white\",\"linecolor\":\"white\",\"ticks\":\"\",\"title\":{\"standoff\":15},\"zerolinecolor\":\"white\",\"automargin\":true,\"zerolinewidth\":2},\"scene\":{\"xaxis\":{\"backgroundcolor\":\"#E5ECF6\",\"gridcolor\":\"white\",\"linecolor\":\"white\",\"showbackground\":true,\"ticks\":\"\",\"zerolinecolor\":\"white\",\"gridwidth\":2},\"yaxis\":{\"backgroundcolor\":\"#E5ECF6\",\"gridcolor\":\"white\",\"linecolor\":\"white\",\"showbackground\":true,\"ticks\":\"\",\"zerolinecolor\":\"white\",\"gridwidth\":2},\"zaxis\":{\"backgroundcolor\":\"#E5ECF6\",\"gridcolor\":\"white\",\"linecolor\":\"white\",\"showbackground\":true,\"ticks\":\"\",\"zerolinecolor\":\"white\",\"gridwidth\":2}},\"shapedefaults\":{\"line\":{\"color\":\"#2a3f5f\"}},\"annotationdefaults\":{\"arrowcolor\":\"#2a3f5f\",\"arrowhead\":0,\"arrowwidth\":1},\"geo\":{\"bgcolor\":\"white\",\"landcolor\":\"#E5ECF6\",\"subunitcolor\":\"white\",\"showland\":true,\"showlakes\":true,\"lakecolor\":\"white\"},\"title\":{\"x\":0.05},\"mapbox\":{\"style\":\"light\"}}},\"xaxis\":{\"anchor\":\"y\",\"domain\":[0.0,1.0],\"title\":{\"text\":\"Repository\",\"font\":{\"size\":20}}},\"yaxis\":{\"anchor\":\"x\",\"domain\":[0.0,1.0],\"title\":{\"text\":\"Stars\",\"font\":{\"size\":20}}},\"legend\":{\"tracegroupgap\":0},\"title\":{\"text\":\"Most-Starred Python projects on Github\",\"font\":{\"size\":28}},\"barmode\":\"relative\"},                        {\"responsive\": true}                    ).then(function(){\n",
       "                            \n",
       "var gd = document.getElementById('aaa13b0f-25b3-43ba-9150-d36a78d6ab2c');\n",
       "var x = new MutationObserver(function (mutations, observer) {{\n",
       "        var display = window.getComputedStyle(gd).display;\n",
       "        if (!display || display === 'none') {{\n",
       "            console.log([gd, 'removed!']);\n",
       "            Plotly.purge(gd);\n",
       "            observer.disconnect();\n",
       "        }}\n",
       "}});\n",
       "\n",
       "// Listen for the removal of the full notebook cells\n",
       "var notebookContainer = gd.closest('#notebook-container');\n",
       "if (notebookContainer) {{\n",
       "    x.observe(notebookContainer, {childList: true});\n",
       "}}\n",
       "\n",
       "// Listen for the clearing of the current output cell\n",
       "var outputEl = gd.closest('.output');\n",
       "if (outputEl) {{\n",
       "    x.observe(outputEl, {childList: true});\n",
       "}}\n",
       "\n",
       "                        })                };                });            </script>        </div>"
      ]
     },
     "metadata": {},
     "output_type": "display_data"
    }
   ],
   "source": [
    "## visualize\n",
    "fig = px.bar(x=repo_links, y=y,\n",
    "            title = title, labels = labels, hover_name = hover_texts)\n",
    "\n",
    "fig.update_layout(title_font_size=28, xaxis_title_font_size=20,\n",
    " yaxis_title_font_size=20)\n",
    "\n",
    "fig.update_traces(marker_color='SteelBlue', marker_opacity=0.5)\n",
    "\n",
    "fig.show()"
   ]
  },
  {
   "cell_type": "code",
   "execution_count": null,
   "id": "21c42681-632c-4c9d-b356-abf0bd8efb14",
   "metadata": {},
   "outputs": [],
   "source": []
  },
  {
   "cell_type": "markdown",
   "id": "690f3ff5-3ec3-4a69-ba4e-51d7b2896558",
   "metadata": {},
   "source": [
    "## Short Discussion\n",
    "\n",
    "The resulting plot provides a quick overview of which Python repositories are most favored by the GitHub community, with repositories like public-apis, Python, Auto-GPT, and system-design-primer among the top entries. This visualization helps identify trends in the Python ecosystem, popular libraries, and tools that are widely used by developers worldwide."
   ]
  },
  {
   "cell_type": "code",
   "execution_count": null,
   "id": "7c17026d-712c-4ab2-b494-7591f01af0d1",
   "metadata": {},
   "outputs": [],
   "source": []
  },
  {
   "cell_type": "code",
   "execution_count": null,
   "id": "53172423-a8b9-463b-ba44-913d4fb6dd82",
   "metadata": {},
   "outputs": [],
   "source": []
  },
  {
   "cell_type": "code",
   "execution_count": null,
   "id": "20e10c37-e7e2-495e-bc8b-3cc3cbd45277",
   "metadata": {},
   "outputs": [],
   "source": []
  }
 ],
 "metadata": {
  "kernelspec": {
   "display_name": "Python 3 (ipykernel)",
   "language": "python",
   "name": "python3"
  },
  "language_info": {
   "codemirror_mode": {
    "name": "ipython",
    "version": 3
   },
   "file_extension": ".py",
   "mimetype": "text/x-python",
   "name": "python",
   "nbconvert_exporter": "python",
   "pygments_lexer": "ipython3",
   "version": "3.12.4"
  }
 },
 "nbformat": 4,
 "nbformat_minor": 5
}
